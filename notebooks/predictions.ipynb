{
 "cells": [
  {
   "cell_type": "code",
   "execution_count": 1,
   "metadata": {},
   "outputs": [],
   "source": [
    "%load_ext autoreload\n",
    "%autoreload 2"
   ]
  },
  {
   "cell_type": "code",
   "execution_count": 2,
   "metadata": {},
   "outputs": [],
   "source": [
    "import os, sys\n",
    "import numpy as np \n",
    "import pandas as pd \n",
    "import matplotlib.pyplot as plt\n",
    "import seaborn as sns\n",
    "from tqdm import tqdm, tqdm_notebook\n",
    "sys.path.append('../../reproducible_figures/scripts/')\n",
    "import rep_fig_vis as rfv\n",
    "sys.path.append('../scripts/')\n",
    "from loadpaths_glc import loadpaths\n",
    "import data_loading_utils as dlu\n",
    "import glc_prediction_utils as gpu\n",
    "path_dict = loadpaths()"
   ]
  },
  {
   "cell_type": "code",
   "execution_count": 36,
   "metadata": {},
   "outputs": [
    {
     "name": "stdout",
     "output_type": "stream",
     "text": [
      "Dropped PO data because takes ages with geometry\n",
      "Columns dropped: ['taxonRank', 'geoUncertaintyInM', 'date', 'areaInM2', 'publisher', 'month', 'day', 'region', 'dayOfYear', 'country']\n",
      "Dropped 49637/1483637 duplicates in df_train_pa_species\n",
      "Created validation set with 8898 entries\n"
     ]
    }
   ],
   "source": [
    "dict_dfs, dict_dfs_species, dict_val_species = dlu.load_metadata(create_geo=True, add_h3=False,\n",
    "                                               create_validation_set=True)\n",
    "# type(dict_dfs['df_test_pa'])"
   ]
  },
  {
   "cell_type": "code",
   "execution_count": 39,
   "metadata": {},
   "outputs": [
    {
     "name": "stdout",
     "output_type": "stream",
     "text": [
      "Dropped PO data because takes ages with geometry\n",
      "Columns dropped: ['taxonRank', 'geoUncertaintyInM', 'date', 'areaInM2', 'publisher', 'month', 'day', 'region', 'dayOfYear', 'country']\n",
      "Dropped 49637/1483637 duplicates in df_train_pa_species\n",
      "Warning: 35 nans in elevation data\n",
      "Warning: 35 nans in elevation data\n",
      "    LandCover  count\n",
      "0         0.0     25\n",
      "1         1.0     15\n",
      "2         2.0     18\n",
      "3         4.0     22\n",
      "4         5.0     16\n",
      "5         8.0     20\n",
      "6         9.0     16\n",
      "7        10.0     19\n",
      "8        11.0     14\n",
      "9        12.0     17\n",
      "10       13.0     16\n",
      "11       14.0     17\n",
      "12       15.0     11\n",
      "13       16.0     12\n",
      "14       17.0     13\n"
     ]
    },
    {
     "name": "stderr",
     "output_type": "stream",
     "text": [
      " 43%|████▎     | 2049/4716 [00:13<00:17, 149.13it/s]"
     ]
    },
    {
     "name": "stdout",
     "output_type": "stream",
     "text": [
      "No nearby points for surveyId: 1695841 (LC: 13.0)\n"
     ]
    },
    {
     "name": "stderr",
     "output_type": "stream",
     "text": [
      "100%|██████████| 4716/4716 [00:31<00:00, 151.01it/s]"
     ]
    },
    {
     "name": "stdout",
     "output_type": "stream",
     "text": [
      "Predictions done (4715 total). No nearby points: 1.\n",
      "Saved predictions to: /Users/t.vanderplas/data_offline/data_geolifeclef2024/predictions_glc2024/GLC24_vdplasthijs_predictions-buffer-lc-0.3-lc-specific_2024-04-18_22-53.csv\n"
     ]
    },
    {
     "name": "stderr",
     "output_type": "stream",
     "text": [
      "\n"
     ]
    }
   ],
   "source": [
    "val_or_test = 'test'\n",
    "\n",
    "dict_dfs, dict_dfs_species, dict_val_species = dlu.load_metadata(create_geo=True, add_h3=False,\n",
    "                                create_validation_set=True if val_or_test == 'val' else False)\n",
    "tmp = gpu.predict_using_buffer(dict_dfs=dict_dfs, dict_dfs_species=dict_dfs_species,\n",
    "                            save_pred=True, method=f'lc-specific', buffer_deg=0.3,\n",
    "                            eval_mode=val_or_test)\n",
    "if val_or_test == 'val':\n",
    "    f1_score = gpu.compute_f1_score_dicts(dict_val_species, tmp)\n",
    "    print(f'F1 score: {f1_score}')"
   ]
  },
  {
   "cell_type": "code",
   "execution_count": 32,
   "metadata": {},
   "outputs": [
    {
     "data": {
      "text/html": [
       "<div>\n",
       "<style scoped>\n",
       "    .dataframe tbody tr th:only-of-type {\n",
       "        vertical-align: middle;\n",
       "    }\n",
       "\n",
       "    .dataframe tbody tr th {\n",
       "        vertical-align: top;\n",
       "    }\n",
       "\n",
       "    .dataframe thead th {\n",
       "        text-align: right;\n",
       "    }\n",
       "</style>\n",
       "<table border=\"1\" class=\"dataframe\">\n",
       "  <thead>\n",
       "    <tr style=\"text-align: right;\">\n",
       "      <th></th>\n",
       "      <th>lng</th>\n",
       "      <th>lat</th>\n",
       "      <th>year</th>\n",
       "      <th>surveyId</th>\n",
       "      <th>geometry</th>\n",
       "      <th>Elevation</th>\n",
       "      <th>LandCover</th>\n",
       "      <th>Bio1</th>\n",
       "      <th>Bio2</th>\n",
       "      <th>Bio3</th>\n",
       "      <th>...</th>\n",
       "      <th>Bio10</th>\n",
       "      <th>Bio11</th>\n",
       "      <th>Bio12</th>\n",
       "      <th>Bio13</th>\n",
       "      <th>Bio14</th>\n",
       "      <th>Bio15</th>\n",
       "      <th>Bio16</th>\n",
       "      <th>Bio17</th>\n",
       "      <th>Bio18</th>\n",
       "      <th>Bio19</th>\n",
       "    </tr>\n",
       "  </thead>\n",
       "  <tbody>\n",
       "    <tr>\n",
       "      <th>26108</th>\n",
       "      <td>8.46318</td>\n",
       "      <td>56.02289</td>\n",
       "      <td>2017</td>\n",
       "      <td>1276701</td>\n",
       "      <td>POINT (8.46318 56.02289)</td>\n",
       "      <td>19.0</td>\n",
       "      <td>5.0</td>\n",
       "      <td>2816</td>\n",
       "      <td>43</td>\n",
       "      <td>2</td>\n",
       "      <td>...</td>\n",
       "      <td>2884</td>\n",
       "      <td>2754</td>\n",
       "      <td>9632</td>\n",
       "      <td>1247</td>\n",
       "      <td>429</td>\n",
       "      <td>280</td>\n",
       "      <td>3286</td>\n",
       "      <td>1651</td>\n",
       "      <td>2340</td>\n",
       "      <td>2355</td>\n",
       "    </tr>\n",
       "    <tr>\n",
       "      <th>67032</th>\n",
       "      <td>8.37565</td>\n",
       "      <td>56.17565</td>\n",
       "      <td>2017</td>\n",
       "      <td>3288416</td>\n",
       "      <td>POINT (8.37565 56.17565)</td>\n",
       "      <td>12.0</td>\n",
       "      <td>5.0</td>\n",
       "      <td>2818</td>\n",
       "      <td>35</td>\n",
       "      <td>1</td>\n",
       "      <td>...</td>\n",
       "      <td>2884</td>\n",
       "      <td>2757</td>\n",
       "      <td>9171</td>\n",
       "      <td>1203</td>\n",
       "      <td>406</td>\n",
       "      <td>288</td>\n",
       "      <td>3162</td>\n",
       "      <td>1557</td>\n",
       "      <td>2557</td>\n",
       "      <td>1995</td>\n",
       "    </tr>\n",
       "    <tr>\n",
       "      <th>26071</th>\n",
       "      <td>8.44744</td>\n",
       "      <td>56.15897</td>\n",
       "      <td>2019</td>\n",
       "      <td>1274470</td>\n",
       "      <td>POINT (8.44744 56.15897)</td>\n",
       "      <td>28.0</td>\n",
       "      <td>5.0</td>\n",
       "      <td>2816</td>\n",
       "      <td>41</td>\n",
       "      <td>2</td>\n",
       "      <td>...</td>\n",
       "      <td>2884</td>\n",
       "      <td>2754</td>\n",
       "      <td>9733</td>\n",
       "      <td>1261</td>\n",
       "      <td>438</td>\n",
       "      <td>279</td>\n",
       "      <td>3318</td>\n",
       "      <td>1673</td>\n",
       "      <td>2703</td>\n",
       "      <td>2368</td>\n",
       "    </tr>\n",
       "    <tr>\n",
       "      <th>34794</th>\n",
       "      <td>8.44535</td>\n",
       "      <td>56.15905</td>\n",
       "      <td>2019</td>\n",
       "      <td>1702631</td>\n",
       "      <td>POINT (8.44535 56.15905)</td>\n",
       "      <td>28.0</td>\n",
       "      <td>5.0</td>\n",
       "      <td>2816</td>\n",
       "      <td>41</td>\n",
       "      <td>2</td>\n",
       "      <td>...</td>\n",
       "      <td>2884</td>\n",
       "      <td>2754</td>\n",
       "      <td>9733</td>\n",
       "      <td>1261</td>\n",
       "      <td>438</td>\n",
       "      <td>279</td>\n",
       "      <td>3318</td>\n",
       "      <td>1673</td>\n",
       "      <td>2703</td>\n",
       "      <td>2368</td>\n",
       "    </tr>\n",
       "    <tr>\n",
       "      <th>34735</th>\n",
       "      <td>8.44792</td>\n",
       "      <td>56.15915</td>\n",
       "      <td>2019</td>\n",
       "      <td>1699855</td>\n",
       "      <td>POINT (8.44792 56.15915)</td>\n",
       "      <td>29.0</td>\n",
       "      <td>5.0</td>\n",
       "      <td>2816</td>\n",
       "      <td>41</td>\n",
       "      <td>2</td>\n",
       "      <td>...</td>\n",
       "      <td>2884</td>\n",
       "      <td>2754</td>\n",
       "      <td>9733</td>\n",
       "      <td>1261</td>\n",
       "      <td>438</td>\n",
       "      <td>279</td>\n",
       "      <td>3318</td>\n",
       "      <td>1673</td>\n",
       "      <td>2703</td>\n",
       "      <td>2368</td>\n",
       "    </tr>\n",
       "    <tr>\n",
       "      <th>...</th>\n",
       "      <td>...</td>\n",
       "      <td>...</td>\n",
       "      <td>...</td>\n",
       "      <td>...</td>\n",
       "      <td>...</td>\n",
       "      <td>...</td>\n",
       "      <td>...</td>\n",
       "      <td>...</td>\n",
       "      <td>...</td>\n",
       "      <td>...</td>\n",
       "      <td>...</td>\n",
       "      <td>...</td>\n",
       "      <td>...</td>\n",
       "      <td>...</td>\n",
       "      <td>...</td>\n",
       "      <td>...</td>\n",
       "      <td>...</td>\n",
       "      <td>...</td>\n",
       "      <td>...</td>\n",
       "      <td>...</td>\n",
       "      <td>...</td>\n",
       "    </tr>\n",
       "    <tr>\n",
       "      <th>10850</th>\n",
       "      <td>8.59644</td>\n",
       "      <td>56.29672</td>\n",
       "      <td>2019</td>\n",
       "      <td>530563</td>\n",
       "      <td>POINT (8.59644 56.29672)</td>\n",
       "      <td>22.0</td>\n",
       "      <td>5.0</td>\n",
       "      <td>2815</td>\n",
       "      <td>53</td>\n",
       "      <td>2</td>\n",
       "      <td>...</td>\n",
       "      <td>2886</td>\n",
       "      <td>2750</td>\n",
       "      <td>9560</td>\n",
       "      <td>1209</td>\n",
       "      <td>452</td>\n",
       "      <td>259</td>\n",
       "      <td>3191</td>\n",
       "      <td>1682</td>\n",
       "      <td>2323</td>\n",
       "      <td>2364</td>\n",
       "    </tr>\n",
       "    <tr>\n",
       "      <th>57771</th>\n",
       "      <td>8.58748</td>\n",
       "      <td>56.29928</td>\n",
       "      <td>2019</td>\n",
       "      <td>2842242</td>\n",
       "      <td>POINT (8.58748 56.29928)</td>\n",
       "      <td>23.0</td>\n",
       "      <td>5.0</td>\n",
       "      <td>2815</td>\n",
       "      <td>52</td>\n",
       "      <td>2</td>\n",
       "      <td>...</td>\n",
       "      <td>2886</td>\n",
       "      <td>2750</td>\n",
       "      <td>9539</td>\n",
       "      <td>1208</td>\n",
       "      <td>450</td>\n",
       "      <td>260</td>\n",
       "      <td>3188</td>\n",
       "      <td>1677</td>\n",
       "      <td>2317</td>\n",
       "      <td>2357</td>\n",
       "    </tr>\n",
       "    <tr>\n",
       "      <th>7138</th>\n",
       "      <td>8.58928</td>\n",
       "      <td>56.34263</td>\n",
       "      <td>2019</td>\n",
       "      <td>349859</td>\n",
       "      <td>POINT (8.58928 56.34263)</td>\n",
       "      <td>33.0</td>\n",
       "      <td>5.0</td>\n",
       "      <td>2815</td>\n",
       "      <td>54</td>\n",
       "      <td>2</td>\n",
       "      <td>...</td>\n",
       "      <td>2886</td>\n",
       "      <td>2750</td>\n",
       "      <td>9326</td>\n",
       "      <td>1181</td>\n",
       "      <td>442</td>\n",
       "      <td>260</td>\n",
       "      <td>3118</td>\n",
       "      <td>1638</td>\n",
       "      <td>2264</td>\n",
       "      <td>2306</td>\n",
       "    </tr>\n",
       "    <tr>\n",
       "      <th>31530</th>\n",
       "      <td>8.59174</td>\n",
       "      <td>56.34313</td>\n",
       "      <td>2019</td>\n",
       "      <td>1539083</td>\n",
       "      <td>POINT (8.59174 56.34313)</td>\n",
       "      <td>27.0</td>\n",
       "      <td>5.0</td>\n",
       "      <td>2815</td>\n",
       "      <td>54</td>\n",
       "      <td>2</td>\n",
       "      <td>...</td>\n",
       "      <td>2886</td>\n",
       "      <td>2750</td>\n",
       "      <td>9335</td>\n",
       "      <td>1181</td>\n",
       "      <td>443</td>\n",
       "      <td>259</td>\n",
       "      <td>3117</td>\n",
       "      <td>1642</td>\n",
       "      <td>2266</td>\n",
       "      <td>2310</td>\n",
       "    </tr>\n",
       "    <tr>\n",
       "      <th>62069</th>\n",
       "      <td>8.59264</td>\n",
       "      <td>56.35750</td>\n",
       "      <td>2019</td>\n",
       "      <td>3051065</td>\n",
       "      <td>POINT (8.59264 56.35750)</td>\n",
       "      <td>8.0</td>\n",
       "      <td>5.0</td>\n",
       "      <td>2816</td>\n",
       "      <td>54</td>\n",
       "      <td>2</td>\n",
       "      <td>...</td>\n",
       "      <td>2887</td>\n",
       "      <td>2750</td>\n",
       "      <td>9230</td>\n",
       "      <td>1167</td>\n",
       "      <td>438</td>\n",
       "      <td>259</td>\n",
       "      <td>3081</td>\n",
       "      <td>1623</td>\n",
       "      <td>2242</td>\n",
       "      <td>2284</td>\n",
       "    </tr>\n",
       "  </tbody>\n",
       "</table>\n",
       "<p>122 rows × 26 columns</p>\n",
       "</div>"
      ],
      "text/plain": [
       "           lng       lat  year  surveyId                  geometry  Elevation  \\\n",
       "26108  8.46318  56.02289  2017   1276701  POINT (8.46318 56.02289)       19.0   \n",
       "67032  8.37565  56.17565  2017   3288416  POINT (8.37565 56.17565)       12.0   \n",
       "26071  8.44744  56.15897  2019   1274470  POINT (8.44744 56.15897)       28.0   \n",
       "34794  8.44535  56.15905  2019   1702631  POINT (8.44535 56.15905)       28.0   \n",
       "34735  8.44792  56.15915  2019   1699855  POINT (8.44792 56.15915)       29.0   \n",
       "...        ...       ...   ...       ...                       ...        ...   \n",
       "10850  8.59644  56.29672  2019    530563  POINT (8.59644 56.29672)       22.0   \n",
       "57771  8.58748  56.29928  2019   2842242  POINT (8.58748 56.29928)       23.0   \n",
       "7138   8.58928  56.34263  2019    349859  POINT (8.58928 56.34263)       33.0   \n",
       "31530  8.59174  56.34313  2019   1539083  POINT (8.59174 56.34313)       27.0   \n",
       "62069  8.59264  56.35750  2019   3051065  POINT (8.59264 56.35750)        8.0   \n",
       "\n",
       "       LandCover  Bio1  Bio2  Bio3  ...  Bio10  Bio11  Bio12  Bio13  Bio14  \\\n",
       "26108        5.0  2816    43     2  ...   2884   2754   9632   1247    429   \n",
       "67032        5.0  2818    35     1  ...   2884   2757   9171   1203    406   \n",
       "26071        5.0  2816    41     2  ...   2884   2754   9733   1261    438   \n",
       "34794        5.0  2816    41     2  ...   2884   2754   9733   1261    438   \n",
       "34735        5.0  2816    41     2  ...   2884   2754   9733   1261    438   \n",
       "...          ...   ...   ...   ...  ...    ...    ...    ...    ...    ...   \n",
       "10850        5.0  2815    53     2  ...   2886   2750   9560   1209    452   \n",
       "57771        5.0  2815    52     2  ...   2886   2750   9539   1208    450   \n",
       "7138         5.0  2815    54     2  ...   2886   2750   9326   1181    442   \n",
       "31530        5.0  2815    54     2  ...   2886   2750   9335   1181    443   \n",
       "62069        5.0  2816    54     2  ...   2887   2750   9230   1167    438   \n",
       "\n",
       "       Bio15  Bio16  Bio17  Bio18  Bio19  \n",
       "26108    280   3286   1651   2340   2355  \n",
       "67032    288   3162   1557   2557   1995  \n",
       "26071    279   3318   1673   2703   2368  \n",
       "34794    279   3318   1673   2703   2368  \n",
       "34735    279   3318   1673   2703   2368  \n",
       "...      ...    ...    ...    ...    ...  \n",
       "10850    259   3191   1682   2323   2364  \n",
       "57771    260   3188   1677   2317   2357  \n",
       "7138     260   3118   1638   2264   2306  \n",
       "31530    259   3117   1642   2266   2310  \n",
       "62069    259   3081   1623   2242   2284  \n",
       "\n",
       "[122 rows x 26 columns]"
      ]
     },
     "execution_count": 32,
     "metadata": {},
     "output_type": "execute_result"
    }
   ],
   "source": [
    "tmp"
   ]
  },
  {
   "cell_type": "markdown",
   "metadata": {},
   "source": [
    "## Predictions"
   ]
  },
  {
   "cell_type": "code",
   "execution_count": 53,
   "metadata": {},
   "outputs": [
    {
     "name": "stdout",
     "output_type": "stream",
     "text": [
      "Columns dropped: ['taxonRank', 'geoUncertaintyInM', 'date', 'areaInM2', 'publisher', 'month', 'day', 'region', 'dayOfYear', 'country']\n",
      "Dropped 49637/1483637 duplicates in df_train_pa_species\n",
      "Dropped 135101/5079797 duplicates in df_train_po_species\n",
      "Warning: 35 nans in elevation data\n"
     ]
    }
   ],
   "source": [
    "(df_train, df_test), (df_train_species, df_val_species) = dlu.create_full_pa_ds(val_or_test='test')"
   ]
  },
  {
   "cell_type": "code",
   "execution_count": 59,
   "metadata": {},
   "outputs": [
    {
     "data": {
      "text/html": [
       "<div>\n",
       "<style scoped>\n",
       "    .dataframe tbody tr th:only-of-type {\n",
       "        vertical-align: middle;\n",
       "    }\n",
       "\n",
       "    .dataframe tbody tr th {\n",
       "        vertical-align: top;\n",
       "    }\n",
       "\n",
       "    .dataframe thead th {\n",
       "        text-align: right;\n",
       "    }\n",
       "</style>\n",
       "<table border=\"1\" class=\"dataframe\">\n",
       "  <thead>\n",
       "    <tr style=\"text-align: right;\">\n",
       "      <th></th>\n",
       "      <th>speciesId</th>\n",
       "      <th>surveyId</th>\n",
       "    </tr>\n",
       "  </thead>\n",
       "  <tbody>\n",
       "    <tr>\n",
       "      <th>0</th>\n",
       "      <td>6874</td>\n",
       "      <td>212</td>\n",
       "    </tr>\n",
       "    <tr>\n",
       "      <th>1</th>\n",
       "      <td>476</td>\n",
       "      <td>212</td>\n",
       "    </tr>\n",
       "    <tr>\n",
       "      <th>2</th>\n",
       "      <td>11157</td>\n",
       "      <td>212</td>\n",
       "    </tr>\n",
       "    <tr>\n",
       "      <th>3</th>\n",
       "      <td>8784</td>\n",
       "      <td>212</td>\n",
       "    </tr>\n",
       "    <tr>\n",
       "      <th>4</th>\n",
       "      <td>4530</td>\n",
       "      <td>212</td>\n",
       "    </tr>\n",
       "    <tr>\n",
       "      <th>...</th>\n",
       "      <td>...</td>\n",
       "      <td>...</td>\n",
       "    </tr>\n",
       "    <tr>\n",
       "      <th>1483632</th>\n",
       "      <td>53</td>\n",
       "      <td>3919655</td>\n",
       "    </tr>\n",
       "    <tr>\n",
       "      <th>1483633</th>\n",
       "      <td>5071</td>\n",
       "      <td>3919655</td>\n",
       "    </tr>\n",
       "    <tr>\n",
       "      <th>1483634</th>\n",
       "      <td>1889</td>\n",
       "      <td>3919655</td>\n",
       "    </tr>\n",
       "    <tr>\n",
       "      <th>1483635</th>\n",
       "      <td>10600</td>\n",
       "      <td>3919655</td>\n",
       "    </tr>\n",
       "    <tr>\n",
       "      <th>1483636</th>\n",
       "      <td>963</td>\n",
       "      <td>3919655</td>\n",
       "    </tr>\n",
       "  </tbody>\n",
       "</table>\n",
       "<p>1433527 rows × 2 columns</p>\n",
       "</div>"
      ],
      "text/plain": [
       "         speciesId  surveyId\n",
       "0             6874       212\n",
       "1              476       212\n",
       "2            11157       212\n",
       "3             8784       212\n",
       "4             4530       212\n",
       "...            ...       ...\n",
       "1483632         53   3919655\n",
       "1483633       5071   3919655\n",
       "1483634       1889   3919655\n",
       "1483635      10600   3919655\n",
       "1483636        963   3919655\n",
       "\n",
       "[1433527 rows x 2 columns]"
      ]
     },
     "execution_count": 59,
     "metadata": {},
     "output_type": "execute_result"
    }
   ],
   "source": [
    "df_train_species"
   ]
  },
  {
   "cell_type": "code",
   "execution_count": 11,
   "metadata": {},
   "outputs": [
    {
     "data": {
      "text/html": [
       "<div>\n",
       "<style scoped>\n",
       "    .dataframe tbody tr th:only-of-type {\n",
       "        vertical-align: middle;\n",
       "    }\n",
       "\n",
       "    .dataframe tbody tr th {\n",
       "        vertical-align: top;\n",
       "    }\n",
       "\n",
       "    .dataframe thead th {\n",
       "        text-align: right;\n",
       "    }\n",
       "</style>\n",
       "<table border=\"1\" class=\"dataframe\">\n",
       "  <thead>\n",
       "    <tr style=\"text-align: right;\">\n",
       "      <th></th>\n",
       "      <th>speciesId</th>\n",
       "      <th>surveyId</th>\n",
       "    </tr>\n",
       "  </thead>\n",
       "  <tbody>\n",
       "    <tr>\n",
       "      <th>276</th>\n",
       "      <td>5900</td>\n",
       "      <td>729</td>\n",
       "    </tr>\n",
       "    <tr>\n",
       "      <th>288</th>\n",
       "      <td>9368</td>\n",
       "      <td>729</td>\n",
       "    </tr>\n",
       "    <tr>\n",
       "      <th>287</th>\n",
       "      <td>53</td>\n",
       "      <td>729</td>\n",
       "    </tr>\n",
       "    <tr>\n",
       "      <th>286</th>\n",
       "      <td>10255</td>\n",
       "      <td>729</td>\n",
       "    </tr>\n",
       "    <tr>\n",
       "      <th>285</th>\n",
       "      <td>10600</td>\n",
       "      <td>729</td>\n",
       "    </tr>\n",
       "    <tr>\n",
       "      <th>...</th>\n",
       "      <td>...</td>\n",
       "      <td>...</td>\n",
       "    </tr>\n",
       "    <tr>\n",
       "      <th>1483598</th>\n",
       "      <td>3067</td>\n",
       "      <td>3919620</td>\n",
       "    </tr>\n",
       "    <tr>\n",
       "      <th>1483597</th>\n",
       "      <td>4077</td>\n",
       "      <td>3919620</td>\n",
       "    </tr>\n",
       "    <tr>\n",
       "      <th>1483596</th>\n",
       "      <td>9816</td>\n",
       "      <td>3919620</td>\n",
       "    </tr>\n",
       "    <tr>\n",
       "      <th>1483600</th>\n",
       "      <td>540</td>\n",
       "      <td>3919620</td>\n",
       "    </tr>\n",
       "    <tr>\n",
       "      <th>1483607</th>\n",
       "      <td>7121</td>\n",
       "      <td>3919620</td>\n",
       "    </tr>\n",
       "  </tbody>\n",
       "</table>\n",
       "<p>144464 rows × 2 columns</p>\n",
       "</div>"
      ],
      "text/plain": [
       "         speciesId  surveyId\n",
       "276           5900       729\n",
       "288           9368       729\n",
       "287             53       729\n",
       "286          10255       729\n",
       "285          10600       729\n",
       "...            ...       ...\n",
       "1483598       3067   3919620\n",
       "1483597       4077   3919620\n",
       "1483596       9816   3919620\n",
       "1483600        540   3919620\n",
       "1483607       7121   3919620\n",
       "\n",
       "[144464 rows x 2 columns]"
      ]
     },
     "execution_count": 11,
     "metadata": {},
     "output_type": "execute_result"
    }
   ],
   "source": [
    "_[1]"
   ]
  },
  {
   "cell_type": "code",
   "execution_count": 12,
   "metadata": {},
   "outputs": [
    {
     "name": "stderr",
     "output_type": "stream",
     "text": [
      "0it [00:00, ?it/s]/Users/t.vanderplas/anaconda3/envs/geoclef/lib/python3.10/site-packages/scipy/sparse/_index.py:145: SparseEfficiencyWarning: Changing the sparsity structure of a csr_matrix is expensive. lil_matrix is more efficient.\n",
      "  self._set_arrayXarray(i, j, x)\n",
      "8892it [00:05, 1699.85it/s]\n"
     ]
    }
   ],
   "source": [
    "## create scipy sparse matrix, fill by row:\n",
    "from scipy.sparse import csr_matrix\n",
    "\n",
    "df_species_tmp = _[1]\n",
    "n_rows = df_species_tmp.surveyId.nunique()\n",
    "n_cols = df_species_tmp.speciesId.max()\n",
    "\n",
    "mat = csr_matrix((n_rows, n_cols), dtype=np.int32)\n",
    "for row, surveyId in tqdm(enumerate(df_species_tmp.surveyId.unique())):\n",
    "    tmp_df = df_species_tmp.loc[df_species_tmp.surveyId == surveyId]\n",
    "    cols = tmp_df.speciesId.values - 1\n",
    "    ## fill mat:\n",
    "    mat[row, cols] = 1"
   ]
  },
  {
   "cell_type": "code",
   "execution_count": 14,
   "metadata": {},
   "outputs": [],
   "source": [
    "## save mat:\n",
    "from scipy.sparse import save_npz, load_npz\n",
    "# save_npz(os.path.join(path_dict['data_folder'], 'species_mat_val.npz'), mat)"
   ]
  },
  {
   "cell_type": "code",
   "execution_count": 15,
   "metadata": {},
   "outputs": [],
   "source": [
    "species_mat_train = load_npz(os.path.join(path_dict['data_folder'], 'species_mat_train.npz'))\n",
    "species_mat_val = load_npz(os.path.join(path_dict['data_folder'], 'species_mat_val.npz'))"
   ]
  },
  {
   "cell_type": "code",
   "execution_count": 17,
   "metadata": {},
   "outputs": [
    {
     "ename": "TypeError",
     "evalue": "PCA only support sparse inputs with the \"arpack\" solver, while \"auto\" was passed. See TruncatedSVD for a possible alternative.",
     "output_type": "error",
     "traceback": [
      "\u001b[0;31m---------------------------------------------------------------------------\u001b[0m",
      "\u001b[0;31mTypeError\u001b[0m                                 Traceback (most recent call last)",
      "Cell \u001b[0;32mIn[17], line 4\u001b[0m\n\u001b[1;32m      2\u001b[0m \u001b[38;5;28;01mfrom\u001b[39;00m \u001b[38;5;21;01msklearn\u001b[39;00m\u001b[38;5;21;01m.\u001b[39;00m\u001b[38;5;21;01mdecomposition\u001b[39;00m \u001b[38;5;28;01mimport\u001b[39;00m PCA\n\u001b[1;32m      3\u001b[0m pca \u001b[38;5;241m=\u001b[39m PCA(n_components\u001b[38;5;241m=\u001b[39m\u001b[38;5;241m100\u001b[39m)\n\u001b[0;32m----> 4\u001b[0m \u001b[43mpca\u001b[49m\u001b[38;5;241;43m.\u001b[39;49m\u001b[43mfit\u001b[49m\u001b[43m(\u001b[49m\u001b[43mspecies_mat_train\u001b[49m\u001b[43m)\u001b[49m\n\u001b[1;32m      5\u001b[0m np\u001b[38;5;241m.\u001b[39mcumsum(pca\u001b[38;5;241m.\u001b[39mexplained_variance_ratio_, solver\u001b[38;5;241m=\u001b[39m\u001b[38;5;124m'\u001b[39m\u001b[38;5;124marpack\u001b[39m\u001b[38;5;124m'\u001b[39m)\n",
      "File \u001b[0;32m~/anaconda3/envs/geoclef/lib/python3.10/site-packages/sklearn/base.py:1474\u001b[0m, in \u001b[0;36m_fit_context.<locals>.decorator.<locals>.wrapper\u001b[0;34m(estimator, *args, **kwargs)\u001b[0m\n\u001b[1;32m   1467\u001b[0m     estimator\u001b[38;5;241m.\u001b[39m_validate_params()\n\u001b[1;32m   1469\u001b[0m \u001b[38;5;28;01mwith\u001b[39;00m config_context(\n\u001b[1;32m   1470\u001b[0m     skip_parameter_validation\u001b[38;5;241m=\u001b[39m(\n\u001b[1;32m   1471\u001b[0m         prefer_skip_nested_validation \u001b[38;5;129;01mor\u001b[39;00m global_skip_validation\n\u001b[1;32m   1472\u001b[0m     )\n\u001b[1;32m   1473\u001b[0m ):\n\u001b[0;32m-> 1474\u001b[0m     \u001b[38;5;28;01mreturn\u001b[39;00m \u001b[43mfit_method\u001b[49m\u001b[43m(\u001b[49m\u001b[43mestimator\u001b[49m\u001b[43m,\u001b[49m\u001b[43m \u001b[49m\u001b[38;5;241;43m*\u001b[39;49m\u001b[43margs\u001b[49m\u001b[43m,\u001b[49m\u001b[43m \u001b[49m\u001b[38;5;241;43m*\u001b[39;49m\u001b[38;5;241;43m*\u001b[39;49m\u001b[43mkwargs\u001b[49m\u001b[43m)\u001b[49m\n",
      "File \u001b[0;32m~/anaconda3/envs/geoclef/lib/python3.10/site-packages/sklearn/decomposition/_pca.py:428\u001b[0m, in \u001b[0;36mPCA.fit\u001b[0;34m(self, X, y)\u001b[0m\n\u001b[1;32m    410\u001b[0m \u001b[38;5;129m@_fit_context\u001b[39m(prefer_skip_nested_validation\u001b[38;5;241m=\u001b[39m\u001b[38;5;28;01mTrue\u001b[39;00m)\n\u001b[1;32m    411\u001b[0m \u001b[38;5;28;01mdef\u001b[39;00m \u001b[38;5;21mfit\u001b[39m(\u001b[38;5;28mself\u001b[39m, X, y\u001b[38;5;241m=\u001b[39m\u001b[38;5;28;01mNone\u001b[39;00m):\n\u001b[1;32m    412\u001b[0m \u001b[38;5;250m    \u001b[39m\u001b[38;5;124;03m\"\"\"Fit the model with X.\u001b[39;00m\n\u001b[1;32m    413\u001b[0m \n\u001b[1;32m    414\u001b[0m \u001b[38;5;124;03m    Parameters\u001b[39;00m\n\u001b[0;32m   (...)\u001b[0m\n\u001b[1;32m    426\u001b[0m \u001b[38;5;124;03m        Returns the instance itself.\u001b[39;00m\n\u001b[1;32m    427\u001b[0m \u001b[38;5;124;03m    \"\"\"\u001b[39;00m\n\u001b[0;32m--> 428\u001b[0m     \u001b[38;5;28;43mself\u001b[39;49m\u001b[38;5;241;43m.\u001b[39;49m\u001b[43m_fit\u001b[49m\u001b[43m(\u001b[49m\u001b[43mX\u001b[49m\u001b[43m)\u001b[49m\n\u001b[1;32m    429\u001b[0m     \u001b[38;5;28;01mreturn\u001b[39;00m \u001b[38;5;28mself\u001b[39m\n",
      "File \u001b[0;32m~/anaconda3/envs/geoclef/lib/python3.10/site-packages/sklearn/decomposition/_pca.py:472\u001b[0m, in \u001b[0;36mPCA._fit\u001b[0;34m(self, X)\u001b[0m\n\u001b[1;32m    470\u001b[0m \u001b[38;5;66;03m# Raise an error for sparse input and unsupported svd_solver\u001b[39;00m\n\u001b[1;32m    471\u001b[0m \u001b[38;5;28;01mif\u001b[39;00m issparse(X) \u001b[38;5;129;01mand\u001b[39;00m \u001b[38;5;28mself\u001b[39m\u001b[38;5;241m.\u001b[39msvd_solver \u001b[38;5;241m!=\u001b[39m \u001b[38;5;124m\"\u001b[39m\u001b[38;5;124marpack\u001b[39m\u001b[38;5;124m\"\u001b[39m:\n\u001b[0;32m--> 472\u001b[0m     \u001b[38;5;28;01mraise\u001b[39;00m \u001b[38;5;167;01mTypeError\u001b[39;00m(\n\u001b[1;32m    473\u001b[0m         \u001b[38;5;124m'\u001b[39m\u001b[38;5;124mPCA only support sparse inputs with the \u001b[39m\u001b[38;5;124m\"\u001b[39m\u001b[38;5;124marpack\u001b[39m\u001b[38;5;124m\"\u001b[39m\u001b[38;5;124m solver, while \u001b[39m\u001b[38;5;124m'\u001b[39m\n\u001b[1;32m    474\u001b[0m         \u001b[38;5;124mf\u001b[39m\u001b[38;5;124m'\u001b[39m\u001b[38;5;124m\"\u001b[39m\u001b[38;5;132;01m{\u001b[39;00m\u001b[38;5;28mself\u001b[39m\u001b[38;5;241m.\u001b[39msvd_solver\u001b[38;5;132;01m}\u001b[39;00m\u001b[38;5;124m\"\u001b[39m\u001b[38;5;124m was passed. See TruncatedSVD for a possible\u001b[39m\u001b[38;5;124m'\u001b[39m\n\u001b[1;32m    475\u001b[0m         \u001b[38;5;124m\"\u001b[39m\u001b[38;5;124m alternative.\u001b[39m\u001b[38;5;124m\"\u001b[39m\n\u001b[1;32m    476\u001b[0m     )\n\u001b[1;32m    477\u001b[0m \u001b[38;5;66;03m# Raise an error for non-Numpy input and arpack solver.\u001b[39;00m\n\u001b[1;32m    478\u001b[0m \u001b[38;5;28;01mif\u001b[39;00m \u001b[38;5;28mself\u001b[39m\u001b[38;5;241m.\u001b[39msvd_solver \u001b[38;5;241m==\u001b[39m \u001b[38;5;124m\"\u001b[39m\u001b[38;5;124marpack\u001b[39m\u001b[38;5;124m\"\u001b[39m \u001b[38;5;129;01mand\u001b[39;00m is_array_api_compliant:\n",
      "\u001b[0;31mTypeError\u001b[0m: PCA only support sparse inputs with the \"arpack\" solver, while \"auto\" was passed. See TruncatedSVD for a possible alternative."
     ]
    }
   ],
   "source": [
    "## PCA on sparse matrix:\n",
    "from sklearn.decomposition import PCA\n",
    "pca = PCA(n_components=100)\n",
    "pca.fit(species_mat_train)\n",
    "np.cumsum(pca.explained_variance_ratio_, solver='arpack')"
   ]
  },
  {
   "cell_type": "code",
   "execution_count": 64,
   "metadata": {},
   "outputs": [
    {
     "data": {
      "text/plain": [
       "array([0.88869272, 0.93931589, 0.98060486, 0.99561094, 0.99816131,\n",
       "       0.99919504, 0.99945668, 0.99964582, 0.99977514, 0.99986259,\n",
       "       0.99992412, 0.99996675, 0.99999886, 0.99999963, 0.99999991,\n",
       "       0.99999996, 0.99999999, 1.        , 1.        ])"
      ]
     },
     "execution_count": 64,
     "metadata": {},
     "output_type": "execute_result"
    }
   ],
   "source": [
    "## PCA analysis:\n",
    "from sklearn.decomposition import PCA\n",
    "\n",
    "pca = PCA(n_components=df_train.shape[1] - 5)\n",
    "pca.fit(df_train.values[:, 5:])\n",
    "np.cumsum(pca.explained_variance_ratio_)"
   ]
  },
  {
   "cell_type": "code",
   "execution_count": 65,
   "metadata": {},
   "outputs": [
    {
     "data": {
      "text/plain": [
       "array([ 4.19426015e-05,  2.72773297e-03,  8.60171783e-05,  3.04650027e-02,\n",
       "        1.28770810e-03, -2.32489870e-03,  3.61260680e-03, -6.01410883e-03,\n",
       "        5.78857247e-03,  3.93836333e-04, -6.09140311e-04,  8.81682591e-01,\n",
       "        1.19352046e-01,  3.19003555e-02,  4.78515983e-03,  3.28064146e-01,\n",
       "        1.22016428e-01,  1.08585970e-01,  2.68364451e-01])"
      ]
     },
     "execution_count": 65,
     "metadata": {},
     "output_type": "execute_result"
    }
   ],
   "source": [
    "pca.components_[0, :]"
   ]
  },
  {
   "cell_type": "code",
   "execution_count": 42,
   "metadata": {},
   "outputs": [
    {
     "data": {
      "text/plain": [
       "array([ 0.,  1.,  2.,  4.,  5.,  8.,  9., 10., 11., 12., 13., 14., 15.,\n",
       "       16., 17.])"
      ]
     },
     "execution_count": 42,
     "metadata": {},
     "output_type": "execute_result"
    }
   ],
   "source": [
    "np.sort(df_train.LandCover.unique())\n"
   ]
  },
  {
   "cell_type": "markdown",
   "metadata": {},
   "source": [
    "## Label propagation idea:\n",
    "\n",
    "- For each sample, define neighbourhood based on geographic distance to other points (eg 0.2 deg). I think this beats KNN because of huge differences in sampling density. \n",
    "- For two samples, define their weight as 1) some distance function of features like LC / sat / bioclim / soil. Embed features with PCA etc. first to reduce cost and improve metric of computing distance? Possible scale feature similarity with distance decay function.\n",
    "- Implement label propagation algorithm to label test samples, based on weighted voting/average (per species I think) within neighbourhood. \n",
    "- So formally, we would have a G = (V, E, W), where V are the samples, E are defined by geographic distance, W are defined by features. These are all pre-computed. Labels L(V) are then computed iteratively.\n",
    "- Pretty big data set (with PO even more so): use efficient data structures etc. Sparse matrix? Maybe you can do efficient col multiple + sum? Sparse; Save weights as sparse matrix (0 if no edge). Species labels as sparse mat. Then label prop is a matmul between W and L_t.\n",
    "- Defining the (feature) distance function: option 1) optimising this, only feasible for a handful of hyperparams. Option 2) something based on features themselves. PCA is pretty good, other ways of maximising info? LC will be v important but tricky because it is categorical. "
   ]
  },
  {
   "cell_type": "code",
   "execution_count": 17,
   "metadata": {},
   "outputs": [
    {
     "name": "stdout",
     "output_type": "stream",
     "text": [
      "Dropped PO data because takes ages with geometry\n",
      "Columns dropped: ['taxonRank', 'geoUncertaintyInM', 'date', 'areaInM2', 'publisher', 'month', 'day', 'region', 'dayOfYear', 'country']\n",
      "Dropped 49637/1483637 duplicates in df_train_pa_species\n",
      "Creating sparse label matrix\n"
     ]
    },
    {
     "name": "stderr",
     "output_type": "stream",
     "text": [
      "88952it [07:21, 201.30it/s]\n"
     ]
    },
    {
     "name": "stdout",
     "output_type": "stream",
     "text": [
      "Creating sparse weight matrix\n"
     ]
    },
    {
     "name": "stderr",
     "output_type": "stream",
     "text": [
      "93668it [04:33, 341.87it/s]\n"
     ]
    }
   ],
   "source": [
    "tmp = gpu.LabelPropagation(preload_data=False, dist_neigh_meter=50000,\n",
    "                           val_or_test='test')"
   ]
  },
  {
   "cell_type": "code",
   "execution_count": 18,
   "metadata": {},
   "outputs": [
    {
     "name": "stderr",
     "output_type": "stream",
     "text": [
      "/Users/t.vanderplas/anaconda3/envs/geoclef/lib/python3.10/site-packages/scipy/sparse/_base.py:713: RuntimeWarning: divide by zero encountered in divide\n",
      "  recip = np.true_divide(1., other)\n"
     ]
    },
    {
     "name": "stdout",
     "output_type": "stream",
     "text": [
      "Iteration 1/40. Diff: 53101.06640625\n",
      "Iteration 2/40. Diff: 11787.0166015625\n",
      "Iteration 3/40. Diff: 4799.04052734375\n",
      "Iteration 4/40. Diff: 2570.677978515625\n",
      "Iteration 5/40. Diff: 1573.375\n",
      "Iteration 6/40. Diff: 1049.9854736328125\n",
      "Iteration 7/40. Diff: 734.2537841796875\n",
      "Iteration 8/40. Diff: 534.7877197265625\n",
      "Iteration 9/40. Diff: 398.7611083984375\n",
      "Iteration 10/40. Diff: 304.771484375\n",
      "Iteration 11/40. Diff: 236.63775634765625\n",
      "Iteration 12/40. Diff: 187.00607299804688\n",
      "Iteration 13/40. Diff: 149.65122985839844\n",
      "Iteration 14/40. Diff: 121.41614532470703\n",
      "Iteration 15/40. Diff: 99.56584930419922\n",
      "Iteration 16/40. Diff: 82.56488037109375\n",
      "Iteration 17/40. Diff: 69.10079956054688\n",
      "Iteration 18/40. Diff: 58.36909484863281\n",
      "Iteration 19/40. Diff: 49.69691848754883\n",
      "Iteration 20/40. Diff: 42.6407470703125\n",
      "Iteration 21/40. Diff: 36.836299896240234\n",
      "Iteration 22/40. Diff: 32.02911376953125\n",
      "Iteration 23/40. Diff: 28.01249122619629\n",
      "Iteration 24/40. Diff: 24.63524055480957\n",
      "Iteration 25/40. Diff: 21.774986267089844\n",
      "Iteration 26/40. Diff: 19.338851928710938\n",
      "Iteration 27/40. Diff: 17.25161361694336\n",
      "Iteration 28/40. Diff: 15.454383850097656\n",
      "Iteration 29/40. Diff: 13.899231910705566\n",
      "Iteration 30/40. Diff: 12.547799110412598\n",
      "Iteration 31/40. Diff: 11.36847972869873\n",
      "Iteration 32/40. Diff: 10.335460662841797\n",
      "Iteration 33/40. Diff: 9.427446365356445\n",
      "Iteration 34/40. Diff: 8.626633644104004\n",
      "Iteration 35/40. Diff: 7.91821813583374\n",
      "Iteration 36/40. Diff: 7.289673328399658\n",
      "Iteration 37/40. Diff: 6.730389595031738\n",
      "Iteration 38/40. Diff: 6.23151159286499\n",
      "Iteration 39/40. Diff: 5.7853240966796875\n",
      "Iteration 40/40. Diff: 5.38521146774292\n",
      "Converged after 40/40 iterations\n"
     ]
    },
    {
     "data": {
      "text/plain": [
       "[53101.066,\n",
       " 11787.017,\n",
       " 4799.0405,\n",
       " 2570.678,\n",
       " 1573.375,\n",
       " 1049.9855,\n",
       " 734.2538,\n",
       " 534.7877,\n",
       " 398.7611,\n",
       " 304.77148,\n",
       " 236.63776,\n",
       " 187.00607,\n",
       " 149.65123,\n",
       " 121.416145,\n",
       " 99.56585,\n",
       " 82.56488,\n",
       " 69.1008,\n",
       " 58.369095,\n",
       " 49.69692,\n",
       " 42.640747,\n",
       " 36.8363,\n",
       " 32.029114,\n",
       " 28.012491,\n",
       " 24.63524,\n",
       " 21.774986,\n",
       " 19.338852,\n",
       " 17.251614,\n",
       " 15.454384,\n",
       " 13.899232,\n",
       " 12.547799,\n",
       " 11.36848,\n",
       " 10.335461,\n",
       " 9.427446,\n",
       " 8.626634,\n",
       " 7.918218,\n",
       " 7.2896733,\n",
       " 6.7303896,\n",
       " 6.2315116,\n",
       " 5.785324,\n",
       " 5.3852115]"
      ]
     },
     "execution_count": 18,
     "metadata": {},
     "output_type": "execute_result"
    }
   ],
   "source": [
    "tmp.n_iter = 40\n",
    "tmp.fit()"
   ]
  },
  {
   "cell_type": "code",
   "execution_count": 29,
   "metadata": {},
   "outputs": [
    {
     "name": "stderr",
     "output_type": "stream",
     "text": [
      "100%|██████████| 4716/4716 [00:02<00:00, 1792.07it/s]\n"
     ]
    },
    {
     "name": "stdout",
     "output_type": "stream",
     "text": [
      "Predictions done. No species found: 215/4716.\n",
      "Saved predictions to: /Users/t.vanderplas/data_offline/data_geolifeclef2024/predictions_glc2024/GLC24_vdplasthijs_predictions-label-prop-lc-50000m-0.1_2024-04-19_15-56.csv\n"
     ]
    }
   ],
   "source": [
    "dict_pred = tmp.create_predictions(threshold_weighted_labels=0.1, save_pred=True)"
   ]
  },
  {
   "cell_type": "code",
   "execution_count": 28,
   "metadata": {},
   "outputs": [
    {
     "data": {
      "text/plain": [
       "(array([ 353.,  929., 1390., 1187.,  345.,  172.,  191.,  115.,   13.,\n",
       "          21.]),\n",
       " array([  0. ,  15.8,  31.6,  47.4,  63.2,  79. ,  94.8, 110.6, 126.4,\n",
       "        142.2, 158. ]),\n",
       " <BarContainer object of 10 artists>)"
      ]
     },
     "execution_count": 28,
     "metadata": {},
     "output_type": "execute_result"
    },
    {
     "data": {
      "image/png": "[encoded data removed]",
      "text/plain": [
       "<Figure size 640x480 with 1 Axes>"
      ]
     },
     "metadata": {},
     "output_type": "display_data"
    }
   ],
   "source": [
    "plt.hist([len(v) for k, v in dict_pred.items()])"
   ]
  },
  {
   "cell_type": "code",
   "execution_count": 54,
   "metadata": {},
   "outputs": [
    {
     "name": "stderr",
     "output_type": "stream",
     "text": [
      "  3%|▎         | 294/8892 [00:00<00:05, 1465.25it/s]"
     ]
    },
    {
     "name": "stdout",
     "output_type": "stream",
     "text": [
      "No species found for surveyId: 3097\n",
      "No species found for surveyId: 11260\n",
      "No species found for surveyId: 29826\n",
      "No species found for surveyId: 48170\n",
      "No species found for surveyId: 72970\n"
     ]
    },
    {
     "name": "stderr",
     "output_type": "stream",
     "text": [
      "  7%|▋         | 588/8892 [00:00<00:05, 1440.28it/s]"
     ]
    },
    {
     "name": "stdout",
     "output_type": "stream",
     "text": [
      "No species found for surveyId: 169143\n",
      "No species found for surveyId: 204710\n",
      "No species found for surveyId: 207047\n",
      "No species found for surveyId: 207358\n",
      "No species found for surveyId: 221556\n",
      "No species found for surveyId: 236244\n",
      "No species found for surveyId: 252573\n"
     ]
    },
    {
     "name": "stderr",
     "output_type": "stream",
     "text": [
      " 11%|█▏        | 1014/8892 [00:00<00:05, 1353.42it/s]"
     ]
    },
    {
     "name": "stdout",
     "output_type": "stream",
     "text": [
      "No species found for surveyId: 390699\n",
      "No species found for surveyId: 455005\n"
     ]
    },
    {
     "name": "stderr",
     "output_type": "stream",
     "text": [
      " 16%|█▋        | 1457/8892 [00:01<00:05, 1427.68it/s]"
     ]
    },
    {
     "name": "stdout",
     "output_type": "stream",
     "text": [
      "No species found for surveyId: 513869\n",
      "No species found for surveyId: 522260\n",
      "No species found for surveyId: 534650\n",
      "No species found for surveyId: 547062\n",
      "No species found for surveyId: 623026\n",
      "No species found for surveyId: 629043\n",
      "No species found for surveyId: 633054\n"
     ]
    },
    {
     "name": "stderr",
     "output_type": "stream",
     "text": [
      " 20%|█▉        | 1742/8892 [00:01<00:05, 1395.27it/s]"
     ]
    },
    {
     "name": "stdout",
     "output_type": "stream",
     "text": [
      "No species found for surveyId: 678058\n",
      "No species found for surveyId: 700959\n",
      "No species found for surveyId: 708353\n",
      "No species found for surveyId: 715880\n",
      "No species found for surveyId: 722429\n",
      "No species found for surveyId: 724208\n",
      "No species found for surveyId: 732799\n"
     ]
    },
    {
     "name": "stderr",
     "output_type": "stream",
     "text": [
      " 24%|██▍       | 2167/8892 [00:01<00:04, 1407.00it/s]"
     ]
    },
    {
     "name": "stdout",
     "output_type": "stream",
     "text": [
      "No species found for surveyId: 880303\n",
      "No species found for surveyId: 882970\n",
      "No species found for surveyId: 893006\n",
      "No species found for surveyId: 982201\n"
     ]
    },
    {
     "name": "stderr",
     "output_type": "stream",
     "text": [
      " 28%|██▊       | 2454/8892 [00:01<00:04, 1377.51it/s]"
     ]
    },
    {
     "name": "stdout",
     "output_type": "stream",
     "text": [
      "No species found for surveyId: 1014046\n",
      "No species found for surveyId: 1109501\n",
      "No species found for surveyId: 1131001\n"
     ]
    },
    {
     "name": "stderr",
     "output_type": "stream",
     "text": [
      " 32%|███▏      | 2885/8892 [00:02<00:04, 1415.74it/s]"
     ]
    },
    {
     "name": "stdout",
     "output_type": "stream",
     "text": [
      "No species found for surveyId: 1168885\n",
      "No species found for surveyId: 1186325\n",
      "No species found for surveyId: 1215524\n",
      "No species found for surveyId: 1239557\n"
     ]
    },
    {
     "name": "stderr",
     "output_type": "stream",
     "text": [
      " 36%|███▌      | 3167/8892 [00:02<00:04, 1374.44it/s]"
     ]
    },
    {
     "name": "stdout",
     "output_type": "stream",
     "text": [
      "No species found for surveyId: 1305951\n",
      "No species found for surveyId: 1365261\n",
      "No species found for surveyId: 1408094\n",
      "No species found for surveyId: 1419423\n"
     ]
    },
    {
     "name": "stderr",
     "output_type": "stream",
     "text": [
      " 41%|████      | 3602/8892 [00:02<00:03, 1422.03it/s]"
     ]
    },
    {
     "name": "stdout",
     "output_type": "stream",
     "text": [
      "No species found for surveyId: 1471451\n",
      "No species found for surveyId: 1491916\n",
      "No species found for surveyId: 1564358\n",
      "No species found for surveyId: 1589018\n",
      "No species found for surveyId: 1590220\n"
     ]
    },
    {
     "name": "stderr",
     "output_type": "stream",
     "text": [
      " 44%|████▎     | 3890/8892 [00:02<00:03, 1397.34it/s]"
     ]
    },
    {
     "name": "stdout",
     "output_type": "stream",
     "text": [
      "No species found for surveyId: 1644403\n",
      "No species found for surveyId: 1703156\n",
      "No species found for surveyId: 1708077\n",
      "No species found for surveyId: 1726611\n",
      "No species found for surveyId: 1745501\n",
      "No species found for surveyId: 1773372\n"
     ]
    },
    {
     "name": "stderr",
     "output_type": "stream",
     "text": [
      " 49%|████▊     | 4321/8892 [00:03<00:03, 1414.55it/s]"
     ]
    },
    {
     "name": "stdout",
     "output_type": "stream",
     "text": [
      "No species found for surveyId: 1804460\n",
      "No species found for surveyId: 1809912\n",
      "No species found for surveyId: 1810751\n",
      "No species found for surveyId: 1861020\n",
      "No species found for surveyId: 1885054\n",
      "No species found for surveyId: 1895205\n",
      "No species found for surveyId: 1896156\n",
      "No species found for surveyId: 1926677\n"
     ]
    },
    {
     "name": "stderr",
     "output_type": "stream",
     "text": [
      " 52%|█████▏    | 4602/8892 [00:03<00:03, 1366.92it/s]"
     ]
    },
    {
     "name": "stdout",
     "output_type": "stream",
     "text": [
      "No species found for surveyId: 1944998\n",
      "No species found for surveyId: 1948917\n",
      "No species found for surveyId: 1983340\n",
      "No species found for surveyId: 2045771\n",
      "No species found for surveyId: 2089469\n"
     ]
    },
    {
     "name": "stderr",
     "output_type": "stream",
     "text": [
      " 57%|█████▋    | 5042/8892 [00:03<00:02, 1434.69it/s]"
     ]
    },
    {
     "name": "stdout",
     "output_type": "stream",
     "text": [
      "No species found for surveyId: 2117412\n",
      "No species found for surveyId: 2158677\n",
      "No species found for surveyId: 2166684\n",
      "No species found for surveyId: 2189206\n"
     ]
    },
    {
     "name": "stderr",
     "output_type": "stream",
     "text": [
      " 60%|█████▉    | 5329/8892 [00:03<00:02, 1415.56it/s]"
     ]
    },
    {
     "name": "stdout",
     "output_type": "stream",
     "text": [
      "No species found for surveyId: 2250539\n",
      "No species found for surveyId: 2259700\n",
      "No species found for surveyId: 2275358\n",
      "No species found for surveyId: 2305705\n",
      "No species found for surveyId: 2367679\n"
     ]
    },
    {
     "name": "stderr",
     "output_type": "stream",
     "text": [
      " 65%|██████▌   | 5781/8892 [00:04<00:02, 1475.70it/s]"
     ]
    },
    {
     "name": "stdout",
     "output_type": "stream",
     "text": [
      "No species found for surveyId: 2425626\n",
      "No species found for surveyId: 2463675\n",
      "No species found for surveyId: 2467890\n",
      "No species found for surveyId: 2470854\n",
      "No species found for surveyId: 2496860\n",
      "No species found for surveyId: 2497140\n",
      "No species found for surveyId: 2506268\n",
      "No species found for surveyId: 2517371\n",
      "No species found for surveyId: 2527847\n"
     ]
    },
    {
     "name": "stderr",
     "output_type": "stream",
     "text": [
      " 68%|██████▊   | 6074/8892 [00:04<00:01, 1432.20it/s]"
     ]
    },
    {
     "name": "stdout",
     "output_type": "stream",
     "text": [
      "No species found for surveyId: 2585877\n",
      "No species found for surveyId: 2630590\n",
      "No species found for surveyId: 2641258\n",
      "No species found for surveyId: 2643368\n",
      "No species found for surveyId: 2654260\n",
      "No species found for surveyId: 2667227\n",
      "No species found for surveyId: 2673761\n"
     ]
    },
    {
     "name": "stderr",
     "output_type": "stream",
     "text": [
      " 72%|███████▏  | 6360/8892 [00:04<00:01, 1414.11it/s]"
     ]
    },
    {
     "name": "stdout",
     "output_type": "stream",
     "text": [
      "No species found for surveyId: 2713272\n",
      "No species found for surveyId: 2729558\n",
      "No species found for surveyId: 2729965\n"
     ]
    },
    {
     "name": "stderr",
     "output_type": "stream",
     "text": [
      " 76%|███████▋  | 6792/8892 [00:04<00:01, 1419.76it/s]"
     ]
    },
    {
     "name": "stdout",
     "output_type": "stream",
     "text": [
      "No species found for surveyId: 2896145\n",
      "No species found for surveyId: 2926475\n",
      "No species found for surveyId: 2931679\n",
      "No species found for surveyId: 2934552\n",
      "No species found for surveyId: 2939121\n",
      "No species found for surveyId: 2969942\n",
      "No species found for surveyId: 2990607\n",
      "No species found for surveyId: 3028015\n"
     ]
    },
    {
     "name": "stderr",
     "output_type": "stream",
     "text": [
      " 80%|███████▉  | 7088/8892 [00:05<00:01, 1446.82it/s]"
     ]
    },
    {
     "name": "stdout",
     "output_type": "stream",
     "text": [
      "No species found for surveyId: 3036794\n",
      "No species found for surveyId: 3037670\n",
      "No species found for surveyId: 3042071\n",
      "No species found for surveyId: 3051691\n",
      "No species found for surveyId: 3059468\n",
      "No species found for surveyId: 3063820\n",
      "No species found for surveyId: 3075593\n",
      "No species found for surveyId: 3077240\n",
      "No species found for surveyId: 3089408\n",
      "No species found for surveyId: 3101281\n",
      "No species found for surveyId: 3127573\n"
     ]
    },
    {
     "name": "stderr",
     "output_type": "stream",
     "text": [
      " 85%|████████▍ | 7521/8892 [00:05<00:00, 1424.61it/s]"
     ]
    },
    {
     "name": "stdout",
     "output_type": "stream",
     "text": [
      "No species found for surveyId: 3198443\n",
      "No species found for surveyId: 3204245\n",
      "No species found for surveyId: 3208363\n",
      "No species found for surveyId: 3217167\n",
      "No species found for surveyId: 3230316\n",
      "No species found for surveyId: 3293413\n"
     ]
    },
    {
     "name": "stderr",
     "output_type": "stream",
     "text": [
      " 89%|████████▉ | 7948/8892 [00:05<00:00, 1385.30it/s]"
     ]
    },
    {
     "name": "stdout",
     "output_type": "stream",
     "text": [
      "No species found for surveyId: 3370256\n",
      "No species found for surveyId: 3371790\n",
      "No species found for surveyId: 3434471\n",
      "No species found for surveyId: 3445790\n",
      "No species found for surveyId: 3462982\n",
      "No species found for surveyId: 3470788\n"
     ]
    },
    {
     "name": "stderr",
     "output_type": "stream",
     "text": [
      " 94%|█████████▍| 8389/8892 [00:05<00:00, 1437.81it/s]"
     ]
    },
    {
     "name": "stdout",
     "output_type": "stream",
     "text": [
      "No species found for surveyId: 3583662\n",
      "No species found for surveyId: 3584106\n",
      "No species found for surveyId: 3605493\n",
      "No species found for surveyId: 3624224\n",
      "No species found for surveyId: 3720791\n",
      "No species found for surveyId: 3721722\n"
     ]
    },
    {
     "name": "stderr",
     "output_type": "stream",
     "text": [
      " 98%|█████████▊| 8677/8892 [00:06<00:00, 1341.95it/s]"
     ]
    },
    {
     "name": "stdout",
     "output_type": "stream",
     "text": [
      "No species found for surveyId: 3755139\n",
      "No species found for surveyId: 3808998\n",
      "No species found for surveyId: 3819929\n",
      "No species found for surveyId: 3847472\n"
     ]
    },
    {
     "name": "stderr",
     "output_type": "stream",
     "text": [
      "100%|██████████| 8892/8892 [00:06<00:00, 1405.56it/s]\n"
     ]
    },
    {
     "name": "stdout",
     "output_type": "stream",
     "text": [
      "No species found for surveyId: 3894839\n",
      "Predictions done. No species found: 137/8892.\n"
     ]
    },
    {
     "name": "stderr",
     "output_type": "stream",
     "text": [
      "  3%|▎         | 295/8892 [00:00<00:05, 1476.16it/s]"
     ]
    },
    {
     "name": "stdout",
     "output_type": "stream",
     "text": [
      "No species found for surveyId: 3097\n",
      "No species found for surveyId: 11260\n",
      "No species found for surveyId: 29826\n",
      "No species found for surveyId: 48170\n",
      "No species found for surveyId: 72970\n"
     ]
    },
    {
     "name": "stderr",
     "output_type": "stream",
     "text": [
      "  7%|▋         | 593/8892 [00:00<00:05, 1463.99it/s]"
     ]
    },
    {
     "name": "stdout",
     "output_type": "stream",
     "text": [
      "No species found for surveyId: 169143\n",
      "No species found for surveyId: 204710\n",
      "No species found for surveyId: 207047\n",
      "No species found for surveyId: 207358\n",
      "No species found for surveyId: 221556\n",
      "No species found for surveyId: 236244\n",
      "No species found for surveyId: 252573\n"
     ]
    },
    {
     "name": "stderr",
     "output_type": "stream",
     "text": [
      " 12%|█▏        | 1029/8892 [00:00<00:05, 1425.13it/s]"
     ]
    },
    {
     "name": "stdout",
     "output_type": "stream",
     "text": [
      "No species found for surveyId: 390699\n",
      "No species found for surveyId: 455005\n"
     ]
    },
    {
     "name": "stderr",
     "output_type": "stream",
     "text": [
      " 15%|█▍        | 1328/8892 [00:00<00:05, 1462.46it/s]"
     ]
    },
    {
     "name": "stdout",
     "output_type": "stream",
     "text": [
      "No species found for surveyId: 513869\n",
      "No species found for surveyId: 522260\n",
      "No species found for surveyId: 534650\n",
      "No species found for surveyId: 547062\n",
      "No species found for surveyId: 623026\n",
      "No species found for surveyId: 629043\n",
      "No species found for surveyId: 633054\n"
     ]
    },
    {
     "name": "stderr",
     "output_type": "stream",
     "text": [
      " 20%|█▉        | 1764/8892 [00:01<00:04, 1427.06it/s]"
     ]
    },
    {
     "name": "stdout",
     "output_type": "stream",
     "text": [
      "No species found for surveyId: 678058\n",
      "No species found for surveyId: 700959\n",
      "No species found for surveyId: 708353\n",
      "No species found for surveyId: 715880\n",
      "No species found for surveyId: 722429\n",
      "No species found for surveyId: 724208\n",
      "No species found for surveyId: 732799\n"
     ]
    },
    {
     "name": "stderr",
     "output_type": "stream",
     "text": [
      " 25%|██▍       | 2194/8892 [00:01<00:04, 1416.19it/s]"
     ]
    },
    {
     "name": "stdout",
     "output_type": "stream",
     "text": [
      "No species found for surveyId: 880303\n",
      "No species found for surveyId: 882970\n",
      "No species found for surveyId: 893006\n",
      "No species found for surveyId: 982201\n"
     ]
    },
    {
     "name": "stderr",
     "output_type": "stream",
     "text": [
      " 28%|██▊       | 2479/8892 [00:01<00:04, 1386.88it/s]"
     ]
    },
    {
     "name": "stdout",
     "output_type": "stream",
     "text": [
      "No species found for surveyId: 1014046\n",
      "No species found for surveyId: 1109501\n",
      "No species found for surveyId: 1131001\n"
     ]
    },
    {
     "name": "stderr",
     "output_type": "stream",
     "text": [
      " 33%|███▎      | 2908/8892 [00:02<00:04, 1414.00it/s]"
     ]
    },
    {
     "name": "stdout",
     "output_type": "stream",
     "text": [
      "No species found for surveyId: 1168885\n",
      "No species found for surveyId: 1186325\n",
      "No species found for surveyId: 1215524\n",
      "No species found for surveyId: 1239557\n"
     ]
    },
    {
     "name": "stderr",
     "output_type": "stream",
     "text": [
      " 36%|███▌      | 3190/8892 [00:02<00:04, 1386.81it/s]"
     ]
    },
    {
     "name": "stdout",
     "output_type": "stream",
     "text": [
      "No species found for surveyId: 1305951\n",
      "No species found for surveyId: 1365261\n",
      "No species found for surveyId: 1408094\n",
      "No species found for surveyId: 1419423\n"
     ]
    },
    {
     "name": "stderr",
     "output_type": "stream",
     "text": [
      " 41%|████      | 3625/8892 [00:02<00:03, 1402.79it/s]"
     ]
    },
    {
     "name": "stdout",
     "output_type": "stream",
     "text": [
      "No species found for surveyId: 1471451\n",
      "No species found for surveyId: 1491916\n",
      "No species found for surveyId: 1564358\n",
      "No species found for surveyId: 1589018\n",
      "No species found for surveyId: 1590220\n"
     ]
    },
    {
     "name": "stderr",
     "output_type": "stream",
     "text": [
      " 44%|████▍     | 3914/8892 [00:02<00:03, 1421.16it/s]"
     ]
    },
    {
     "name": "stdout",
     "output_type": "stream",
     "text": [
      "No species found for surveyId: 1644403\n",
      "No species found for surveyId: 1703156\n",
      "No species found for surveyId: 1708077\n",
      "No species found for surveyId: 1726611\n",
      "No species found for surveyId: 1745501\n",
      "No species found for surveyId: 1773372\n"
     ]
    },
    {
     "name": "stderr",
     "output_type": "stream",
     "text": [
      " 49%|████▉     | 4351/8892 [00:03<00:03, 1434.44it/s]"
     ]
    },
    {
     "name": "stdout",
     "output_type": "stream",
     "text": [
      "No species found for surveyId: 1804460\n",
      "No species found for surveyId: 1809912\n",
      "No species found for surveyId: 1810751\n",
      "No species found for surveyId: 1861020\n",
      "No species found for surveyId: 1885054\n",
      "No species found for surveyId: 1895205\n",
      "No species found for surveyId: 1896156\n",
      "No species found for surveyId: 1926677\n"
     ]
    },
    {
     "name": "stderr",
     "output_type": "stream",
     "text": [
      " 52%|█████▏    | 4643/8892 [00:03<00:02, 1435.56it/s]"
     ]
    },
    {
     "name": "stdout",
     "output_type": "stream",
     "text": [
      "No species found for surveyId: 1944998\n",
      "No species found for surveyId: 1948917\n",
      "No species found for surveyId: 1983340\n",
      "No species found for surveyId: 2045771\n"
     ]
    },
    {
     "name": "stderr",
     "output_type": "stream",
     "text": [
      " 56%|█████▌    | 4940/8892 [00:03<00:02, 1459.73it/s]"
     ]
    },
    {
     "name": "stdout",
     "output_type": "stream",
     "text": [
      "No species found for surveyId: 2089469\n",
      "No species found for surveyId: 2117412\n",
      "No species found for surveyId: 2158677\n",
      "No species found for surveyId: 2166684\n",
      "No species found for surveyId: 2189206\n"
     ]
    },
    {
     "name": "stderr",
     "output_type": "stream",
     "text": [
      " 60%|██████    | 5379/8892 [00:03<00:02, 1443.69it/s]"
     ]
    },
    {
     "name": "stdout",
     "output_type": "stream",
     "text": [
      "No species found for surveyId: 2250539\n",
      "No species found for surveyId: 2259700\n",
      "No species found for surveyId: 2275358\n",
      "No species found for surveyId: 2305705\n",
      "No species found for surveyId: 2367679\n"
     ]
    },
    {
     "name": "stderr",
     "output_type": "stream",
     "text": [
      " 64%|██████▍   | 5678/8892 [00:03<00:02, 1466.90it/s]"
     ]
    },
    {
     "name": "stdout",
     "output_type": "stream",
     "text": [
      "No species found for surveyId: 2425626\n",
      "No species found for surveyId: 2463675\n",
      "No species found for surveyId: 2467890\n",
      "No species found for surveyId: 2470854\n",
      "No species found for surveyId: 2496860\n",
      "No species found for surveyId: 2497140\n",
      "No species found for surveyId: 2506268\n",
      "No species found for surveyId: 2517371\n",
      "No species found for surveyId: 2527847\n"
     ]
    },
    {
     "name": "stderr",
     "output_type": "stream",
     "text": [
      " 69%|██████▉   | 6123/8892 [00:04<00:01, 1459.84it/s]"
     ]
    },
    {
     "name": "stdout",
     "output_type": "stream",
     "text": [
      "No species found for surveyId: 2585877\n",
      "No species found for surveyId: 2630590\n",
      "No species found for surveyId: 2641258\n",
      "No species found for surveyId: 2643368\n",
      "No species found for surveyId: 2654260\n",
      "No species found for surveyId: 2667227\n",
      "No species found for surveyId: 2673761\n"
     ]
    },
    {
     "name": "stderr",
     "output_type": "stream",
     "text": [
      " 72%|███████▏  | 6417/8892 [00:04<00:01, 1453.03it/s]"
     ]
    },
    {
     "name": "stdout",
     "output_type": "stream",
     "text": [
      "No species found for surveyId: 2713272\n",
      "No species found for surveyId: 2729558\n",
      "No species found for surveyId: 2729965\n"
     ]
    },
    {
     "name": "stderr",
     "output_type": "stream",
     "text": [
      " 77%|███████▋  | 6856/8892 [00:04<00:01, 1437.71it/s]"
     ]
    },
    {
     "name": "stdout",
     "output_type": "stream",
     "text": [
      "No species found for surveyId: 2896145\n",
      "No species found for surveyId: 2926475\n",
      "No species found for surveyId: 2931679\n",
      "No species found for surveyId: 2934552\n",
      "No species found for surveyId: 2939121\n",
      "No species found for surveyId: 2969942\n",
      "No species found for surveyId: 2990607\n",
      "No species found for surveyId: 3028015\n"
     ]
    },
    {
     "name": "stderr",
     "output_type": "stream",
     "text": [
      " 80%|████████  | 7151/8892 [00:04<00:01, 1451.45it/s]"
     ]
    },
    {
     "name": "stdout",
     "output_type": "stream",
     "text": [
      "No species found for surveyId: 3036794\n",
      "No species found for surveyId: 3037670\n",
      "No species found for surveyId: 3042071\n",
      "No species found for surveyId: 3051691\n",
      "No species found for surveyId: 3059468\n",
      "No species found for surveyId: 3063820\n",
      "No species found for surveyId: 3075593\n",
      "No species found for surveyId: 3077240\n",
      "No species found for surveyId: 3089408\n",
      "No species found for surveyId: 3101281\n",
      "No species found for surveyId: 3127573\n"
     ]
    },
    {
     "name": "stderr",
     "output_type": "stream",
     "text": [
      " 85%|████████▌ | 7582/8892 [00:05<00:00, 1395.31it/s]"
     ]
    },
    {
     "name": "stdout",
     "output_type": "stream",
     "text": [
      "No species found for surveyId: 3198443\n",
      "No species found for surveyId: 3204245\n",
      "No species found for surveyId: 3208363\n",
      "No species found for surveyId: 3217167\n",
      "No species found for surveyId: 3230316\n",
      "No species found for surveyId: 3293413\n"
     ]
    },
    {
     "name": "stderr",
     "output_type": "stream",
     "text": [
      " 88%|████████▊ | 7865/8892 [00:05<00:00, 1397.76it/s]"
     ]
    },
    {
     "name": "stdout",
     "output_type": "stream",
     "text": [
      "No species found for surveyId: 3370256\n",
      "No species found for surveyId: 3371790\n",
      "No species found for surveyId: 3434471\n",
      "No species found for surveyId: 3445790\n",
      "No species found for surveyId: 3462982\n",
      "No species found for surveyId: 3470788\n"
     ]
    },
    {
     "name": "stderr",
     "output_type": "stream",
     "text": [
      " 95%|█████████▌| 8449/8892 [00:05<00:00, 1444.11it/s]"
     ]
    },
    {
     "name": "stdout",
     "output_type": "stream",
     "text": [
      "No species found for surveyId: 3583662\n",
      "No species found for surveyId: 3584106\n",
      "No species found for surveyId: 3605493\n",
      "No species found for surveyId: 3624224\n",
      "No species found for surveyId: 3720791\n",
      "No species found for surveyId: 3721722\n"
     ]
    },
    {
     "name": "stderr",
     "output_type": "stream",
     "text": [
      " 98%|█████████▊| 8736/8892 [00:06<00:00, 1417.41it/s]"
     ]
    },
    {
     "name": "stdout",
     "output_type": "stream",
     "text": [
      "No species found for surveyId: 3755139\n",
      "No species found for surveyId: 3808998\n",
      "No species found for surveyId: 3819929\n",
      "No species found for surveyId: 3847472\n"
     ]
    },
    {
     "name": "stderr",
     "output_type": "stream",
     "text": [
      "100%|██████████| 8892/8892 [00:06<00:00, 1423.54it/s]\n"
     ]
    },
    {
     "name": "stdout",
     "output_type": "stream",
     "text": [
      "No species found for surveyId: 3894839\n",
      "Predictions done. No species found: 137/8892.\n"
     ]
    },
    {
     "name": "stderr",
     "output_type": "stream",
     "text": [
      "  3%|▎         | 296/8892 [00:00<00:05, 1483.10it/s]"
     ]
    },
    {
     "name": "stdout",
     "output_type": "stream",
     "text": [
      "No species found for surveyId: 3097\n",
      "No species found for surveyId: 11260\n",
      "No species found for surveyId: 29826\n",
      "No species found for surveyId: 48170\n",
      "No species found for surveyId: 72970\n"
     ]
    },
    {
     "name": "stderr",
     "output_type": "stream",
     "text": [
      "  7%|▋         | 594/8892 [00:00<00:05, 1471.37it/s]"
     ]
    },
    {
     "name": "stdout",
     "output_type": "stream",
     "text": [
      "No species found for surveyId: 169143\n",
      "No species found for surveyId: 204710\n",
      "No species found for surveyId: 207047\n",
      "No species found for surveyId: 207358\n",
      "No species found for surveyId: 221556\n",
      "No species found for surveyId: 236244\n",
      "No species found for surveyId: 252573\n"
     ]
    },
    {
     "name": "stderr",
     "output_type": "stream",
     "text": [
      " 12%|█▏        | 1032/8892 [00:00<00:05, 1438.32it/s]"
     ]
    },
    {
     "name": "stdout",
     "output_type": "stream",
     "text": [
      "No species found for surveyId: 390699\n",
      "No species found for surveyId: 455005\n"
     ]
    },
    {
     "name": "stderr",
     "output_type": "stream",
     "text": [
      " 17%|█▋        | 1470/8892 [00:01<00:05, 1411.65it/s]"
     ]
    },
    {
     "name": "stdout",
     "output_type": "stream",
     "text": [
      "No species found for surveyId: 513869\n",
      "No species found for surveyId: 522260\n",
      "No species found for surveyId: 534650\n",
      "No species found for surveyId: 547062\n",
      "No species found for surveyId: 623026\n",
      "No species found for surveyId: 629043\n",
      "No species found for surveyId: 633054\n"
     ]
    },
    {
     "name": "stderr",
     "output_type": "stream",
     "text": [
      " 20%|█▉        | 1760/8892 [00:01<00:04, 1431.41it/s]"
     ]
    },
    {
     "name": "stdout",
     "output_type": "stream",
     "text": [
      "No species found for surveyId: 678058\n",
      "No species found for surveyId: 700959\n",
      "No species found for surveyId: 708353\n",
      "No species found for surveyId: 715880\n",
      "No species found for surveyId: 722429\n",
      "No species found for surveyId: 724208\n",
      "No species found for surveyId: 732799\n"
     ]
    },
    {
     "name": "stderr",
     "output_type": "stream",
     "text": [
      " 25%|██▍       | 2196/8892 [00:01<00:04, 1416.70it/s]"
     ]
    },
    {
     "name": "stdout",
     "output_type": "stream",
     "text": [
      "No species found for surveyId: 880303\n",
      "No species found for surveyId: 882970\n",
      "No species found for surveyId: 893006\n",
      "No species found for surveyId: 982201\n"
     ]
    },
    {
     "name": "stderr",
     "output_type": "stream",
     "text": [
      " 28%|██▊       | 2484/8892 [00:01<00:04, 1387.75it/s]"
     ]
    },
    {
     "name": "stdout",
     "output_type": "stream",
     "text": [
      "No species found for surveyId: 1014046\n",
      "No species found for surveyId: 1109501\n",
      "No species found for surveyId: 1131001\n"
     ]
    },
    {
     "name": "stderr",
     "output_type": "stream",
     "text": [
      " 33%|███▎      | 2912/8892 [00:02<00:04, 1409.79it/s]"
     ]
    },
    {
     "name": "stdout",
     "output_type": "stream",
     "text": [
      "No species found for surveyId: 1168885\n",
      "No species found for surveyId: 1186325\n",
      "No species found for surveyId: 1215524\n",
      "No species found for surveyId: 1239557\n"
     ]
    },
    {
     "name": "stderr",
     "output_type": "stream",
     "text": [
      " 36%|███▌      | 3194/8892 [00:02<00:04, 1391.49it/s]"
     ]
    },
    {
     "name": "stdout",
     "output_type": "stream",
     "text": [
      "No species found for surveyId: 1305951\n",
      "No species found for surveyId: 1365261\n",
      "No species found for surveyId: 1408094\n",
      "No species found for surveyId: 1419423\n"
     ]
    },
    {
     "name": "stderr",
     "output_type": "stream",
     "text": [
      " 41%|████      | 3629/8892 [00:02<00:03, 1428.61it/s]"
     ]
    },
    {
     "name": "stdout",
     "output_type": "stream",
     "text": [
      "No species found for surveyId: 1471451\n",
      "No species found for surveyId: 1491916\n",
      "No species found for surveyId: 1564358\n",
      "No species found for surveyId: 1589018\n",
      "No species found for surveyId: 1590220\n"
     ]
    },
    {
     "name": "stderr",
     "output_type": "stream",
     "text": [
      " 44%|████▍     | 3921/8892 [00:02<00:03, 1441.71it/s]"
     ]
    },
    {
     "name": "stdout",
     "output_type": "stream",
     "text": [
      "No species found for surveyId: 1644403\n",
      "No species found for surveyId: 1703156\n",
      "No species found for surveyId: 1708077\n",
      "No species found for surveyId: 1726611\n",
      "No species found for surveyId: 1745501\n",
      "No species found for surveyId: 1773372\n"
     ]
    },
    {
     "name": "stderr",
     "output_type": "stream",
     "text": [
      " 49%|████▉     | 4358/8892 [00:03<00:03, 1441.86it/s]"
     ]
    },
    {
     "name": "stdout",
     "output_type": "stream",
     "text": [
      "No species found for surveyId: 1804460\n",
      "No species found for surveyId: 1809912\n",
      "No species found for surveyId: 1810751\n",
      "No species found for surveyId: 1861020\n",
      "No species found for surveyId: 1885054\n",
      "No species found for surveyId: 1895205\n",
      "No species found for surveyId: 1896156\n",
      "No species found for surveyId: 1926677\n"
     ]
    },
    {
     "name": "stderr",
     "output_type": "stream",
     "text": [
      " 52%|█████▏    | 4649/8892 [00:03<00:02, 1444.19it/s]"
     ]
    },
    {
     "name": "stdout",
     "output_type": "stream",
     "text": [
      "No species found for surveyId: 1944998\n",
      "No species found for surveyId: 1948917\n",
      "No species found for surveyId: 1983340\n",
      "No species found for surveyId: 2045771\n"
     ]
    },
    {
     "name": "stderr",
     "output_type": "stream",
     "text": [
      " 56%|█████▌    | 4944/8892 [00:03<00:02, 1459.15it/s]"
     ]
    },
    {
     "name": "stdout",
     "output_type": "stream",
     "text": [
      "No species found for surveyId: 2089469\n",
      "No species found for surveyId: 2117412\n",
      "No species found for surveyId: 2158677\n",
      "No species found for surveyId: 2166684\n",
      "No species found for surveyId: 2189206\n"
     ]
    },
    {
     "name": "stderr",
     "output_type": "stream",
     "text": [
      " 59%|█████▉    | 5233/8892 [00:03<00:02, 1377.47it/s]"
     ]
    },
    {
     "name": "stdout",
     "output_type": "stream",
     "text": [
      "No species found for surveyId: 2250539\n",
      "No species found for surveyId: 2259700\n",
      "No species found for surveyId: 2275358\n",
      "No species found for surveyId: 2305705\n",
      "No species found for surveyId: 2367679\n"
     ]
    },
    {
     "name": "stderr",
     "output_type": "stream",
     "text": [
      " 64%|██████▍   | 5676/8892 [00:03<00:02, 1446.67it/s]"
     ]
    },
    {
     "name": "stdout",
     "output_type": "stream",
     "text": [
      "No species found for surveyId: 2425626\n",
      "No species found for surveyId: 2463675\n",
      "No species found for surveyId: 2467890\n",
      "No species found for surveyId: 2470854\n",
      "No species found for surveyId: 2496860\n",
      "No species found for surveyId: 2497140\n",
      "No species found for surveyId: 2506268\n",
      "No species found for surveyId: 2517371\n",
      "No species found for surveyId: 2527847\n"
     ]
    },
    {
     "name": "stderr",
     "output_type": "stream",
     "text": [
      " 69%|██████▉   | 6121/8892 [00:04<00:01, 1459.07it/s]"
     ]
    },
    {
     "name": "stdout",
     "output_type": "stream",
     "text": [
      "No species found for surveyId: 2585877\n",
      "No species found for surveyId: 2630590\n",
      "No species found for surveyId: 2641258\n",
      "No species found for surveyId: 2643368\n",
      "No species found for surveyId: 2654260\n",
      "No species found for surveyId: 2667227\n",
      "No species found for surveyId: 2673761\n",
      "No species found for surveyId: 2713272\n"
     ]
    },
    {
     "name": "stderr",
     "output_type": "stream",
     "text": [
      " 72%|███████▏  | 6419/8892 [00:04<00:01, 1458.34it/s]"
     ]
    },
    {
     "name": "stdout",
     "output_type": "stream",
     "text": [
      "No species found for surveyId: 2729558\n",
      "No species found for surveyId: 2729965\n"
     ]
    },
    {
     "name": "stderr",
     "output_type": "stream",
     "text": [
      " 77%|███████▋  | 6860/8892 [00:04<00:01, 1449.44it/s]"
     ]
    },
    {
     "name": "stdout",
     "output_type": "stream",
     "text": [
      "No species found for surveyId: 2896145\n",
      "No species found for surveyId: 2926475\n",
      "No species found for surveyId: 2931679\n",
      "No species found for surveyId: 2934552\n",
      "No species found for surveyId: 2939121\n",
      "No species found for surveyId: 2969942\n",
      "No species found for surveyId: 2990607\n",
      "No species found for surveyId: 3028015\n"
     ]
    },
    {
     "name": "stderr",
     "output_type": "stream",
     "text": [
      " 80%|████████  | 7152/8892 [00:05<00:01, 1452.07it/s]"
     ]
    },
    {
     "name": "stdout",
     "output_type": "stream",
     "text": [
      "No species found for surveyId: 3036794\n",
      "No species found for surveyId: 3037670\n",
      "No species found for surveyId: 3042071\n",
      "No species found for surveyId: 3051691\n",
      "No species found for surveyId: 3059468\n",
      "No species found for surveyId: 3063820\n",
      "No species found for surveyId: 3075593\n",
      "No species found for surveyId: 3077240\n",
      "No species found for surveyId: 3089408\n",
      "No species found for surveyId: 3101281\n",
      "No species found for surveyId: 3127573\n"
     ]
    },
    {
     "name": "stderr",
     "output_type": "stream",
     "text": [
      " 85%|████████▌ | 7594/8892 [00:05<00:00, 1449.97it/s]"
     ]
    },
    {
     "name": "stdout",
     "output_type": "stream",
     "text": [
      "No species found for surveyId: 3198443\n",
      "No species found for surveyId: 3204245\n",
      "No species found for surveyId: 3208363\n",
      "No species found for surveyId: 3217167\n",
      "No species found for surveyId: 3230316\n",
      "No species found for surveyId: 3293413\n"
     ]
    },
    {
     "name": "stderr",
     "output_type": "stream",
     "text": [
      " 89%|████████▊ | 7885/8892 [00:05<00:00, 1419.86it/s]"
     ]
    },
    {
     "name": "stdout",
     "output_type": "stream",
     "text": [
      "No species found for surveyId: 3370256\n",
      "No species found for surveyId: 3371790\n",
      "No species found for surveyId: 3434471\n",
      "No species found for surveyId: 3445790\n",
      "No species found for surveyId: 3462982\n",
      "No species found for surveyId: 3470788\n"
     ]
    },
    {
     "name": "stderr",
     "output_type": "stream",
     "text": [
      " 94%|█████████▎| 8325/8892 [00:05<00:00, 1441.77it/s]"
     ]
    },
    {
     "name": "stdout",
     "output_type": "stream",
     "text": [
      "No species found for surveyId: 3583662\n",
      "No species found for surveyId: 3584106\n",
      "No species found for surveyId: 3605493\n",
      "No species found for surveyId: 3624224\n",
      "No species found for surveyId: 3720791\n",
      "No species found for surveyId: 3721722\n"
     ]
    },
    {
     "name": "stderr",
     "output_type": "stream",
     "text": [
      " 99%|█████████▊| 8765/8892 [00:06<00:00, 1444.48it/s]"
     ]
    },
    {
     "name": "stdout",
     "output_type": "stream",
     "text": [
      "No species found for surveyId: 3755139\n",
      "No species found for surveyId: 3808998\n",
      "No species found for surveyId: 3819929\n",
      "No species found for surveyId: 3847472\n"
     ]
    },
    {
     "name": "stderr",
     "output_type": "stream",
     "text": [
      "100%|██████████| 8892/8892 [00:06<00:00, 1431.14it/s]\n"
     ]
    },
    {
     "name": "stdout",
     "output_type": "stream",
     "text": [
      "No species found for surveyId: 3894839\n",
      "Predictions done. No species found: 137/8892.\n"
     ]
    },
    {
     "name": "stderr",
     "output_type": "stream",
     "text": [
      "  3%|▎         | 299/8892 [00:00<00:05, 1492.31it/s]"
     ]
    },
    {
     "name": "stdout",
     "output_type": "stream",
     "text": [
      "No species found for surveyId: 3097\n",
      "No species found for surveyId: 11260\n",
      "No species found for surveyId: 29826\n",
      "No species found for surveyId: 48170\n",
      "No species found for surveyId: 72970\n"
     ]
    },
    {
     "name": "stderr",
     "output_type": "stream",
     "text": [
      "  7%|▋         | 601/8892 [00:00<00:05, 1480.88it/s]"
     ]
    },
    {
     "name": "stdout",
     "output_type": "stream",
     "text": [
      "No species found for surveyId: 169143\n",
      "No species found for surveyId: 204710\n",
      "No species found for surveyId: 207047\n",
      "No species found for surveyId: 207358\n",
      "No species found for surveyId: 221556\n",
      "No species found for surveyId: 236244\n",
      "No species found for surveyId: 252573\n"
     ]
    },
    {
     "name": "stderr",
     "output_type": "stream",
     "text": [
      " 12%|█▏        | 1042/8892 [00:00<00:05, 1446.55it/s]"
     ]
    },
    {
     "name": "stdout",
     "output_type": "stream",
     "text": [
      "No species found for surveyId: 390699\n",
      "No species found for surveyId: 455005\n"
     ]
    },
    {
     "name": "stderr",
     "output_type": "stream",
     "text": [
      " 15%|█▌        | 1334/8892 [00:00<00:05, 1441.54it/s]"
     ]
    },
    {
     "name": "stdout",
     "output_type": "stream",
     "text": [
      "No species found for surveyId: 513869\n",
      "No species found for surveyId: 522260\n",
      "No species found for surveyId: 534650\n",
      "No species found for surveyId: 547062\n",
      "No species found for surveyId: 623026\n",
      "No species found for surveyId: 629043\n",
      "No species found for surveyId: 633054\n"
     ]
    },
    {
     "name": "stderr",
     "output_type": "stream",
     "text": [
      " 20%|█▉        | 1773/8892 [00:01<00:04, 1449.25it/s]"
     ]
    },
    {
     "name": "stdout",
     "output_type": "stream",
     "text": [
      "No species found for surveyId: 678058\n",
      "No species found for surveyId: 700959\n",
      "No species found for surveyId: 708353\n",
      "No species found for surveyId: 715880\n",
      "No species found for surveyId: 722429\n",
      "No species found for surveyId: 724208\n",
      "No species found for surveyId: 732799\n"
     ]
    },
    {
     "name": "stderr",
     "output_type": "stream",
     "text": [
      " 25%|██▍       | 2210/8892 [00:01<00:04, 1430.06it/s]"
     ]
    },
    {
     "name": "stdout",
     "output_type": "stream",
     "text": [
      "No species found for surveyId: 880303\n",
      "No species found for surveyId: 882970\n",
      "No species found for surveyId: 893006\n",
      "No species found for surveyId: 982201\n"
     ]
    },
    {
     "name": "stderr",
     "output_type": "stream",
     "text": [
      " 28%|██▊       | 2497/8892 [00:01<00:04, 1391.84it/s]"
     ]
    },
    {
     "name": "stdout",
     "output_type": "stream",
     "text": [
      "No species found for surveyId: 1014046\n",
      "No species found for surveyId: 1109501\n",
      "No species found for surveyId: 1131001\n"
     ]
    },
    {
     "name": "stderr",
     "output_type": "stream",
     "text": [
      " 33%|███▎      | 2924/8892 [00:02<00:04, 1405.18it/s]"
     ]
    },
    {
     "name": "stdout",
     "output_type": "stream",
     "text": [
      "No species found for surveyId: 1168885\n",
      "No species found for surveyId: 1186325\n",
      "No species found for surveyId: 1215524\n",
      "No species found for surveyId: 1239557\n"
     ]
    },
    {
     "name": "stderr",
     "output_type": "stream",
     "text": [
      " 36%|███▌      | 3205/8892 [00:02<00:04, 1389.44it/s]"
     ]
    },
    {
     "name": "stdout",
     "output_type": "stream",
     "text": [
      "No species found for surveyId: 1305951\n",
      "No species found for surveyId: 1365261\n",
      "No species found for surveyId: 1408094\n",
      "No species found for surveyId: 1419423\n"
     ]
    },
    {
     "name": "stderr",
     "output_type": "stream",
     "text": [
      " 41%|████      | 3643/8892 [00:02<00:03, 1433.43it/s]"
     ]
    },
    {
     "name": "stdout",
     "output_type": "stream",
     "text": [
      "No species found for surveyId: 1471451\n",
      "No species found for surveyId: 1491916\n",
      "No species found for surveyId: 1564358\n",
      "No species found for surveyId: 1589018\n",
      "No species found for surveyId: 1590220\n"
     ]
    },
    {
     "name": "stderr",
     "output_type": "stream",
     "text": [
      " 44%|████▍     | 3931/8892 [00:02<00:03, 1396.29it/s]"
     ]
    },
    {
     "name": "stdout",
     "output_type": "stream",
     "text": [
      "No species found for surveyId: 1644403\n",
      "No species found for surveyId: 1703156\n",
      "No species found for surveyId: 1708077\n",
      "No species found for surveyId: 1726611\n",
      "No species found for surveyId: 1745501\n",
      "No species found for surveyId: 1773372\n"
     ]
    },
    {
     "name": "stderr",
     "output_type": "stream",
     "text": [
      " 49%|████▉     | 4361/8892 [00:03<00:03, 1415.34it/s]"
     ]
    },
    {
     "name": "stdout",
     "output_type": "stream",
     "text": [
      "No species found for surveyId: 1804460\n",
      "No species found for surveyId: 1809912\n",
      "No species found for surveyId: 1810751\n",
      "No species found for surveyId: 1861020\n",
      "No species found for surveyId: 1885054\n",
      "No species found for surveyId: 1895205\n",
      "No species found for surveyId: 1896156\n",
      "No species found for surveyId: 1926677\n"
     ]
    },
    {
     "name": "stderr",
     "output_type": "stream",
     "text": [
      " 52%|█████▏    | 4653/8892 [00:03<00:02, 1430.12it/s]"
     ]
    },
    {
     "name": "stdout",
     "output_type": "stream",
     "text": [
      "No species found for surveyId: 1944998\n",
      "No species found for surveyId: 1948917\n",
      "No species found for surveyId: 1983340\n",
      "No species found for surveyId: 2045771\n"
     ]
    },
    {
     "name": "stderr",
     "output_type": "stream",
     "text": [
      " 56%|█████▌    | 4946/8892 [00:03<00:02, 1448.73it/s]"
     ]
    },
    {
     "name": "stdout",
     "output_type": "stream",
     "text": [
      "No species found for surveyId: 2089469\n",
      "No species found for surveyId: 2117412\n",
      "No species found for surveyId: 2158677\n",
      "No species found for surveyId: 2166684\n",
      "No species found for surveyId: 2189206\n"
     ]
    },
    {
     "name": "stderr",
     "output_type": "stream",
     "text": [
      " 59%|█████▉    | 5240/8892 [00:03<00:02, 1445.01it/s]"
     ]
    },
    {
     "name": "stdout",
     "output_type": "stream",
     "text": [
      "No species found for surveyId: 2250539\n",
      "No species found for surveyId: 2259700\n",
      "No species found for surveyId: 2275358\n",
      "No species found for surveyId: 2305705\n",
      "No species found for surveyId: 2367679\n"
     ]
    },
    {
     "name": "stderr",
     "output_type": "stream",
     "text": [
      " 64%|██████▍   | 5683/8892 [00:03<00:02, 1464.58it/s]"
     ]
    },
    {
     "name": "stdout",
     "output_type": "stream",
     "text": [
      "No species found for surveyId: 2425626\n",
      "No species found for surveyId: 2463675\n",
      "No species found for surveyId: 2467890\n",
      "No species found for surveyId: 2470854\n",
      "No species found for surveyId: 2496860\n",
      "No species found for surveyId: 2497140\n",
      "No species found for surveyId: 2506268\n",
      "No species found for surveyId: 2517371\n",
      "No species found for surveyId: 2527847\n"
     ]
    },
    {
     "name": "stderr",
     "output_type": "stream",
     "text": [
      " 69%|██████▉   | 6133/8892 [00:04<00:01, 1462.42it/s]"
     ]
    },
    {
     "name": "stdout",
     "output_type": "stream",
     "text": [
      "No species found for surveyId: 2585877\n",
      "No species found for surveyId: 2630590\n",
      "No species found for surveyId: 2641258\n",
      "No species found for surveyId: 2643368\n",
      "No species found for surveyId: 2654260\n",
      "No species found for surveyId: 2667227\n",
      "No species found for surveyId: 2673761\n"
     ]
    },
    {
     "name": "stderr",
     "output_type": "stream",
     "text": [
      " 72%|███████▏  | 6425/8892 [00:04<00:01, 1440.67it/s]"
     ]
    },
    {
     "name": "stdout",
     "output_type": "stream",
     "text": [
      "No species found for surveyId: 2713272\n",
      "No species found for surveyId: 2729558\n",
      "No species found for surveyId: 2729965\n"
     ]
    },
    {
     "name": "stderr",
     "output_type": "stream",
     "text": [
      " 77%|███████▋  | 6865/8892 [00:04<00:01, 1448.07it/s]"
     ]
    },
    {
     "name": "stdout",
     "output_type": "stream",
     "text": [
      "No species found for surveyId: 2896145\n",
      "No species found for surveyId: 2926475\n",
      "No species found for surveyId: 2931679\n",
      "No species found for surveyId: 2934552\n",
      "No species found for surveyId: 2939121\n",
      "No species found for surveyId: 2969942\n",
      "No species found for surveyId: 2990607\n",
      "No species found for surveyId: 3028015\n"
     ]
    },
    {
     "name": "stderr",
     "output_type": "stream",
     "text": [
      " 81%|████████  | 7164/8892 [00:04<00:01, 1472.09it/s]"
     ]
    },
    {
     "name": "stdout",
     "output_type": "stream",
     "text": [
      "No species found for surveyId: 3036794\n",
      "No species found for surveyId: 3037670\n",
      "No species found for surveyId: 3042071\n",
      "No species found for surveyId: 3051691\n",
      "No species found for surveyId: 3059468\n",
      "No species found for surveyId: 3063820\n",
      "No species found for surveyId: 3075593\n",
      "No species found for surveyId: 3077240\n",
      "No species found for surveyId: 3089408\n",
      "No species found for surveyId: 3101281\n",
      "No species found for surveyId: 3127573\n"
     ]
    },
    {
     "name": "stderr",
     "output_type": "stream",
     "text": [
      " 84%|████████▍ | 7458/8892 [00:05<00:00, 1437.10it/s]"
     ]
    },
    {
     "name": "stdout",
     "output_type": "stream",
     "text": [
      "No species found for surveyId: 3198443\n",
      "No species found for surveyId: 3204245\n",
      "No species found for surveyId: 3208363\n",
      "No species found for surveyId: 3217167\n",
      "No species found for surveyId: 3230316\n",
      "No species found for surveyId: 3293413\n"
     ]
    },
    {
     "name": "stderr",
     "output_type": "stream",
     "text": [
      " 89%|████████▊ | 7888/8892 [00:05<00:00, 1384.47it/s]"
     ]
    },
    {
     "name": "stdout",
     "output_type": "stream",
     "text": [
      "No species found for surveyId: 3370256\n",
      "No species found for surveyId: 3371790\n",
      "No species found for surveyId: 3434471\n",
      "No species found for surveyId: 3445790\n",
      "No species found for surveyId: 3462982\n",
      "No species found for surveyId: 3470788\n"
     ]
    },
    {
     "name": "stderr",
     "output_type": "stream",
     "text": [
      " 94%|█████████▎| 8332/8892 [00:05<00:00, 1449.61it/s]"
     ]
    },
    {
     "name": "stdout",
     "output_type": "stream",
     "text": [
      "No species found for surveyId: 3583662\n",
      "No species found for surveyId: 3584106\n",
      "No species found for surveyId: 3605493\n",
      "No species found for surveyId: 3624224\n",
      "No species found for surveyId: 3720791\n",
      "No species found for surveyId: 3721722\n"
     ]
    },
    {
     "name": "stderr",
     "output_type": "stream",
     "text": [
      " 99%|█████████▊| 8773/8892 [00:06<00:00, 1442.61it/s]"
     ]
    },
    {
     "name": "stdout",
     "output_type": "stream",
     "text": [
      "No species found for surveyId: 3755139\n",
      "No species found for surveyId: 3808998\n",
      "No species found for surveyId: 3819929\n",
      "No species found for surveyId: 3847472\n"
     ]
    },
    {
     "name": "stderr",
     "output_type": "stream",
     "text": [
      "100%|██████████| 8892/8892 [00:06<00:00, 1432.37it/s]\n"
     ]
    },
    {
     "name": "stdout",
     "output_type": "stream",
     "text": [
      "No species found for surveyId: 3894839\n",
      "Predictions done. No species found: 137/8892.\n"
     ]
    },
    {
     "name": "stderr",
     "output_type": "stream",
     "text": [
      "  3%|▎         | 297/8892 [00:00<00:05, 1483.39it/s]"
     ]
    },
    {
     "name": "stdout",
     "output_type": "stream",
     "text": [
      "No species found for surveyId: 3097\n",
      "No species found for surveyId: 11260\n",
      "No species found for surveyId: 29826\n",
      "No species found for surveyId: 48170\n",
      "No species found for surveyId: 72970\n"
     ]
    },
    {
     "name": "stderr",
     "output_type": "stream",
     "text": [
      "  7%|▋         | 594/8892 [00:00<00:05, 1469.44it/s]"
     ]
    },
    {
     "name": "stdout",
     "output_type": "stream",
     "text": [
      "No species found for surveyId: 169143\n",
      "No species found for surveyId: 204710\n",
      "No species found for surveyId: 207047\n",
      "No species found for surveyId: 207358\n",
      "No species found for surveyId: 221556\n",
      "No species found for surveyId: 236244\n",
      "No species found for surveyId: 252573\n"
     ]
    },
    {
     "name": "stderr",
     "output_type": "stream",
     "text": [
      " 12%|█▏        | 1033/8892 [00:00<00:05, 1442.13it/s]"
     ]
    },
    {
     "name": "stdout",
     "output_type": "stream",
     "text": [
      "No species found for surveyId: 390699\n",
      "No species found for surveyId: 455005\n"
     ]
    },
    {
     "name": "stderr",
     "output_type": "stream",
     "text": [
      " 17%|█▋        | 1479/8892 [00:01<00:05, 1451.03it/s]"
     ]
    },
    {
     "name": "stdout",
     "output_type": "stream",
     "text": [
      "No species found for surveyId: 513869\n",
      "No species found for surveyId: 522260\n",
      "No species found for surveyId: 534650\n",
      "No species found for surveyId: 547062\n",
      "No species found for surveyId: 623026\n",
      "No species found for surveyId: 629043\n",
      "No species found for surveyId: 633054\n"
     ]
    },
    {
     "name": "stderr",
     "output_type": "stream",
     "text": [
      " 20%|█▉        | 1770/8892 [00:01<00:04, 1439.35it/s]"
     ]
    },
    {
     "name": "stdout",
     "output_type": "stream",
     "text": [
      "No species found for surveyId: 678058\n",
      "No species found for surveyId: 700959\n",
      "No species found for surveyId: 708353\n",
      "No species found for surveyId: 715880\n",
      "No species found for surveyId: 722429\n",
      "No species found for surveyId: 724208\n",
      "No species found for surveyId: 732799\n"
     ]
    },
    {
     "name": "stderr",
     "output_type": "stream",
     "text": [
      " 25%|██▍       | 2205/8892 [00:01<00:04, 1422.98it/s]"
     ]
    },
    {
     "name": "stdout",
     "output_type": "stream",
     "text": [
      "No species found for surveyId: 880303\n",
      "No species found for surveyId: 882970\n",
      "No species found for surveyId: 893006\n",
      "No species found for surveyId: 982201\n"
     ]
    },
    {
     "name": "stderr",
     "output_type": "stream",
     "text": [
      " 28%|██▊       | 2492/8892 [00:01<00:04, 1358.93it/s]"
     ]
    },
    {
     "name": "stdout",
     "output_type": "stream",
     "text": [
      "No species found for surveyId: 1014046\n",
      "No species found for surveyId: 1109501\n",
      "No species found for surveyId: 1131001\n"
     ]
    },
    {
     "name": "stderr",
     "output_type": "stream",
     "text": [
      " 33%|███▎      | 2921/8892 [00:02<00:04, 1402.12it/s]"
     ]
    },
    {
     "name": "stdout",
     "output_type": "stream",
     "text": [
      "No species found for surveyId: 1168885\n",
      "No species found for surveyId: 1186325\n",
      "No species found for surveyId: 1215524\n",
      "No species found for surveyId: 1239557\n"
     ]
    },
    {
     "name": "stderr",
     "output_type": "stream",
     "text": [
      " 36%|███▌      | 3201/8892 [00:02<00:04, 1385.37it/s]"
     ]
    },
    {
     "name": "stdout",
     "output_type": "stream",
     "text": [
      "No species found for surveyId: 1305951\n",
      "No species found for surveyId: 1365261\n",
      "No species found for surveyId: 1408094\n",
      "No species found for surveyId: 1419423\n"
     ]
    },
    {
     "name": "stderr",
     "output_type": "stream",
     "text": [
      " 41%|████      | 3638/8892 [00:02<00:03, 1428.10it/s]"
     ]
    },
    {
     "name": "stdout",
     "output_type": "stream",
     "text": [
      "No species found for surveyId: 1471451\n",
      "No species found for surveyId: 1491916\n",
      "No species found for surveyId: 1564358\n",
      "No species found for surveyId: 1589018\n",
      "No species found for surveyId: 1590220\n"
     ]
    },
    {
     "name": "stderr",
     "output_type": "stream",
     "text": [
      " 44%|████▍     | 3929/8892 [00:02<00:03, 1434.59it/s]"
     ]
    },
    {
     "name": "stdout",
     "output_type": "stream",
     "text": [
      "No species found for surveyId: 1644403\n",
      "No species found for surveyId: 1703156\n",
      "No species found for surveyId: 1708077\n",
      "No species found for surveyId: 1726611\n",
      "No species found for surveyId: 1745501\n",
      "No species found for surveyId: 1773372\n"
     ]
    },
    {
     "name": "stderr",
     "output_type": "stream",
     "text": [
      " 49%|████▉     | 4367/8892 [00:03<00:03, 1441.98it/s]"
     ]
    },
    {
     "name": "stdout",
     "output_type": "stream",
     "text": [
      "No species found for surveyId: 1804460\n",
      "No species found for surveyId: 1809912\n",
      "No species found for surveyId: 1810751\n",
      "No species found for surveyId: 1861020\n",
      "No species found for surveyId: 1885054\n",
      "No species found for surveyId: 1895205\n",
      "No species found for surveyId: 1896156\n",
      "No species found for surveyId: 1926677\n"
     ]
    },
    {
     "name": "stderr",
     "output_type": "stream",
     "text": [
      " 52%|█████▏    | 4661/8892 [00:03<00:02, 1447.69it/s]"
     ]
    },
    {
     "name": "stdout",
     "output_type": "stream",
     "text": [
      "No species found for surveyId: 1944998\n",
      "No species found for surveyId: 1948917\n",
      "No species found for surveyId: 1983340\n",
      "No species found for surveyId: 2045771\n"
     ]
    },
    {
     "name": "stderr",
     "output_type": "stream",
     "text": [
      " 56%|█████▌    | 4956/8892 [00:03<00:02, 1459.59it/s]"
     ]
    },
    {
     "name": "stdout",
     "output_type": "stream",
     "text": [
      "No species found for surveyId: 2089469\n",
      "No species found for surveyId: 2117412\n",
      "No species found for surveyId: 2158677\n",
      "No species found for surveyId: 2166684\n",
      "No species found for surveyId: 2189206\n"
     ]
    },
    {
     "name": "stderr",
     "output_type": "stream",
     "text": [
      " 59%|█████▉    | 5251/8892 [00:03<00:02, 1454.37it/s]"
     ]
    },
    {
     "name": "stdout",
     "output_type": "stream",
     "text": [
      "No species found for surveyId: 2250539\n",
      "No species found for surveyId: 2259700\n",
      "No species found for surveyId: 2275358\n",
      "No species found for surveyId: 2305705\n",
      "No species found for surveyId: 2367679\n"
     ]
    },
    {
     "name": "stderr",
     "output_type": "stream",
     "text": [
      " 64%|██████▍   | 5701/8892 [00:03<00:02, 1482.35it/s]"
     ]
    },
    {
     "name": "stdout",
     "output_type": "stream",
     "text": [
      "No species found for surveyId: 2425626\n",
      "No species found for surveyId: 2463675\n",
      "No species found for surveyId: 2467890\n",
      "No species found for surveyId: 2470854\n",
      "No species found for surveyId: 2496860\n",
      "No species found for surveyId: 2497140\n",
      "No species found for surveyId: 2506268\n",
      "No species found for surveyId: 2517371\n",
      "No species found for surveyId: 2527847\n"
     ]
    },
    {
     "name": "stderr",
     "output_type": "stream",
     "text": [
      " 69%|██████▉   | 6142/8892 [00:04<00:01, 1403.08it/s]"
     ]
    },
    {
     "name": "stdout",
     "output_type": "stream",
     "text": [
      "No species found for surveyId: 2585877\n",
      "No species found for surveyId: 2630590\n",
      "No species found for surveyId: 2641258\n",
      "No species found for surveyId: 2643368\n",
      "No species found for surveyId: 2654260\n",
      "No species found for surveyId: 2667227\n",
      "No species found for surveyId: 2673761\n"
     ]
    },
    {
     "name": "stderr",
     "output_type": "stream",
     "text": [
      " 72%|███████▏  | 6434/8892 [00:04<00:01, 1429.36it/s]"
     ]
    },
    {
     "name": "stdout",
     "output_type": "stream",
     "text": [
      "No species found for surveyId: 2713272\n",
      "No species found for surveyId: 2729558\n",
      "No species found for surveyId: 2729965\n"
     ]
    },
    {
     "name": "stderr",
     "output_type": "stream",
     "text": [
      " 77%|███████▋  | 6869/8892 [00:04<00:01, 1428.57it/s]"
     ]
    },
    {
     "name": "stdout",
     "output_type": "stream",
     "text": [
      "No species found for surveyId: 2896145\n",
      "No species found for surveyId: 2926475\n",
      "No species found for surveyId: 2931679\n",
      "No species found for surveyId: 2934552\n",
      "No species found for surveyId: 2939121\n",
      "No species found for surveyId: 2969942\n",
      "No species found for surveyId: 2990607\n",
      "No species found for surveyId: 3028015\n",
      "No species found for surveyId: 3036794\n",
      "No species found for surveyId: 3037670\n"
     ]
    },
    {
     "name": "stderr",
     "output_type": "stream",
     "text": [
      " 81%|████████  | 7162/8892 [00:05<00:01, 1442.95it/s]"
     ]
    },
    {
     "name": "stdout",
     "output_type": "stream",
     "text": [
      "No species found for surveyId: 3042071\n",
      "No species found for surveyId: 3051691\n",
      "No species found for surveyId: 3059468\n",
      "No species found for surveyId: 3063820\n",
      "No species found for surveyId: 3075593\n",
      "No species found for surveyId: 3077240\n",
      "No species found for surveyId: 3089408\n",
      "No species found for surveyId: 3101281\n",
      "No species found for surveyId: 3127573\n"
     ]
    },
    {
     "name": "stderr",
     "output_type": "stream",
     "text": [
      " 85%|████████▌ | 7597/8892 [00:05<00:00, 1438.20it/s]"
     ]
    },
    {
     "name": "stdout",
     "output_type": "stream",
     "text": [
      "No species found for surveyId: 3198443\n",
      "No species found for surveyId: 3204245\n",
      "No species found for surveyId: 3208363\n",
      "No species found for surveyId: 3217167\n",
      "No species found for surveyId: 3230316\n",
      "No species found for surveyId: 3293413\n"
     ]
    },
    {
     "name": "stderr",
     "output_type": "stream",
     "text": [
      " 89%|████████▊ | 7885/8892 [00:05<00:00, 1422.32it/s]"
     ]
    },
    {
     "name": "stdout",
     "output_type": "stream",
     "text": [
      "No species found for surveyId: 3370256\n",
      "No species found for surveyId: 3371790\n",
      "No species found for surveyId: 3434471\n",
      "No species found for surveyId: 3445790\n",
      "No species found for surveyId: 3462982\n",
      "No species found for surveyId: 3470788\n"
     ]
    },
    {
     "name": "stderr",
     "output_type": "stream",
     "text": [
      " 95%|█████████▌| 8473/8892 [00:05<00:00, 1452.86it/s]"
     ]
    },
    {
     "name": "stdout",
     "output_type": "stream",
     "text": [
      "No species found for surveyId: 3583662\n",
      "No species found for surveyId: 3584106\n",
      "No species found for surveyId: 3605493\n",
      "No species found for surveyId: 3624224\n",
      "No species found for surveyId: 3720791\n",
      "No species found for surveyId: 3721722\n"
     ]
    },
    {
     "name": "stderr",
     "output_type": "stream",
     "text": [
      " 99%|█████████▊| 8764/8892 [00:06<00:00, 1440.49it/s]"
     ]
    },
    {
     "name": "stdout",
     "output_type": "stream",
     "text": [
      "No species found for surveyId: 3755139\n",
      "No species found for surveyId: 3808998\n",
      "No species found for surveyId: 3819929\n",
      "No species found for surveyId: 3847472\n"
     ]
    },
    {
     "name": "stderr",
     "output_type": "stream",
     "text": [
      "100%|██████████| 8892/8892 [00:06<00:00, 1432.31it/s]\n"
     ]
    },
    {
     "name": "stdout",
     "output_type": "stream",
     "text": [
      "No species found for surveyId: 3894839\n",
      "Predictions done. No species found: 137/8892.\n"
     ]
    },
    {
     "name": "stderr",
     "output_type": "stream",
     "text": [
      "  3%|▎         | 296/8892 [00:00<00:05, 1479.70it/s]"
     ]
    },
    {
     "name": "stdout",
     "output_type": "stream",
     "text": [
      "No species found for surveyId: 3097\n",
      "No species found for surveyId: 11260\n",
      "No species found for surveyId: 29826\n",
      "No species found for surveyId: 48170\n",
      "No species found for surveyId: 72970\n"
     ]
    },
    {
     "name": "stderr",
     "output_type": "stream",
     "text": [
      "  7%|▋         | 592/8892 [00:00<00:05, 1411.60it/s]"
     ]
    },
    {
     "name": "stdout",
     "output_type": "stream",
     "text": [
      "No species found for surveyId: 169143\n",
      "No species found for surveyId: 204710\n",
      "No species found for surveyId: 207047\n",
      "No species found for surveyId: 207358\n",
      "No species found for surveyId: 221556\n",
      "No species found for surveyId: 236244\n",
      "No species found for surveyId: 252573\n"
     ]
    },
    {
     "name": "stderr",
     "output_type": "stream",
     "text": [
      " 11%|█▏        | 1021/8892 [00:00<00:05, 1407.44it/s]"
     ]
    },
    {
     "name": "stdout",
     "output_type": "stream",
     "text": [
      "No species found for surveyId: 390699\n",
      "No species found for surveyId: 455005\n"
     ]
    },
    {
     "name": "stderr",
     "output_type": "stream",
     "text": [
      " 17%|█▋        | 1470/8892 [00:01<00:05, 1439.56it/s]"
     ]
    },
    {
     "name": "stdout",
     "output_type": "stream",
     "text": [
      "No species found for surveyId: 513869\n",
      "No species found for surveyId: 522260\n",
      "No species found for surveyId: 534650\n",
      "No species found for surveyId: 547062\n",
      "No species found for surveyId: 623026\n",
      "No species found for surveyId: 629043\n",
      "No species found for surveyId: 633054\n"
     ]
    },
    {
     "name": "stderr",
     "output_type": "stream",
     "text": [
      " 20%|█▉        | 1758/8892 [00:01<00:05, 1414.32it/s]"
     ]
    },
    {
     "name": "stdout",
     "output_type": "stream",
     "text": [
      "No species found for surveyId: 678058\n",
      "No species found for surveyId: 700959\n",
      "No species found for surveyId: 708353\n",
      "No species found for surveyId: 715880\n",
      "No species found for surveyId: 722429\n",
      "No species found for surveyId: 724208\n",
      "No species found for surveyId: 732799\n"
     ]
    },
    {
     "name": "stderr",
     "output_type": "stream",
     "text": [
      " 25%|██▍       | 2189/8892 [00:01<00:04, 1408.78it/s]"
     ]
    },
    {
     "name": "stdout",
     "output_type": "stream",
     "text": [
      "No species found for surveyId: 880303\n",
      "No species found for surveyId: 882970\n",
      "No species found for surveyId: 893006\n",
      "No species found for surveyId: 982201\n"
     ]
    },
    {
     "name": "stderr",
     "output_type": "stream",
     "text": [
      " 28%|██▊       | 2471/8892 [00:01<00:04, 1371.90it/s]"
     ]
    },
    {
     "name": "stdout",
     "output_type": "stream",
     "text": [
      "No species found for surveyId: 1014046\n",
      "No species found for surveyId: 1109501\n",
      "No species found for surveyId: 1131001\n"
     ]
    },
    {
     "name": "stderr",
     "output_type": "stream",
     "text": [
      " 33%|███▎      | 2900/8892 [00:02<00:04, 1402.41it/s]"
     ]
    },
    {
     "name": "stdout",
     "output_type": "stream",
     "text": [
      "No species found for surveyId: 1168885\n",
      "No species found for surveyId: 1186325\n",
      "No species found for surveyId: 1215524\n",
      "No species found for surveyId: 1239557\n"
     ]
    },
    {
     "name": "stderr",
     "output_type": "stream",
     "text": [
      " 36%|███▌      | 3181/8892 [00:02<00:04, 1383.15it/s]"
     ]
    },
    {
     "name": "stdout",
     "output_type": "stream",
     "text": [
      "No species found for surveyId: 1305951\n",
      "No species found for surveyId: 1365261\n",
      "No species found for surveyId: 1408094\n",
      "No species found for surveyId: 1419423\n"
     ]
    },
    {
     "name": "stderr",
     "output_type": "stream",
     "text": [
      " 41%|████      | 3624/8892 [00:02<00:03, 1441.85it/s]"
     ]
    },
    {
     "name": "stdout",
     "output_type": "stream",
     "text": [
      "No species found for surveyId: 1471451\n",
      "No species found for surveyId: 1491916\n",
      "No species found for surveyId: 1564358\n",
      "No species found for surveyId: 1589018\n",
      "No species found for surveyId: 1590220\n"
     ]
    },
    {
     "name": "stderr",
     "output_type": "stream",
     "text": [
      " 44%|████▍     | 3913/8892 [00:02<00:03, 1426.38it/s]"
     ]
    },
    {
     "name": "stdout",
     "output_type": "stream",
     "text": [
      "No species found for surveyId: 1644403\n",
      "No species found for surveyId: 1703156\n",
      "No species found for surveyId: 1708077\n",
      "No species found for surveyId: 1726611\n",
      "No species found for surveyId: 1745501\n",
      "No species found for surveyId: 1773372\n"
     ]
    },
    {
     "name": "stderr",
     "output_type": "stream",
     "text": [
      " 49%|████▉     | 4350/8892 [00:03<00:03, 1401.92it/s]"
     ]
    },
    {
     "name": "stdout",
     "output_type": "stream",
     "text": [
      "No species found for surveyId: 1804460\n",
      "No species found for surveyId: 1809912\n",
      "No species found for surveyId: 1810751\n",
      "No species found for surveyId: 1861020\n",
      "No species found for surveyId: 1885054\n",
      "No species found for surveyId: 1895205\n",
      "No species found for surveyId: 1896156\n",
      "No species found for surveyId: 1926677\n"
     ]
    },
    {
     "name": "stderr",
     "output_type": "stream",
     "text": [
      " 52%|█████▏    | 4641/8892 [00:03<00:03, 1412.25it/s]"
     ]
    },
    {
     "name": "stdout",
     "output_type": "stream",
     "text": [
      "No species found for surveyId: 1944998\n",
      "No species found for surveyId: 1948917\n",
      "No species found for surveyId: 1983340\n",
      "No species found for surveyId: 2045771\n"
     ]
    },
    {
     "name": "stderr",
     "output_type": "stream",
     "text": [
      " 56%|█████▌    | 4936/8892 [00:03<00:02, 1439.25it/s]"
     ]
    },
    {
     "name": "stdout",
     "output_type": "stream",
     "text": [
      "No species found for surveyId: 2089469\n",
      "No species found for surveyId: 2117412\n",
      "No species found for surveyId: 2158677\n",
      "No species found for surveyId: 2166684\n",
      "No species found for surveyId: 2189206\n"
     ]
    },
    {
     "name": "stderr",
     "output_type": "stream",
     "text": [
      " 60%|██████    | 5370/8892 [00:03<00:02, 1421.72it/s]"
     ]
    },
    {
     "name": "stdout",
     "output_type": "stream",
     "text": [
      "No species found for surveyId: 2250539\n",
      "No species found for surveyId: 2259700\n",
      "No species found for surveyId: 2275358\n",
      "No species found for surveyId: 2305705\n",
      "No species found for surveyId: 2367679\n"
     ]
    },
    {
     "name": "stderr",
     "output_type": "stream",
     "text": [
      " 64%|██████▍   | 5671/8892 [00:03<00:02, 1462.72it/s]"
     ]
    },
    {
     "name": "stdout",
     "output_type": "stream",
     "text": [
      "No species found for surveyId: 2425626\n",
      "No species found for surveyId: 2463675\n",
      "No species found for surveyId: 2467890\n",
      "No species found for surveyId: 2470854\n",
      "No species found for surveyId: 2496860\n",
      "No species found for surveyId: 2497140\n",
      "No species found for surveyId: 2506268\n",
      "No species found for surveyId: 2517371\n",
      "No species found for surveyId: 2527847\n"
     ]
    },
    {
     "name": "stderr",
     "output_type": "stream",
     "text": [
      " 69%|██████▉   | 6122/8892 [00:04<00:01, 1469.32it/s]"
     ]
    },
    {
     "name": "stdout",
     "output_type": "stream",
     "text": [
      "No species found for surveyId: 2585877\n",
      "No species found for surveyId: 2630590\n",
      "No species found for surveyId: 2641258\n",
      "No species found for surveyId: 2643368\n",
      "No species found for surveyId: 2654260\n",
      "No species found for surveyId: 2667227\n",
      "No species found for surveyId: 2673761\n"
     ]
    },
    {
     "name": "stderr",
     "output_type": "stream",
     "text": [
      " 72%|███████▏  | 6417/8892 [00:04<00:01, 1464.69it/s]"
     ]
    },
    {
     "name": "stdout",
     "output_type": "stream",
     "text": [
      "No species found for surveyId: 2713272\n",
      "No species found for surveyId: 2729558\n",
      "No species found for surveyId: 2729965\n"
     ]
    },
    {
     "name": "stderr",
     "output_type": "stream",
     "text": [
      " 77%|███████▋  | 6858/8892 [00:04<00:01, 1441.16it/s]"
     ]
    },
    {
     "name": "stdout",
     "output_type": "stream",
     "text": [
      "No species found for surveyId: 2896145\n",
      "No species found for surveyId: 2926475\n",
      "No species found for surveyId: 2931679\n",
      "No species found for surveyId: 2934552\n",
      "No species found for surveyId: 2939121\n",
      "No species found for surveyId: 2969942\n",
      "No species found for surveyId: 2990607\n",
      "No species found for surveyId: 3028015\n",
      "No species found for surveyId: 3036794\n",
      "No species found for surveyId: 3037670\n"
     ]
    },
    {
     "name": "stderr",
     "output_type": "stream",
     "text": [
      " 80%|████████  | 7153/8892 [00:05<00:01, 1453.83it/s]"
     ]
    },
    {
     "name": "stdout",
     "output_type": "stream",
     "text": [
      "No species found for surveyId: 3042071\n",
      "No species found for surveyId: 3051691\n",
      "No species found for surveyId: 3059468\n",
      "No species found for surveyId: 3063820\n",
      "No species found for surveyId: 3075593\n",
      "No species found for surveyId: 3077240\n",
      "No species found for surveyId: 3089408\n",
      "No species found for surveyId: 3101281\n",
      "No species found for surveyId: 3127573\n"
     ]
    },
    {
     "name": "stderr",
     "output_type": "stream",
     "text": [
      " 85%|████████▌ | 7592/8892 [00:05<00:00, 1442.64it/s]"
     ]
    },
    {
     "name": "stdout",
     "output_type": "stream",
     "text": [
      "No species found for surveyId: 3198443\n",
      "No species found for surveyId: 3204245\n",
      "No species found for surveyId: 3208363\n",
      "No species found for surveyId: 3217167\n",
      "No species found for surveyId: 3230316\n",
      "No species found for surveyId: 3293413\n"
     ]
    },
    {
     "name": "stderr",
     "output_type": "stream",
     "text": [
      " 89%|████████▊ | 7877/8892 [00:05<00:00, 1381.03it/s]"
     ]
    },
    {
     "name": "stdout",
     "output_type": "stream",
     "text": [
      "No species found for surveyId: 3370256\n",
      "No species found for surveyId: 3371790\n",
      "No species found for surveyId: 3434471\n",
      "No species found for surveyId: 3445790\n",
      "No species found for surveyId: 3462982\n",
      "No species found for surveyId: 3470788\n"
     ]
    },
    {
     "name": "stderr",
     "output_type": "stream",
     "text": [
      " 95%|█████████▌| 8466/8892 [00:05<00:00, 1451.82it/s]"
     ]
    },
    {
     "name": "stdout",
     "output_type": "stream",
     "text": [
      "No species found for surveyId: 3583662\n",
      "No species found for surveyId: 3584106\n",
      "No species found for surveyId: 3605493\n",
      "No species found for surveyId: 3624224\n",
      "No species found for surveyId: 3720791\n",
      "No species found for surveyId: 3721722\n"
     ]
    },
    {
     "name": "stderr",
     "output_type": "stream",
     "text": [
      " 98%|█████████▊| 8758/8892 [00:06<00:00, 1435.55it/s]"
     ]
    },
    {
     "name": "stdout",
     "output_type": "stream",
     "text": [
      "No species found for surveyId: 3755139\n",
      "No species found for surveyId: 3808998\n",
      "No species found for surveyId: 3819929\n",
      "No species found for surveyId: 3847472\n"
     ]
    },
    {
     "name": "stderr",
     "output_type": "stream",
     "text": [
      "100%|██████████| 8892/8892 [00:06<00:00, 1423.20it/s]\n"
     ]
    },
    {
     "name": "stdout",
     "output_type": "stream",
     "text": [
      "No species found for surveyId: 3894839\n",
      "Predictions done. No species found: 137/8892.\n"
     ]
    },
    {
     "name": "stderr",
     "output_type": "stream",
     "text": [
      "  3%|▎         | 297/8892 [00:00<00:05, 1485.66it/s]"
     ]
    },
    {
     "name": "stdout",
     "output_type": "stream",
     "text": [
      "No species found for surveyId: 3097\n",
      "No species found for surveyId: 11260\n",
      "No species found for surveyId: 29826\n",
      "No species found for surveyId: 48170\n",
      "No species found for surveyId: 72970\n"
     ]
    },
    {
     "name": "stderr",
     "output_type": "stream",
     "text": [
      "  7%|▋         | 594/8892 [00:00<00:05, 1463.72it/s]"
     ]
    },
    {
     "name": "stdout",
     "output_type": "stream",
     "text": [
      "No species found for surveyId: 169143\n",
      "No species found for surveyId: 204710\n",
      "No species found for surveyId: 207047\n",
      "No species found for surveyId: 207358\n",
      "No species found for surveyId: 221556\n",
      "No species found for surveyId: 236244\n",
      "No species found for surveyId: 252573\n"
     ]
    },
    {
     "name": "stderr",
     "output_type": "stream",
     "text": [
      " 12%|█▏        | 1031/8892 [00:00<00:05, 1432.04it/s]"
     ]
    },
    {
     "name": "stdout",
     "output_type": "stream",
     "text": [
      "No species found for surveyId: 390699\n",
      "No species found for surveyId: 455005\n"
     ]
    },
    {
     "name": "stderr",
     "output_type": "stream",
     "text": [
      " 15%|█▍        | 1329/8892 [00:00<00:05, 1457.27it/s]"
     ]
    },
    {
     "name": "stdout",
     "output_type": "stream",
     "text": [
      "No species found for surveyId: 513869\n",
      "No species found for surveyId: 522260\n",
      "No species found for surveyId: 534650\n",
      "No species found for surveyId: 547062\n",
      "No species found for surveyId: 623026\n",
      "No species found for surveyId: 629043\n",
      "No species found for surveyId: 633054\n"
     ]
    },
    {
     "name": "stderr",
     "output_type": "stream",
     "text": [
      " 20%|█▉        | 1768/8892 [00:01<00:04, 1458.21it/s]"
     ]
    },
    {
     "name": "stdout",
     "output_type": "stream",
     "text": [
      "No species found for surveyId: 678058\n",
      "No species found for surveyId: 700959\n",
      "No species found for surveyId: 708353\n",
      "No species found for surveyId: 715880\n",
      "No species found for surveyId: 722429\n",
      "No species found for surveyId: 724208\n",
      "No species found for surveyId: 732799\n"
     ]
    },
    {
     "name": "stderr",
     "output_type": "stream",
     "text": [
      " 25%|██▍       | 2206/8892 [00:01<00:04, 1444.27it/s]"
     ]
    },
    {
     "name": "stdout",
     "output_type": "stream",
     "text": [
      "No species found for surveyId: 880303\n",
      "No species found for surveyId: 882970\n",
      "No species found for surveyId: 893006\n",
      "No species found for surveyId: 982201\n",
      "No species found for surveyId: 1014046\n"
     ]
    },
    {
     "name": "stderr",
     "output_type": "stream",
     "text": [
      " 31%|███▏      | 2796/8892 [00:01<00:04, 1410.08it/s]"
     ]
    },
    {
     "name": "stdout",
     "output_type": "stream",
     "text": [
      "No species found for surveyId: 1109501\n",
      "No species found for surveyId: 1131001\n",
      "No species found for surveyId: 1168885\n",
      "No species found for surveyId: 1186325\n",
      "No species found for surveyId: 1215524\n",
      "No species found for surveyId: 1239557\n"
     ]
    },
    {
     "name": "stderr",
     "output_type": "stream",
     "text": [
      " 36%|███▌      | 3223/8892 [00:02<00:04, 1399.25it/s]"
     ]
    },
    {
     "name": "stdout",
     "output_type": "stream",
     "text": [
      "No species found for surveyId: 1305951\n",
      "No species found for surveyId: 1365261\n",
      "No species found for surveyId: 1408094\n",
      "No species found for surveyId: 1419423\n"
     ]
    },
    {
     "name": "stderr",
     "output_type": "stream",
     "text": [
      " 40%|███▉      | 3523/8892 [00:02<00:03, 1446.41it/s]"
     ]
    },
    {
     "name": "stdout",
     "output_type": "stream",
     "text": [
      "No species found for surveyId: 1471451\n",
      "No species found for surveyId: 1491916\n",
      "No species found for surveyId: 1564358\n",
      "No species found for surveyId: 1589018\n",
      "No species found for surveyId: 1590220\n"
     ]
    },
    {
     "name": "stderr",
     "output_type": "stream",
     "text": [
      " 45%|████▍     | 3978/8892 [00:02<00:03, 1458.33it/s]"
     ]
    },
    {
     "name": "stdout",
     "output_type": "stream",
     "text": [
      "No species found for surveyId: 1644403\n",
      "No species found for surveyId: 1703156\n",
      "No species found for surveyId: 1708077\n",
      "No species found for surveyId: 1726611\n",
      "No species found for surveyId: 1745501\n",
      "No species found for surveyId: 1773372\n"
     ]
    },
    {
     "name": "stderr",
     "output_type": "stream",
     "text": [
      " 48%|████▊     | 4266/8892 [00:02<00:03, 1373.43it/s]"
     ]
    },
    {
     "name": "stdout",
     "output_type": "stream",
     "text": [
      "No species found for surveyId: 1804460\n",
      "No species found for surveyId: 1809912\n",
      "No species found for surveyId: 1810751\n",
      "No species found for surveyId: 1861020\n",
      "No species found for surveyId: 1885054\n",
      "No species found for surveyId: 1895205\n",
      "No species found for surveyId: 1896156\n",
      "No species found for surveyId: 1926677\n"
     ]
    },
    {
     "name": "stderr",
     "output_type": "stream",
     "text": [
      " 51%|█████     | 4547/8892 [00:03<00:03, 1378.08it/s]"
     ]
    },
    {
     "name": "stdout",
     "output_type": "stream",
     "text": [
      "No species found for surveyId: 1944998\n",
      "No species found for surveyId: 1948917\n",
      "No species found for surveyId: 1983340\n",
      "No species found for surveyId: 2045771\n"
     ]
    },
    {
     "name": "stderr",
     "output_type": "stream",
     "text": [
      " 56%|█████▌    | 4992/8892 [00:03<00:02, 1452.79it/s]"
     ]
    },
    {
     "name": "stdout",
     "output_type": "stream",
     "text": [
      "No species found for surveyId: 2089469\n",
      "No species found for surveyId: 2117412\n",
      "No species found for surveyId: 2158677\n",
      "No species found for surveyId: 2166684\n",
      "No species found for surveyId: 2189206\n"
     ]
    },
    {
     "name": "stderr",
     "output_type": "stream",
     "text": [
      " 59%|█████▉    | 5286/8892 [00:03<00:02, 1457.76it/s]"
     ]
    },
    {
     "name": "stdout",
     "output_type": "stream",
     "text": [
      "No species found for surveyId: 2250539\n",
      "No species found for surveyId: 2259700\n",
      "No species found for surveyId: 2275358\n",
      "No species found for surveyId: 2305705\n",
      "No species found for surveyId: 2367679\n"
     ]
    },
    {
     "name": "stderr",
     "output_type": "stream",
     "text": [
      " 65%|██████▍   | 5754/8892 [00:03<00:02, 1528.23it/s]"
     ]
    },
    {
     "name": "stdout",
     "output_type": "stream",
     "text": [
      "No species found for surveyId: 2425626\n",
      "No species found for surveyId: 2463675\n",
      "No species found for surveyId: 2467890\n",
      "No species found for surveyId: 2470854\n",
      "No species found for surveyId: 2496860\n",
      "No species found for surveyId: 2497140\n",
      "No species found for surveyId: 2506268\n",
      "No species found for surveyId: 2517371\n",
      "No species found for surveyId: 2527847\n"
     ]
    },
    {
     "name": "stderr",
     "output_type": "stream",
     "text": [
      " 68%|██████▊   | 6059/8892 [00:04<00:01, 1487.04it/s]"
     ]
    },
    {
     "name": "stdout",
     "output_type": "stream",
     "text": [
      "No species found for surveyId: 2585877\n",
      "No species found for surveyId: 2630590\n",
      "No species found for surveyId: 2641258\n",
      "No species found for surveyId: 2643368\n",
      "No species found for surveyId: 2654260\n",
      "No species found for surveyId: 2667227\n",
      "No species found for surveyId: 2673761\n"
     ]
    },
    {
     "name": "stderr",
     "output_type": "stream",
     "text": [
      " 71%|███████▏  | 6357/8892 [00:04<00:01, 1407.55it/s]"
     ]
    },
    {
     "name": "stdout",
     "output_type": "stream",
     "text": [
      "No species found for surveyId: 2713272\n",
      "No species found for surveyId: 2729558\n",
      "No species found for surveyId: 2729965\n"
     ]
    },
    {
     "name": "stderr",
     "output_type": "stream",
     "text": [
      " 76%|███████▋  | 6789/8892 [00:04<00:01, 1424.10it/s]"
     ]
    },
    {
     "name": "stdout",
     "output_type": "stream",
     "text": [
      "No species found for surveyId: 2896145\n",
      "No species found for surveyId: 2926475\n",
      "No species found for surveyId: 2931679\n",
      "No species found for surveyId: 2934552\n",
      "No species found for surveyId: 2939121\n",
      "No species found for surveyId: 2969942\n",
      "No species found for surveyId: 2990607\n",
      "No species found for surveyId: 3028015\n",
      "No species found for surveyId: 3036794\n",
      "No species found for surveyId: 3037670\n"
     ]
    },
    {
     "name": "stderr",
     "output_type": "stream",
     "text": [
      " 80%|███████▉  | 7091/8892 [00:04<00:01, 1461.31it/s]"
     ]
    },
    {
     "name": "stdout",
     "output_type": "stream",
     "text": [
      "No species found for surveyId: 3042071\n",
      "No species found for surveyId: 3051691\n",
      "No species found for surveyId: 3059468\n",
      "No species found for surveyId: 3063820\n",
      "No species found for surveyId: 3075593\n",
      "No species found for surveyId: 3077240\n",
      "No species found for surveyId: 3089408\n",
      "No species found for surveyId: 3101281\n",
      "No species found for surveyId: 3127573\n"
     ]
    },
    {
     "name": "stderr",
     "output_type": "stream",
     "text": [
      " 85%|████████▍ | 7530/8892 [00:05<00:00, 1449.15it/s]"
     ]
    },
    {
     "name": "stdout",
     "output_type": "stream",
     "text": [
      "No species found for surveyId: 3198443\n",
      "No species found for surveyId: 3204245\n",
      "No species found for surveyId: 3208363\n",
      "No species found for surveyId: 3217167\n",
      "No species found for surveyId: 3230316\n",
      "No species found for surveyId: 3293413\n"
     ]
    },
    {
     "name": "stderr",
     "output_type": "stream",
     "text": [
      " 90%|████████▉ | 7961/8892 [00:05<00:00, 1400.11it/s]"
     ]
    },
    {
     "name": "stdout",
     "output_type": "stream",
     "text": [
      "No species found for surveyId: 3370256\n",
      "No species found for surveyId: 3371790\n",
      "No species found for surveyId: 3434471\n",
      "No species found for surveyId: 3445790\n",
      "No species found for surveyId: 3462982\n",
      "No species found for surveyId: 3470788\n"
     ]
    },
    {
     "name": "stderr",
     "output_type": "stream",
     "text": [
      " 94%|█████████▍| 8401/8892 [00:05<00:00, 1443.05it/s]"
     ]
    },
    {
     "name": "stdout",
     "output_type": "stream",
     "text": [
      "No species found for surveyId: 3583662\n",
      "No species found for surveyId: 3584106\n",
      "No species found for surveyId: 3605493\n",
      "No species found for surveyId: 3624224\n",
      "No species found for surveyId: 3720791\n",
      "No species found for surveyId: 3721722\n"
     ]
    },
    {
     "name": "stderr",
     "output_type": "stream",
     "text": [
      " 98%|█████████▊| 8691/8892 [00:06<00:00, 1420.98it/s]"
     ]
    },
    {
     "name": "stdout",
     "output_type": "stream",
     "text": [
      "No species found for surveyId: 3755139\n",
      "No species found for surveyId: 3808998\n",
      "No species found for surveyId: 3819929\n",
      "No species found for surveyId: 3847472\n"
     ]
    },
    {
     "name": "stderr",
     "output_type": "stream",
     "text": [
      "100%|██████████| 8892/8892 [00:06<00:00, 1434.25it/s]\n"
     ]
    },
    {
     "name": "stdout",
     "output_type": "stream",
     "text": [
      "No species found for surveyId: 3894839\n",
      "Predictions done. No species found: 137/8892.\n"
     ]
    },
    {
     "name": "stderr",
     "output_type": "stream",
     "text": [
      "  3%|▎         | 296/8892 [00:00<00:05, 1473.86it/s]"
     ]
    },
    {
     "name": "stdout",
     "output_type": "stream",
     "text": [
      "No species found for surveyId: 3097\n",
      "No species found for surveyId: 4006\n",
      "No species found for surveyId: 11260\n",
      "No species found for surveyId: 29826\n",
      "No species found for surveyId: 41443\n",
      "No species found for surveyId: 48170\n",
      "No species found for surveyId: 72970\n",
      "No species found for surveyId: 76017\n",
      "No species found for surveyId: 84865\n",
      "No species found for surveyId: 124041\n"
     ]
    },
    {
     "name": "stderr",
     "output_type": "stream",
     "text": [
      "  7%|▋         | 589/8892 [00:00<00:05, 1429.11it/s]"
     ]
    },
    {
     "name": "stdout",
     "output_type": "stream",
     "text": [
      "No species found for surveyId: 169143\n",
      "No species found for surveyId: 192770\n",
      "No species found for surveyId: 204710\n",
      "No species found for surveyId: 207047\n",
      "No species found for surveyId: 207358\n",
      "No species found for surveyId: 221556\n",
      "No species found for surveyId: 236244\n",
      "No species found for surveyId: 242898\n",
      "No species found for surveyId: 243614\n",
      "No species found for surveyId: 252573\n",
      "No species found for surveyId: 285529\n",
      "No species found for surveyId: 287494\n"
     ]
    },
    {
     "name": "stderr",
     "output_type": "stream",
     "text": [
      " 10%|▉         | 877/8892 [00:00<00:05, 1416.58it/s]"
     ]
    },
    {
     "name": "stdout",
     "output_type": "stream",
     "text": [
      "No species found for surveyId: 316708\n",
      "No species found for surveyId: 335145\n",
      "No species found for surveyId: 345900\n",
      "No species found for surveyId: 365655\n",
      "No species found for surveyId: 369126\n",
      "No species found for surveyId: 381759\n",
      "No species found for surveyId: 382872\n",
      "No species found for surveyId: 385247\n",
      "No species found for surveyId: 390699\n",
      "No species found for surveyId: 407114\n"
     ]
    },
    {
     "name": "stderr",
     "output_type": "stream",
     "text": [
      " 15%|█▍        | 1322/8892 [00:00<00:05, 1467.07it/s]"
     ]
    },
    {
     "name": "stdout",
     "output_type": "stream",
     "text": [
      "No species found for surveyId: 455005\n",
      "No species found for surveyId: 478623\n",
      "No species found for surveyId: 503266\n",
      "No species found for surveyId: 513869\n",
      "No species found for surveyId: 522260\n",
      "No species found for surveyId: 532446\n",
      "No species found for surveyId: 534650\n",
      "No species found for surveyId: 547062\n"
     ]
    },
    {
     "name": "stderr",
     "output_type": "stream",
     "text": [
      " 18%|█▊        | 1614/8892 [00:01<00:05, 1439.31it/s]"
     ]
    },
    {
     "name": "stdout",
     "output_type": "stream",
     "text": [
      "No species found for surveyId: 599163\n",
      "No species found for surveyId: 623026\n",
      "No species found for surveyId: 629043\n",
      "No species found for surveyId: 633054\n",
      "No species found for surveyId: 675502\n",
      "No species found for surveyId: 678058\n",
      "No species found for surveyId: 700959\n",
      "No species found for surveyId: 704031\n",
      "No species found for surveyId: 708353\n",
      "No species found for surveyId: 715880\n",
      "No species found for surveyId: 722429\n",
      "No species found for surveyId: 724208\n"
     ]
    },
    {
     "name": "stderr",
     "output_type": "stream",
     "text": [
      " 21%|██▏       | 1900/8892 [00:01<00:05, 1377.23it/s]"
     ]
    },
    {
     "name": "stdout",
     "output_type": "stream",
     "text": [
      "No species found for surveyId: 732799\n",
      "No species found for surveyId: 748853\n",
      "No species found for surveyId: 750615\n",
      "No species found for surveyId: 829376\n"
     ]
    },
    {
     "name": "stderr",
     "output_type": "stream",
     "text": [
      " 24%|██▍       | 2176/8892 [00:01<00:04, 1349.78it/s]"
     ]
    },
    {
     "name": "stdout",
     "output_type": "stream",
     "text": [
      "No species found for surveyId: 862593\n",
      "No species found for surveyId: 880303\n",
      "No species found for surveyId: 881195\n",
      "No species found for surveyId: 882970\n",
      "No species found for surveyId: 893006\n",
      "No species found for surveyId: 893737\n",
      "No species found for surveyId: 910121\n",
      "No species found for surveyId: 930552\n",
      "No species found for surveyId: 964079\n",
      "No species found for surveyId: 964789\n"
     ]
    },
    {
     "name": "stderr",
     "output_type": "stream",
     "text": [
      " 27%|██▋       | 2440/8892 [00:01<00:05, 1250.21it/s]"
     ]
    },
    {
     "name": "stdout",
     "output_type": "stream",
     "text": [
      "No species found for surveyId: 975477\n",
      "No species found for surveyId: 982201\n",
      "No species found for surveyId: 1014046\n",
      "No species found for surveyId: 1025952\n",
      "No species found for surveyId: 1030246\n",
      "No species found for surveyId: 1082537\n",
      "No species found for surveyId: 1092301\n"
     ]
    },
    {
     "name": "stderr",
     "output_type": "stream",
     "text": [
      " 31%|███       | 2719/8892 [00:01<00:04, 1323.46it/s]"
     ]
    },
    {
     "name": "stdout",
     "output_type": "stream",
     "text": [
      "No species found for surveyId: 1109501\n",
      "No species found for surveyId: 1128652\n",
      "No species found for surveyId: 1131001\n",
      "No species found for surveyId: 1150392\n",
      "No species found for surveyId: 1152488\n",
      "No species found for surveyId: 1168885\n",
      "No species found for surveyId: 1177659\n",
      "No species found for surveyId: 1186325\n",
      "No species found for surveyId: 1213021\n",
      "No species found for surveyId: 1215524\n",
      "No species found for surveyId: 1220086\n"
     ]
    },
    {
     "name": "stderr",
     "output_type": "stream",
     "text": [
      " 34%|███▍      | 3006/8892 [00:02<00:04, 1359.83it/s]"
     ]
    },
    {
     "name": "stdout",
     "output_type": "stream",
     "text": [
      "No species found for surveyId: 1236920\n",
      "No species found for surveyId: 1239557\n",
      "No species found for surveyId: 1244567\n",
      "No species found for surveyId: 1277973\n",
      "No species found for surveyId: 1299352\n",
      "No species found for surveyId: 1305951\n"
     ]
    },
    {
     "name": "stderr",
     "output_type": "stream",
     "text": [
      " 37%|███▋      | 3284/8892 [00:02<00:04, 1369.99it/s]"
     ]
    },
    {
     "name": "stdout",
     "output_type": "stream",
     "text": [
      "No species found for surveyId: 1346199\n",
      "No species found for surveyId: 1365261\n",
      "No species found for surveyId: 1396969\n",
      "No species found for surveyId: 1408094\n",
      "No species found for surveyId: 1419423\n",
      "No species found for surveyId: 1471451\n",
      "No species found for surveyId: 1476444\n"
     ]
    },
    {
     "name": "stderr",
     "output_type": "stream",
     "text": [
      " 40%|████      | 3575/8892 [00:02<00:03, 1339.16it/s]"
     ]
    },
    {
     "name": "stdout",
     "output_type": "stream",
     "text": [
      "No species found for surveyId: 1491916\n",
      "No species found for surveyId: 1527886\n",
      "No species found for surveyId: 1548184\n",
      "No species found for surveyId: 1564358\n",
      "No species found for surveyId: 1577925\n",
      "No species found for surveyId: 1589018\n",
      "No species found for surveyId: 1590220\n",
      "No species found for surveyId: 1603578\n"
     ]
    },
    {
     "name": "stderr",
     "output_type": "stream",
     "text": [
      " 45%|████▌     | 4012/8892 [00:02<00:03, 1411.27it/s]"
     ]
    },
    {
     "name": "stdout",
     "output_type": "stream",
     "text": [
      "No species found for surveyId: 1644403\n",
      "No species found for surveyId: 1660704\n",
      "No species found for surveyId: 1671859\n",
      "No species found for surveyId: 1673988\n",
      "No species found for surveyId: 1674320\n",
      "No species found for surveyId: 1703156\n",
      "No species found for surveyId: 1708077\n",
      "No species found for surveyId: 1726611\n",
      "No species found for surveyId: 1732478\n",
      "No species found for surveyId: 1745501\n",
      "No species found for surveyId: 1773372\n"
     ]
    },
    {
     "name": "stderr",
     "output_type": "stream",
     "text": [
      " 48%|████▊     | 4299/8892 [00:03<00:03, 1415.49it/s]"
     ]
    },
    {
     "name": "stdout",
     "output_type": "stream",
     "text": [
      "No species found for surveyId: 1794026\n",
      "No species found for surveyId: 1798633\n",
      "No species found for surveyId: 1804460\n",
      "No species found for surveyId: 1809912\n",
      "No species found for surveyId: 1810751\n",
      "No species found for surveyId: 1861020\n",
      "No species found for surveyId: 1867378\n",
      "No species found for surveyId: 1885054\n",
      "No species found for surveyId: 1895205\n",
      "No species found for surveyId: 1896156\n",
      "No species found for surveyId: 1926677\n"
     ]
    },
    {
     "name": "stderr",
     "output_type": "stream",
     "text": [
      " 52%|█████▏    | 4591/8892 [00:03<00:02, 1435.67it/s]"
     ]
    },
    {
     "name": "stdout",
     "output_type": "stream",
     "text": [
      "No species found for surveyId: 1939109\n",
      "No species found for surveyId: 1944998\n",
      "No species found for surveyId: 1945432\n",
      "No species found for surveyId: 1948917\n",
      "No species found for surveyId: 1964667\n",
      "No species found for surveyId: 1983340\n",
      "No species found for surveyId: 2045771\n",
      "No species found for surveyId: 2048099\n",
      "No species found for surveyId: 2064079\n",
      "No species found for surveyId: 2077349\n"
     ]
    },
    {
     "name": "stderr",
     "output_type": "stream",
     "text": [
      " 55%|█████▍    | 4885/8892 [00:03<00:02, 1453.93it/s]"
     ]
    },
    {
     "name": "stdout",
     "output_type": "stream",
     "text": [
      "No species found for surveyId: 2089469\n",
      "No species found for surveyId: 2095452\n",
      "No species found for surveyId: 2117412\n",
      "No species found for surveyId: 2158677\n",
      "No species found for surveyId: 2166684\n",
      "No species found for surveyId: 2176331\n",
      "No species found for surveyId: 2178628\n",
      "No species found for surveyId: 2189206\n",
      "No species found for surveyId: 2193331\n"
     ]
    },
    {
     "name": "stderr",
     "output_type": "stream",
     "text": [
      " 58%|█████▊    | 5182/8892 [00:03<00:02, 1441.72it/s]"
     ]
    },
    {
     "name": "stdout",
     "output_type": "stream",
     "text": [
      "No species found for surveyId: 2219977\n",
      "No species found for surveyId: 2237450\n",
      "No species found for surveyId: 2242415\n",
      "No species found for surveyId: 2250539\n",
      "No species found for surveyId: 2250811\n",
      "No species found for surveyId: 2259700\n",
      "No species found for surveyId: 2275358\n",
      "No species found for surveyId: 2297729\n",
      "No species found for surveyId: 2297860\n",
      "No species found for surveyId: 2305705\n",
      "No species found for surveyId: 2332688\n",
      "No species found for surveyId: 2337984\n"
     ]
    },
    {
     "name": "stderr",
     "output_type": "stream",
     "text": [
      " 63%|██████▎   | 5628/8892 [00:04<00:02, 1473.57it/s]"
     ]
    },
    {
     "name": "stdout",
     "output_type": "stream",
     "text": [
      "No species found for surveyId: 2354201\n",
      "No species found for surveyId: 2367679\n",
      "No species found for surveyId: 2425626\n",
      "No species found for surveyId: 2442433\n",
      "No species found for surveyId: 2444067\n",
      "No species found for surveyId: 2461357\n",
      "No species found for surveyId: 2463675\n",
      "No species found for surveyId: 2467890\n",
      "No species found for surveyId: 2470854\n"
     ]
    },
    {
     "name": "stderr",
     "output_type": "stream",
     "text": [
      " 67%|██████▋   | 5925/8892 [00:04<00:02, 1474.29it/s]"
     ]
    },
    {
     "name": "stdout",
     "output_type": "stream",
     "text": [
      "No species found for surveyId: 2496860\n",
      "No species found for surveyId: 2497140\n",
      "No species found for surveyId: 2506268\n",
      "No species found for surveyId: 2511901\n",
      "No species found for surveyId: 2517371\n",
      "No species found for surveyId: 2527847\n",
      "No species found for surveyId: 2585877\n",
      "No species found for surveyId: 2628334\n",
      "No species found for surveyId: 2630590\n"
     ]
    },
    {
     "name": "stderr",
     "output_type": "stream",
     "text": [
      " 70%|██████▉   | 6219/8892 [00:04<00:01, 1449.24it/s]"
     ]
    },
    {
     "name": "stdout",
     "output_type": "stream",
     "text": [
      "No species found for surveyId: 2641258\n",
      "No species found for surveyId: 2643368\n",
      "No species found for surveyId: 2654260\n",
      "No species found for surveyId: 2667227\n",
      "No species found for surveyId: 2673761\n",
      "No species found for surveyId: 2682455\n",
      "No species found for surveyId: 2693273\n",
      "No species found for surveyId: 2695630\n",
      "No species found for surveyId: 2709082\n",
      "No species found for surveyId: 2713272\n",
      "No species found for surveyId: 2729558\n",
      "No species found for surveyId: 2729965\n",
      "No species found for surveyId: 2760678\n"
     ]
    },
    {
     "name": "stderr",
     "output_type": "stream",
     "text": [
      " 75%|███████▍  | 6660/8892 [00:04<00:01, 1428.90it/s]"
     ]
    },
    {
     "name": "stdout",
     "output_type": "stream",
     "text": [
      "No species found for surveyId: 2809026\n",
      "No species found for surveyId: 2849105\n",
      "No species found for surveyId: 2870348\n",
      "No species found for surveyId: 2883087\n",
      "No species found for surveyId: 2896145\n",
      "No species found for surveyId: 2926475\n",
      "No species found for surveyId: 2928501\n",
      "No species found for surveyId: 2931679\n",
      "No species found for surveyId: 2934552\n"
     ]
    },
    {
     "name": "stderr",
     "output_type": "stream",
     "text": [
      " 78%|███████▊  | 6953/8892 [00:04<00:01, 1432.61it/s]"
     ]
    },
    {
     "name": "stdout",
     "output_type": "stream",
     "text": [
      "No species found for surveyId: 2939121\n",
      "No species found for surveyId: 2969942\n",
      "No species found for surveyId: 2990607\n",
      "No species found for surveyId: 3028015\n",
      "No species found for surveyId: 3036794\n",
      "No species found for surveyId: 3037670\n",
      "No species found for surveyId: 3042071\n",
      "No species found for surveyId: 3046286\n",
      "No species found for surveyId: 3051691\n",
      "No species found for surveyId: 3059468\n",
      "No species found for surveyId: 3063820\n"
     ]
    },
    {
     "name": "stderr",
     "output_type": "stream",
     "text": [
      " 81%|████████▏ | 7244/8892 [00:05<00:01, 1440.33it/s]"
     ]
    },
    {
     "name": "stdout",
     "output_type": "stream",
     "text": [
      "No species found for surveyId: 3075593\n",
      "No species found for surveyId: 3077240\n",
      "No species found for surveyId: 3089408\n",
      "No species found for surveyId: 3101281\n",
      "No species found for surveyId: 3117791\n",
      "No species found for surveyId: 3127573\n",
      "No species found for surveyId: 3166443\n",
      "No species found for surveyId: 3182718\n",
      "No species found for surveyId: 3185426\n"
     ]
    },
    {
     "name": "stderr",
     "output_type": "stream",
     "text": [
      " 85%|████████▍ | 7535/8892 [00:05<00:00, 1446.04it/s]"
     ]
    },
    {
     "name": "stdout",
     "output_type": "stream",
     "text": [
      "No species found for surveyId: 3198443\n",
      "No species found for surveyId: 3202538\n",
      "No species found for surveyId: 3204245\n",
      "No species found for surveyId: 3208363\n",
      "No species found for surveyId: 3217167\n",
      "No species found for surveyId: 3227307\n",
      "No species found for surveyId: 3230316\n",
      "No species found for surveyId: 3282226\n",
      "No species found for surveyId: 3293413\n",
      "No species found for surveyId: 3295725\n",
      "No species found for surveyId: 3301136\n"
     ]
    },
    {
     "name": "stderr",
     "output_type": "stream",
     "text": [
      " 88%|████████▊ | 7823/8892 [00:05<00:00, 1417.65it/s]"
     ]
    },
    {
     "name": "stdout",
     "output_type": "stream",
     "text": [
      "No species found for surveyId: 3350935\n",
      "No species found for surveyId: 3370256\n",
      "No species found for surveyId: 3371790\n",
      "No species found for surveyId: 3415889\n",
      "No species found for surveyId: 3434471\n",
      "No species found for surveyId: 3437921\n",
      "No species found for surveyId: 3443597\n",
      "No species found for surveyId: 3445790\n",
      "No species found for surveyId: 3462982\n",
      "No species found for surveyId: 3470788\n"
     ]
    },
    {
     "name": "stderr",
     "output_type": "stream",
     "text": [
      " 93%|█████████▎| 8261/8892 [00:05<00:00, 1443.06it/s]"
     ]
    },
    {
     "name": "stdout",
     "output_type": "stream",
     "text": [
      "No species found for surveyId: 3532913\n",
      "No species found for surveyId: 3583662\n",
      "No species found for surveyId: 3584106\n",
      "No species found for surveyId: 3605493\n",
      "No species found for surveyId: 3624224\n",
      "No species found for surveyId: 3695738\n"
     ]
    },
    {
     "name": "stderr",
     "output_type": "stream",
     "text": [
      " 96%|█████████▌| 8552/8892 [00:06<00:00, 1447.74it/s]"
     ]
    },
    {
     "name": "stdout",
     "output_type": "stream",
     "text": [
      "No species found for surveyId: 3712275\n",
      "No species found for surveyId: 3714727\n",
      "No species found for surveyId: 3720791\n",
      "No species found for surveyId: 3721722\n",
      "No species found for surveyId: 3733901\n",
      "No species found for surveyId: 3755139\n",
      "No species found for surveyId: 3763390\n",
      "No species found for surveyId: 3766829\n",
      "No species found for surveyId: 3788606\n",
      "No species found for surveyId: 3791622\n",
      "No species found for surveyId: 3803234\n",
      "No species found for surveyId: 3808998\n",
      "No species found for surveyId: 3813053\n",
      "No species found for surveyId: 3819929\n"
     ]
    },
    {
     "name": "stderr",
     "output_type": "stream",
     "text": [
      "100%|██████████| 8892/8892 [00:06<00:00, 1413.96it/s]\n"
     ]
    },
    {
     "name": "stdout",
     "output_type": "stream",
     "text": [
      "No species found for surveyId: 3847472\n",
      "No species found for surveyId: 3894839\n",
      "Predictions done. No species found: 261/8892.\n"
     ]
    }
   ],
   "source": [
    "arr_th = [0.01, 0.03, 0.05, 0.07, 0.1, 0.15, 0.2, 0.3]\n",
    "arr_f1 = []\n",
    "for th in arr_th:\n",
    "    dict_pred = tmp.create_predictions(threshold_weighted_labels=th)\n",
    "    for k in dict_val_species.keys():\n",
    "        if k not in dict_pred.keys():\n",
    "            dict_pred[k] = []\n",
    "    f1 = gpu.compute_f1_score_dicts(dict_val_species, dict_pred)\n",
    "    arr_f1.append(f1)"
   ]
  },
  {
   "cell_type": "code",
   "execution_count": 55,
   "metadata": {},
   "outputs": [
    {
     "name": "stdout",
     "output_type": "stream",
     "text": [
      "F1 scores 20 km:\n",
      "Th: 0.01, F1: 0.17815909998542828\n",
      "Th: 0.03, F1: 0.22171562850602888\n",
      "Th: 0.05, F1: 0.2550898257417876\n",
      "Th: 0.07, F1: 0.2813144225923728\n",
      "Th: 0.1, F1: 0.31055241911795095\n",
      "Th: 0.15, F1: 0.33787610690510994\n",
      "Th: 0.2, F1: 0.34126959671664947\n",
      "Th: 0.3, F1: 0.29877385480062507\n"
     ]
    }
   ],
   "source": [
    "print('F1 scores 20 km:')\n",
    "for th, f1 in zip(arr_th, arr_f1):\n",
    "    print(f'Th: {th}, F1: {f1}')"
   ]
  },
  {
   "cell_type": "code",
   "execution_count": 51,
   "metadata": {},
   "outputs": [
    {
     "name": "stdout",
     "output_type": "stream",
     "text": [
      "Th: 0.01, F1: 0.1993253455507175\n",
      "Th: 0.03, F1: 0.2339567857022029\n",
      "Th: 0.05, F1: 0.26306820509513906\n",
      "Th: 0.07, F1: 0.2874202966047946\n",
      "Th: 0.1, F1: 0.3149615778560888\n",
      "Th: 0.15, F1: 0.34330129624560624\n",
      "Th: 0.2, F1: 0.35171820741153903\n",
      "Th: 0.3, F1: 0.32425812748704147\n"
     ]
    }
   ],
   "source": [
    "for th, f1 in zip(arr_th, arr_f1):\n",
    "    print(f'Th: {th}, F1: {f1}')"
   ]
  }
 ],
 "metadata": {
  "kernelspec": {
   "display_name": "geoclef",
   "language": "python",
   "name": "python3"
  },
  "language_info": {
   "codemirror_mode": {
    "name": "ipython",
    "version": 3
   },
   "file_extension": ".py",
   "mimetype": "text/x-python",
   "name": "python",
   "nbconvert_exporter": "python",
   "pygments_lexer": "ipython3",
   "version": "3.10.14"
  }
 },
 "nbformat": 4,
 "nbformat_minor": 2
}
