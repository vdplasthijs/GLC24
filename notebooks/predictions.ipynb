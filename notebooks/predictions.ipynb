{
 "cells": [
  {
   "cell_type": "code",
   "execution_count": 1,
   "metadata": {},
   "outputs": [],
   "source": [
    "%load_ext autoreload\n",
    "%autoreload 2"
   ]
  },
  {
   "cell_type": "code",
   "execution_count": 2,
   "metadata": {},
   "outputs": [],
   "source": [
    "import os, sys\n",
    "import numpy as np \n",
    "import pandas as pd \n",
    "import matplotlib.pyplot as plt\n",
    "import seaborn as sns\n",
    "from tqdm import tqdm, tqdm_notebook\n",
    "sys.path.append('../../reproducible_figures/scripts/')\n",
    "import rep_fig_vis as rfv\n",
    "sys.path.append('../scripts/')\n",
    "from loadpaths_glc import loadpaths\n",
    "import data_loading_utils as dlu\n",
    "import glc_prediction_utils as gpu\n",
    "path_dict = loadpaths()"
   ]
  },
  {
   "cell_type": "code",
   "execution_count": 36,
   "metadata": {},
   "outputs": [
    {
     "name": "stdout",
     "output_type": "stream",
     "text": [
      "Dropped PO data because takes ages with geometry\n",
      "Columns dropped: ['taxonRank', 'geoUncertaintyInM', 'date', 'areaInM2', 'publisher', 'month', 'day', 'region', 'dayOfYear', 'country']\n",
      "Dropped 49637/1483637 duplicates in df_train_pa_species\n",
      "Created validation set with 8898 entries\n"
     ]
    }
   ],
   "source": [
    "dict_dfs, dict_dfs_species, dict_val_species = dlu.load_metadata(create_geo=True, add_h3=False,\n",
    "                                               create_validation_set=True)\n",
    "# type(dict_dfs['df_test_pa'])"
   ]
  },
  {
   "cell_type": "code",
   "execution_count": 39,
   "metadata": {},
   "outputs": [
    {
     "name": "stdout",
     "output_type": "stream",
     "text": [
      "Dropped PO data because takes ages with geometry\n",
      "Columns dropped: ['taxonRank', 'geoUncertaintyInM', 'date', 'areaInM2', 'publisher', 'month', 'day', 'region', 'dayOfYear', 'country']\n",
      "Dropped 49637/1483637 duplicates in df_train_pa_species\n",
      "Warning: 35 nans in elevation data\n",
      "Warning: 35 nans in elevation data\n",
      "    LandCover  count\n",
      "0         0.0     25\n",
      "1         1.0     15\n",
      "2         2.0     18\n",
      "3         4.0     22\n",
      "4         5.0     16\n",
      "5         8.0     20\n",
      "6         9.0     16\n",
      "7        10.0     19\n",
      "8        11.0     14\n",
      "9        12.0     17\n",
      "10       13.0     16\n",
      "11       14.0     17\n",
      "12       15.0     11\n",
      "13       16.0     12\n",
      "14       17.0     13\n"
     ]
    },
    {
     "name": "stderr",
     "output_type": "stream",
     "text": [
      " 43%|████▎     | 2049/4716 [00:13<00:17, 149.13it/s]"
     ]
    },
    {
     "name": "stdout",
     "output_type": "stream",
     "text": [
      "No nearby points for surveyId: 1695841 (LC: 13.0)\n"
     ]
    },
    {
     "name": "stderr",
     "output_type": "stream",
     "text": [
      "100%|██████████| 4716/4716 [00:31<00:00, 151.01it/s]"
     ]
    },
    {
     "name": "stdout",
     "output_type": "stream",
     "text": [
      "Predictions done (4715 total). No nearby points: 1.\n",
      "Saved predictions to: /Users/t.vanderplas/data_offline/data_geolifeclef2024/predictions_glc2024/GLC24_vdplasthijs_predictions-buffer-lc-0.3-lc-specific_2024-04-18_22-53.csv\n"
     ]
    },
    {
     "name": "stderr",
     "output_type": "stream",
     "text": [
      "\n"
     ]
    }
   ],
   "source": [
    "val_or_test = 'test'\n",
    "\n",
    "dict_dfs, dict_dfs_species, dict_val_species = dlu.load_metadata(create_geo=True, add_h3=False,\n",
    "                                create_validation_set=True if val_or_test == 'val' else False)\n",
    "tmp = gpu.predict_using_buffer(dict_dfs=dict_dfs, dict_dfs_species=dict_dfs_species,\n",
    "                            save_pred=True, method=f'lc-specific', buffer_deg=0.3,\n",
    "                            eval_mode=val_or_test)\n",
    "if val_or_test == 'val':\n",
    "    f1_score = gpu.compute_f1_score_dicts(dict_val_species, tmp)\n",
    "    print(f'F1 score: {f1_score}')"
   ]
  },
  {
   "cell_type": "code",
   "execution_count": 32,
   "metadata": {},
   "outputs": [
    {
     "data": {
      "text/html": [
       "<div>\n",
       "<style scoped>\n",
       "    .dataframe tbody tr th:only-of-type {\n",
       "        vertical-align: middle;\n",
       "    }\n",
       "\n",
       "    .dataframe tbody tr th {\n",
       "        vertical-align: top;\n",
       "    }\n",
       "\n",
       "    .dataframe thead th {\n",
       "        text-align: right;\n",
       "    }\n",
       "</style>\n",
       "<table border=\"1\" class=\"dataframe\">\n",
       "  <thead>\n",
       "    <tr style=\"text-align: right;\">\n",
       "      <th></th>\n",
       "      <th>lng</th>\n",
       "      <th>lat</th>\n",
       "      <th>year</th>\n",
       "      <th>surveyId</th>\n",
       "      <th>geometry</th>\n",
       "      <th>Elevation</th>\n",
       "      <th>LandCover</th>\n",
       "      <th>Bio1</th>\n",
       "      <th>Bio2</th>\n",
       "      <th>Bio3</th>\n",
       "      <th>...</th>\n",
       "      <th>Bio10</th>\n",
       "      <th>Bio11</th>\n",
       "      <th>Bio12</th>\n",
       "      <th>Bio13</th>\n",
       "      <th>Bio14</th>\n",
       "      <th>Bio15</th>\n",
       "      <th>Bio16</th>\n",
       "      <th>Bio17</th>\n",
       "      <th>Bio18</th>\n",
       "      <th>Bio19</th>\n",
       "    </tr>\n",
       "  </thead>\n",
       "  <tbody>\n",
       "    <tr>\n",
       "      <th>26108</th>\n",
       "      <td>8.46318</td>\n",
       "      <td>56.02289</td>\n",
       "      <td>2017</td>\n",
       "      <td>1276701</td>\n",
       "      <td>POINT (8.46318 56.02289)</td>\n",
       "      <td>19.0</td>\n",
       "      <td>5.0</td>\n",
       "      <td>2816</td>\n",
       "      <td>43</td>\n",
       "      <td>2</td>\n",
       "      <td>...</td>\n",
       "      <td>2884</td>\n",
       "      <td>2754</td>\n",
       "      <td>9632</td>\n",
       "      <td>1247</td>\n",
       "      <td>429</td>\n",
       "      <td>280</td>\n",
       "      <td>3286</td>\n",
       "      <td>1651</td>\n",
       "      <td>2340</td>\n",
       "      <td>2355</td>\n",
       "    </tr>\n",
       "    <tr>\n",
       "      <th>67032</th>\n",
       "      <td>8.37565</td>\n",
       "      <td>56.17565</td>\n",
       "      <td>2017</td>\n",
       "      <td>3288416</td>\n",
       "      <td>POINT (8.37565 56.17565)</td>\n",
       "      <td>12.0</td>\n",
       "      <td>5.0</td>\n",
       "      <td>2818</td>\n",
       "      <td>35</td>\n",
       "      <td>1</td>\n",
       "      <td>...</td>\n",
       "      <td>2884</td>\n",
       "      <td>2757</td>\n",
       "      <td>9171</td>\n",
       "      <td>1203</td>\n",
       "      <td>406</td>\n",
       "      <td>288</td>\n",
       "      <td>3162</td>\n",
       "      <td>1557</td>\n",
       "      <td>2557</td>\n",
       "      <td>1995</td>\n",
       "    </tr>\n",
       "    <tr>\n",
       "      <th>26071</th>\n",
       "      <td>8.44744</td>\n",
       "      <td>56.15897</td>\n",
       "      <td>2019</td>\n",
       "      <td>1274470</td>\n",
       "      <td>POINT (8.44744 56.15897)</td>\n",
       "      <td>28.0</td>\n",
       "      <td>5.0</td>\n",
       "      <td>2816</td>\n",
       "      <td>41</td>\n",
       "      <td>2</td>\n",
       "      <td>...</td>\n",
       "      <td>2884</td>\n",
       "      <td>2754</td>\n",
       "      <td>9733</td>\n",
       "      <td>1261</td>\n",
       "      <td>438</td>\n",
       "      <td>279</td>\n",
       "      <td>3318</td>\n",
       "      <td>1673</td>\n",
       "      <td>2703</td>\n",
       "      <td>2368</td>\n",
       "    </tr>\n",
       "    <tr>\n",
       "      <th>34794</th>\n",
       "      <td>8.44535</td>\n",
       "      <td>56.15905</td>\n",
       "      <td>2019</td>\n",
       "      <td>1702631</td>\n",
       "      <td>POINT (8.44535 56.15905)</td>\n",
       "      <td>28.0</td>\n",
       "      <td>5.0</td>\n",
       "      <td>2816</td>\n",
       "      <td>41</td>\n",
       "      <td>2</td>\n",
       "      <td>...</td>\n",
       "      <td>2884</td>\n",
       "      <td>2754</td>\n",
       "      <td>9733</td>\n",
       "      <td>1261</td>\n",
       "      <td>438</td>\n",
       "      <td>279</td>\n",
       "      <td>3318</td>\n",
       "      <td>1673</td>\n",
       "      <td>2703</td>\n",
       "      <td>2368</td>\n",
       "    </tr>\n",
       "    <tr>\n",
       "      <th>34735</th>\n",
       "      <td>8.44792</td>\n",
       "      <td>56.15915</td>\n",
       "      <td>2019</td>\n",
       "      <td>1699855</td>\n",
       "      <td>POINT (8.44792 56.15915)</td>\n",
       "      <td>29.0</td>\n",
       "      <td>5.0</td>\n",
       "      <td>2816</td>\n",
       "      <td>41</td>\n",
       "      <td>2</td>\n",
       "      <td>...</td>\n",
       "      <td>2884</td>\n",
       "      <td>2754</td>\n",
       "      <td>9733</td>\n",
       "      <td>1261</td>\n",
       "      <td>438</td>\n",
       "      <td>279</td>\n",
       "      <td>3318</td>\n",
       "      <td>1673</td>\n",
       "      <td>2703</td>\n",
       "      <td>2368</td>\n",
       "    </tr>\n",
       "    <tr>\n",
       "      <th>...</th>\n",
       "      <td>...</td>\n",
       "      <td>...</td>\n",
       "      <td>...</td>\n",
       "      <td>...</td>\n",
       "      <td>...</td>\n",
       "      <td>...</td>\n",
       "      <td>...</td>\n",
       "      <td>...</td>\n",
       "      <td>...</td>\n",
       "      <td>...</td>\n",
       "      <td>...</td>\n",
       "      <td>...</td>\n",
       "      <td>...</td>\n",
       "      <td>...</td>\n",
       "      <td>...</td>\n",
       "      <td>...</td>\n",
       "      <td>...</td>\n",
       "      <td>...</td>\n",
       "      <td>...</td>\n",
       "      <td>...</td>\n",
       "      <td>...</td>\n",
       "    </tr>\n",
       "    <tr>\n",
       "      <th>10850</th>\n",
       "      <td>8.59644</td>\n",
       "      <td>56.29672</td>\n",
       "      <td>2019</td>\n",
       "      <td>530563</td>\n",
       "      <td>POINT (8.59644 56.29672)</td>\n",
       "      <td>22.0</td>\n",
       "      <td>5.0</td>\n",
       "      <td>2815</td>\n",
       "      <td>53</td>\n",
       "      <td>2</td>\n",
       "      <td>...</td>\n",
       "      <td>2886</td>\n",
       "      <td>2750</td>\n",
       "      <td>9560</td>\n",
       "      <td>1209</td>\n",
       "      <td>452</td>\n",
       "      <td>259</td>\n",
       "      <td>3191</td>\n",
       "      <td>1682</td>\n",
       "      <td>2323</td>\n",
       "      <td>2364</td>\n",
       "    </tr>\n",
       "    <tr>\n",
       "      <th>57771</th>\n",
       "      <td>8.58748</td>\n",
       "      <td>56.29928</td>\n",
       "      <td>2019</td>\n",
       "      <td>2842242</td>\n",
       "      <td>POINT (8.58748 56.29928)</td>\n",
       "      <td>23.0</td>\n",
       "      <td>5.0</td>\n",
       "      <td>2815</td>\n",
       "      <td>52</td>\n",
       "      <td>2</td>\n",
       "      <td>...</td>\n",
       "      <td>2886</td>\n",
       "      <td>2750</td>\n",
       "      <td>9539</td>\n",
       "      <td>1208</td>\n",
       "      <td>450</td>\n",
       "      <td>260</td>\n",
       "      <td>3188</td>\n",
       "      <td>1677</td>\n",
       "      <td>2317</td>\n",
       "      <td>2357</td>\n",
       "    </tr>\n",
       "    <tr>\n",
       "      <th>7138</th>\n",
       "      <td>8.58928</td>\n",
       "      <td>56.34263</td>\n",
       "      <td>2019</td>\n",
       "      <td>349859</td>\n",
       "      <td>POINT (8.58928 56.34263)</td>\n",
       "      <td>33.0</td>\n",
       "      <td>5.0</td>\n",
       "      <td>2815</td>\n",
       "      <td>54</td>\n",
       "      <td>2</td>\n",
       "      <td>...</td>\n",
       "      <td>2886</td>\n",
       "      <td>2750</td>\n",
       "      <td>9326</td>\n",
       "      <td>1181</td>\n",
       "      <td>442</td>\n",
       "      <td>260</td>\n",
       "      <td>3118</td>\n",
       "      <td>1638</td>\n",
       "      <td>2264</td>\n",
       "      <td>2306</td>\n",
       "    </tr>\n",
       "    <tr>\n",
       "      <th>31530</th>\n",
       "      <td>8.59174</td>\n",
       "      <td>56.34313</td>\n",
       "      <td>2019</td>\n",
       "      <td>1539083</td>\n",
       "      <td>POINT (8.59174 56.34313)</td>\n",
       "      <td>27.0</td>\n",
       "      <td>5.0</td>\n",
       "      <td>2815</td>\n",
       "      <td>54</td>\n",
       "      <td>2</td>\n",
       "      <td>...</td>\n",
       "      <td>2886</td>\n",
       "      <td>2750</td>\n",
       "      <td>9335</td>\n",
       "      <td>1181</td>\n",
       "      <td>443</td>\n",
       "      <td>259</td>\n",
       "      <td>3117</td>\n",
       "      <td>1642</td>\n",
       "      <td>2266</td>\n",
       "      <td>2310</td>\n",
       "    </tr>\n",
       "    <tr>\n",
       "      <th>62069</th>\n",
       "      <td>8.59264</td>\n",
       "      <td>56.35750</td>\n",
       "      <td>2019</td>\n",
       "      <td>3051065</td>\n",
       "      <td>POINT (8.59264 56.35750)</td>\n",
       "      <td>8.0</td>\n",
       "      <td>5.0</td>\n",
       "      <td>2816</td>\n",
       "      <td>54</td>\n",
       "      <td>2</td>\n",
       "      <td>...</td>\n",
       "      <td>2887</td>\n",
       "      <td>2750</td>\n",
       "      <td>9230</td>\n",
       "      <td>1167</td>\n",
       "      <td>438</td>\n",
       "      <td>259</td>\n",
       "      <td>3081</td>\n",
       "      <td>1623</td>\n",
       "      <td>2242</td>\n",
       "      <td>2284</td>\n",
       "    </tr>\n",
       "  </tbody>\n",
       "</table>\n",
       "<p>122 rows × 26 columns</p>\n",
       "</div>"
      ],
      "text/plain": [
       "           lng       lat  year  surveyId                  geometry  Elevation  \\\n",
       "26108  8.46318  56.02289  2017   1276701  POINT (8.46318 56.02289)       19.0   \n",
       "67032  8.37565  56.17565  2017   3288416  POINT (8.37565 56.17565)       12.0   \n",
       "26071  8.44744  56.15897  2019   1274470  POINT (8.44744 56.15897)       28.0   \n",
       "34794  8.44535  56.15905  2019   1702631  POINT (8.44535 56.15905)       28.0   \n",
       "34735  8.44792  56.15915  2019   1699855  POINT (8.44792 56.15915)       29.0   \n",
       "...        ...       ...   ...       ...                       ...        ...   \n",
       "10850  8.59644  56.29672  2019    530563  POINT (8.59644 56.29672)       22.0   \n",
       "57771  8.58748  56.29928  2019   2842242  POINT (8.58748 56.29928)       23.0   \n",
       "7138   8.58928  56.34263  2019    349859  POINT (8.58928 56.34263)       33.0   \n",
       "31530  8.59174  56.34313  2019   1539083  POINT (8.59174 56.34313)       27.0   \n",
       "62069  8.59264  56.35750  2019   3051065  POINT (8.59264 56.35750)        8.0   \n",
       "\n",
       "       LandCover  Bio1  Bio2  Bio3  ...  Bio10  Bio11  Bio12  Bio13  Bio14  \\\n",
       "26108        5.0  2816    43     2  ...   2884   2754   9632   1247    429   \n",
       "67032        5.0  2818    35     1  ...   2884   2757   9171   1203    406   \n",
       "26071        5.0  2816    41     2  ...   2884   2754   9733   1261    438   \n",
       "34794        5.0  2816    41     2  ...   2884   2754   9733   1261    438   \n",
       "34735        5.0  2816    41     2  ...   2884   2754   9733   1261    438   \n",
       "...          ...   ...   ...   ...  ...    ...    ...    ...    ...    ...   \n",
       "10850        5.0  2815    53     2  ...   2886   2750   9560   1209    452   \n",
       "57771        5.0  2815    52     2  ...   2886   2750   9539   1208    450   \n",
       "7138         5.0  2815    54     2  ...   2886   2750   9326   1181    442   \n",
       "31530        5.0  2815    54     2  ...   2886   2750   9335   1181    443   \n",
       "62069        5.0  2816    54     2  ...   2887   2750   9230   1167    438   \n",
       "\n",
       "       Bio15  Bio16  Bio17  Bio18  Bio19  \n",
       "26108    280   3286   1651   2340   2355  \n",
       "67032    288   3162   1557   2557   1995  \n",
       "26071    279   3318   1673   2703   2368  \n",
       "34794    279   3318   1673   2703   2368  \n",
       "34735    279   3318   1673   2703   2368  \n",
       "...      ...    ...    ...    ...    ...  \n",
       "10850    259   3191   1682   2323   2364  \n",
       "57771    260   3188   1677   2317   2357  \n",
       "7138     260   3118   1638   2264   2306  \n",
       "31530    259   3117   1642   2266   2310  \n",
       "62069    259   3081   1623   2242   2284  \n",
       "\n",
       "[122 rows x 26 columns]"
      ]
     },
     "execution_count": 32,
     "metadata": {},
     "output_type": "execute_result"
    }
   ],
   "source": [
    "tmp"
   ]
  },
  {
   "cell_type": "markdown",
   "metadata": {},
   "source": [
    "## Predictions"
   ]
  },
  {
   "cell_type": "code",
   "execution_count": 53,
   "metadata": {},
   "outputs": [
    {
     "name": "stdout",
     "output_type": "stream",
     "text": [
      "Columns dropped: ['taxonRank', 'geoUncertaintyInM', 'date', 'areaInM2', 'publisher', 'month', 'day', 'region', 'dayOfYear', 'country']\n",
      "Dropped 49637/1483637 duplicates in df_train_pa_species\n",
      "Dropped 135101/5079797 duplicates in df_train_po_species\n",
      "Warning: 35 nans in elevation data\n"
     ]
    }
   ],
   "source": [
    "(df_train, df_test), (df_train_species, df_val_species) = dlu.create_full_pa_ds(val_or_test='test')"
   ]
  },
  {
   "cell_type": "code",
   "execution_count": 59,
   "metadata": {},
   "outputs": [
    {
     "data": {
      "text/html": [
       "<div>\n",
       "<style scoped>\n",
       "    .dataframe tbody tr th:only-of-type {\n",
       "        vertical-align: middle;\n",
       "    }\n",
       "\n",
       "    .dataframe tbody tr th {\n",
       "        vertical-align: top;\n",
       "    }\n",
       "\n",
       "    .dataframe thead th {\n",
       "        text-align: right;\n",
       "    }\n",
       "</style>\n",
       "<table border=\"1\" class=\"dataframe\">\n",
       "  <thead>\n",
       "    <tr style=\"text-align: right;\">\n",
       "      <th></th>\n",
       "      <th>speciesId</th>\n",
       "      <th>surveyId</th>\n",
       "    </tr>\n",
       "  </thead>\n",
       "  <tbody>\n",
       "    <tr>\n",
       "      <th>0</th>\n",
       "      <td>6874</td>\n",
       "      <td>212</td>\n",
       "    </tr>\n",
       "    <tr>\n",
       "      <th>1</th>\n",
       "      <td>476</td>\n",
       "      <td>212</td>\n",
       "    </tr>\n",
       "    <tr>\n",
       "      <th>2</th>\n",
       "      <td>11157</td>\n",
       "      <td>212</td>\n",
       "    </tr>\n",
       "    <tr>\n",
       "      <th>3</th>\n",
       "      <td>8784</td>\n",
       "      <td>212</td>\n",
       "    </tr>\n",
       "    <tr>\n",
       "      <th>4</th>\n",
       "      <td>4530</td>\n",
       "      <td>212</td>\n",
       "    </tr>\n",
       "    <tr>\n",
       "      <th>...</th>\n",
       "      <td>...</td>\n",
       "      <td>...</td>\n",
       "    </tr>\n",
       "    <tr>\n",
       "      <th>1483632</th>\n",
       "      <td>53</td>\n",
       "      <td>3919655</td>\n",
       "    </tr>\n",
       "    <tr>\n",
       "      <th>1483633</th>\n",
       "      <td>5071</td>\n",
       "      <td>3919655</td>\n",
       "    </tr>\n",
       "    <tr>\n",
       "      <th>1483634</th>\n",
       "      <td>1889</td>\n",
       "      <td>3919655</td>\n",
       "    </tr>\n",
       "    <tr>\n",
       "      <th>1483635</th>\n",
       "      <td>10600</td>\n",
       "      <td>3919655</td>\n",
       "    </tr>\n",
       "    <tr>\n",
       "      <th>1483636</th>\n",
       "      <td>963</td>\n",
       "      <td>3919655</td>\n",
       "    </tr>\n",
       "  </tbody>\n",
       "</table>\n",
       "<p>1433527 rows × 2 columns</p>\n",
       "</div>"
      ],
      "text/plain": [
       "         speciesId  surveyId\n",
       "0             6874       212\n",
       "1              476       212\n",
       "2            11157       212\n",
       "3             8784       212\n",
       "4             4530       212\n",
       "...            ...       ...\n",
       "1483632         53   3919655\n",
       "1483633       5071   3919655\n",
       "1483634       1889   3919655\n",
       "1483635      10600   3919655\n",
       "1483636        963   3919655\n",
       "\n",
       "[1433527 rows x 2 columns]"
      ]
     },
     "execution_count": 59,
     "metadata": {},
     "output_type": "execute_result"
    }
   ],
   "source": [
    "df_train_species"
   ]
  },
  {
   "cell_type": "code",
   "execution_count": 11,
   "metadata": {},
   "outputs": [
    {
     "data": {
      "text/html": [
       "<div>\n",
       "<style scoped>\n",
       "    .dataframe tbody tr th:only-of-type {\n",
       "        vertical-align: middle;\n",
       "    }\n",
       "\n",
       "    .dataframe tbody tr th {\n",
       "        vertical-align: top;\n",
       "    }\n",
       "\n",
       "    .dataframe thead th {\n",
       "        text-align: right;\n",
       "    }\n",
       "</style>\n",
       "<table border=\"1\" class=\"dataframe\">\n",
       "  <thead>\n",
       "    <tr style=\"text-align: right;\">\n",
       "      <th></th>\n",
       "      <th>speciesId</th>\n",
       "      <th>surveyId</th>\n",
       "    </tr>\n",
       "  </thead>\n",
       "  <tbody>\n",
       "    <tr>\n",
       "      <th>276</th>\n",
       "      <td>5900</td>\n",
       "      <td>729</td>\n",
       "    </tr>\n",
       "    <tr>\n",
       "      <th>288</th>\n",
       "      <td>9368</td>\n",
       "      <td>729</td>\n",
       "    </tr>\n",
       "    <tr>\n",
       "      <th>287</th>\n",
       "      <td>53</td>\n",
       "      <td>729</td>\n",
       "    </tr>\n",
       "    <tr>\n",
       "      <th>286</th>\n",
       "      <td>10255</td>\n",
       "      <td>729</td>\n",
       "    </tr>\n",
       "    <tr>\n",
       "      <th>285</th>\n",
       "      <td>10600</td>\n",
       "      <td>729</td>\n",
       "    </tr>\n",
       "    <tr>\n",
       "      <th>...</th>\n",
       "      <td>...</td>\n",
       "      <td>...</td>\n",
       "    </tr>\n",
       "    <tr>\n",
       "      <th>1483598</th>\n",
       "      <td>3067</td>\n",
       "      <td>3919620</td>\n",
       "    </tr>\n",
       "    <tr>\n",
       "      <th>1483597</th>\n",
       "      <td>4077</td>\n",
       "      <td>3919620</td>\n",
       "    </tr>\n",
       "    <tr>\n",
       "      <th>1483596</th>\n",
       "      <td>9816</td>\n",
       "      <td>3919620</td>\n",
       "    </tr>\n",
       "    <tr>\n",
       "      <th>1483600</th>\n",
       "      <td>540</td>\n",
       "      <td>3919620</td>\n",
       "    </tr>\n",
       "    <tr>\n",
       "      <th>1483607</th>\n",
       "      <td>7121</td>\n",
       "      <td>3919620</td>\n",
       "    </tr>\n",
       "  </tbody>\n",
       "</table>\n",
       "<p>144464 rows × 2 columns</p>\n",
       "</div>"
      ],
      "text/plain": [
       "         speciesId  surveyId\n",
       "276           5900       729\n",
       "288           9368       729\n",
       "287             53       729\n",
       "286          10255       729\n",
       "285          10600       729\n",
       "...            ...       ...\n",
       "1483598       3067   3919620\n",
       "1483597       4077   3919620\n",
       "1483596       9816   3919620\n",
       "1483600        540   3919620\n",
       "1483607       7121   3919620\n",
       "\n",
       "[144464 rows x 2 columns]"
      ]
     },
     "execution_count": 11,
     "metadata": {},
     "output_type": "execute_result"
    }
   ],
   "source": [
    "_[1]"
   ]
  },
  {
   "cell_type": "code",
   "execution_count": 12,
   "metadata": {},
   "outputs": [
    {
     "name": "stderr",
     "output_type": "stream",
     "text": [
      "0it [00:00, ?it/s]/Users/t.vanderplas/anaconda3/envs/geoclef/lib/python3.10/site-packages/scipy/sparse/_index.py:145: SparseEfficiencyWarning: Changing the sparsity structure of a csr_matrix is expensive. lil_matrix is more efficient.\n",
      "  self._set_arrayXarray(i, j, x)\n",
      "8892it [00:05, 1699.85it/s]\n"
     ]
    }
   ],
   "source": [
    "## create scipy sparse matrix, fill by row:\n",
    "from scipy.sparse import csr_matrix\n",
    "\n",
    "df_species_tmp = _[1]\n",
    "n_rows = df_species_tmp.surveyId.nunique()\n",
    "n_cols = df_species_tmp.speciesId.max()\n",
    "\n",
    "mat = csr_matrix((n_rows, n_cols), dtype=np.int32)\n",
    "for row, surveyId in tqdm(enumerate(df_species_tmp.surveyId.unique())):\n",
    "    tmp_df = df_species_tmp.loc[df_species_tmp.surveyId == surveyId]\n",
    "    cols = tmp_df.speciesId.values - 1\n",
    "    ## fill mat:\n",
    "    mat[row, cols] = 1"
   ]
  },
  {
   "cell_type": "code",
   "execution_count": 14,
   "metadata": {},
   "outputs": [],
   "source": [
    "## save mat:\n",
    "from scipy.sparse import save_npz, load_npz\n",
    "# save_npz(os.path.join(path_dict['data_folder'], 'species_mat_val.npz'), mat)"
   ]
  },
  {
   "cell_type": "code",
   "execution_count": 15,
   "metadata": {},
   "outputs": [],
   "source": [
    "species_mat_train = load_npz(os.path.join(path_dict['data_folder'], 'species_mat_train.npz'))\n",
    "species_mat_val = load_npz(os.path.join(path_dict['data_folder'], 'species_mat_val.npz'))"
   ]
  },
  {
   "cell_type": "code",
   "execution_count": 17,
   "metadata": {},
   "outputs": [
    {
     "ename": "TypeError",
     "evalue": "PCA only support sparse inputs with the \"arpack\" solver, while \"auto\" was passed. See TruncatedSVD for a possible alternative.",
     "output_type": "error",
     "traceback": [
      "\u001b[0;31m---------------------------------------------------------------------------\u001b[0m",
      "\u001b[0;31mTypeError\u001b[0m                                 Traceback (most recent call last)",
      "Cell \u001b[0;32mIn[17], line 4\u001b[0m\n\u001b[1;32m      2\u001b[0m \u001b[38;5;28;01mfrom\u001b[39;00m \u001b[38;5;21;01msklearn\u001b[39;00m\u001b[38;5;21;01m.\u001b[39;00m\u001b[38;5;21;01mdecomposition\u001b[39;00m \u001b[38;5;28;01mimport\u001b[39;00m PCA\n\u001b[1;32m      3\u001b[0m pca \u001b[38;5;241m=\u001b[39m PCA(n_components\u001b[38;5;241m=\u001b[39m\u001b[38;5;241m100\u001b[39m)\n\u001b[0;32m----> 4\u001b[0m \u001b[43mpca\u001b[49m\u001b[38;5;241;43m.\u001b[39;49m\u001b[43mfit\u001b[49m\u001b[43m(\u001b[49m\u001b[43mspecies_mat_train\u001b[49m\u001b[43m)\u001b[49m\n\u001b[1;32m      5\u001b[0m np\u001b[38;5;241m.\u001b[39mcumsum(pca\u001b[38;5;241m.\u001b[39mexplained_variance_ratio_, solver\u001b[38;5;241m=\u001b[39m\u001b[38;5;124m'\u001b[39m\u001b[38;5;124marpack\u001b[39m\u001b[38;5;124m'\u001b[39m)\n",
      "File \u001b[0;32m~/anaconda3/envs/geoclef/lib/python3.10/site-packages/sklearn/base.py:1474\u001b[0m, in \u001b[0;36m_fit_context.<locals>.decorator.<locals>.wrapper\u001b[0;34m(estimator, *args, **kwargs)\u001b[0m\n\u001b[1;32m   1467\u001b[0m     estimator\u001b[38;5;241m.\u001b[39m_validate_params()\n\u001b[1;32m   1469\u001b[0m \u001b[38;5;28;01mwith\u001b[39;00m config_context(\n\u001b[1;32m   1470\u001b[0m     skip_parameter_validation\u001b[38;5;241m=\u001b[39m(\n\u001b[1;32m   1471\u001b[0m         prefer_skip_nested_validation \u001b[38;5;129;01mor\u001b[39;00m global_skip_validation\n\u001b[1;32m   1472\u001b[0m     )\n\u001b[1;32m   1473\u001b[0m ):\n\u001b[0;32m-> 1474\u001b[0m     \u001b[38;5;28;01mreturn\u001b[39;00m \u001b[43mfit_method\u001b[49m\u001b[43m(\u001b[49m\u001b[43mestimator\u001b[49m\u001b[43m,\u001b[49m\u001b[43m \u001b[49m\u001b[38;5;241;43m*\u001b[39;49m\u001b[43margs\u001b[49m\u001b[43m,\u001b[49m\u001b[43m \u001b[49m\u001b[38;5;241;43m*\u001b[39;49m\u001b[38;5;241;43m*\u001b[39;49m\u001b[43mkwargs\u001b[49m\u001b[43m)\u001b[49m\n",
      "File \u001b[0;32m~/anaconda3/envs/geoclef/lib/python3.10/site-packages/sklearn/decomposition/_pca.py:428\u001b[0m, in \u001b[0;36mPCA.fit\u001b[0;34m(self, X, y)\u001b[0m\n\u001b[1;32m    410\u001b[0m \u001b[38;5;129m@_fit_context\u001b[39m(prefer_skip_nested_validation\u001b[38;5;241m=\u001b[39m\u001b[38;5;28;01mTrue\u001b[39;00m)\n\u001b[1;32m    411\u001b[0m \u001b[38;5;28;01mdef\u001b[39;00m \u001b[38;5;21mfit\u001b[39m(\u001b[38;5;28mself\u001b[39m, X, y\u001b[38;5;241m=\u001b[39m\u001b[38;5;28;01mNone\u001b[39;00m):\n\u001b[1;32m    412\u001b[0m \u001b[38;5;250m    \u001b[39m\u001b[38;5;124;03m\"\"\"Fit the model with X.\u001b[39;00m\n\u001b[1;32m    413\u001b[0m \n\u001b[1;32m    414\u001b[0m \u001b[38;5;124;03m    Parameters\u001b[39;00m\n\u001b[0;32m   (...)\u001b[0m\n\u001b[1;32m    426\u001b[0m \u001b[38;5;124;03m        Returns the instance itself.\u001b[39;00m\n\u001b[1;32m    427\u001b[0m \u001b[38;5;124;03m    \"\"\"\u001b[39;00m\n\u001b[0;32m--> 428\u001b[0m     \u001b[38;5;28;43mself\u001b[39;49m\u001b[38;5;241;43m.\u001b[39;49m\u001b[43m_fit\u001b[49m\u001b[43m(\u001b[49m\u001b[43mX\u001b[49m\u001b[43m)\u001b[49m\n\u001b[1;32m    429\u001b[0m     \u001b[38;5;28;01mreturn\u001b[39;00m \u001b[38;5;28mself\u001b[39m\n",
      "File \u001b[0;32m~/anaconda3/envs/geoclef/lib/python3.10/site-packages/sklearn/decomposition/_pca.py:472\u001b[0m, in \u001b[0;36mPCA._fit\u001b[0;34m(self, X)\u001b[0m\n\u001b[1;32m    470\u001b[0m \u001b[38;5;66;03m# Raise an error for sparse input and unsupported svd_solver\u001b[39;00m\n\u001b[1;32m    471\u001b[0m \u001b[38;5;28;01mif\u001b[39;00m issparse(X) \u001b[38;5;129;01mand\u001b[39;00m \u001b[38;5;28mself\u001b[39m\u001b[38;5;241m.\u001b[39msvd_solver \u001b[38;5;241m!=\u001b[39m \u001b[38;5;124m\"\u001b[39m\u001b[38;5;124marpack\u001b[39m\u001b[38;5;124m\"\u001b[39m:\n\u001b[0;32m--> 472\u001b[0m     \u001b[38;5;28;01mraise\u001b[39;00m \u001b[38;5;167;01mTypeError\u001b[39;00m(\n\u001b[1;32m    473\u001b[0m         \u001b[38;5;124m'\u001b[39m\u001b[38;5;124mPCA only support sparse inputs with the \u001b[39m\u001b[38;5;124m\"\u001b[39m\u001b[38;5;124marpack\u001b[39m\u001b[38;5;124m\"\u001b[39m\u001b[38;5;124m solver, while \u001b[39m\u001b[38;5;124m'\u001b[39m\n\u001b[1;32m    474\u001b[0m         \u001b[38;5;124mf\u001b[39m\u001b[38;5;124m'\u001b[39m\u001b[38;5;124m\"\u001b[39m\u001b[38;5;132;01m{\u001b[39;00m\u001b[38;5;28mself\u001b[39m\u001b[38;5;241m.\u001b[39msvd_solver\u001b[38;5;132;01m}\u001b[39;00m\u001b[38;5;124m\"\u001b[39m\u001b[38;5;124m was passed. See TruncatedSVD for a possible\u001b[39m\u001b[38;5;124m'\u001b[39m\n\u001b[1;32m    475\u001b[0m         \u001b[38;5;124m\"\u001b[39m\u001b[38;5;124m alternative.\u001b[39m\u001b[38;5;124m\"\u001b[39m\n\u001b[1;32m    476\u001b[0m     )\n\u001b[1;32m    477\u001b[0m \u001b[38;5;66;03m# Raise an error for non-Numpy input and arpack solver.\u001b[39;00m\n\u001b[1;32m    478\u001b[0m \u001b[38;5;28;01mif\u001b[39;00m \u001b[38;5;28mself\u001b[39m\u001b[38;5;241m.\u001b[39msvd_solver \u001b[38;5;241m==\u001b[39m \u001b[38;5;124m\"\u001b[39m\u001b[38;5;124marpack\u001b[39m\u001b[38;5;124m\"\u001b[39m \u001b[38;5;129;01mand\u001b[39;00m is_array_api_compliant:\n",
      "\u001b[0;31mTypeError\u001b[0m: PCA only support sparse inputs with the \"arpack\" solver, while \"auto\" was passed. See TruncatedSVD for a possible alternative."
     ]
    }
   ],
   "source": [
    "## PCA on sparse matrix:\n",
    "from sklearn.decomposition import PCA\n",
    "pca = PCA(n_components=100)\n",
    "pca.fit(species_mat_train)\n",
    "np.cumsum(pca.explained_variance_ratio_, solver='arpack')"
   ]
  },
  {
   "cell_type": "code",
   "execution_count": 64,
   "metadata": {},
   "outputs": [
    {
     "data": {
      "text/plain": [
       "array([0.88869272, 0.93931589, 0.98060486, 0.99561094, 0.99816131,\n",
       "       0.99919504, 0.99945668, 0.99964582, 0.99977514, 0.99986259,\n",
       "       0.99992412, 0.99996675, 0.99999886, 0.99999963, 0.99999991,\n",
       "       0.99999996, 0.99999999, 1.        , 1.        ])"
      ]
     },
     "execution_count": 64,
     "metadata": {},
     "output_type": "execute_result"
    }
   ],
   "source": [
    "## PCA analysis:\n",
    "from sklearn.decomposition import PCA\n",
    "\n",
    "pca = PCA(n_components=df_train.shape[1] - 5)\n",
    "pca.fit(df_train.values[:, 5:])\n",
    "np.cumsum(pca.explained_variance_ratio_)"
   ]
  },
  {
   "cell_type": "code",
   "execution_count": 65,
   "metadata": {},
   "outputs": [
    {
     "data": {
      "text/plain": [
       "array([ 4.19426015e-05,  2.72773297e-03,  8.60171783e-05,  3.04650027e-02,\n",
       "        1.28770810e-03, -2.32489870e-03,  3.61260680e-03, -6.01410883e-03,\n",
       "        5.78857247e-03,  3.93836333e-04, -6.09140311e-04,  8.81682591e-01,\n",
       "        1.19352046e-01,  3.19003555e-02,  4.78515983e-03,  3.28064146e-01,\n",
       "        1.22016428e-01,  1.08585970e-01,  2.68364451e-01])"
      ]
     },
     "execution_count": 65,
     "metadata": {},
     "output_type": "execute_result"
    }
   ],
   "source": [
    "pca.components_[0, :]"
   ]
  },
  {
   "cell_type": "code",
   "execution_count": 42,
   "metadata": {},
   "outputs": [
    {
     "data": {
      "text/plain": [
       "array([ 0.,  1.,  2.,  4.,  5.,  8.,  9., 10., 11., 12., 13., 14., 15.,\n",
       "       16., 17.])"
      ]
     },
     "execution_count": 42,
     "metadata": {},
     "output_type": "execute_result"
    }
   ],
   "source": [
    "np.sort(df_train.LandCover.unique())\n"
   ]
  },
  {
   "cell_type": "markdown",
   "metadata": {},
   "source": [
    "## Label propagation idea:\n",
    "\n",
    "- For each sample, define neighbourhood based on geographic distance to other points (eg 0.2 deg). I think this beats KNN because of huge differences in sampling density. \n",
    "- For two samples, define their weight as 1) some distance function of features like LC / sat / bioclim / soil. Embed features with PCA etc. first to reduce cost and improve metric of computing distance? Possible scale feature similarity with distance decay function.\n",
    "- Implement label propagation algorithm to label test samples, based on weighted voting/average (per species I think) within neighbourhood. \n",
    "- So formally, we would have a G = (V, E, W), where V are the samples, E are defined by geographic distance, W are defined by features. These are all pre-computed. Labels L(V) are then computed iteratively.\n",
    "- Pretty big data set (with PO even more so): use efficient data structures etc. Sparse matrix? Maybe you can do efficient col multiple + sum? Sparse; Save weights as sparse matrix (0 if no edge). Species labels as sparse mat. Then label prop is a matmul between W and L_t.\n",
    "- Defining the (feature) distance function: option 1) optimising this, only feasible for a handful of hyperparams. Option 2) something based on features themselves. PCA is pretty good, other ways of maximising info? LC will be v important but tricky because it is categorical. "
   ]
  },
  {
   "cell_type": "code",
   "execution_count": 34,
   "metadata": {},
   "outputs": [
    {
     "name": "stdout",
     "output_type": "stream",
     "text": [
      "Dropped PO data because takes ages with geometry\n",
      "Columns dropped: ['taxonRank', 'geoUncertaintyInM', 'date', 'areaInM2', 'publisher', 'month', 'day', 'region', 'dayOfYear', 'country']\n",
      "Dropped 49637/1483637 duplicates in df_train_pa_species\n",
      "Creating sparse label matrix\n"
     ]
    },
    {
     "name": "stderr",
     "output_type": "stream",
     "text": [
      "88952it [07:16, 203.87it/s]\n"
     ]
    },
    {
     "name": "stdout",
     "output_type": "stream",
     "text": [
      "Creating sparse weight matrix\n"
     ]
    },
    {
     "name": "stderr",
     "output_type": "stream",
     "text": [
      "93668it [03:49, 408.08it/s]\n"
     ]
    },
    {
     "name": "stdout",
     "output_type": "stream",
     "text": [
      "Saved sparse matrices to file\n"
     ]
    }
   ],
   "source": [
    "tmp = gpu.LabelPropagation(preload_data=False, dist_neigh_meter=30000,\n",
    "                           val_or_test='test')"
   ]
  },
  {
   "cell_type": "markdown",
   "metadata": {},
   "source": []
  },
  {
   "cell_type": "code",
   "execution_count": 35,
   "metadata": {},
   "outputs": [
    {
     "name": "stderr",
     "output_type": "stream",
     "text": [
      "/Users/t.vanderplas/anaconda3/envs/geoclef/lib/python3.10/site-packages/scipy/sparse/_base.py:713: RuntimeWarning: divide by zero encountered in divide\n",
      "  recip = np.true_divide(1., other)\n"
     ]
    },
    {
     "name": "stdout",
     "output_type": "stream",
     "text": [
      "Iteration 1/40. Diff: 45633.25390625\n",
      "Iteration 2/40. Diff: 12510.6767578125\n",
      "Iteration 3/40. Diff: 5622.55615234375\n",
      "Iteration 4/40. Diff: 3159.155517578125\n",
      "Iteration 5/40. Diff: 2034.5010986328125\n",
      "Iteration 6/40. Diff: 1423.716552734375\n",
      "Iteration 7/40. Diff: 1054.6458740234375\n",
      "Iteration 8/40. Diff: 812.075927734375\n",
      "Iteration 9/40. Diff: 643.9940795898438\n",
      "Iteration 10/40. Diff: 522.10009765625\n",
      "Iteration 11/40. Diff: 430.9245910644531\n",
      "Iteration 12/40. Diff: 360.80743408203125\n",
      "Iteration 13/40. Diff: 305.76153564453125\n",
      "Iteration 14/40. Diff: 261.7392272949219\n",
      "Iteration 15/40. Diff: 226.0079803466797\n",
      "Iteration 16/40. Diff: 196.62120056152344\n",
      "Iteration 17/40. Diff: 172.18362426757812\n",
      "Iteration 18/40. Diff: 151.66099548339844\n",
      "Iteration 19/40. Diff: 134.27911376953125\n",
      "Iteration 20/40. Diff: 119.44530487060547\n",
      "Iteration 21/40. Diff: 106.70097351074219\n",
      "Iteration 22/40. Diff: 95.68563079833984\n",
      "Iteration 23/40. Diff: 86.11312866210938\n",
      "Iteration 24/40. Diff: 77.75357818603516\n",
      "Iteration 25/40. Diff: 70.42060089111328\n",
      "Iteration 26/40. Diff: 63.96168518066406\n",
      "Iteration 27/40. Diff: 58.251197814941406\n",
      "Iteration 28/40. Diff: 53.18473434448242\n",
      "Iteration 29/40. Diff: 48.675018310546875\n",
      "Iteration 30/40. Diff: 44.64875411987305\n",
      "Iteration 31/40. Diff: 41.043922424316406\n",
      "Iteration 32/40. Diff: 37.80775451660156\n",
      "Iteration 33/40. Diff: 34.8952522277832\n",
      "Iteration 34/40. Diff: 32.26780700683594\n",
      "Iteration 35/40. Diff: 29.892257690429688\n",
      "Iteration 36/40. Diff: 27.739816665649414\n",
      "Iteration 37/40. Diff: 25.785587310791016\n",
      "Iteration 38/40. Diff: 24.007858276367188\n",
      "Iteration 39/40. Diff: 22.387754440307617\n",
      "Iteration 40/40. Diff: 20.908660888671875\n",
      "Converged after 40/40 iterations\n"
     ]
    },
    {
     "data": {
      "text/plain": [
       "[45633.254,\n",
       " 12510.677,\n",
       " 5622.556,\n",
       " 3159.1555,\n",
       " 2034.5011,\n",
       " 1423.7166,\n",
       " 1054.6459,\n",
       " 812.0759,\n",
       " 643.9941,\n",
       " 522.1001,\n",
       " 430.9246,\n",
       " 360.80743,\n",
       " 305.76154,\n",
       " 261.73923,\n",
       " 226.00798,\n",
       " 196.6212,\n",
       " 172.18362,\n",
       " 151.661,\n",
       " 134.27911,\n",
       " 119.445305,\n",
       " 106.70097,\n",
       " 95.68563,\n",
       " 86.11313,\n",
       " 77.75358,\n",
       " 70.4206,\n",
       " 63.961685,\n",
       " 58.251198,\n",
       " 53.184734,\n",
       " 48.67502,\n",
       " 44.648754,\n",
       " 41.043922,\n",
       " 37.807755,\n",
       " 34.895252,\n",
       " 32.267807,\n",
       " 29.892258,\n",
       " 27.739817,\n",
       " 25.785587,\n",
       " 24.007858,\n",
       " 22.387754,\n",
       " 20.90866]"
      ]
     },
     "execution_count": 35,
     "metadata": {},
     "output_type": "execute_result"
    }
   ],
   "source": [
    "tmp.n_iter = 40\n",
    "tmp.fit()"
   ]
  },
  {
   "cell_type": "code",
   "execution_count": 127,
   "metadata": {},
   "outputs": [
    {
     "name": "stdout",
     "output_type": "stream",
     "text": [
      "Computed thresholds for test set\n"
     ]
    },
    {
     "name": "stderr",
     "output_type": "stream",
     "text": [
      "100%|██████████| 4716/4716 [00:01<00:00, 3104.11it/s]\n"
     ]
    },
    {
     "name": "stdout",
     "output_type": "stream",
     "text": [
      "Predictions done. No species found: 294/4716.\n",
      "Saved predictions to: /Users/t.vanderplas/data_offline/data_geolifeclef2024/predictions_glc2024/GLC24_vdplasthijs_predictions-label-prop-lc-30000m-0.15_2024-04-22_11-07.csv\n"
     ]
    }
   ],
   "source": [
    "dict_pred = tmp.create_predictions(threshold_method='adaptive',\n",
    "                                   threshold_weighted_labels=0.15, save_pred=True)"
   ]
  },
  {
   "cell_type": "code",
   "execution_count": 124,
   "metadata": {},
   "outputs": [
    {
     "data": {
      "text/plain": [
       "(array([ 815., 1825., 1265.,  347.,  257.,  129.,   54.,   13.,    8.,\n",
       "           3.]),\n",
       " array([  0.,  16.,  32.,  48.,  64.,  80.,  96., 112., 128., 144., 160.]),\n",
       " <BarContainer object of 10 artists>)"
      ]
     },
     "execution_count": 124,
     "metadata": {},
     "output_type": "execute_result"
    },
    {
     "data": {
      "image/png": "[encoded data removed]",
      "text/plain": [
       "<Figure size 640x480 with 1 Axes>"
      ]
     },
     "metadata": {},
     "output_type": "display_data"
    }
   ],
   "source": [
    "plt.hist([len(v) for k, v in dict_pred.items()])"
   ]
  },
  {
   "cell_type": "code",
   "execution_count": 125,
   "metadata": {},
   "outputs": [
    {
     "data": {
      "text/plain": [
       "(array([1579.,  213.,  223.,  188.,  204.,  163.,  182.,  160.,  138.,\n",
       "        1966.]),\n",
       " array([3.12688862e-05, 1.50281420e-02, 3.00250151e-02, 4.50218882e-02,\n",
       "        6.00187613e-02, 7.50156344e-02, 9.00125076e-02, 1.05009381e-01,\n",
       "        1.20006254e-01, 1.35003127e-01, 1.50000000e-01]),\n",
       " <BarContainer object of 10 artists>)"
      ]
     },
     "execution_count": 125,
     "metadata": {},
     "output_type": "execute_result"
    },
    {
     "data": {
      "image/png": "[encoded data removed]",
      "text/plain": [
       "<Figure size 640x480 with 1 Axes>"
      ]
     },
     "metadata": {},
     "output_type": "display_data"
    }
   ],
   "source": [
    "plt.hist(tmp.thresholds_test)"
   ]
  },
  {
   "cell_type": "code",
   "execution_count": 126,
   "metadata": {},
   "outputs": [
    {
     "data": {
      "text/plain": [
       "<matplotlib.collections.PathCollection at 0x3b7e449d0>"
      ]
     },
     "execution_count": 126,
     "metadata": {},
     "output_type": "execute_result"
    },
    {
     "data": {
      "image/png": "[encoded data removed]",
      "text/plain": [
       "<Figure size 640x480 with 1 Axes>"
      ]
     },
     "metadata": {},
     "output_type": "display_data"
    }
   ],
   "source": [
    "mat_train = sp.csc_matrix(tmp.mat_labels_thresholded[:tmp.n_train, :])\n",
    "mat_val = sp.csc_matrix(tmp.mat_labels_thresholded[tmp.n_train:, :])\n",
    "\n",
    "total_train = np.squeeze(np.array(mat_train.sum(axis=0)))\n",
    "total_val = np.squeeze(np.array(mat_val.sum(axis=0)))\n",
    "                       \n",
    "plt.scatter(total_train, total_val)\n",
    "# plt.xlim([0, 50])"
   ]
  },
  {
   "cell_type": "code",
   "execution_count": 114,
   "metadata": {},
   "outputs": [
    {
     "data": {
      "text/plain": [
       "1.0"
      ]
     },
     "execution_count": 114,
     "metadata": {},
     "output_type": "execute_result"
    }
   ],
   "source": [
    "np.ceil(0.1)"
   ]
  },
  {
   "cell_type": "code",
   "execution_count": null,
   "metadata": {},
   "outputs": [],
   "source": [
    "arr_th = [0.01, 0.03, 0.05, 0.07, 0.1, 0.15, 0.2, 0.3]\n",
    "arr_f1 = []\n",
    "for th in arr_th:\n",
    "    dict_pred = tmp.create_predictions(threshold_weighted_labels=th)\n",
    "    for k in dict_val_species.keys():\n",
    "        if k not in dict_pred.keys():\n",
    "            dict_pred[k] = []\n",
    "    f1 = gpu.compute_f1_score_dicts(dict_val_species, dict_pred)\n",
    "    arr_f1.append(f1)"
   ]
  },
  {
   "cell_type": "code",
   "execution_count": 55,
   "metadata": {},
   "outputs": [
    {
     "name": "stdout",
     "output_type": "stream",
     "text": [
      "F1 scores 20 km:\n",
      "Th: 0.01, F1: 0.17815909998542828\n",
      "Th: 0.03, F1: 0.22171562850602888\n",
      "Th: 0.05, F1: 0.2550898257417876\n",
      "Th: 0.07, F1: 0.2813144225923728\n",
      "Th: 0.1, F1: 0.31055241911795095\n",
      "Th: 0.15, F1: 0.33787610690510994\n",
      "Th: 0.2, F1: 0.34126959671664947\n",
      "Th: 0.3, F1: 0.29877385480062507\n"
     ]
    }
   ],
   "source": [
    "print('F1 scores 20 km:')\n",
    "for th, f1 in zip(arr_th, arr_f1):\n",
    "    print(f'Th: {th}, F1: {f1}')"
   ]
  },
  {
   "cell_type": "code",
   "execution_count": 51,
   "metadata": {},
   "outputs": [
    {
     "name": "stdout",
     "output_type": "stream",
     "text": [
      "Th: 0.01, F1: 0.1993253455507175\n",
      "Th: 0.03, F1: 0.2339567857022029\n",
      "Th: 0.05, F1: 0.26306820509513906\n",
      "Th: 0.07, F1: 0.2874202966047946\n",
      "Th: 0.1, F1: 0.3149615778560888\n",
      "Th: 0.15, F1: 0.34330129624560624\n",
      "Th: 0.2, F1: 0.35171820741153903\n",
      "Th: 0.3, F1: 0.32425812748704147\n"
     ]
    }
   ],
   "source": [
    "for th, f1 in zip(arr_th, arr_f1):\n",
    "    print(f'Th: {th}, F1: {f1}')"
   ]
  },
  {
   "cell_type": "code",
   "execution_count": 169,
   "metadata": {},
   "outputs": [],
   "source": [
    "from sklearn.feature_selection import SelectKBest, mutual_info_classif\n",
    "tmp_x = tmp.df_train.drop(columns=['surveyId', 'year', 'geometry'])\n",
    "tmp_y = sp.csc_matrix(tmp.mat_labels[:tmp.n_train, :])\n",
    "# tmp_y = tmp.mat_labels[:tmp.n_train, :][:, 0:10].toarray()"
   ]
  },
  {
   "cell_type": "code",
   "execution_count": 181,
   "metadata": {},
   "outputs": [
    {
     "name": "stdout",
     "output_type": "stream",
     "text": [
      "lat,  0.035\n",
      "lng,  0.028\n",
      "Bio12,  0.021\n",
      "Bio9,  0.021\n",
      "Bio10,  0.020\n",
      "Bio4,  0.019\n",
      "Bio14,  0.019\n",
      "Bio1,  0.018\n",
      "Bio17,  0.018\n",
      "Bio18,  0.017\n",
      "Bio5,  0.017\n",
      "Bio2,  0.016\n",
      "Bio19,  0.016\n",
      "Bio8,  0.016\n",
      "Bio11,  0.016\n",
      "Bio15,  0.015\n",
      "Bio7,  0.015\n",
      "Elevation,  0.015\n",
      "Bio16,  0.015\n",
      "Bio3,  0.014\n",
      "Bio6,  0.013\n",
      "LandCover,  0.011\n",
      "Bio13,  0.011\n"
     ]
    }
   ],
   "source": [
    "\n",
    "# for ii in tqdm(range(100)):\n",
    "#     tmp_y_current = tmp_y[:, ii].toarray().flatten()\n",
    "#     mi_scores = mutual_info_classif(tmp_x, tmp_y_current)\n",
    "#     if ii == 0:\n",
    "#         mi_scores_sum = mi_scores\n",
    "#     else:\n",
    "#         mi_scores_sum += mi_scores\n",
    "# n_total = ii + 1\n",
    "# mi_scores_sum /= n_total\n",
    "inds_sorted = np.argsort(mi_scores_sum)[::-1]\n",
    "for ind in inds_sorted:\n",
    "    print(f'{tmp_x.columns[ind]},  {mi_scores_sum[ind]:.3f}')\n",
    "\n",
    "# # Assuming X_train is your training data matrix and y_train are the corresponding labels\n",
    "# # Select the top 50 features based on mutual information\n",
    "# k_best = SelectKBest(score_func=mutual_info_classif, k=10)\n",
    "# X_train_selected = k_best.fit_transform(tmp_x, tmp_y_current)\n",
    "\n",
    "# # Get the indices of the selected features\n",
    "# selected_feature_indices = k_best.get_support(indices=True)\n",
    "\n",
    "# # Extract the names of the selected features\n",
    "# selected_feature_names = [tmp_x.columns[i] for i in selected_feature_indices]\n"
   ]
  },
  {
   "cell_type": "code",
   "execution_count": 172,
   "metadata": {},
   "outputs": [
    {
     "data": {
      "text/plain": [
       "(array([ 1,  4,  8, 12, 13, 14, 17, 18, 20, 21]),\n",
       " ['lat',\n",
       "  'Bio1',\n",
       "  'Bio5',\n",
       "  'Bio9',\n",
       "  'Bio10',\n",
       "  'Bio11',\n",
       "  'Bio14',\n",
       "  'Bio15',\n",
       "  'Bio17',\n",
       "  'Bio18'])"
      ]
     },
     "execution_count": 172,
     "metadata": {},
     "output_type": "execute_result"
    }
   ],
   "source": [
    "# selected_feature_indices, selected_feature_names\n"
   ]
  },
  {
   "cell_type": "code",
   "execution_count": 174,
   "metadata": {},
   "outputs": [
    {
     "data": {
      "text/plain": [
       "array([0.01869075, 0.03116447, 0.00792735, 0.01246957, 0.0258363 ,\n",
       "       0.00950965, 0.01015124, 0.01265102, 0.02240077, 0.0168704 ,\n",
       "       0.00990568, 0.00980211, 0.02669687, 0.02475074, 0.02442534,\n",
       "       0.01182299, 0.0082501 , 0.02569615, 0.02619619, 0.00998971,\n",
       "       0.0234723 , 0.03192614, 0.00774625])"
      ]
     },
     "execution_count": 174,
     "metadata": {},
     "output_type": "execute_result"
    }
   ],
   "source": [
    "\n",
    "mi_scores"
   ]
  },
  {
   "cell_type": "code",
   "execution_count": 166,
   "metadata": {},
   "outputs": [
    {
     "data": {
      "text/plain": [
       "array([0.01869074, 0.03117365, 0.00849223, 0.01268957, 0.02557244,\n",
       "       0.00960881, 0.01067437, 0.01269961, 0.0220259 , 0.01720177,\n",
       "       0.00941958, 0.00979859, 0.02690951, 0.02532465, 0.02443275,\n",
       "       0.01157898, 0.00791728, 0.0260706 , 0.02660133, 0.00986242,\n",
       "       0.02316263, 0.031937  , 0.00727938])"
      ]
     },
     "execution_count": 166,
     "metadata": {},
     "output_type": "execute_result"
    }
   ],
   "source": [
    "assert k_best.scores_.shape[0] == tmp_x.shape[1]\n",
    "k_best.scores_"
   ]
  },
  {
   "cell_type": "code",
   "execution_count": 160,
   "metadata": {},
   "outputs": [
    {
     "data": {
      "text/plain": [
       "array([[1., 1., 1., ..., 1., 1., 1.],\n",
       "       [0., 0., 0., ..., 0., 0., 0.],\n",
       "       [0., 0., 0., ..., 0., 0., 0.],\n",
       "       ...,\n",
       "       [0., 0., 0., ..., 0., 0., 0.],\n",
       "       [0., 0., 0., ..., 0., 0., 0.],\n",
       "       [0., 0., 0., ..., 0., 0., 0.]], dtype=float32)"
      ]
     },
     "execution_count": 160,
     "metadata": {},
     "output_type": "execute_result"
    }
   ],
   "source": [
    "tmp.mat_labels[:tmp.n_train, :][:, 0:10].toarray()"
   ]
  }
 ],
 "metadata": {
  "kernelspec": {
   "display_name": "geoclef",
   "language": "python",
   "name": "python3"
  },
  "language_info": {
   "codemirror_mode": {
    "name": "ipython",
    "version": 3
   },
   "file_extension": ".py",
   "mimetype": "text/x-python",
   "name": "python",
   "nbconvert_exporter": "python",
   "pygments_lexer": "ipython3",
   "version": "3.10.14"
  }
 },
 "nbformat": 4,
 "nbformat_minor": 2
}
