{
 "cells": [
  {
   "cell_type": "code",
   "execution_count": null,
   "metadata": {},
   "outputs": [
    {
     "name": "stdout",
     "output_type": "stream",
     "text": [
      "The autoreload extension is already loaded. To reload it, use:\n",
      "  %reload_ext autoreload\n"
     ]
    }
   ],
   "source": [
    "%load_ext autoreload\n",
    "%autoreload 2"
   ]
  },
  {
   "cell_type": "code",
   "execution_count": null,
   "metadata": {},
   "outputs": [],
   "source": [
    "import os, sys\n",
    "import numpy as np \n",
    "import pandas as pd \n",
    "import matplotlib.pyplot as plt\n",
    "import seaborn as sns\n",
    "import scipy.sparse as sp\n",
    "from tqdm import tqdm, tqdm_notebook\n",
    "sys.path.append('../../reproducible_figures/scripts/')\n",
    "import rep_fig_vis as rfv\n",
    "sys.path.append('../scripts/')\n",
    "from loadpaths_glc import loadpaths\n",
    "import data_loading_utils as dlu\n",
    "import glc_prediction_utils as gpu\n",
    "path_dict = loadpaths()"
   ]
  },
  {
   "cell_type": "code",
   "execution_count": null,
   "metadata": {},
   "outputs": [
    {
     "name": "stdout",
     "output_type": "stream",
     "text": [
      "Dropped PO data because takes ages with geometry\n",
      "Columns dropped: ['taxonRank', 'geoUncertaintyInM', 'date', 'areaInM2', 'publisher', 'month', 'day', 'region', 'dayOfYear', 'country']\n",
      "Dropped 49637/1483637 duplicates in df_train_pa_species\n",
      "Created validation set with 8898 entries\n"
     ]
    }
   ],
   "source": [
    "dict_dfs, dict_dfs_species, dict_val_species = dlu.load_metadata(create_geo=True, add_h3=False,\n",
    "                                               create_validation_set=True)\n",
    "# type(dict_dfs['df_test_pa'])"
   ]
  },
  {
   "cell_type": "markdown",
   "metadata": {},
   "source": [
    "## Average within buffer with threshold"
   ]
  },
  {
   "cell_type": "code",
   "execution_count": null,
   "metadata": {},
   "outputs": [
    {
     "name": "stdout",
     "output_type": "stream",
     "text": [
      "Dropped PO data because takes ages with geometry\n",
      "Columns dropped: ['taxonRank', 'geoUncertaintyInM', 'date', 'areaInM2', 'publisher', 'month', 'day', 'region', 'dayOfYear', 'country']\n",
      "Dropped 49637/1483637 duplicates in df_train_pa_species\n",
      "Warning: 35 nans in elevation data\n",
      "Warning: 35 nans in elevation data\n",
      "    LandCover  count\n",
      "0         0.0     25\n",
      "1         1.0     15\n",
      "2         2.0     18\n",
      "3         4.0     22\n",
      "4         5.0     16\n",
      "5         8.0     20\n",
      "6         9.0     16\n",
      "7        10.0     19\n",
      "8        11.0     14\n",
      "9        12.0     17\n",
      "10       13.0     16\n",
      "11       14.0     17\n",
      "12       15.0     11\n",
      "13       16.0     12\n",
      "14       17.0     13\n"
     ]
    },
    {
     "name": "stderr",
     "output_type": "stream",
     "text": [
      " 43%|████▎     | 2049/4716 [00:13<00:17, 149.13it/s]"
     ]
    },
    {
     "name": "stdout",
     "output_type": "stream",
     "text": [
      "No nearby points for surveyId: 1695841 (LC: 13.0)\n"
     ]
    },
    {
     "name": "stderr",
     "output_type": "stream",
     "text": [
      "100%|██████████| 4716/4716 [00:31<00:00, 151.01it/s]"
     ]
    },
    {
     "name": "stdout",
     "output_type": "stream",
     "text": [
      "Predictions done (4715 total). No nearby points: 1.\n",
      "Saved predictions to: /Users/t.vanderplas/data_offline/data_geolifeclef2024/predictions_glc2024/GLC24_vdplasthijs_predictions-buffer-lc-0.3-lc-specific_2024-04-18_22-53.csv\n"
     ]
    },
    {
     "name": "stderr",
     "output_type": "stream",
     "text": [
      "\n"
     ]
    }
   ],
   "source": [
    "val_or_test = 'test'\n",
    "\n",
    "dict_dfs, dict_dfs_species, dict_val_species = dlu.load_metadata(create_geo=True, add_h3=False,\n",
    "                                create_validation_set=True if val_or_test == 'val' else False)\n",
    "tmp = gpu.predict_using_buffer(dict_dfs=dict_dfs, dict_dfs_species=dict_dfs_species,\n",
    "                            save_pred=True, method=f'lc-specific', buffer_deg=0.3,\n",
    "                            eval_mode=val_or_test)\n",
    "if val_or_test == 'val':\n",
    "    f1_score = gpu.compute_f1_score_dicts(dict_val_species, tmp)\n",
    "    print(f'F1 score: {f1_score}')"
   ]
  },
  {
   "cell_type": "markdown",
   "metadata": {},
   "source": [
    "## Label propagation"
   ]
  },
  {
   "cell_type": "code",
   "execution_count": null,
   "metadata": {},
   "outputs": [
    {
     "name": "stdout",
     "output_type": "stream",
     "text": [
      "Columns dropped: ['taxonRank', 'geoUncertaintyInM', 'date', 'areaInM2', 'publisher', 'month', 'day', 'region', 'dayOfYear', 'country']\n",
      "Dropped 49637/1483637 duplicates in df_train_pa_species\n",
      "Dropped 135101/5079797 duplicates in df_train_po_species\n"
     ]
    }
   ],
   "source": [
    "(df_train, df_test), (df_train_species, df_val_species) = dlu.create_full_pa_ds(val_or_test='test')"
   ]
  },
  {
   "cell_type": "code",
   "execution_count": 253,
   "metadata": {},
   "outputs": [
    {
     "name": "stdout",
     "output_type": "stream",
     "text": [
      "Dropped PO data because takes ages with geometry\n",
      "Columns dropped: ['taxonRank', 'geoUncertaintyInM', 'date', 'areaInM2', 'publisher', 'month', 'day', 'region', 'dayOfYear', 'country']\n",
      "Dropped 49637/1483637 duplicates in df_train_pa_species\n",
      "Nans in elevation data: 35. Manually fixing now.\n",
      "Nans in elevation data fixed\n",
      "Nans in elevation data fixed\n",
      "WARNING: preload_data is False. Timestamp will be overwritten.\n",
      "Creating sparse weight matrix (93703 iterations)\n"
     ]
    },
    {
     "name": "stderr",
     "output_type": "stream",
     "text": [
      "93703it [03:46, 414.00it/s]\n"
     ]
    },
    {
     "name": "stdout",
     "output_type": "stream",
     "text": [
      "Weights & metdata not saved to file\n"
     ]
    }
   ],
   "source": [
    "tmp = gpu.LabelPropagation(dist_neigh_meter=30000,\n",
    "                           val_or_test='test', method_weights='pca_dist',\n",
    "                           filter_lc_exact_match=False, zscore_features=False,\n",
    "                           preload_weights=False, weights_preload_timestamp='20240421-2043',\n",
    "                           preload_labels=True, labels_preload_timestamp='20240520-1512')"
   ]
  },
  {
   "cell_type": "code",
   "execution_count": 218,
   "metadata": {},
   "outputs": [
    {
     "data": {
      "text/plain": [
       "<93668x93668 sparse matrix of type '<class 'numpy.float64'>'\n",
       "\twith 18180944 stored elements in Compressed Sparse Row format>"
      ]
     },
     "execution_count": 218,
     "metadata": {},
     "output_type": "execute_result"
    }
   ],
   "source": [
    "tmp.load_cos_sim()\n",
    "tmp.mat_cos_label"
   ]
  },
  {
   "cell_type": "code",
   "execution_count": 219,
   "metadata": {},
   "outputs": [
    {
     "name": "stderr",
     "output_type": "stream",
     "text": [
      "  0%|          | 0/5000 [00:00<?, ?it/s]/Users/t.vanderplas/anaconda3/envs/geoclef/lib/python3.10/site-packages/scipy/sparse/_index.py:136: SparseEfficiencyWarning: Changing the sparsity structure of a csr_matrix is expensive. lil_matrix is more efficient.\n",
      "  self._set_arrayXarray_sparse(i, j, x)\n",
      "100%|██████████| 5000/5000 [00:12<00:00, 400.70it/s]\n",
      "  0%|          | 0/20 [00:00<?, ?it/s]/Users/t.vanderplas/anaconda3/envs/geoclef/lib/python3.10/site-packages/scipy/sparse/_index.py:145: SparseEfficiencyWarning: Changing the sparsity structure of a csr_matrix is expensive. lil_matrix is more efficient.\n",
      "  self._set_arrayXarray(i, j, x)\n",
      "100%|██████████| 20/20 [03:57<00:00, 11.87s/it]\n"
     ]
    }
   ],
   "source": [
    "def get_feat_diff(i_feat, random_points, mat_feat, mat_sim):\n",
    "    new_feat_mat = sp.csr_matrix((mat_sim.shape[0], mat_sim.shape[0]))\n",
    "    for i in random_points:\n",
    "        nz_inds = mat_sim[i, :].nonzero()[1]\n",
    "        ind_feat = mat_feat[i, i_feat]\n",
    "        curr_feat = mat_feat[nz_inds, i_feat]\n",
    "        new_feat_mat[i, nz_inds] = np.abs(ind_feat - curr_feat)\n",
    "    return new_feat_mat\n",
    "\n",
    "mat_feat = tmp.df_features_merged[['Elevation'] + [f'Bio{x}' for x in range(1, 20)]].values\n",
    "random_points = np.random.choice(a=mat_feat.shape[0], size=5000, replace=False)\n",
    "mat_sim = tmp.mat_cos_label\n",
    "n_feat = mat_feat.shape[1]\n",
    "\n",
    "tmp_new_mat = sp.csr_matrix((mat_sim.shape[0], mat_sim.shape[1]))\n",
    "for i in tqdm(random_points):\n",
    "    nz_inds = mat_sim[i, :].nonzero()[1]\n",
    "    tmp_new_mat[i, nz_inds] = mat_sim[i, nz_inds]\n",
    "nz_inds_all = tmp_new_mat.nonzero()\n",
    "\n",
    "data_labels = mat_sim[nz_inds_all].A.flatten()\n",
    "data_features = np.zeros((len(data_labels), n_feat))\n",
    "for i_feat in tqdm(range(n_feat)):\n",
    "    new_feat_mat = get_feat_diff(i_feat, random_points, mat_feat, mat_sim)\n",
    "    data_features[:, i_feat] = new_feat_mat[nz_inds_all].A.flatten()"
   ]
  },
  {
   "cell_type": "code",
   "execution_count": 220,
   "metadata": {},
   "outputs": [
    {
     "data": {
      "text/html": [
       "<table class=\"simpletable\">\n",
       "<caption>OLS Regression Results</caption>\n",
       "<tr>\n",
       "  <th>Dep. Variable:</th>            <td>y</td>        <th>  R-squared:         </th>  <td>   0.022</td> \n",
       "</tr>\n",
       "<tr>\n",
       "  <th>Model:</th>                   <td>OLS</td>       <th>  Adj. R-squared:    </th>  <td>   0.022</td> \n",
       "</tr>\n",
       "<tr>\n",
       "  <th>Method:</th>             <td>Least Squares</td>  <th>  F-statistic:       </th>  <td>   1078.</td> \n",
       "</tr>\n",
       "<tr>\n",
       "  <th>Date:</th>             <td>Sat, 18 May 2024</td> <th>  Prob (F-statistic):</th>   <td>  0.00</td>  \n",
       "</tr>\n",
       "<tr>\n",
       "  <th>Time:</th>                 <td>23:45:53</td>     <th>  Log-Likelihood:    </th> <td>4.7176e+05</td>\n",
       "</tr>\n",
       "<tr>\n",
       "  <th>No. Observations:</th>      <td>958586</td>      <th>  AIC:               </th> <td>-9.435e+05</td>\n",
       "</tr>\n",
       "<tr>\n",
       "  <th>Df Residuals:</th>          <td>958565</td>      <th>  BIC:               </th> <td>-9.432e+05</td>\n",
       "</tr>\n",
       "<tr>\n",
       "  <th>Df Model:</th>              <td>    20</td>      <th>                     </th>      <td> </td>    \n",
       "</tr>\n",
       "<tr>\n",
       "  <th>Covariance Type:</th>      <td>nonrobust</td>    <th>                     </th>      <td> </td>    \n",
       "</tr>\n",
       "</table>\n",
       "<table class=\"simpletable\">\n",
       "<tr>\n",
       "    <td></td>       <th>coef</th>     <th>std err</th>      <th>t</th>      <th>P>|t|</th>  <th>[0.025</th>    <th>0.975]</th>  \n",
       "</tr>\n",
       "<tr>\n",
       "  <th>const</th> <td>   -0.0945</td> <td>    0.004</td> <td>  -23.914</td> <td> 0.000</td> <td>   -0.102</td> <td>   -0.087</td>\n",
       "</tr>\n",
       "<tr>\n",
       "  <th>x1</th>    <td>    0.1479</td> <td>    0.004</td> <td>   33.132</td> <td> 0.000</td> <td>    0.139</td> <td>    0.157</td>\n",
       "</tr>\n",
       "<tr>\n",
       "  <th>x2</th>    <td>   -0.0550</td> <td>    0.007</td> <td>   -8.234</td> <td> 0.000</td> <td>   -0.068</td> <td>   -0.042</td>\n",
       "</tr>\n",
       "<tr>\n",
       "  <th>x3</th>    <td>    0.1246</td> <td>    0.004</td> <td>   28.830</td> <td> 0.000</td> <td>    0.116</td> <td>    0.133</td>\n",
       "</tr>\n",
       "<tr>\n",
       "  <th>x4</th>    <td>   -0.0047</td> <td>    0.001</td> <td>   -4.129</td> <td> 0.000</td> <td>   -0.007</td> <td>   -0.002</td>\n",
       "</tr>\n",
       "<tr>\n",
       "  <th>x5</th>    <td>   -0.0779</td> <td>    0.005</td> <td>  -15.891</td> <td> 0.000</td> <td>   -0.088</td> <td>   -0.068</td>\n",
       "</tr>\n",
       "<tr>\n",
       "  <th>x6</th>    <td>   -0.0735</td> <td>    0.005</td> <td>  -13.925</td> <td> 0.000</td> <td>   -0.084</td> <td>   -0.063</td>\n",
       "</tr>\n",
       "<tr>\n",
       "  <th>x7</th>    <td>   -0.2865</td> <td>    0.007</td> <td>  -39.847</td> <td> 0.000</td> <td>   -0.301</td> <td>   -0.272</td>\n",
       "</tr>\n",
       "<tr>\n",
       "  <th>x8</th>    <td>    0.1547</td> <td>    0.007</td> <td>   22.812</td> <td> 0.000</td> <td>    0.141</td> <td>    0.168</td>\n",
       "</tr>\n",
       "<tr>\n",
       "  <th>x9</th>    <td>    0.0140</td> <td>    0.001</td> <td>   10.480</td> <td> 0.000</td> <td>    0.011</td> <td>    0.017</td>\n",
       "</tr>\n",
       "<tr>\n",
       "  <th>x10</th>   <td>    0.0185</td> <td>    0.002</td> <td>    8.450</td> <td> 0.000</td> <td>    0.014</td> <td>    0.023</td>\n",
       "</tr>\n",
       "<tr>\n",
       "  <th>x11</th>   <td>    0.1008</td> <td>    0.006</td> <td>   18.029</td> <td> 0.000</td> <td>    0.090</td> <td>    0.112</td>\n",
       "</tr>\n",
       "<tr>\n",
       "  <th>x12</th>   <td>    0.0792</td> <td>    0.007</td> <td>   11.222</td> <td> 0.000</td> <td>    0.065</td> <td>    0.093</td>\n",
       "</tr>\n",
       "<tr>\n",
       "  <th>x13</th>   <td>    0.3118</td> <td>    0.011</td> <td>   29.542</td> <td> 0.000</td> <td>    0.291</td> <td>    0.333</td>\n",
       "</tr>\n",
       "<tr>\n",
       "  <th>x14</th>   <td>    0.1548</td> <td>    0.007</td> <td>   23.815</td> <td> 0.000</td> <td>    0.142</td> <td>    0.168</td>\n",
       "</tr>\n",
       "<tr>\n",
       "  <th>x15</th>   <td>    0.0072</td> <td>    0.005</td> <td>    1.377</td> <td> 0.169</td> <td>   -0.003</td> <td>    0.018</td>\n",
       "</tr>\n",
       "<tr>\n",
       "  <th>x16</th>   <td>    0.1484</td> <td>    0.004</td> <td>   37.233</td> <td> 0.000</td> <td>    0.141</td> <td>    0.156</td>\n",
       "</tr>\n",
       "<tr>\n",
       "  <th>x17</th>   <td>   -0.3348</td> <td>    0.010</td> <td>  -34.278</td> <td> 0.000</td> <td>   -0.354</td> <td>   -0.316</td>\n",
       "</tr>\n",
       "<tr>\n",
       "  <th>x18</th>   <td>   -0.0212</td> <td>    0.007</td> <td>   -3.087</td> <td> 0.002</td> <td>   -0.035</td> <td>   -0.008</td>\n",
       "</tr>\n",
       "<tr>\n",
       "  <th>x19</th>   <td>   -0.0263</td> <td>    0.003</td> <td>   -8.260</td> <td> 0.000</td> <td>   -0.033</td> <td>   -0.020</td>\n",
       "</tr>\n",
       "<tr>\n",
       "  <th>x20</th>   <td>   -0.0204</td> <td>    0.004</td> <td>   -4.700</td> <td> 0.000</td> <td>   -0.029</td> <td>   -0.012</td>\n",
       "</tr>\n",
       "</table>\n",
       "<table class=\"simpletable\">\n",
       "<tr>\n",
       "  <th>Omnibus:</th>       <td>107597.199</td> <th>  Durbin-Watson:     </th>  <td>   1.595</td> \n",
       "</tr>\n",
       "<tr>\n",
       "  <th>Prob(Omnibus):</th>   <td> 0.000</td>   <th>  Jarque-Bera (JB):  </th> <td>147858.490</td>\n",
       "</tr>\n",
       "<tr>\n",
       "  <th>Skew:</th>            <td> 0.917</td>   <th>  Prob(JB):          </th>  <td>    0.00</td> \n",
       "</tr>\n",
       "<tr>\n",
       "  <th>Kurtosis:</th>        <td> 3.585</td>   <th>  Cond. No.          </th>  <td>    387.</td> \n",
       "</tr>\n",
       "</table><br/><br/>Notes:<br/>[1] Standard Errors assume that the covariance matrix of the errors is correctly specified."
      ],
      "text/latex": [
       "\\begin{center}\n",
       "\\begin{tabular}{lclc}\n",
       "\\toprule\n",
       "\\textbf{Dep. Variable:}    &        y         & \\textbf{  R-squared:         } &     0.022   \\\\\n",
       "\\textbf{Model:}            &       OLS        & \\textbf{  Adj. R-squared:    } &     0.022   \\\\\n",
       "\\textbf{Method:}           &  Least Squares   & \\textbf{  F-statistic:       } &     1078.   \\\\\n",
       "\\textbf{Date:}             & Sat, 18 May 2024 & \\textbf{  Prob (F-statistic):} &     0.00    \\\\\n",
       "\\textbf{Time:}             &     23:45:53     & \\textbf{  Log-Likelihood:    } & 4.7176e+05  \\\\\n",
       "\\textbf{No. Observations:} &      958586      & \\textbf{  AIC:               } & -9.435e+05  \\\\\n",
       "\\textbf{Df Residuals:}     &      958565      & \\textbf{  BIC:               } & -9.432e+05  \\\\\n",
       "\\textbf{Df Model:}         &          20      & \\textbf{                     } &             \\\\\n",
       "\\textbf{Covariance Type:}  &    nonrobust     & \\textbf{                     } &             \\\\\n",
       "\\bottomrule\n",
       "\\end{tabular}\n",
       "\\begin{tabular}{lcccccc}\n",
       "               & \\textbf{coef} & \\textbf{std err} & \\textbf{t} & \\textbf{P$> |$t$|$} & \\textbf{[0.025} & \\textbf{0.975]}  \\\\\n",
       "\\midrule\n",
       "\\textbf{const} &      -0.0945  &        0.004     &   -23.914  &         0.000        &       -0.102    &       -0.087     \\\\\n",
       "\\textbf{x1}    &       0.1479  &        0.004     &    33.132  &         0.000        &        0.139    &        0.157     \\\\\n",
       "\\textbf{x2}    &      -0.0550  &        0.007     &    -8.234  &         0.000        &       -0.068    &       -0.042     \\\\\n",
       "\\textbf{x3}    &       0.1246  &        0.004     &    28.830  &         0.000        &        0.116    &        0.133     \\\\\n",
       "\\textbf{x4}    &      -0.0047  &        0.001     &    -4.129  &         0.000        &       -0.007    &       -0.002     \\\\\n",
       "\\textbf{x5}    &      -0.0779  &        0.005     &   -15.891  &         0.000        &       -0.088    &       -0.068     \\\\\n",
       "\\textbf{x6}    &      -0.0735  &        0.005     &   -13.925  &         0.000        &       -0.084    &       -0.063     \\\\\n",
       "\\textbf{x7}    &      -0.2865  &        0.007     &   -39.847  &         0.000        &       -0.301    &       -0.272     \\\\\n",
       "\\textbf{x8}    &       0.1547  &        0.007     &    22.812  &         0.000        &        0.141    &        0.168     \\\\\n",
       "\\textbf{x9}    &       0.0140  &        0.001     &    10.480  &         0.000        &        0.011    &        0.017     \\\\\n",
       "\\textbf{x10}   &       0.0185  &        0.002     &     8.450  &         0.000        &        0.014    &        0.023     \\\\\n",
       "\\textbf{x11}   &       0.1008  &        0.006     &    18.029  &         0.000        &        0.090    &        0.112     \\\\\n",
       "\\textbf{x12}   &       0.0792  &        0.007     &    11.222  &         0.000        &        0.065    &        0.093     \\\\\n",
       "\\textbf{x13}   &       0.3118  &        0.011     &    29.542  &         0.000        &        0.291    &        0.333     \\\\\n",
       "\\textbf{x14}   &       0.1548  &        0.007     &    23.815  &         0.000        &        0.142    &        0.168     \\\\\n",
       "\\textbf{x15}   &       0.0072  &        0.005     &     1.377  &         0.169        &       -0.003    &        0.018     \\\\\n",
       "\\textbf{x16}   &       0.1484  &        0.004     &    37.233  &         0.000        &        0.141    &        0.156     \\\\\n",
       "\\textbf{x17}   &      -0.3348  &        0.010     &   -34.278  &         0.000        &       -0.354    &       -0.316     \\\\\n",
       "\\textbf{x18}   &      -0.0212  &        0.007     &    -3.087  &         0.002        &       -0.035    &       -0.008     \\\\\n",
       "\\textbf{x19}   &      -0.0263  &        0.003     &    -8.260  &         0.000        &       -0.033    &       -0.020     \\\\\n",
       "\\textbf{x20}   &      -0.0204  &        0.004     &    -4.700  &         0.000        &       -0.029    &       -0.012     \\\\\n",
       "\\bottomrule\n",
       "\\end{tabular}\n",
       "\\begin{tabular}{lclc}\n",
       "\\textbf{Omnibus:}       & 107597.199 & \\textbf{  Durbin-Watson:     } &     1.595   \\\\\n",
       "\\textbf{Prob(Omnibus):} &    0.000   & \\textbf{  Jarque-Bera (JB):  } & 147858.490  \\\\\n",
       "\\textbf{Skew:}          &    0.917   & \\textbf{  Prob(JB):          } &      0.00   \\\\\n",
       "\\textbf{Kurtosis:}      &    3.585   & \\textbf{  Cond. No.          } &      387.   \\\\\n",
       "\\bottomrule\n",
       "\\end{tabular}\n",
       "%\\caption{OLS Regression Results}\n",
       "\\end{center}\n",
       "\n",
       "Notes: \\newline\n",
       " [1] Standard Errors assume that the covariance matrix of the errors is correctly specified."
      ],
      "text/plain": [
       "<class 'statsmodels.iolib.summary.Summary'>\n",
       "\"\"\"\n",
       "                            OLS Regression Results                            \n",
       "==============================================================================\n",
       "Dep. Variable:                      y   R-squared:                       0.022\n",
       "Model:                            OLS   Adj. R-squared:                  0.022\n",
       "Method:                 Least Squares   F-statistic:                     1078.\n",
       "Date:                Sat, 18 May 2024   Prob (F-statistic):               0.00\n",
       "Time:                        23:45:53   Log-Likelihood:             4.7176e+05\n",
       "No. Observations:              958586   AIC:                        -9.435e+05\n",
       "Df Residuals:                  958565   BIC:                        -9.432e+05\n",
       "Df Model:                          20                                         \n",
       "Covariance Type:            nonrobust                                         \n",
       "==============================================================================\n",
       "                 coef    std err          t      P>|t|      [0.025      0.975]\n",
       "------------------------------------------------------------------------------\n",
       "const         -0.0945      0.004    -23.914      0.000      -0.102      -0.087\n",
       "x1             0.1479      0.004     33.132      0.000       0.139       0.157\n",
       "x2            -0.0550      0.007     -8.234      0.000      -0.068      -0.042\n",
       "x3             0.1246      0.004     28.830      0.000       0.116       0.133\n",
       "x4            -0.0047      0.001     -4.129      0.000      -0.007      -0.002\n",
       "x5            -0.0779      0.005    -15.891      0.000      -0.088      -0.068\n",
       "x6            -0.0735      0.005    -13.925      0.000      -0.084      -0.063\n",
       "x7            -0.2865      0.007    -39.847      0.000      -0.301      -0.272\n",
       "x8             0.1547      0.007     22.812      0.000       0.141       0.168\n",
       "x9             0.0140      0.001     10.480      0.000       0.011       0.017\n",
       "x10            0.0185      0.002      8.450      0.000       0.014       0.023\n",
       "x11            0.1008      0.006     18.029      0.000       0.090       0.112\n",
       "x12            0.0792      0.007     11.222      0.000       0.065       0.093\n",
       "x13            0.3118      0.011     29.542      0.000       0.291       0.333\n",
       "x14            0.1548      0.007     23.815      0.000       0.142       0.168\n",
       "x15            0.0072      0.005      1.377      0.169      -0.003       0.018\n",
       "x16            0.1484      0.004     37.233      0.000       0.141       0.156\n",
       "x17           -0.3348      0.010    -34.278      0.000      -0.354      -0.316\n",
       "x18           -0.0212      0.007     -3.087      0.002      -0.035      -0.008\n",
       "x19           -0.0263      0.003     -8.260      0.000      -0.033      -0.020\n",
       "x20           -0.0204      0.004     -4.700      0.000      -0.029      -0.012\n",
       "==============================================================================\n",
       "Omnibus:                   107597.199   Durbin-Watson:                   1.595\n",
       "Prob(Omnibus):                  0.000   Jarque-Bera (JB):           147858.490\n",
       "Skew:                           0.917   Prob(JB):                         0.00\n",
       "Kurtosis:                       3.585   Cond. No.                         387.\n",
       "==============================================================================\n",
       "\n",
       "Notes:\n",
       "[1] Standard Errors assume that the covariance matrix of the errors is correctly specified.\n",
       "\"\"\""
      ]
     },
     "execution_count": 220,
     "metadata": {},
     "output_type": "execute_result"
    }
   ],
   "source": [
    "assert data_features.min() >= 0\n",
    "sim_feat = 1 / (1 + data_features)\n",
    "import statsmodels.api as sm\n",
    "X = sm.add_constant(sim_feat)  \n",
    "model = sm.OLS(data_labels, X).fit()\n",
    "model.summary()"
   ]
  },
  {
   "cell_type": "code",
   "execution_count": 228,
   "metadata": {},
   "outputs": [
    {
     "data": {
      "text/plain": [
       "array([17.,  5., 15.,  3., 11., 10., 20., 13.,  8.,  7., 12.,  9., 16.,\n",
       "       14.,  1., 19., 18.,  2.,  6.,  4.])"
      ]
     },
     "execution_count": 228,
     "metadata": {},
     "output_type": "execute_result"
    }
   ],
   "source": [
    "import scipy.stats\n",
    "scipy.stats.rankdata(np.abs(model.tvalues[1:]))"
   ]
  },
  {
   "cell_type": "code",
   "execution_count": null,
   "metadata": {},
   "outputs": [
    {
     "name": "stdout",
     "output_type": "stream",
     "text": [
      "0.1700577452615281\n"
     ]
    },
    {
     "data": {
      "image/png": "[encoded data removed]",
      "text/plain": [
       "<Figure size 640x480 with 1 Axes>"
      ]
     },
     "metadata": {},
     "output_type": "display_data"
    }
   ],
   "source": [
    "df_feat = tmp.df_train[['Elevation', 'Bio1', 'Bio2', 'Bio3', 'Bio4', 'Bio5', 'Bio6', 'Bio7', 'Bio8', 'Bio9', 'Bio10', 'Bio11', 'Bio12', 'Bio13', 'Bio14', 'Bio15', 'Bio16', 'Bio17', 'Bio18', 'Bio19']]\n",
    "# df_feat = tmp.df_train[['LandCover']]\n",
    "focal_ind = 120\n",
    "# cos_use = tmp_cos\n",
    "cos_use = new_cos\n",
    "nz_inds = cos_use[focal_ind, :].nonzero()[1]\n",
    "df_feat = df_feat.iloc[nz_inds, :] - df_feat.iloc[focal_ind, :]\n",
    "dist_arr = df_feat.abs().sum(1).values\n",
    "sim_arr_feat =  1 - dist_arr / dist_arr.max()\n",
    "plt.scatter(sim_arr_feat, cos_use[focal_ind, nz_inds].toarray().flatten(), s=1)\n",
    "plt.xlabel('Feature similarity')\n",
    "plt.ylabel('Label similarity')\n",
    "print(np.corrcoef(sim_arr_feat, cos_use[focal_ind, nz_inds].toarray().flatten())[0, 1])"
   ]
  },
  {
   "cell_type": "code",
   "execution_count": 254,
   "metadata": {},
   "outputs": [
    {
     "name": "stderr",
     "output_type": "stream",
     "text": [
      "  0%|          | 0/50 [00:00<?, ?it/s]/Users/t.vanderplas/anaconda3/envs/geoclef/lib/python3.10/site-packages/scipy/sparse/_base.py:713: RuntimeWarning: divide by zero encountered in divide\n",
      "  recip = np.true_divide(1., other)\n",
      "/Users/t.vanderplas/anaconda3/envs/geoclef/lib/python3.10/site-packages/scipy/sparse/_index.py:136: SparseEfficiencyWarning: Changing the sparsity structure of a csr_matrix is expensive. lil_matrix is more efficient.\n",
      "  self._set_arrayXarray_sparse(i, j, x)\n",
      "Difference between epochs: 6.3: 100%|██████████| 50/50 [01:21<00:00,  1.62s/it]   "
     ]
    },
    {
     "name": "stdout",
     "output_type": "stream",
     "text": [
      "Converged after 50/50 iterations\n"
     ]
    },
    {
     "name": "stderr",
     "output_type": "stream",
     "text": [
      "\n"
     ]
    }
   ],
   "source": [
    "tmp.n_iter = 50\n",
    "_ = tmp.fit()"
   ]
  },
  {
   "cell_type": "markdown",
   "metadata": {},
   "source": [
    "- data points $i, j$: distance $d_{ij} = \\sum_k | f_k(i) - f_k(j) | \\cdot \\nu_k$ such that $ 0 \\leq d_{ij} < \\inf$\n",
    "\n",
    "- similarity then is: $s_{ij} = \\frac{1}{\\epsilon + d_{ij}}$, such that $ 0 < s_{ij} \\leq \\epsilon^{-1} $ (should therefore $\\epsilon = 1$?)\n",
    "\n",
    "- for satellite images; $f_k(i) = CNN(x_i | \\theta)$ where $\\theta$ is partly trained.\n",
    "- for all others $f_k(i) = g(x_i)$ with no parameters to train. (either unity function, or PCA or something)\n",
    "\n",
    "- For the species labels $y_i$, we define similarity as the cosine similarity: $s_{ij}^l = \\frac{y_i \\cdot y_j}{|| y_i || \\cdot || y_j || }$ such that $0 \\leq s_{ij}^l \\leq 1$\n",
    "\n",
    "\n",
    "Training: \n",
    "- Loss: $L(i, j) = MSE(s_{ij}, s_{ij}^l)$ if geographic distance $i, j < \\tau$, else 0\n",
    "- backprop $\\{\\nu_k, \\theta\\}$\n",
    "- training: 1) take sample $i$, 2) find inds neighbours $< \\tau$, 3) get matrix of $| f_k(i) - f_k(j) |$ (rows $j$, cols $k$), 4) multiply with $\\nu_k$ and col-sum, 5) similarity and MSE loss, 6) backprop.\n",
    "- CNN not sure ... ? "
   ]
  },
  {
   "cell_type": "code",
   "execution_count": 256,
   "metadata": {},
   "outputs": [
    {
     "name": "stderr",
     "output_type": "stream",
     "text": [
      "100%|██████████| 4716/4716 [00:05<00:00, 829.45it/s]\n"
     ]
    },
    {
     "name": "stdout",
     "output_type": "stream",
     "text": [
      "Predictions done. No species found: 22/4716.\n",
      "Saved predictions to: /Users/t.vanderplas/data_offline/data_geolifeclef2024/predictions_glc2024/2024-05-20_15-49_GLC24_vdplasthijs_predictions-label-prop-lc-30000m-0.15.csv\n"
     ]
    },
    {
     "data": {
      "image/png": "[encoded data removed]",
      "text/plain": [
       "<Figure size 640x480 with 1 Axes>"
      ]
     },
     "metadata": {},
     "output_type": "display_data"
    }
   ],
   "source": [
    "threshold_method = 'fixed'\n",
    "threshold_weighted_labels = 0.15\n",
    "save_pred = True\n",
    "\n",
    "dict_pred, count_no_species = tmp.create_predictions(threshold_method=threshold_method,\n",
    "                                   threshold_weighted_labels=threshold_weighted_labels, \n",
    "                                   save_pred=save_pred)\n",
    "\n",
    "ax = plt.subplot(111)\n",
    "ax.hist([len(v) for k, v in dict_pred.items()], bins=np.arange(0, 200, 5),\n",
    "         edgecolor='black', alpha=0.7);\n",
    "ax.set_xlabel('Number of predicted species')\n",
    "ax.set_ylabel('Number of surveys')\n",
    "ax.axvline(np.median([len(v) for k, v in dict_pred.items()]), color='red', linestyle='dashed')\n",
    "\n",
    "## print info in top righ tocrner\n",
    "ax.text(0.98, 0.98, f'Median: {np.median([len(v) for k, v in dict_pred.items()])}',\n",
    "        verticalalignment='top', horizontalalignment='right',\n",
    "        transform=ax.transAxes,\n",
    "        color='black', fontsize=12)\n",
    "\n",
    "ax.text(0.98, 0.93, f'Mean: {np.round(np.mean([len(v) for k, v in dict_pred.items()]), 1)}',\n",
    "        verticalalignment='top', horizontalalignment='right',\n",
    "        transform=ax.transAxes,\n",
    "        color='black', fontsize=12)\n",
    "\n",
    "ax.text(0.98, 0.88, f'Number of PAs with no species: {count_no_species}',\n",
    "        verticalalignment='top', horizontalalignment='right',\n",
    "        transform=ax.transAxes,\n",
    "        color='black', fontsize=12)\n",
    "\n",
    "ax.text(0.98, 0.83, f'Threshold method: {threshold_method}',\n",
    "        verticalalignment='top', horizontalalignment='right',\n",
    "        transform=ax.transAxes,\n",
    "        color='black', fontsize=12)\n",
    "\n",
    "if threshold_method == 'fixed':\n",
    "    ax.text(0.98, 0.78, f'Threshold: {threshold_weighted_labels}',\n",
    "            verticalalignment='top', horizontalalignment='right',\n",
    "            transform=ax.transAxes,\n",
    "            color='black', fontsize=12)"
   ]
  },
  {
   "cell_type": "code",
   "execution_count": 252,
   "metadata": {},
   "outputs": [
    {
     "data": {
      "text/plain": [
       "Text(0, 0.5, 'Val')"
      ]
     },
     "execution_count": 252,
     "metadata": {},
     "output_type": "execute_result"
    },
    {
     "data": {
      "image/png": "[encoded data removed]",
      "text/plain": [
       "<Figure size 640x480 with 1 Axes>"
      ]
     },
     "metadata": {},
     "output_type": "display_data"
    }
   ],
   "source": [
    "mat_train = sp.csc_matrix(tmp.mat_labels_thresholded[:tmp.n_train, :])\n",
    "mat_val = sp.csc_matrix(tmp.mat_labels_thresholded[tmp.n_train:, :])\n",
    "\n",
    "total_train = np.squeeze(np.array(mat_train.sum(axis=0)))\n",
    "total_val = np.squeeze(np.array(mat_val.sum(axis=0)))\n",
    "             \n",
    "expected_slope = len(tmp.df_test) / tmp.n_train\n",
    "x_exp = [0, np.max(total_train)]\n",
    "y_exp = [0, expected_slope * np.max(total_train)]\n",
    "plt.plot(x_exp, y_exp, color='red', linestyle='dashed')\n",
    "\n",
    "plt.scatter(total_train, total_val)\n",
    "plt.title('Number of predictions for each species')\n",
    "plt.xlabel('Train')\n",
    "plt.ylabel('Val')\n",
    "\n",
    "# plt.xlim([0, 50])"
   ]
  },
  {
   "cell_type": "code",
   "execution_count": 248,
   "metadata": {},
   "outputs": [
    {
     "data": {
      "image/png": "[encoded data removed]",
      "text/plain": [
       "<Figure size 640x480 with 1 Axes>"
      ]
     },
     "metadata": {},
     "output_type": "display_data"
    }
   ],
   "source": [
    "plt.hist(tmp.thresholds_test);"
   ]
  },
  {
   "cell_type": "code",
   "execution_count": null,
   "metadata": {},
   "outputs": [],
   "source": [
    "arr_th = [0.01, 0.03, 0.05, 0.07, 0.1, 0.15, 0.2, 0.3]\n",
    "arr_f1 = []\n",
    "for th in arr_th:\n",
    "    dict_pred = tmp.create_predictions(threshold_weighted_labels=th)\n",
    "    for k in dict_val_species.keys():\n",
    "        if k not in dict_pred.keys():\n",
    "            dict_pred[k] = []\n",
    "    f1 = gpu.compute_f1_score_dicts(dict_val_species, dict_pred)\n",
    "    arr_f1.append(f1)"
   ]
  },
  {
   "cell_type": "code",
   "execution_count": null,
   "metadata": {},
   "outputs": [
    {
     "name": "stdout",
     "output_type": "stream",
     "text": [
      "F1 scores 20 km:\n",
      "Th: 0.01, F1: 0.17815909998542828\n",
      "Th: 0.03, F1: 0.22171562850602888\n",
      "Th: 0.05, F1: 0.2550898257417876\n",
      "Th: 0.07, F1: 0.2813144225923728\n",
      "Th: 0.1, F1: 0.31055241911795095\n",
      "Th: 0.15, F1: 0.33787610690510994\n",
      "Th: 0.2, F1: 0.34126959671664947\n",
      "Th: 0.3, F1: 0.29877385480062507\n"
     ]
    }
   ],
   "source": [
    "print('F1 scores 20 km:')\n",
    "for th, f1 in zip(arr_th, arr_f1):\n",
    "    print(f'Th: {th}, F1: {f1}')"
   ]
  },
  {
   "cell_type": "code",
   "execution_count": null,
   "metadata": {},
   "outputs": [
    {
     "name": "stdout",
     "output_type": "stream",
     "text": [
      "Th: 0.01, F1: 0.1993253455507175\n",
      "Th: 0.03, F1: 0.2339567857022029\n",
      "Th: 0.05, F1: 0.26306820509513906\n",
      "Th: 0.07, F1: 0.2874202966047946\n",
      "Th: 0.1, F1: 0.3149615778560888\n",
      "Th: 0.15, F1: 0.34330129624560624\n",
      "Th: 0.2, F1: 0.35171820741153903\n",
      "Th: 0.3, F1: 0.32425812748704147\n"
     ]
    }
   ],
   "source": [
    "for th, f1 in zip(arr_th, arr_f1):\n",
    "    print(f'Th: {th}, F1: {f1}')"
   ]
  }
 ],
 "metadata": {
  "kernelspec": {
   "display_name": "geoclef",
   "language": "python",
   "name": "python3"
  },
  "language_info": {
   "codemirror_mode": {
    "name": "ipython",
    "version": 3
   },
   "file_extension": ".py",
   "mimetype": "text/x-python",
   "name": "python",
   "nbconvert_exporter": "python",
   "pygments_lexer": "ipython3",
   "version": "3.10.14"
  }
 },
 "nbformat": 4,
 "nbformat_minor": 2
}
