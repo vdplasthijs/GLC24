{
 "cells": [
  {
   "cell_type": "code",
   "execution_count": 2,
   "metadata": {},
   "outputs": [],
   "source": [
    "%load_ext autoreload\n",
    "%autoreload 2"
   ]
  },
  {
   "cell_type": "code",
   "execution_count": 4,
   "metadata": {},
   "outputs": [],
   "source": [
    "import os, sys\n",
    "import numpy as np \n",
    "import pandas as pd \n",
    "import matplotlib.pyplot as plt\n",
    "import seaborn as sns\n",
    "import scipy.sparse as sp\n",
    "from tqdm import tqdm, tqdm_notebook\n",
    "sys.path.append('../../reproducible_figures/scripts/')\n",
    "import rep_fig_vis as rfv\n",
    "sys.path.append('../scripts/')\n",
    "from loadpaths_glc import loadpaths\n",
    "import data_loading_utils as dlu\n",
    "import glc_prediction_utils as gpu\n",
    "path_dict = loadpaths()"
   ]
  },
  {
   "cell_type": "code",
   "execution_count": 36,
   "metadata": {},
   "outputs": [
    {
     "name": "stdout",
     "output_type": "stream",
     "text": [
      "Dropped PO data because takes ages with geometry\n",
      "Columns dropped: ['taxonRank', 'geoUncertaintyInM', 'date', 'areaInM2', 'publisher', 'month', 'day', 'region', 'dayOfYear', 'country']\n",
      "Dropped 49637/1483637 duplicates in df_train_pa_species\n",
      "Created validation set with 8898 entries\n"
     ]
    }
   ],
   "source": [
    "dict_dfs, dict_dfs_species, dict_val_species = dlu.load_metadata(create_geo=True, add_h3=False,\n",
    "                                               create_validation_set=True)\n",
    "# type(dict_dfs['df_test_pa'])"
   ]
  },
  {
   "cell_type": "markdown",
   "metadata": {},
   "source": [
    "## Average within buffer with threshold"
   ]
  },
  {
   "cell_type": "code",
   "execution_count": 39,
   "metadata": {},
   "outputs": [
    {
     "name": "stdout",
     "output_type": "stream",
     "text": [
      "Dropped PO data because takes ages with geometry\n",
      "Columns dropped: ['taxonRank', 'geoUncertaintyInM', 'date', 'areaInM2', 'publisher', 'month', 'day', 'region', 'dayOfYear', 'country']\n",
      "Dropped 49637/1483637 duplicates in df_train_pa_species\n",
      "Warning: 35 nans in elevation data\n",
      "Warning: 35 nans in elevation data\n",
      "    LandCover  count\n",
      "0         0.0     25\n",
      "1         1.0     15\n",
      "2         2.0     18\n",
      "3         4.0     22\n",
      "4         5.0     16\n",
      "5         8.0     20\n",
      "6         9.0     16\n",
      "7        10.0     19\n",
      "8        11.0     14\n",
      "9        12.0     17\n",
      "10       13.0     16\n",
      "11       14.0     17\n",
      "12       15.0     11\n",
      "13       16.0     12\n",
      "14       17.0     13\n"
     ]
    },
    {
     "name": "stderr",
     "output_type": "stream",
     "text": [
      " 43%|████▎     | 2049/4716 [00:13<00:17, 149.13it/s]"
     ]
    },
    {
     "name": "stdout",
     "output_type": "stream",
     "text": [
      "No nearby points for surveyId: 1695841 (LC: 13.0)\n"
     ]
    },
    {
     "name": "stderr",
     "output_type": "stream",
     "text": [
      "100%|██████████| 4716/4716 [00:31<00:00, 151.01it/s]"
     ]
    },
    {
     "name": "stdout",
     "output_type": "stream",
     "text": [
      "Predictions done (4715 total). No nearby points: 1.\n",
      "Saved predictions to: /Users/t.vanderplas/data_offline/data_geolifeclef2024/predictions_glc2024/GLC24_vdplasthijs_predictions-buffer-lc-0.3-lc-specific_2024-04-18_22-53.csv\n"
     ]
    },
    {
     "name": "stderr",
     "output_type": "stream",
     "text": [
      "\n"
     ]
    }
   ],
   "source": [
    "val_or_test = 'test'\n",
    "\n",
    "dict_dfs, dict_dfs_species, dict_val_species = dlu.load_metadata(create_geo=True, add_h3=False,\n",
    "                                create_validation_set=True if val_or_test == 'val' else False)\n",
    "tmp = gpu.predict_using_buffer(dict_dfs=dict_dfs, dict_dfs_species=dict_dfs_species,\n",
    "                            save_pred=True, method=f'lc-specific', buffer_deg=0.3,\n",
    "                            eval_mode=val_or_test)\n",
    "if val_or_test == 'val':\n",
    "    f1_score = gpu.compute_f1_score_dicts(dict_val_species, tmp)\n",
    "    print(f'F1 score: {f1_score}')"
   ]
  },
  {
   "cell_type": "markdown",
   "metadata": {},
   "source": [
    "## Label propagation"
   ]
  },
  {
   "cell_type": "code",
   "execution_count": 53,
   "metadata": {},
   "outputs": [
    {
     "name": "stdout",
     "output_type": "stream",
     "text": [
      "Columns dropped: ['taxonRank', 'geoUncertaintyInM', 'date', 'areaInM2', 'publisher', 'month', 'day', 'region', 'dayOfYear', 'country']\n",
      "Dropped 49637/1483637 duplicates in df_train_pa_species\n",
      "Dropped 135101/5079797 duplicates in df_train_po_species\n",
      "Warning: 35 nans in elevation data\n"
     ]
    }
   ],
   "source": [
    "(df_train, df_test), (df_train_species, df_val_species) = dlu.create_full_pa_ds(val_or_test='test')"
   ]
  },
  {
   "cell_type": "code",
   "execution_count": 59,
   "metadata": {},
   "outputs": [
    {
     "data": {
      "text/html": [
       "<div>\n",
       "<style scoped>\n",
       "    .dataframe tbody tr th:only-of-type {\n",
       "        vertical-align: middle;\n",
       "    }\n",
       "\n",
       "    .dataframe tbody tr th {\n",
       "        vertical-align: top;\n",
       "    }\n",
       "\n",
       "    .dataframe thead th {\n",
       "        text-align: right;\n",
       "    }\n",
       "</style>\n",
       "<table border=\"1\" class=\"dataframe\">\n",
       "  <thead>\n",
       "    <tr style=\"text-align: right;\">\n",
       "      <th></th>\n",
       "      <th>speciesId</th>\n",
       "      <th>surveyId</th>\n",
       "    </tr>\n",
       "  </thead>\n",
       "  <tbody>\n",
       "    <tr>\n",
       "      <th>0</th>\n",
       "      <td>6874</td>\n",
       "      <td>212</td>\n",
       "    </tr>\n",
       "    <tr>\n",
       "      <th>1</th>\n",
       "      <td>476</td>\n",
       "      <td>212</td>\n",
       "    </tr>\n",
       "    <tr>\n",
       "      <th>2</th>\n",
       "      <td>11157</td>\n",
       "      <td>212</td>\n",
       "    </tr>\n",
       "    <tr>\n",
       "      <th>3</th>\n",
       "      <td>8784</td>\n",
       "      <td>212</td>\n",
       "    </tr>\n",
       "    <tr>\n",
       "      <th>4</th>\n",
       "      <td>4530</td>\n",
       "      <td>212</td>\n",
       "    </tr>\n",
       "    <tr>\n",
       "      <th>...</th>\n",
       "      <td>...</td>\n",
       "      <td>...</td>\n",
       "    </tr>\n",
       "    <tr>\n",
       "      <th>1483632</th>\n",
       "      <td>53</td>\n",
       "      <td>3919655</td>\n",
       "    </tr>\n",
       "    <tr>\n",
       "      <th>1483633</th>\n",
       "      <td>5071</td>\n",
       "      <td>3919655</td>\n",
       "    </tr>\n",
       "    <tr>\n",
       "      <th>1483634</th>\n",
       "      <td>1889</td>\n",
       "      <td>3919655</td>\n",
       "    </tr>\n",
       "    <tr>\n",
       "      <th>1483635</th>\n",
       "      <td>10600</td>\n",
       "      <td>3919655</td>\n",
       "    </tr>\n",
       "    <tr>\n",
       "      <th>1483636</th>\n",
       "      <td>963</td>\n",
       "      <td>3919655</td>\n",
       "    </tr>\n",
       "  </tbody>\n",
       "</table>\n",
       "<p>1433527 rows × 2 columns</p>\n",
       "</div>"
      ],
      "text/plain": [
       "         speciesId  surveyId\n",
       "0             6874       212\n",
       "1              476       212\n",
       "2            11157       212\n",
       "3             8784       212\n",
       "4             4530       212\n",
       "...            ...       ...\n",
       "1483632         53   3919655\n",
       "1483633       5071   3919655\n",
       "1483634       1889   3919655\n",
       "1483635      10600   3919655\n",
       "1483636        963   3919655\n",
       "\n",
       "[1433527 rows x 2 columns]"
      ]
     },
     "execution_count": 59,
     "metadata": {},
     "output_type": "execute_result"
    }
   ],
   "source": [
    "df_train_species"
   ]
  },
  {
   "cell_type": "markdown",
   "metadata": {},
   "source": [
    "## Label propagation idea:\n",
    "\n",
    "- For each sample, define neighbourhood based on geographic distance to other points (eg 0.2 deg). I think this beats KNN because of huge differences in sampling density. \n",
    "- For two samples, define their weight as 1) some distance function of features like LC / sat / bioclim / soil. Embed features with PCA etc. first to reduce cost and improve metric of computing distance? Possible scale feature similarity with distance decay function.\n",
    "- Implement label propagation algorithm to label test samples, based on weighted voting/average (per species I think) within neighbourhood. \n",
    "- So formally, we would have a G = (V, E, W), where V are the samples, E are defined by geographic distance, W are defined by features. These are all pre-computed. Labels L(V) are then computed iteratively.\n",
    "- Pretty big data set (with PO even more so): use efficient data structures etc. Sparse matrix? Maybe you can do efficient col multiple + sum? Sparse; Save weights as sparse matrix (0 if no edge). Species labels as sparse mat. Then label prop is a matmul between W and L_t.\n",
    "- Defining the (feature) distance function: option 1) optimising this, only feasible for a handful of hyperparams. Option 2) something based on features themselves. PCA is pretty good, other ways of maximising info? LC will be v important but tricky because it is categorical. "
   ]
  },
  {
   "cell_type": "code",
   "execution_count": 103,
   "metadata": {},
   "outputs": [
    {
     "name": "stdout",
     "output_type": "stream",
     "text": [
      "Dropped PO data because takes ages with geometry\n",
      "Columns dropped: ['taxonRank', 'geoUncertaintyInM', 'date', 'areaInM2', 'publisher', 'month', 'day', 'region', 'dayOfYear', 'country']\n",
      "Dropped 49637/1483637 duplicates in df_train_pa_species\n",
      "Z-scored 19 columns\n",
      "Creating sparse weight matrix (93668 iterations)\n"
     ]
    },
    {
     "name": "stderr",
     "output_type": "stream",
     "text": [
      "93668it [05:22, 290.76it/s]"
     ]
    },
    {
     "name": "stdout",
     "output_type": "stream",
     "text": [
      "Weights not saved to file\n",
      "Saved metadata to file\n"
     ]
    },
    {
     "name": "stderr",
     "output_type": "stream",
     "text": [
      "\n"
     ]
    }
   ],
   "source": [
    "tmp = gpu.LabelPropagation(dist_neigh_meter=30000,\n",
    "                           val_or_test='test', method_weights='feature_dist',\n",
    "                           filter_lc_exact_match=False, zscore_features=True,\n",
    "                           preload_labels=True, labels_preload_timestamp='20240421-2043')"
   ]
  },
  {
   "cell_type": "code",
   "execution_count": 104,
   "metadata": {},
   "outputs": [
    {
     "name": "stderr",
     "output_type": "stream",
     "text": [
      "  0%|          | 0/50 [00:00<?, ?it/s]/Users/t.vanderplas/anaconda3/envs/geoclef/lib/python3.10/site-packages/scipy/sparse/_base.py:713: RuntimeWarning: divide by zero encountered in divide\n",
      "  recip = np.true_divide(1., other)\n",
      "/Users/t.vanderplas/anaconda3/envs/geoclef/lib/python3.10/site-packages/scipy/sparse/_index.py:136: SparseEfficiencyWarning: Changing the sparsity structure of a csr_matrix is expensive. lil_matrix is more efficient.\n",
      "  self._set_arrayXarray_sparse(i, j, x)\n",
      "Difference between epochs: 0.9:  66%|██████▌   | 33/50 [00:55<00:28,  1.68s/it]   "
     ]
    },
    {
     "name": "stdout",
     "output_type": "stream",
     "text": [
      "Converged after 34/50 iterations\n"
     ]
    },
    {
     "name": "stderr",
     "output_type": "stream",
     "text": [
      "\n"
     ]
    }
   ],
   "source": [
    "tmp.n_iter = 50\n",
    "_ = tmp.fit()"
   ]
  },
  {
   "cell_type": "code",
   "execution_count": 106,
   "metadata": {},
   "outputs": [
    {
     "name": "stderr",
     "output_type": "stream",
     "text": [
      "100%|██████████| 4716/4716 [00:05<00:00, 826.83it/s]\n"
     ]
    },
    {
     "name": "stdout",
     "output_type": "stream",
     "text": [
      "Predictions done. No species found: 11/4716.\n",
      "Saved predictions to: /Users/t.vanderplas/data_offline/data_geolifeclef2024/predictions_glc2024/GLC24_vdplasthijs_predictions-label-prop-lc-30000m-0.15_2024-04-24_11-30.csv\n"
     ]
    },
    {
     "data": {
      "image/png": "[encoded data removed]",
      "text/plain": [
       "<Figure size 640x480 with 1 Axes>"
      ]
     },
     "metadata": {},
     "output_type": "display_data"
    }
   ],
   "source": [
    "threshold_method = 'fixed'\n",
    "threshold_weighted_labels = 0.15\n",
    "save_pred = True\n",
    "\n",
    "dict_pred, count_no_species = tmp.create_predictions(threshold_method=threshold_method,\n",
    "                                   threshold_weighted_labels=threshold_weighted_labels, \n",
    "                                   save_pred=save_pred)\n",
    "\n",
    "ax = plt.subplot(111)\n",
    "ax.hist([len(v) for k, v in dict_pred.items()], bins=np.arange(0, 200, 5),\n",
    "         edgecolor='black', alpha=0.7);\n",
    "ax.set_xlabel('Number of predicted species')\n",
    "ax.set_ylabel('Number of protected areas')\n",
    "ax.axvline(np.median([len(v) for k, v in dict_pred.items()]), color='red', linestyle='dashed')\n",
    "\n",
    "## print info in top righ tocrner\n",
    "ax.text(0.98, 0.98, f'Median: {np.median([len(v) for k, v in dict_pred.items()])}',\n",
    "        verticalalignment='top', horizontalalignment='right',\n",
    "        transform=ax.transAxes,\n",
    "        color='black', fontsize=12)\n",
    "\n",
    "ax.text(0.98, 0.93, f'Mean: {np.round(np.mean([len(v) for k, v in dict_pred.items()]), 1)}',\n",
    "        verticalalignment='top', horizontalalignment='right',\n",
    "        transform=ax.transAxes,\n",
    "        color='black', fontsize=12)\n",
    "\n",
    "ax.text(0.98, 0.88, f'Number of PAs with no species: {count_no_species}',\n",
    "        verticalalignment='top', horizontalalignment='right',\n",
    "        transform=ax.transAxes,\n",
    "        color='black', fontsize=12)\n",
    "\n",
    "ax.text(0.98, 0.83, f'Threshold method: {threshold_method}',\n",
    "        verticalalignment='top', horizontalalignment='right',\n",
    "        transform=ax.transAxes,\n",
    "        color='black', fontsize=12)\n",
    "\n",
    "if threshold_method == 'fixed':\n",
    "    ax.text(0.98, 0.78, f'Threshold: {threshold_weighted_labels}',\n",
    "            verticalalignment='top', horizontalalignment='right',\n",
    "            transform=ax.transAxes,\n",
    "            color='black', fontsize=12)"
   ]
  },
  {
   "cell_type": "code",
   "execution_count": 81,
   "metadata": {},
   "outputs": [
    {
     "data": {
      "image/png": "[encoded data removed]",
      "text/plain": [
       "<Figure size 640x480 with 1 Axes>"
      ]
     },
     "metadata": {},
     "output_type": "display_data"
    }
   ],
   "source": [
    "plt.hist(tmp.thresholds_test);"
   ]
  },
  {
   "cell_type": "code",
   "execution_count": 82,
   "metadata": {},
   "outputs": [
    {
     "data": {
      "text/plain": [
       "Text(0, 0.5, 'Val')"
      ]
     },
     "execution_count": 82,
     "metadata": {},
     "output_type": "execute_result"
    },
    {
     "data": {
      "image/png": "[encoded data removed]",
      "text/plain": [
       "<Figure size 640x480 with 1 Axes>"
      ]
     },
     "metadata": {},
     "output_type": "display_data"
    }
   ],
   "source": [
    "mat_train = sp.csc_matrix(tmp.mat_labels_thresholded[:tmp.n_train, :])\n",
    "mat_val = sp.csc_matrix(tmp.mat_labels_thresholded[tmp.n_train:, :])\n",
    "\n",
    "total_train = np.squeeze(np.array(mat_train.sum(axis=0)))\n",
    "total_val = np.squeeze(np.array(mat_val.sum(axis=0)))\n",
    "             \n",
    "expected_slope = len(tmp.df_test) / tmp.n_train\n",
    "x_exp = [0, np.max(total_train)]\n",
    "y_exp = [0, expected_slope * np.max(total_train)]\n",
    "plt.plot(x_exp, y_exp, color='red', linestyle='dashed')\n",
    "\n",
    "plt.scatter(total_train, total_val)\n",
    "plt.title('Number of predictions for each species')\n",
    "plt.xlabel('Train')\n",
    "plt.ylabel('Val')\n",
    "\n",
    "# plt.xlim([0, 50])"
   ]
  },
  {
   "cell_type": "code",
   "execution_count": null,
   "metadata": {},
   "outputs": [],
   "source": [
    "arr_th = [0.01, 0.03, 0.05, 0.07, 0.1, 0.15, 0.2, 0.3]\n",
    "arr_f1 = []\n",
    "for th in arr_th:\n",
    "    dict_pred = tmp.create_predictions(threshold_weighted_labels=th)\n",
    "    for k in dict_val_species.keys():\n",
    "        if k not in dict_pred.keys():\n",
    "            dict_pred[k] = []\n",
    "    f1 = gpu.compute_f1_score_dicts(dict_val_species, dict_pred)\n",
    "    arr_f1.append(f1)"
   ]
  },
  {
   "cell_type": "code",
   "execution_count": 55,
   "metadata": {},
   "outputs": [
    {
     "name": "stdout",
     "output_type": "stream",
     "text": [
      "F1 scores 20 km:\n",
      "Th: 0.01, F1: 0.17815909998542828\n",
      "Th: 0.03, F1: 0.22171562850602888\n",
      "Th: 0.05, F1: 0.2550898257417876\n",
      "Th: 0.07, F1: 0.2813144225923728\n",
      "Th: 0.1, F1: 0.31055241911795095\n",
      "Th: 0.15, F1: 0.33787610690510994\n",
      "Th: 0.2, F1: 0.34126959671664947\n",
      "Th: 0.3, F1: 0.29877385480062507\n"
     ]
    }
   ],
   "source": [
    "print('F1 scores 20 km:')\n",
    "for th, f1 in zip(arr_th, arr_f1):\n",
    "    print(f'Th: {th}, F1: {f1}')"
   ]
  },
  {
   "cell_type": "code",
   "execution_count": 51,
   "metadata": {},
   "outputs": [
    {
     "name": "stdout",
     "output_type": "stream",
     "text": [
      "Th: 0.01, F1: 0.1993253455507175\n",
      "Th: 0.03, F1: 0.2339567857022029\n",
      "Th: 0.05, F1: 0.26306820509513906\n",
      "Th: 0.07, F1: 0.2874202966047946\n",
      "Th: 0.1, F1: 0.3149615778560888\n",
      "Th: 0.15, F1: 0.34330129624560624\n",
      "Th: 0.2, F1: 0.35171820741153903\n",
      "Th: 0.3, F1: 0.32425812748704147\n"
     ]
    }
   ],
   "source": [
    "for th, f1 in zip(arr_th, arr_f1):\n",
    "    print(f'Th: {th}, F1: {f1}')"
   ]
  },
  {
   "cell_type": "code",
   "execution_count": 169,
   "metadata": {},
   "outputs": [],
   "source": [
    "from sklearn.feature_selection import SelectKBest, mutual_info_classif\n",
    "tmp_x = tmp.df_train.drop(columns=['surveyId', 'year', 'geometry'])\n",
    "tmp_y = sp.csc_matrix(tmp.mat_labels[:tmp.n_train, :])\n",
    "# tmp_y = tmp.mat_labels[:tmp.n_train, :][:, 0:10].toarray()"
   ]
  },
  {
   "cell_type": "code",
   "execution_count": 1,
   "metadata": {},
   "outputs": [
    {
     "ename": "NameError",
     "evalue": "name 'tmp_y' is not defined",
     "output_type": "error",
     "traceback": [
      "\u001b[0;31m---------------------------------------------------------------------------\u001b[0m",
      "\u001b[0;31mNameError\u001b[0m                                 Traceback (most recent call last)",
      "Cell \u001b[0;32mIn[1], line 1\u001b[0m\n\u001b[0;32m----> 1\u001b[0m \u001b[43mtmp_y\u001b[49m\n",
      "\u001b[0;31mNameError\u001b[0m: name 'tmp_y' is not defined"
     ]
    }
   ],
   "source": [
    "tmp_y"
   ]
  },
  {
   "cell_type": "code",
   "execution_count": 181,
   "metadata": {},
   "outputs": [
    {
     "name": "stdout",
     "output_type": "stream",
     "text": [
      "lat,  0.035\n",
      "lng,  0.028\n",
      "Bio12,  0.021\n",
      "Bio9,  0.021\n",
      "Bio10,  0.020\n",
      "Bio4,  0.019\n",
      "Bio14,  0.019\n",
      "Bio1,  0.018\n",
      "Bio17,  0.018\n",
      "Bio18,  0.017\n",
      "Bio5,  0.017\n",
      "Bio2,  0.016\n",
      "Bio19,  0.016\n",
      "Bio8,  0.016\n",
      "Bio11,  0.016\n",
      "Bio15,  0.015\n",
      "Bio7,  0.015\n",
      "Elevation,  0.015\n",
      "Bio16,  0.015\n",
      "Bio3,  0.014\n",
      "Bio6,  0.013\n",
      "LandCover,  0.011\n",
      "Bio13,  0.011\n"
     ]
    }
   ],
   "source": [
    "\n",
    "# for ii in tqdm(range(100)):\n",
    "#     tmp_y_current = tmp_y[:, ii].toarray().flatten()\n",
    "#     mi_scores = mutual_info_classif(tmp_x, tmp_y_current)\n",
    "#     if ii == 0:\n",
    "#         mi_scores_sum = mi_scores\n",
    "#     else:\n",
    "#         mi_scores_sum += mi_scores\n",
    "# n_total = ii + 1\n",
    "# mi_scores_sum /= n_total\n",
    "inds_sorted = np.argsort(mi_scores_sum)[::-1]\n",
    "for ind in inds_sorted:\n",
    "    print(f'{tmp_x.columns[ind]},  {mi_scores_sum[ind]:.3f}')\n",
    "\n",
    "# # Assuming X_train is your training data matrix and y_train are the corresponding labels\n",
    "# # Select the top 50 features based on mutual information\n",
    "# k_best = SelectKBest(score_func=mutual_info_classif, k=10)\n",
    "# X_train_selected = k_best.fit_transform(tmp_x, tmp_y_current)\n",
    "\n",
    "# # Get the indices of the selected features\n",
    "# selected_feature_indices = k_best.get_support(indices=True)\n",
    "\n",
    "# # Extract the names of the selected features\n",
    "# selected_feature_names = [tmp_x.columns[i] for i in selected_feature_indices]\n"
   ]
  }
 ],
 "metadata": {
  "kernelspec": {
   "display_name": "geoclef",
   "language": "python",
   "name": "python3"
  },
  "language_info": {
   "codemirror_mode": {
    "name": "ipython",
    "version": 3
   },
   "file_extension": ".py",
   "mimetype": "text/x-python",
   "name": "python",
   "nbconvert_exporter": "python",
   "pygments_lexer": "ipython3",
   "version": "3.10.14"
  }
 },
 "nbformat": 4,
 "nbformat_minor": 2
}
