{
 "cells": [
  {
   "cell_type": "code",
   "execution_count": 1,
   "metadata": {},
   "outputs": [],
   "source": [
    "%load_ext autoreload\n",
    "%autoreload 2"
   ]
  },
  {
   "cell_type": "code",
   "execution_count": 2,
   "metadata": {},
   "outputs": [],
   "source": [
    "import os, sys\n",
    "import numpy as np \n",
    "import pandas as pd \n",
    "import matplotlib.pyplot as plt\n",
    "import seaborn as sns\n",
    "from tqdm import tqdm, tqdm_notebook\n",
    "sys.path.append('../../reproducible_figures/scripts/')\n",
    "import rep_fig_vis as rfv\n",
    "sys.path.append('../scripts/')\n",
    "from loadpaths_glc import loadpaths\n",
    "import data_loading_utils as dlu\n",
    "import glc_prediction_utils as gpu\n",
    "path_dict = loadpaths()"
   ]
  },
  {
   "cell_type": "code",
   "execution_count": 36,
   "metadata": {},
   "outputs": [
    {
     "name": "stdout",
     "output_type": "stream",
     "text": [
      "Dropped PO data because takes ages with geometry\n",
      "Columns dropped: ['taxonRank', 'geoUncertaintyInM', 'date', 'areaInM2', 'publisher', 'month', 'day', 'region', 'dayOfYear', 'country']\n",
      "Dropped 49637/1483637 duplicates in df_train_pa_species\n",
      "Created validation set with 8898 entries\n"
     ]
    }
   ],
   "source": [
    "dict_dfs, dict_dfs_species, dict_val_species = dlu.load_metadata(create_geo=True, add_h3=False,\n",
    "                                               create_validation_set=True)\n",
    "# type(dict_dfs['df_test_pa'])"
   ]
  },
  {
   "cell_type": "code",
   "execution_count": 39,
   "metadata": {},
   "outputs": [
    {
     "name": "stdout",
     "output_type": "stream",
     "text": [
      "Dropped PO data because takes ages with geometry\n",
      "Columns dropped: ['taxonRank', 'geoUncertaintyInM', 'date', 'areaInM2', 'publisher', 'month', 'day', 'region', 'dayOfYear', 'country']\n",
      "Dropped 49637/1483637 duplicates in df_train_pa_species\n",
      "Warning: 35 nans in elevation data\n",
      "Warning: 35 nans in elevation data\n",
      "    LandCover  count\n",
      "0         0.0     25\n",
      "1         1.0     15\n",
      "2         2.0     18\n",
      "3         4.0     22\n",
      "4         5.0     16\n",
      "5         8.0     20\n",
      "6         9.0     16\n",
      "7        10.0     19\n",
      "8        11.0     14\n",
      "9        12.0     17\n",
      "10       13.0     16\n",
      "11       14.0     17\n",
      "12       15.0     11\n",
      "13       16.0     12\n",
      "14       17.0     13\n"
     ]
    },
    {
     "name": "stderr",
     "output_type": "stream",
     "text": [
      " 43%|████▎     | 2049/4716 [00:13<00:17, 149.13it/s]"
     ]
    },
    {
     "name": "stdout",
     "output_type": "stream",
     "text": [
      "No nearby points for surveyId: 1695841 (LC: 13.0)\n"
     ]
    },
    {
     "name": "stderr",
     "output_type": "stream",
     "text": [
      "100%|██████████| 4716/4716 [00:31<00:00, 151.01it/s]"
     ]
    },
    {
     "name": "stdout",
     "output_type": "stream",
     "text": [
      "Predictions done (4715 total). No nearby points: 1.\n",
      "Saved predictions to: /Users/t.vanderplas/data_offline/data_geolifeclef2024/predictions_glc2024/GLC24_vdplasthijs_predictions-buffer-lc-0.3-lc-specific_2024-04-18_22-53.csv\n"
     ]
    },
    {
     "name": "stderr",
     "output_type": "stream",
     "text": [
      "\n"
     ]
    }
   ],
   "source": [
    "val_or_test = 'test'\n",
    "\n",
    "dict_dfs, dict_dfs_species, dict_val_species = dlu.load_metadata(create_geo=True, add_h3=False,\n",
    "                                create_validation_set=True if val_or_test == 'val' else False)\n",
    "tmp = gpu.predict_using_buffer(dict_dfs=dict_dfs, dict_dfs_species=dict_dfs_species,\n",
    "                            save_pred=True, method=f'lc-specific', buffer_deg=0.3,\n",
    "                            eval_mode=val_or_test)\n",
    "if val_or_test == 'val':\n",
    "    f1_score = gpu.compute_f1_score_dicts(dict_val_species, tmp)\n",
    "    print(f'F1 score: {f1_score}')"
   ]
  },
  {
   "cell_type": "code",
   "execution_count": 32,
   "metadata": {},
   "outputs": [
    {
     "data": {
      "text/html": [
       "<div>\n",
       "<style scoped>\n",
       "    .dataframe tbody tr th:only-of-type {\n",
       "        vertical-align: middle;\n",
       "    }\n",
       "\n",
       "    .dataframe tbody tr th {\n",
       "        vertical-align: top;\n",
       "    }\n",
       "\n",
       "    .dataframe thead th {\n",
       "        text-align: right;\n",
       "    }\n",
       "</style>\n",
       "<table border=\"1\" class=\"dataframe\">\n",
       "  <thead>\n",
       "    <tr style=\"text-align: right;\">\n",
       "      <th></th>\n",
       "      <th>lng</th>\n",
       "      <th>lat</th>\n",
       "      <th>year</th>\n",
       "      <th>surveyId</th>\n",
       "      <th>geometry</th>\n",
       "      <th>Elevation</th>\n",
       "      <th>LandCover</th>\n",
       "      <th>Bio1</th>\n",
       "      <th>Bio2</th>\n",
       "      <th>Bio3</th>\n",
       "      <th>...</th>\n",
       "      <th>Bio10</th>\n",
       "      <th>Bio11</th>\n",
       "      <th>Bio12</th>\n",
       "      <th>Bio13</th>\n",
       "      <th>Bio14</th>\n",
       "      <th>Bio15</th>\n",
       "      <th>Bio16</th>\n",
       "      <th>Bio17</th>\n",
       "      <th>Bio18</th>\n",
       "      <th>Bio19</th>\n",
       "    </tr>\n",
       "  </thead>\n",
       "  <tbody>\n",
       "    <tr>\n",
       "      <th>26108</th>\n",
       "      <td>8.46318</td>\n",
       "      <td>56.02289</td>\n",
       "      <td>2017</td>\n",
       "      <td>1276701</td>\n",
       "      <td>POINT (8.46318 56.02289)</td>\n",
       "      <td>19.0</td>\n",
       "      <td>5.0</td>\n",
       "      <td>2816</td>\n",
       "      <td>43</td>\n",
       "      <td>2</td>\n",
       "      <td>...</td>\n",
       "      <td>2884</td>\n",
       "      <td>2754</td>\n",
       "      <td>9632</td>\n",
       "      <td>1247</td>\n",
       "      <td>429</td>\n",
       "      <td>280</td>\n",
       "      <td>3286</td>\n",
       "      <td>1651</td>\n",
       "      <td>2340</td>\n",
       "      <td>2355</td>\n",
       "    </tr>\n",
       "    <tr>\n",
       "      <th>67032</th>\n",
       "      <td>8.37565</td>\n",
       "      <td>56.17565</td>\n",
       "      <td>2017</td>\n",
       "      <td>3288416</td>\n",
       "      <td>POINT (8.37565 56.17565)</td>\n",
       "      <td>12.0</td>\n",
       "      <td>5.0</td>\n",
       "      <td>2818</td>\n",
       "      <td>35</td>\n",
       "      <td>1</td>\n",
       "      <td>...</td>\n",
       "      <td>2884</td>\n",
       "      <td>2757</td>\n",
       "      <td>9171</td>\n",
       "      <td>1203</td>\n",
       "      <td>406</td>\n",
       "      <td>288</td>\n",
       "      <td>3162</td>\n",
       "      <td>1557</td>\n",
       "      <td>2557</td>\n",
       "      <td>1995</td>\n",
       "    </tr>\n",
       "    <tr>\n",
       "      <th>26071</th>\n",
       "      <td>8.44744</td>\n",
       "      <td>56.15897</td>\n",
       "      <td>2019</td>\n",
       "      <td>1274470</td>\n",
       "      <td>POINT (8.44744 56.15897)</td>\n",
       "      <td>28.0</td>\n",
       "      <td>5.0</td>\n",
       "      <td>2816</td>\n",
       "      <td>41</td>\n",
       "      <td>2</td>\n",
       "      <td>...</td>\n",
       "      <td>2884</td>\n",
       "      <td>2754</td>\n",
       "      <td>9733</td>\n",
       "      <td>1261</td>\n",
       "      <td>438</td>\n",
       "      <td>279</td>\n",
       "      <td>3318</td>\n",
       "      <td>1673</td>\n",
       "      <td>2703</td>\n",
       "      <td>2368</td>\n",
       "    </tr>\n",
       "    <tr>\n",
       "      <th>34794</th>\n",
       "      <td>8.44535</td>\n",
       "      <td>56.15905</td>\n",
       "      <td>2019</td>\n",
       "      <td>1702631</td>\n",
       "      <td>POINT (8.44535 56.15905)</td>\n",
       "      <td>28.0</td>\n",
       "      <td>5.0</td>\n",
       "      <td>2816</td>\n",
       "      <td>41</td>\n",
       "      <td>2</td>\n",
       "      <td>...</td>\n",
       "      <td>2884</td>\n",
       "      <td>2754</td>\n",
       "      <td>9733</td>\n",
       "      <td>1261</td>\n",
       "      <td>438</td>\n",
       "      <td>279</td>\n",
       "      <td>3318</td>\n",
       "      <td>1673</td>\n",
       "      <td>2703</td>\n",
       "      <td>2368</td>\n",
       "    </tr>\n",
       "    <tr>\n",
       "      <th>34735</th>\n",
       "      <td>8.44792</td>\n",
       "      <td>56.15915</td>\n",
       "      <td>2019</td>\n",
       "      <td>1699855</td>\n",
       "      <td>POINT (8.44792 56.15915)</td>\n",
       "      <td>29.0</td>\n",
       "      <td>5.0</td>\n",
       "      <td>2816</td>\n",
       "      <td>41</td>\n",
       "      <td>2</td>\n",
       "      <td>...</td>\n",
       "      <td>2884</td>\n",
       "      <td>2754</td>\n",
       "      <td>9733</td>\n",
       "      <td>1261</td>\n",
       "      <td>438</td>\n",
       "      <td>279</td>\n",
       "      <td>3318</td>\n",
       "      <td>1673</td>\n",
       "      <td>2703</td>\n",
       "      <td>2368</td>\n",
       "    </tr>\n",
       "    <tr>\n",
       "      <th>...</th>\n",
       "      <td>...</td>\n",
       "      <td>...</td>\n",
       "      <td>...</td>\n",
       "      <td>...</td>\n",
       "      <td>...</td>\n",
       "      <td>...</td>\n",
       "      <td>...</td>\n",
       "      <td>...</td>\n",
       "      <td>...</td>\n",
       "      <td>...</td>\n",
       "      <td>...</td>\n",
       "      <td>...</td>\n",
       "      <td>...</td>\n",
       "      <td>...</td>\n",
       "      <td>...</td>\n",
       "      <td>...</td>\n",
       "      <td>...</td>\n",
       "      <td>...</td>\n",
       "      <td>...</td>\n",
       "      <td>...</td>\n",
       "      <td>...</td>\n",
       "    </tr>\n",
       "    <tr>\n",
       "      <th>10850</th>\n",
       "      <td>8.59644</td>\n",
       "      <td>56.29672</td>\n",
       "      <td>2019</td>\n",
       "      <td>530563</td>\n",
       "      <td>POINT (8.59644 56.29672)</td>\n",
       "      <td>22.0</td>\n",
       "      <td>5.0</td>\n",
       "      <td>2815</td>\n",
       "      <td>53</td>\n",
       "      <td>2</td>\n",
       "      <td>...</td>\n",
       "      <td>2886</td>\n",
       "      <td>2750</td>\n",
       "      <td>9560</td>\n",
       "      <td>1209</td>\n",
       "      <td>452</td>\n",
       "      <td>259</td>\n",
       "      <td>3191</td>\n",
       "      <td>1682</td>\n",
       "      <td>2323</td>\n",
       "      <td>2364</td>\n",
       "    </tr>\n",
       "    <tr>\n",
       "      <th>57771</th>\n",
       "      <td>8.58748</td>\n",
       "      <td>56.29928</td>\n",
       "      <td>2019</td>\n",
       "      <td>2842242</td>\n",
       "      <td>POINT (8.58748 56.29928)</td>\n",
       "      <td>23.0</td>\n",
       "      <td>5.0</td>\n",
       "      <td>2815</td>\n",
       "      <td>52</td>\n",
       "      <td>2</td>\n",
       "      <td>...</td>\n",
       "      <td>2886</td>\n",
       "      <td>2750</td>\n",
       "      <td>9539</td>\n",
       "      <td>1208</td>\n",
       "      <td>450</td>\n",
       "      <td>260</td>\n",
       "      <td>3188</td>\n",
       "      <td>1677</td>\n",
       "      <td>2317</td>\n",
       "      <td>2357</td>\n",
       "    </tr>\n",
       "    <tr>\n",
       "      <th>7138</th>\n",
       "      <td>8.58928</td>\n",
       "      <td>56.34263</td>\n",
       "      <td>2019</td>\n",
       "      <td>349859</td>\n",
       "      <td>POINT (8.58928 56.34263)</td>\n",
       "      <td>33.0</td>\n",
       "      <td>5.0</td>\n",
       "      <td>2815</td>\n",
       "      <td>54</td>\n",
       "      <td>2</td>\n",
       "      <td>...</td>\n",
       "      <td>2886</td>\n",
       "      <td>2750</td>\n",
       "      <td>9326</td>\n",
       "      <td>1181</td>\n",
       "      <td>442</td>\n",
       "      <td>260</td>\n",
       "      <td>3118</td>\n",
       "      <td>1638</td>\n",
       "      <td>2264</td>\n",
       "      <td>2306</td>\n",
       "    </tr>\n",
       "    <tr>\n",
       "      <th>31530</th>\n",
       "      <td>8.59174</td>\n",
       "      <td>56.34313</td>\n",
       "      <td>2019</td>\n",
       "      <td>1539083</td>\n",
       "      <td>POINT (8.59174 56.34313)</td>\n",
       "      <td>27.0</td>\n",
       "      <td>5.0</td>\n",
       "      <td>2815</td>\n",
       "      <td>54</td>\n",
       "      <td>2</td>\n",
       "      <td>...</td>\n",
       "      <td>2886</td>\n",
       "      <td>2750</td>\n",
       "      <td>9335</td>\n",
       "      <td>1181</td>\n",
       "      <td>443</td>\n",
       "      <td>259</td>\n",
       "      <td>3117</td>\n",
       "      <td>1642</td>\n",
       "      <td>2266</td>\n",
       "      <td>2310</td>\n",
       "    </tr>\n",
       "    <tr>\n",
       "      <th>62069</th>\n",
       "      <td>8.59264</td>\n",
       "      <td>56.35750</td>\n",
       "      <td>2019</td>\n",
       "      <td>3051065</td>\n",
       "      <td>POINT (8.59264 56.35750)</td>\n",
       "      <td>8.0</td>\n",
       "      <td>5.0</td>\n",
       "      <td>2816</td>\n",
       "      <td>54</td>\n",
       "      <td>2</td>\n",
       "      <td>...</td>\n",
       "      <td>2887</td>\n",
       "      <td>2750</td>\n",
       "      <td>9230</td>\n",
       "      <td>1167</td>\n",
       "      <td>438</td>\n",
       "      <td>259</td>\n",
       "      <td>3081</td>\n",
       "      <td>1623</td>\n",
       "      <td>2242</td>\n",
       "      <td>2284</td>\n",
       "    </tr>\n",
       "  </tbody>\n",
       "</table>\n",
       "<p>122 rows × 26 columns</p>\n",
       "</div>"
      ],
      "text/plain": [
       "           lng       lat  year  surveyId                  geometry  Elevation  \\\n",
       "26108  8.46318  56.02289  2017   1276701  POINT (8.46318 56.02289)       19.0   \n",
       "67032  8.37565  56.17565  2017   3288416  POINT (8.37565 56.17565)       12.0   \n",
       "26071  8.44744  56.15897  2019   1274470  POINT (8.44744 56.15897)       28.0   \n",
       "34794  8.44535  56.15905  2019   1702631  POINT (8.44535 56.15905)       28.0   \n",
       "34735  8.44792  56.15915  2019   1699855  POINT (8.44792 56.15915)       29.0   \n",
       "...        ...       ...   ...       ...                       ...        ...   \n",
       "10850  8.59644  56.29672  2019    530563  POINT (8.59644 56.29672)       22.0   \n",
       "57771  8.58748  56.29928  2019   2842242  POINT (8.58748 56.29928)       23.0   \n",
       "7138   8.58928  56.34263  2019    349859  POINT (8.58928 56.34263)       33.0   \n",
       "31530  8.59174  56.34313  2019   1539083  POINT (8.59174 56.34313)       27.0   \n",
       "62069  8.59264  56.35750  2019   3051065  POINT (8.59264 56.35750)        8.0   \n",
       "\n",
       "       LandCover  Bio1  Bio2  Bio3  ...  Bio10  Bio11  Bio12  Bio13  Bio14  \\\n",
       "26108        5.0  2816    43     2  ...   2884   2754   9632   1247    429   \n",
       "67032        5.0  2818    35     1  ...   2884   2757   9171   1203    406   \n",
       "26071        5.0  2816    41     2  ...   2884   2754   9733   1261    438   \n",
       "34794        5.0  2816    41     2  ...   2884   2754   9733   1261    438   \n",
       "34735        5.0  2816    41     2  ...   2884   2754   9733   1261    438   \n",
       "...          ...   ...   ...   ...  ...    ...    ...    ...    ...    ...   \n",
       "10850        5.0  2815    53     2  ...   2886   2750   9560   1209    452   \n",
       "57771        5.0  2815    52     2  ...   2886   2750   9539   1208    450   \n",
       "7138         5.0  2815    54     2  ...   2886   2750   9326   1181    442   \n",
       "31530        5.0  2815    54     2  ...   2886   2750   9335   1181    443   \n",
       "62069        5.0  2816    54     2  ...   2887   2750   9230   1167    438   \n",
       "\n",
       "       Bio15  Bio16  Bio17  Bio18  Bio19  \n",
       "26108    280   3286   1651   2340   2355  \n",
       "67032    288   3162   1557   2557   1995  \n",
       "26071    279   3318   1673   2703   2368  \n",
       "34794    279   3318   1673   2703   2368  \n",
       "34735    279   3318   1673   2703   2368  \n",
       "...      ...    ...    ...    ...    ...  \n",
       "10850    259   3191   1682   2323   2364  \n",
       "57771    260   3188   1677   2317   2357  \n",
       "7138     260   3118   1638   2264   2306  \n",
       "31530    259   3117   1642   2266   2310  \n",
       "62069    259   3081   1623   2242   2284  \n",
       "\n",
       "[122 rows x 26 columns]"
      ]
     },
     "execution_count": 32,
     "metadata": {},
     "output_type": "execute_result"
    }
   ],
   "source": [
    "tmp"
   ]
  },
  {
   "cell_type": "markdown",
   "metadata": {},
   "source": [
    "## Predictions"
   ]
  },
  {
   "cell_type": "code",
   "execution_count": 53,
   "metadata": {},
   "outputs": [
    {
     "name": "stdout",
     "output_type": "stream",
     "text": [
      "Columns dropped: ['taxonRank', 'geoUncertaintyInM', 'date', 'areaInM2', 'publisher', 'month', 'day', 'region', 'dayOfYear', 'country']\n",
      "Dropped 49637/1483637 duplicates in df_train_pa_species\n",
      "Dropped 135101/5079797 duplicates in df_train_po_species\n",
      "Warning: 35 nans in elevation data\n"
     ]
    }
   ],
   "source": [
    "(df_train, df_test), (df_train_species, df_val_species) = dlu.create_full_pa_ds(val_or_test='test')"
   ]
  },
  {
   "cell_type": "code",
   "execution_count": 59,
   "metadata": {},
   "outputs": [
    {
     "data": {
      "text/html": [
       "<div>\n",
       "<style scoped>\n",
       "    .dataframe tbody tr th:only-of-type {\n",
       "        vertical-align: middle;\n",
       "    }\n",
       "\n",
       "    .dataframe tbody tr th {\n",
       "        vertical-align: top;\n",
       "    }\n",
       "\n",
       "    .dataframe thead th {\n",
       "        text-align: right;\n",
       "    }\n",
       "</style>\n",
       "<table border=\"1\" class=\"dataframe\">\n",
       "  <thead>\n",
       "    <tr style=\"text-align: right;\">\n",
       "      <th></th>\n",
       "      <th>speciesId</th>\n",
       "      <th>surveyId</th>\n",
       "    </tr>\n",
       "  </thead>\n",
       "  <tbody>\n",
       "    <tr>\n",
       "      <th>0</th>\n",
       "      <td>6874</td>\n",
       "      <td>212</td>\n",
       "    </tr>\n",
       "    <tr>\n",
       "      <th>1</th>\n",
       "      <td>476</td>\n",
       "      <td>212</td>\n",
       "    </tr>\n",
       "    <tr>\n",
       "      <th>2</th>\n",
       "      <td>11157</td>\n",
       "      <td>212</td>\n",
       "    </tr>\n",
       "    <tr>\n",
       "      <th>3</th>\n",
       "      <td>8784</td>\n",
       "      <td>212</td>\n",
       "    </tr>\n",
       "    <tr>\n",
       "      <th>4</th>\n",
       "      <td>4530</td>\n",
       "      <td>212</td>\n",
       "    </tr>\n",
       "    <tr>\n",
       "      <th>...</th>\n",
       "      <td>...</td>\n",
       "      <td>...</td>\n",
       "    </tr>\n",
       "    <tr>\n",
       "      <th>1483632</th>\n",
       "      <td>53</td>\n",
       "      <td>3919655</td>\n",
       "    </tr>\n",
       "    <tr>\n",
       "      <th>1483633</th>\n",
       "      <td>5071</td>\n",
       "      <td>3919655</td>\n",
       "    </tr>\n",
       "    <tr>\n",
       "      <th>1483634</th>\n",
       "      <td>1889</td>\n",
       "      <td>3919655</td>\n",
       "    </tr>\n",
       "    <tr>\n",
       "      <th>1483635</th>\n",
       "      <td>10600</td>\n",
       "      <td>3919655</td>\n",
       "    </tr>\n",
       "    <tr>\n",
       "      <th>1483636</th>\n",
       "      <td>963</td>\n",
       "      <td>3919655</td>\n",
       "    </tr>\n",
       "  </tbody>\n",
       "</table>\n",
       "<p>1433527 rows × 2 columns</p>\n",
       "</div>"
      ],
      "text/plain": [
       "         speciesId  surveyId\n",
       "0             6874       212\n",
       "1              476       212\n",
       "2            11157       212\n",
       "3             8784       212\n",
       "4             4530       212\n",
       "...            ...       ...\n",
       "1483632         53   3919655\n",
       "1483633       5071   3919655\n",
       "1483634       1889   3919655\n",
       "1483635      10600   3919655\n",
       "1483636        963   3919655\n",
       "\n",
       "[1433527 rows x 2 columns]"
      ]
     },
     "execution_count": 59,
     "metadata": {},
     "output_type": "execute_result"
    }
   ],
   "source": [
    "df_train_species"
   ]
  },
  {
   "cell_type": "code",
   "execution_count": 11,
   "metadata": {},
   "outputs": [
    {
     "data": {
      "text/html": [
       "<div>\n",
       "<style scoped>\n",
       "    .dataframe tbody tr th:only-of-type {\n",
       "        vertical-align: middle;\n",
       "    }\n",
       "\n",
       "    .dataframe tbody tr th {\n",
       "        vertical-align: top;\n",
       "    }\n",
       "\n",
       "    .dataframe thead th {\n",
       "        text-align: right;\n",
       "    }\n",
       "</style>\n",
       "<table border=\"1\" class=\"dataframe\">\n",
       "  <thead>\n",
       "    <tr style=\"text-align: right;\">\n",
       "      <th></th>\n",
       "      <th>speciesId</th>\n",
       "      <th>surveyId</th>\n",
       "    </tr>\n",
       "  </thead>\n",
       "  <tbody>\n",
       "    <tr>\n",
       "      <th>276</th>\n",
       "      <td>5900</td>\n",
       "      <td>729</td>\n",
       "    </tr>\n",
       "    <tr>\n",
       "      <th>288</th>\n",
       "      <td>9368</td>\n",
       "      <td>729</td>\n",
       "    </tr>\n",
       "    <tr>\n",
       "      <th>287</th>\n",
       "      <td>53</td>\n",
       "      <td>729</td>\n",
       "    </tr>\n",
       "    <tr>\n",
       "      <th>286</th>\n",
       "      <td>10255</td>\n",
       "      <td>729</td>\n",
       "    </tr>\n",
       "    <tr>\n",
       "      <th>285</th>\n",
       "      <td>10600</td>\n",
       "      <td>729</td>\n",
       "    </tr>\n",
       "    <tr>\n",
       "      <th>...</th>\n",
       "      <td>...</td>\n",
       "      <td>...</td>\n",
       "    </tr>\n",
       "    <tr>\n",
       "      <th>1483598</th>\n",
       "      <td>3067</td>\n",
       "      <td>3919620</td>\n",
       "    </tr>\n",
       "    <tr>\n",
       "      <th>1483597</th>\n",
       "      <td>4077</td>\n",
       "      <td>3919620</td>\n",
       "    </tr>\n",
       "    <tr>\n",
       "      <th>1483596</th>\n",
       "      <td>9816</td>\n",
       "      <td>3919620</td>\n",
       "    </tr>\n",
       "    <tr>\n",
       "      <th>1483600</th>\n",
       "      <td>540</td>\n",
       "      <td>3919620</td>\n",
       "    </tr>\n",
       "    <tr>\n",
       "      <th>1483607</th>\n",
       "      <td>7121</td>\n",
       "      <td>3919620</td>\n",
       "    </tr>\n",
       "  </tbody>\n",
       "</table>\n",
       "<p>144464 rows × 2 columns</p>\n",
       "</div>"
      ],
      "text/plain": [
       "         speciesId  surveyId\n",
       "276           5900       729\n",
       "288           9368       729\n",
       "287             53       729\n",
       "286          10255       729\n",
       "285          10600       729\n",
       "...            ...       ...\n",
       "1483598       3067   3919620\n",
       "1483597       4077   3919620\n",
       "1483596       9816   3919620\n",
       "1483600        540   3919620\n",
       "1483607       7121   3919620\n",
       "\n",
       "[144464 rows x 2 columns]"
      ]
     },
     "execution_count": 11,
     "metadata": {},
     "output_type": "execute_result"
    }
   ],
   "source": [
    "_[1]"
   ]
  },
  {
   "cell_type": "code",
   "execution_count": 12,
   "metadata": {},
   "outputs": [
    {
     "name": "stderr",
     "output_type": "stream",
     "text": [
      "0it [00:00, ?it/s]/Users/t.vanderplas/anaconda3/envs/geoclef/lib/python3.10/site-packages/scipy/sparse/_index.py:145: SparseEfficiencyWarning: Changing the sparsity structure of a csr_matrix is expensive. lil_matrix is more efficient.\n",
      "  self._set_arrayXarray(i, j, x)\n",
      "8892it [00:05, 1699.85it/s]\n"
     ]
    }
   ],
   "source": [
    "## create scipy sparse matrix, fill by row:\n",
    "from scipy.sparse import csr_matrix\n",
    "\n",
    "df_species_tmp = _[1]\n",
    "n_rows = df_species_tmp.surveyId.nunique()\n",
    "n_cols = df_species_tmp.speciesId.max()\n",
    "\n",
    "mat = csr_matrix((n_rows, n_cols), dtype=np.int32)\n",
    "for row, surveyId in tqdm(enumerate(df_species_tmp.surveyId.unique())):\n",
    "    tmp_df = df_species_tmp.loc[df_species_tmp.surveyId == surveyId]\n",
    "    cols = tmp_df.speciesId.values - 1\n",
    "    ## fill mat:\n",
    "    mat[row, cols] = 1"
   ]
  },
  {
   "cell_type": "code",
   "execution_count": 14,
   "metadata": {},
   "outputs": [],
   "source": [
    "## save mat:\n",
    "from scipy.sparse import save_npz, load_npz\n",
    "# save_npz(os.path.join(path_dict['data_folder'], 'species_mat_val.npz'), mat)"
   ]
  },
  {
   "cell_type": "code",
   "execution_count": 15,
   "metadata": {},
   "outputs": [],
   "source": [
    "species_mat_train = load_npz(os.path.join(path_dict['data_folder'], 'species_mat_train.npz'))\n",
    "species_mat_val = load_npz(os.path.join(path_dict['data_folder'], 'species_mat_val.npz'))"
   ]
  },
  {
   "cell_type": "code",
   "execution_count": 17,
   "metadata": {},
   "outputs": [
    {
     "ename": "TypeError",
     "evalue": "PCA only support sparse inputs with the \"arpack\" solver, while \"auto\" was passed. See TruncatedSVD for a possible alternative.",
     "output_type": "error",
     "traceback": [
      "\u001b[0;31m---------------------------------------------------------------------------\u001b[0m",
      "\u001b[0;31mTypeError\u001b[0m                                 Traceback (most recent call last)",
      "Cell \u001b[0;32mIn[17], line 4\u001b[0m\n\u001b[1;32m      2\u001b[0m \u001b[38;5;28;01mfrom\u001b[39;00m \u001b[38;5;21;01msklearn\u001b[39;00m\u001b[38;5;21;01m.\u001b[39;00m\u001b[38;5;21;01mdecomposition\u001b[39;00m \u001b[38;5;28;01mimport\u001b[39;00m PCA\n\u001b[1;32m      3\u001b[0m pca \u001b[38;5;241m=\u001b[39m PCA(n_components\u001b[38;5;241m=\u001b[39m\u001b[38;5;241m100\u001b[39m)\n\u001b[0;32m----> 4\u001b[0m \u001b[43mpca\u001b[49m\u001b[38;5;241;43m.\u001b[39;49m\u001b[43mfit\u001b[49m\u001b[43m(\u001b[49m\u001b[43mspecies_mat_train\u001b[49m\u001b[43m)\u001b[49m\n\u001b[1;32m      5\u001b[0m np\u001b[38;5;241m.\u001b[39mcumsum(pca\u001b[38;5;241m.\u001b[39mexplained_variance_ratio_, solver\u001b[38;5;241m=\u001b[39m\u001b[38;5;124m'\u001b[39m\u001b[38;5;124marpack\u001b[39m\u001b[38;5;124m'\u001b[39m)\n",
      "File \u001b[0;32m~/anaconda3/envs/geoclef/lib/python3.10/site-packages/sklearn/base.py:1474\u001b[0m, in \u001b[0;36m_fit_context.<locals>.decorator.<locals>.wrapper\u001b[0;34m(estimator, *args, **kwargs)\u001b[0m\n\u001b[1;32m   1467\u001b[0m     estimator\u001b[38;5;241m.\u001b[39m_validate_params()\n\u001b[1;32m   1469\u001b[0m \u001b[38;5;28;01mwith\u001b[39;00m config_context(\n\u001b[1;32m   1470\u001b[0m     skip_parameter_validation\u001b[38;5;241m=\u001b[39m(\n\u001b[1;32m   1471\u001b[0m         prefer_skip_nested_validation \u001b[38;5;129;01mor\u001b[39;00m global_skip_validation\n\u001b[1;32m   1472\u001b[0m     )\n\u001b[1;32m   1473\u001b[0m ):\n\u001b[0;32m-> 1474\u001b[0m     \u001b[38;5;28;01mreturn\u001b[39;00m \u001b[43mfit_method\u001b[49m\u001b[43m(\u001b[49m\u001b[43mestimator\u001b[49m\u001b[43m,\u001b[49m\u001b[43m \u001b[49m\u001b[38;5;241;43m*\u001b[39;49m\u001b[43margs\u001b[49m\u001b[43m,\u001b[49m\u001b[43m \u001b[49m\u001b[38;5;241;43m*\u001b[39;49m\u001b[38;5;241;43m*\u001b[39;49m\u001b[43mkwargs\u001b[49m\u001b[43m)\u001b[49m\n",
      "File \u001b[0;32m~/anaconda3/envs/geoclef/lib/python3.10/site-packages/sklearn/decomposition/_pca.py:428\u001b[0m, in \u001b[0;36mPCA.fit\u001b[0;34m(self, X, y)\u001b[0m\n\u001b[1;32m    410\u001b[0m \u001b[38;5;129m@_fit_context\u001b[39m(prefer_skip_nested_validation\u001b[38;5;241m=\u001b[39m\u001b[38;5;28;01mTrue\u001b[39;00m)\n\u001b[1;32m    411\u001b[0m \u001b[38;5;28;01mdef\u001b[39;00m \u001b[38;5;21mfit\u001b[39m(\u001b[38;5;28mself\u001b[39m, X, y\u001b[38;5;241m=\u001b[39m\u001b[38;5;28;01mNone\u001b[39;00m):\n\u001b[1;32m    412\u001b[0m \u001b[38;5;250m    \u001b[39m\u001b[38;5;124;03m\"\"\"Fit the model with X.\u001b[39;00m\n\u001b[1;32m    413\u001b[0m \n\u001b[1;32m    414\u001b[0m \u001b[38;5;124;03m    Parameters\u001b[39;00m\n\u001b[0;32m   (...)\u001b[0m\n\u001b[1;32m    426\u001b[0m \u001b[38;5;124;03m        Returns the instance itself.\u001b[39;00m\n\u001b[1;32m    427\u001b[0m \u001b[38;5;124;03m    \"\"\"\u001b[39;00m\n\u001b[0;32m--> 428\u001b[0m     \u001b[38;5;28;43mself\u001b[39;49m\u001b[38;5;241;43m.\u001b[39;49m\u001b[43m_fit\u001b[49m\u001b[43m(\u001b[49m\u001b[43mX\u001b[49m\u001b[43m)\u001b[49m\n\u001b[1;32m    429\u001b[0m     \u001b[38;5;28;01mreturn\u001b[39;00m \u001b[38;5;28mself\u001b[39m\n",
      "File \u001b[0;32m~/anaconda3/envs/geoclef/lib/python3.10/site-packages/sklearn/decomposition/_pca.py:472\u001b[0m, in \u001b[0;36mPCA._fit\u001b[0;34m(self, X)\u001b[0m\n\u001b[1;32m    470\u001b[0m \u001b[38;5;66;03m# Raise an error for sparse input and unsupported svd_solver\u001b[39;00m\n\u001b[1;32m    471\u001b[0m \u001b[38;5;28;01mif\u001b[39;00m issparse(X) \u001b[38;5;129;01mand\u001b[39;00m \u001b[38;5;28mself\u001b[39m\u001b[38;5;241m.\u001b[39msvd_solver \u001b[38;5;241m!=\u001b[39m \u001b[38;5;124m\"\u001b[39m\u001b[38;5;124marpack\u001b[39m\u001b[38;5;124m\"\u001b[39m:\n\u001b[0;32m--> 472\u001b[0m     \u001b[38;5;28;01mraise\u001b[39;00m \u001b[38;5;167;01mTypeError\u001b[39;00m(\n\u001b[1;32m    473\u001b[0m         \u001b[38;5;124m'\u001b[39m\u001b[38;5;124mPCA only support sparse inputs with the \u001b[39m\u001b[38;5;124m\"\u001b[39m\u001b[38;5;124marpack\u001b[39m\u001b[38;5;124m\"\u001b[39m\u001b[38;5;124m solver, while \u001b[39m\u001b[38;5;124m'\u001b[39m\n\u001b[1;32m    474\u001b[0m         \u001b[38;5;124mf\u001b[39m\u001b[38;5;124m'\u001b[39m\u001b[38;5;124m\"\u001b[39m\u001b[38;5;132;01m{\u001b[39;00m\u001b[38;5;28mself\u001b[39m\u001b[38;5;241m.\u001b[39msvd_solver\u001b[38;5;132;01m}\u001b[39;00m\u001b[38;5;124m\"\u001b[39m\u001b[38;5;124m was passed. See TruncatedSVD for a possible\u001b[39m\u001b[38;5;124m'\u001b[39m\n\u001b[1;32m    475\u001b[0m         \u001b[38;5;124m\"\u001b[39m\u001b[38;5;124m alternative.\u001b[39m\u001b[38;5;124m\"\u001b[39m\n\u001b[1;32m    476\u001b[0m     )\n\u001b[1;32m    477\u001b[0m \u001b[38;5;66;03m# Raise an error for non-Numpy input and arpack solver.\u001b[39;00m\n\u001b[1;32m    478\u001b[0m \u001b[38;5;28;01mif\u001b[39;00m \u001b[38;5;28mself\u001b[39m\u001b[38;5;241m.\u001b[39msvd_solver \u001b[38;5;241m==\u001b[39m \u001b[38;5;124m\"\u001b[39m\u001b[38;5;124marpack\u001b[39m\u001b[38;5;124m\"\u001b[39m \u001b[38;5;129;01mand\u001b[39;00m is_array_api_compliant:\n",
      "\u001b[0;31mTypeError\u001b[0m: PCA only support sparse inputs with the \"arpack\" solver, while \"auto\" was passed. See TruncatedSVD for a possible alternative."
     ]
    }
   ],
   "source": [
    "## PCA on sparse matrix:\n",
    "from sklearn.decomposition import PCA\n",
    "pca = PCA(n_components=100)\n",
    "pca.fit(species_mat_train)\n",
    "np.cumsum(pca.explained_variance_ratio_, solver='arpack')"
   ]
  },
  {
   "cell_type": "code",
   "execution_count": 64,
   "metadata": {},
   "outputs": [
    {
     "data": {
      "text/plain": [
       "array([0.88869272, 0.93931589, 0.98060486, 0.99561094, 0.99816131,\n",
       "       0.99919504, 0.99945668, 0.99964582, 0.99977514, 0.99986259,\n",
       "       0.99992412, 0.99996675, 0.99999886, 0.99999963, 0.99999991,\n",
       "       0.99999996, 0.99999999, 1.        , 1.        ])"
      ]
     },
     "execution_count": 64,
     "metadata": {},
     "output_type": "execute_result"
    }
   ],
   "source": [
    "## PCA analysis:\n",
    "from sklearn.decomposition import PCA\n",
    "\n",
    "pca = PCA(n_components=df_train.shape[1] - 5)\n",
    "pca.fit(df_train.values[:, 5:])\n",
    "np.cumsum(pca.explained_variance_ratio_)"
   ]
  },
  {
   "cell_type": "code",
   "execution_count": 65,
   "metadata": {},
   "outputs": [
    {
     "data": {
      "text/plain": [
       "array([ 4.19426015e-05,  2.72773297e-03,  8.60171783e-05,  3.04650027e-02,\n",
       "        1.28770810e-03, -2.32489870e-03,  3.61260680e-03, -6.01410883e-03,\n",
       "        5.78857247e-03,  3.93836333e-04, -6.09140311e-04,  8.81682591e-01,\n",
       "        1.19352046e-01,  3.19003555e-02,  4.78515983e-03,  3.28064146e-01,\n",
       "        1.22016428e-01,  1.08585970e-01,  2.68364451e-01])"
      ]
     },
     "execution_count": 65,
     "metadata": {},
     "output_type": "execute_result"
    }
   ],
   "source": [
    "pca.components_[0, :]"
   ]
  },
  {
   "cell_type": "code",
   "execution_count": 42,
   "metadata": {},
   "outputs": [
    {
     "data": {
      "text/plain": [
       "array([ 0.,  1.,  2.,  4.,  5.,  8.,  9., 10., 11., 12., 13., 14., 15.,\n",
       "       16., 17.])"
      ]
     },
     "execution_count": 42,
     "metadata": {},
     "output_type": "execute_result"
    }
   ],
   "source": [
    "np.sort(df_train.LandCover.unique())\n"
   ]
  },
  {
   "cell_type": "markdown",
   "metadata": {},
   "source": [
    "## Label propagation idea:\n",
    "\n",
    "- For each sample, define neighbourhood based on geographic distance to other points (eg 0.2 deg). I think this beats KNN because of huge differences in sampling density. \n",
    "- For two samples, define their weight as 1) some distance function of features like LC / sat / bioclim / soil. Embed features with PCA etc. first to reduce cost and improve metric of computing distance? Possible scale feature similarity with distance decay function.\n",
    "- Implement label propagation algorithm to label test samples, based on weighted voting/average (per species I think) within neighbourhood. \n",
    "- So formally, we would have a G = (V, E, W), where V are the samples, E are defined by geographic distance, W are defined by features. These are all pre-computed. Labels L(V) are then computed iteratively.\n",
    "- Pretty big data set (with PO even more so): use efficient data structures etc. Sparse matrix? Maybe you can do efficient col multiple + sum? Sparse; Save weights as sparse matrix (0 if no edge). Species labels as sparse mat. Then label prop is a matmul between W and L_t.\n",
    "- Defining the (feature) distance function: option 1) optimising this, only feasible for a handful of hyperparams. Option 2) something based on features themselves. PCA is pretty good, other ways of maximising info? LC will be v important but tricky because it is categorical. "
   ]
  },
  {
   "cell_type": "code",
   "execution_count": 33,
   "metadata": {},
   "outputs": [
    {
     "name": "stdout",
     "output_type": "stream",
     "text": [
      "Dropped PO data because takes ages with geometry\n",
      "Columns dropped: ['taxonRank', 'geoUncertaintyInM', 'date', 'areaInM2', 'publisher', 'month', 'day', 'region', 'dayOfYear', 'country']\n",
      "Dropped 49637/1483637 duplicates in df_train_pa_species\n",
      "Creating sparse label matrix\n"
     ]
    },
    {
     "name": "stderr",
     "output_type": "stream",
     "text": [
      "88952it [07:23, 200.69it/s]\n"
     ]
    },
    {
     "name": "stdout",
     "output_type": "stream",
     "text": [
      "Creating sparse weight matrix\n"
     ]
    },
    {
     "name": "stderr",
     "output_type": "stream",
     "text": [
      "93668it [04:37, 337.60it/s]\n"
     ]
    },
    {
     "ename": "FileNotFoundError",
     "evalue": "[Errno 2] No such file or directory: '/Users/t.vanderplas/data_offline/data_geolifeclef2024/geolifeclef-2024/sparse_format/mat_labels_test_20240419-1630.npz'",
     "output_type": "error",
     "traceback": [
      "\u001b[0;31m---------------------------------------------------------------------------\u001b[0m",
      "\u001b[0;31mFileNotFoundError\u001b[0m                         Traceback (most recent call last)",
      "Cell \u001b[0;32mIn[33], line 1\u001b[0m\n\u001b[0;32m----> 1\u001b[0m tmp \u001b[38;5;241m=\u001b[39m \u001b[43mgpu\u001b[49m\u001b[38;5;241;43m.\u001b[39;49m\u001b[43mLabelPropagation\u001b[49m\u001b[43m(\u001b[49m\u001b[43mpreload_data\u001b[49m\u001b[38;5;241;43m=\u001b[39;49m\u001b[38;5;28;43;01mFalse\u001b[39;49;00m\u001b[43m,\u001b[49m\u001b[43m \u001b[49m\u001b[43mdist_neigh_meter\u001b[49m\u001b[38;5;241;43m=\u001b[39;49m\u001b[38;5;241;43m50000\u001b[39;49m\u001b[43m,\u001b[49m\n\u001b[1;32m      2\u001b[0m \u001b[43m                           \u001b[49m\u001b[43mval_or_test\u001b[49m\u001b[38;5;241;43m=\u001b[39;49m\u001b[38;5;124;43m'\u001b[39;49m\u001b[38;5;124;43mtest\u001b[39;49m\u001b[38;5;124;43m'\u001b[39;49m\u001b[43m)\u001b[49m\n",
      "File \u001b[0;32m~/repos/GLC24/notebooks/../scripts/glc_prediction_utils.py:144\u001b[0m, in \u001b[0;36mLabelPropagation.__init__\u001b[0;34m(self, val_or_test, n_iter, list_env_types, path_inds_val, dist_neigh_meter, method_weights, preload_data, preload_timestamp)\u001b[0m\n\u001b[1;32m    142\u001b[0m \u001b[38;5;28mself\u001b[39m\u001b[38;5;241m.\u001b[39mfilter_lc_exact_match \u001b[38;5;241m=\u001b[39m \u001b[38;5;28;01mTrue\u001b[39;00m\n\u001b[1;32m    143\u001b[0m \u001b[38;5;28mself\u001b[39m\u001b[38;5;241m.\u001b[39mload_data()\n\u001b[0;32m--> 144\u001b[0m \u001b[38;5;28;43mself\u001b[39;49m\u001b[38;5;241;43m.\u001b[39;49m\u001b[43mcreate_graph\u001b[49m\u001b[43m(\u001b[49m\u001b[43m)\u001b[49m\n",
      "File \u001b[0;32m~/repos/GLC24/notebooks/../scripts/glc_prediction_utils.py:248\u001b[0m, in \u001b[0;36mLabelPropagation.create_graph\u001b[0;34m(self)\u001b[0m\n\u001b[1;32m    245\u001b[0m     \u001b[38;5;28;01melse\u001b[39;00m:\n\u001b[1;32m    246\u001b[0m         \u001b[38;5;28;01mraise\u001b[39;00m \u001b[38;5;167;01mValueError\u001b[39;00m(\u001b[38;5;124mf\u001b[39m\u001b[38;5;124m'\u001b[39m\u001b[38;5;124mUnknown method_weights: \u001b[39m\u001b[38;5;132;01m{\u001b[39;00m\u001b[38;5;28mself\u001b[39m\u001b[38;5;241m.\u001b[39mmethod_weights\u001b[38;5;132;01m}\u001b[39;00m\u001b[38;5;124m'\u001b[39m)\n\u001b[0;32m--> 248\u001b[0m \u001b[43msp\u001b[49m\u001b[38;5;241;43m.\u001b[39;49m\u001b[43msave_npz\u001b[49m\u001b[43m(\u001b[49m\u001b[43mpath_sparse_labels\u001b[49m\u001b[43m,\u001b[49m\u001b[43m \u001b[49m\u001b[38;5;28;43mself\u001b[39;49m\u001b[38;5;241;43m.\u001b[39;49m\u001b[43mmat_labels\u001b[49m\u001b[38;5;241;43m.\u001b[39;49m\u001b[43mtocsr\u001b[49m\u001b[43m(\u001b[49m\u001b[43m)\u001b[49m\u001b[43m)\u001b[49m\n\u001b[1;32m    249\u001b[0m sp\u001b[38;5;241m.\u001b[39msave_npz(path_sparse_weights, \u001b[38;5;28mself\u001b[39m\u001b[38;5;241m.\u001b[39mmat_weights\u001b[38;5;241m.\u001b[39mtocsr())\n\u001b[1;32m    250\u001b[0m sp\u001b[38;5;241m.\u001b[39msave_npz(path_sparse_dist, \u001b[38;5;28mself\u001b[39m\u001b[38;5;241m.\u001b[39mmat_dist\u001b[38;5;241m.\u001b[39mtocsr())\n",
      "File \u001b[0;32m~/anaconda3/envs/geoclef/lib/python3.10/site-packages/scipy/sparse/_matrix_io.py:75\u001b[0m, in \u001b[0;36msave_npz\u001b[0;34m(file, matrix, compressed)\u001b[0m\n\u001b[1;32m     73\u001b[0m     arrays_dict\u001b[38;5;241m.\u001b[39mupdate(_is_array\u001b[38;5;241m=\u001b[39m\u001b[38;5;28;01mTrue\u001b[39;00m)\n\u001b[1;32m     74\u001b[0m \u001b[38;5;28;01mif\u001b[39;00m compressed:\n\u001b[0;32m---> 75\u001b[0m     \u001b[43mnp\u001b[49m\u001b[38;5;241;43m.\u001b[39;49m\u001b[43msavez_compressed\u001b[49m\u001b[43m(\u001b[49m\u001b[43mfile\u001b[49m\u001b[43m,\u001b[49m\u001b[43m \u001b[49m\u001b[38;5;241;43m*\u001b[39;49m\u001b[38;5;241;43m*\u001b[39;49m\u001b[43marrays_dict\u001b[49m\u001b[43m)\u001b[49m\n\u001b[1;32m     76\u001b[0m \u001b[38;5;28;01melse\u001b[39;00m:\n\u001b[1;32m     77\u001b[0m     np\u001b[38;5;241m.\u001b[39msavez(file, \u001b[38;5;241m*\u001b[39m\u001b[38;5;241m*\u001b[39marrays_dict)\n",
      "File \u001b[0;32m~/anaconda3/envs/geoclef/lib/python3.10/site-packages/numpy/lib/npyio.py:710\u001b[0m, in \u001b[0;36msavez_compressed\u001b[0;34m(file, *args, **kwds)\u001b[0m\n\u001b[1;32m    647\u001b[0m \u001b[38;5;129m@array_function_dispatch\u001b[39m(_savez_compressed_dispatcher)\n\u001b[1;32m    648\u001b[0m \u001b[38;5;28;01mdef\u001b[39;00m \u001b[38;5;21msavez_compressed\u001b[39m(file, \u001b[38;5;241m*\u001b[39margs, \u001b[38;5;241m*\u001b[39m\u001b[38;5;241m*\u001b[39mkwds):\n\u001b[1;32m    649\u001b[0m \u001b[38;5;250m    \u001b[39m\u001b[38;5;124;03m\"\"\"\u001b[39;00m\n\u001b[1;32m    650\u001b[0m \u001b[38;5;124;03m    Save several arrays into a single file in compressed ``.npz`` format.\u001b[39;00m\n\u001b[1;32m    651\u001b[0m \n\u001b[0;32m   (...)\u001b[0m\n\u001b[1;32m    708\u001b[0m \n\u001b[1;32m    709\u001b[0m \u001b[38;5;124;03m    \"\"\"\u001b[39;00m\n\u001b[0;32m--> 710\u001b[0m     \u001b[43m_savez\u001b[49m\u001b[43m(\u001b[49m\u001b[43mfile\u001b[49m\u001b[43m,\u001b[49m\u001b[43m \u001b[49m\u001b[43margs\u001b[49m\u001b[43m,\u001b[49m\u001b[43m \u001b[49m\u001b[43mkwds\u001b[49m\u001b[43m,\u001b[49m\u001b[43m \u001b[49m\u001b[38;5;28;43;01mTrue\u001b[39;49;00m\u001b[43m)\u001b[49m\n",
      "File \u001b[0;32m~/anaconda3/envs/geoclef/lib/python3.10/site-packages/numpy/lib/npyio.py:736\u001b[0m, in \u001b[0;36m_savez\u001b[0;34m(file, args, kwds, compress, allow_pickle, pickle_kwargs)\u001b[0m\n\u001b[1;32m    733\u001b[0m \u001b[38;5;28;01melse\u001b[39;00m:\n\u001b[1;32m    734\u001b[0m     compression \u001b[38;5;241m=\u001b[39m zipfile\u001b[38;5;241m.\u001b[39mZIP_STORED\n\u001b[0;32m--> 736\u001b[0m zipf \u001b[38;5;241m=\u001b[39m \u001b[43mzipfile_factory\u001b[49m\u001b[43m(\u001b[49m\u001b[43mfile\u001b[49m\u001b[43m,\u001b[49m\u001b[43m \u001b[49m\u001b[43mmode\u001b[49m\u001b[38;5;241;43m=\u001b[39;49m\u001b[38;5;124;43m\"\u001b[39;49m\u001b[38;5;124;43mw\u001b[39;49m\u001b[38;5;124;43m\"\u001b[39;49m\u001b[43m,\u001b[49m\u001b[43m \u001b[49m\u001b[43mcompression\u001b[49m\u001b[38;5;241;43m=\u001b[39;49m\u001b[43mcompression\u001b[49m\u001b[43m)\u001b[49m\n\u001b[1;32m    738\u001b[0m \u001b[38;5;28;01mfor\u001b[39;00m key, val \u001b[38;5;129;01min\u001b[39;00m namedict\u001b[38;5;241m.\u001b[39mitems():\n\u001b[1;32m    739\u001b[0m     fname \u001b[38;5;241m=\u001b[39m key \u001b[38;5;241m+\u001b[39m \u001b[38;5;124m'\u001b[39m\u001b[38;5;124m.npy\u001b[39m\u001b[38;5;124m'\u001b[39m\n",
      "File \u001b[0;32m~/anaconda3/envs/geoclef/lib/python3.10/site-packages/numpy/lib/npyio.py:103\u001b[0m, in \u001b[0;36mzipfile_factory\u001b[0;34m(file, *args, **kwargs)\u001b[0m\n\u001b[1;32m    101\u001b[0m \u001b[38;5;28;01mimport\u001b[39;00m \u001b[38;5;21;01mzipfile\u001b[39;00m\n\u001b[1;32m    102\u001b[0m kwargs[\u001b[38;5;124m'\u001b[39m\u001b[38;5;124mallowZip64\u001b[39m\u001b[38;5;124m'\u001b[39m] \u001b[38;5;241m=\u001b[39m \u001b[38;5;28;01mTrue\u001b[39;00m\n\u001b[0;32m--> 103\u001b[0m \u001b[38;5;28;01mreturn\u001b[39;00m \u001b[43mzipfile\u001b[49m\u001b[38;5;241;43m.\u001b[39;49m\u001b[43mZipFile\u001b[49m\u001b[43m(\u001b[49m\u001b[43mfile\u001b[49m\u001b[43m,\u001b[49m\u001b[43m \u001b[49m\u001b[38;5;241;43m*\u001b[39;49m\u001b[43margs\u001b[49m\u001b[43m,\u001b[49m\u001b[43m \u001b[49m\u001b[38;5;241;43m*\u001b[39;49m\u001b[38;5;241;43m*\u001b[39;49m\u001b[43mkwargs\u001b[49m\u001b[43m)\u001b[49m\n",
      "File \u001b[0;32m~/anaconda3/envs/geoclef/lib/python3.10/zipfile.py:1253\u001b[0m, in \u001b[0;36mZipFile.__init__\u001b[0;34m(self, file, mode, compression, allowZip64, compresslevel, strict_timestamps)\u001b[0m\n\u001b[1;32m   1251\u001b[0m \u001b[38;5;28;01mwhile\u001b[39;00m \u001b[38;5;28;01mTrue\u001b[39;00m:\n\u001b[1;32m   1252\u001b[0m     \u001b[38;5;28;01mtry\u001b[39;00m:\n\u001b[0;32m-> 1253\u001b[0m         \u001b[38;5;28mself\u001b[39m\u001b[38;5;241m.\u001b[39mfp \u001b[38;5;241m=\u001b[39m \u001b[43mio\u001b[49m\u001b[38;5;241;43m.\u001b[39;49m\u001b[43mopen\u001b[49m\u001b[43m(\u001b[49m\u001b[43mfile\u001b[49m\u001b[43m,\u001b[49m\u001b[43m \u001b[49m\u001b[43mfilemode\u001b[49m\u001b[43m)\u001b[49m\n\u001b[1;32m   1254\u001b[0m     \u001b[38;5;28;01mexcept\u001b[39;00m \u001b[38;5;167;01mOSError\u001b[39;00m:\n\u001b[1;32m   1255\u001b[0m         \u001b[38;5;28;01mif\u001b[39;00m filemode \u001b[38;5;129;01min\u001b[39;00m modeDict:\n",
      "\u001b[0;31mFileNotFoundError\u001b[0m: [Errno 2] No such file or directory: '/Users/t.vanderplas/data_offline/data_geolifeclef2024/geolifeclef-2024/sparse_format/mat_labels_test_20240419-1630.npz'"
     ]
    }
   ],
   "source": [
    "tmp = gpu.LabelPropagation(preload_data=False, dist_neigh_meter=50000,\n",
    "                           val_or_test='test')"
   ]
  },
  {
   "cell_type": "markdown",
   "metadata": {},
   "source": []
  },
  {
   "cell_type": "code",
   "execution_count": 18,
   "metadata": {},
   "outputs": [
    {
     "name": "stderr",
     "output_type": "stream",
     "text": [
      "/Users/t.vanderplas/anaconda3/envs/geoclef/lib/python3.10/site-packages/scipy/sparse/_base.py:713: RuntimeWarning: divide by zero encountered in divide\n",
      "  recip = np.true_divide(1., other)\n"
     ]
    },
    {
     "name": "stdout",
     "output_type": "stream",
     "text": [
      "Iteration 1/40. Diff: 53101.06640625\n",
      "Iteration 2/40. Diff: 11787.0166015625\n",
      "Iteration 3/40. Diff: 4799.04052734375\n",
      "Iteration 4/40. Diff: 2570.677978515625\n",
      "Iteration 5/40. Diff: 1573.375\n",
      "Iteration 6/40. Diff: 1049.9854736328125\n",
      "Iteration 7/40. Diff: 734.2537841796875\n",
      "Iteration 8/40. Diff: 534.7877197265625\n",
      "Iteration 9/40. Diff: 398.7611083984375\n",
      "Iteration 10/40. Diff: 304.771484375\n",
      "Iteration 11/40. Diff: 236.63775634765625\n",
      "Iteration 12/40. Diff: 187.00607299804688\n",
      "Iteration 13/40. Diff: 149.65122985839844\n",
      "Iteration 14/40. Diff: 121.41614532470703\n",
      "Iteration 15/40. Diff: 99.56584930419922\n",
      "Iteration 16/40. Diff: 82.56488037109375\n",
      "Iteration 17/40. Diff: 69.10079956054688\n",
      "Iteration 18/40. Diff: 58.36909484863281\n",
      "Iteration 19/40. Diff: 49.69691848754883\n",
      "Iteration 20/40. Diff: 42.6407470703125\n",
      "Iteration 21/40. Diff: 36.836299896240234\n",
      "Iteration 22/40. Diff: 32.02911376953125\n",
      "Iteration 23/40. Diff: 28.01249122619629\n",
      "Iteration 24/40. Diff: 24.63524055480957\n",
      "Iteration 25/40. Diff: 21.774986267089844\n",
      "Iteration 26/40. Diff: 19.338851928710938\n",
      "Iteration 27/40. Diff: 17.25161361694336\n",
      "Iteration 28/40. Diff: 15.454383850097656\n",
      "Iteration 29/40. Diff: 13.899231910705566\n",
      "Iteration 30/40. Diff: 12.547799110412598\n",
      "Iteration 31/40. Diff: 11.36847972869873\n",
      "Iteration 32/40. Diff: 10.335460662841797\n",
      "Iteration 33/40. Diff: 9.427446365356445\n",
      "Iteration 34/40. Diff: 8.626633644104004\n",
      "Iteration 35/40. Diff: 7.91821813583374\n",
      "Iteration 36/40. Diff: 7.289673328399658\n",
      "Iteration 37/40. Diff: 6.730389595031738\n",
      "Iteration 38/40. Diff: 6.23151159286499\n",
      "Iteration 39/40. Diff: 5.7853240966796875\n",
      "Iteration 40/40. Diff: 5.38521146774292\n",
      "Converged after 40/40 iterations\n"
     ]
    },
    {
     "data": {
      "text/plain": [
       "[53101.066,\n",
       " 11787.017,\n",
       " 4799.0405,\n",
       " 2570.678,\n",
       " 1573.375,\n",
       " 1049.9855,\n",
       " 734.2538,\n",
       " 534.7877,\n",
       " 398.7611,\n",
       " 304.77148,\n",
       " 236.63776,\n",
       " 187.00607,\n",
       " 149.65123,\n",
       " 121.416145,\n",
       " 99.56585,\n",
       " 82.56488,\n",
       " 69.1008,\n",
       " 58.369095,\n",
       " 49.69692,\n",
       " 42.640747,\n",
       " 36.8363,\n",
       " 32.029114,\n",
       " 28.012491,\n",
       " 24.63524,\n",
       " 21.774986,\n",
       " 19.338852,\n",
       " 17.251614,\n",
       " 15.454384,\n",
       " 13.899232,\n",
       " 12.547799,\n",
       " 11.36848,\n",
       " 10.335461,\n",
       " 9.427446,\n",
       " 8.626634,\n",
       " 7.918218,\n",
       " 7.2896733,\n",
       " 6.7303896,\n",
       " 6.2315116,\n",
       " 5.785324,\n",
       " 5.3852115]"
      ]
     },
     "execution_count": 18,
     "metadata": {},
     "output_type": "execute_result"
    }
   ],
   "source": [
    "tmp.n_iter = 40\n",
    "tmp.fit()"
   ]
  },
  {
   "cell_type": "code",
   "execution_count": 29,
   "metadata": {},
   "outputs": [
    {
     "name": "stderr",
     "output_type": "stream",
     "text": [
      "100%|██████████| 4716/4716 [00:02<00:00, 1792.07it/s]\n"
     ]
    },
    {
     "name": "stdout",
     "output_type": "stream",
     "text": [
      "Predictions done. No species found: 215/4716.\n",
      "Saved predictions to: /Users/t.vanderplas/data_offline/data_geolifeclef2024/predictions_glc2024/GLC24_vdplasthijs_predictions-label-prop-lc-50000m-0.1_2024-04-19_15-56.csv\n"
     ]
    }
   ],
   "source": [
    "dict_pred = tmp.create_predictions(threshold_weighted_labels=0.1, save_pred=True)"
   ]
  },
  {
   "cell_type": "code",
   "execution_count": 28,
   "metadata": {},
   "outputs": [
    {
     "data": {
      "text/plain": [
       "(array([ 353.,  929., 1390., 1187.,  345.,  172.,  191.,  115.,   13.,\n",
       "          21.]),\n",
       " array([  0. ,  15.8,  31.6,  47.4,  63.2,  79. ,  94.8, 110.6, 126.4,\n",
       "        142.2, 158. ]),\n",
       " <BarContainer object of 10 artists>)"
      ]
     },
     "execution_count": 28,
     "metadata": {},
     "output_type": "execute_result"
    },
    {
     "data": {
      "image/png": "[encoded data removed]",
      "text/plain": [
       "<Figure size 640x480 with 1 Axes>"
      ]
     },
     "metadata": {},
     "output_type": "display_data"
    }
   ],
   "source": [
    "plt.hist([len(v) for k, v in dict_pred.items()])"
   ]
  },
  {
   "cell_type": "code",
   "execution_count": 32,
   "metadata": {},
   "outputs": [],
   "source": [
    "tmp.df_val_species"
   ]
  },
  {
   "cell_type": "code",
   "execution_count": null,
   "metadata": {},
   "outputs": [],
   "source": [
    "arr_th = [0.01, 0.03, 0.05, 0.07, 0.1, 0.15, 0.2, 0.3]\n",
    "arr_f1 = []\n",
    "for th in arr_th:\n",
    "    dict_pred = tmp.create_predictions(threshold_weighted_labels=th)\n",
    "    for k in dict_val_species.keys():\n",
    "        if k not in dict_pred.keys():\n",
    "            dict_pred[k] = []\n",
    "    f1 = gpu.compute_f1_score_dicts(dict_val_species, dict_pred)\n",
    "    arr_f1.append(f1)"
   ]
  },
  {
   "cell_type": "code",
   "execution_count": 55,
   "metadata": {},
   "outputs": [
    {
     "name": "stdout",
     "output_type": "stream",
     "text": [
      "F1 scores 20 km:\n",
      "Th: 0.01, F1: 0.17815909998542828\n",
      "Th: 0.03, F1: 0.22171562850602888\n",
      "Th: 0.05, F1: 0.2550898257417876\n",
      "Th: 0.07, F1: 0.2813144225923728\n",
      "Th: 0.1, F1: 0.31055241911795095\n",
      "Th: 0.15, F1: 0.33787610690510994\n",
      "Th: 0.2, F1: 0.34126959671664947\n",
      "Th: 0.3, F1: 0.29877385480062507\n"
     ]
    }
   ],
   "source": [
    "print('F1 scores 20 km:')\n",
    "for th, f1 in zip(arr_th, arr_f1):\n",
    "    print(f'Th: {th}, F1: {f1}')"
   ]
  },
  {
   "cell_type": "code",
   "execution_count": 51,
   "metadata": {},
   "outputs": [
    {
     "name": "stdout",
     "output_type": "stream",
     "text": [
      "Th: 0.01, F1: 0.1993253455507175\n",
      "Th: 0.03, F1: 0.2339567857022029\n",
      "Th: 0.05, F1: 0.26306820509513906\n",
      "Th: 0.07, F1: 0.2874202966047946\n",
      "Th: 0.1, F1: 0.3149615778560888\n",
      "Th: 0.15, F1: 0.34330129624560624\n",
      "Th: 0.2, F1: 0.35171820741153903\n",
      "Th: 0.3, F1: 0.32425812748704147\n"
     ]
    }
   ],
   "source": [
    "for th, f1 in zip(arr_th, arr_f1):\n",
    "    print(f'Th: {th}, F1: {f1}')"
   ]
  }
 ],
 "metadata": {
  "kernelspec": {
   "display_name": "geoclef",
   "language": "python",
   "name": "python3"
  },
  "language_info": {
   "codemirror_mode": {
    "name": "ipython",
    "version": 3
   },
   "file_extension": ".py",
   "mimetype": "text/x-python",
   "name": "python",
   "nbconvert_exporter": "python",
   "pygments_lexer": "ipython3",
   "version": "3.10.14"
  }
 },
 "nbformat": 4,
 "nbformat_minor": 2
}
