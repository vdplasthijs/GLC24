{
 "cells": [
  {
   "cell_type": "code",
   "execution_count": 2,
   "metadata": {},
   "outputs": [],
   "source": [
    "%load_ext autoreload\n",
    "%autoreload 2"
   ]
  },
  {
   "cell_type": "code",
   "execution_count": 3,
   "metadata": {},
   "outputs": [],
   "source": [
    "import os, sys\n",
    "import numpy as np \n",
    "import pandas as pd \n",
    "import matplotlib.pyplot as plt\n",
    "import seaborn as sns\n",
    "import scipy.sparse as sp\n",
    "from tqdm import tqdm, tqdm_notebook\n",
    "sys.path.append('../../reproducible_figures/scripts/')\n",
    "import rep_fig_vis as rfv\n",
    "sys.path.append('../scripts/')\n",
    "from loadpaths_glc import loadpaths\n",
    "import data_loading_utils as dlu\n",
    "import glc_prediction_utils as gpu\n",
    "path_dict = loadpaths()"
   ]
  },
  {
   "cell_type": "code",
   "execution_count": 36,
   "metadata": {},
   "outputs": [
    {
     "name": "stdout",
     "output_type": "stream",
     "text": [
      "Dropped PO data because takes ages with geometry\n",
      "Columns dropped: ['taxonRank', 'geoUncertaintyInM', 'date', 'areaInM2', 'publisher', 'month', 'day', 'region', 'dayOfYear', 'country']\n",
      "Dropped 49637/1483637 duplicates in df_train_pa_species\n",
      "Created validation set with 8898 entries\n"
     ]
    }
   ],
   "source": [
    "dict_dfs, dict_dfs_species, dict_val_species = dlu.load_metadata(create_geo=True, add_h3=False,\n",
    "                                               create_validation_set=True)\n",
    "# type(dict_dfs['df_test_pa'])"
   ]
  },
  {
   "cell_type": "markdown",
   "metadata": {},
   "source": [
    "## Average within buffer with threshold"
   ]
  },
  {
   "cell_type": "code",
   "execution_count": 39,
   "metadata": {},
   "outputs": [
    {
     "name": "stdout",
     "output_type": "stream",
     "text": [
      "Dropped PO data because takes ages with geometry\n",
      "Columns dropped: ['taxonRank', 'geoUncertaintyInM', 'date', 'areaInM2', 'publisher', 'month', 'day', 'region', 'dayOfYear', 'country']\n",
      "Dropped 49637/1483637 duplicates in df_train_pa_species\n",
      "Warning: 35 nans in elevation data\n",
      "Warning: 35 nans in elevation data\n",
      "    LandCover  count\n",
      "0         0.0     25\n",
      "1         1.0     15\n",
      "2         2.0     18\n",
      "3         4.0     22\n",
      "4         5.0     16\n",
      "5         8.0     20\n",
      "6         9.0     16\n",
      "7        10.0     19\n",
      "8        11.0     14\n",
      "9        12.0     17\n",
      "10       13.0     16\n",
      "11       14.0     17\n",
      "12       15.0     11\n",
      "13       16.0     12\n",
      "14       17.0     13\n"
     ]
    },
    {
     "name": "stderr",
     "output_type": "stream",
     "text": [
      " 43%|████▎     | 2049/4716 [00:13<00:17, 149.13it/s]"
     ]
    },
    {
     "name": "stdout",
     "output_type": "stream",
     "text": [
      "No nearby points for surveyId: 1695841 (LC: 13.0)\n"
     ]
    },
    {
     "name": "stderr",
     "output_type": "stream",
     "text": [
      "100%|██████████| 4716/4716 [00:31<00:00, 151.01it/s]"
     ]
    },
    {
     "name": "stdout",
     "output_type": "stream",
     "text": [
      "Predictions done (4715 total). No nearby points: 1.\n",
      "Saved predictions to: /Users/t.vanderplas/data_offline/data_geolifeclef2024/predictions_glc2024/GLC24_vdplasthijs_predictions-buffer-lc-0.3-lc-specific_2024-04-18_22-53.csv\n"
     ]
    },
    {
     "name": "stderr",
     "output_type": "stream",
     "text": [
      "\n"
     ]
    }
   ],
   "source": [
    "val_or_test = 'test'\n",
    "\n",
    "dict_dfs, dict_dfs_species, dict_val_species = dlu.load_metadata(create_geo=True, add_h3=False,\n",
    "                                create_validation_set=True if val_or_test == 'val' else False)\n",
    "tmp = gpu.predict_using_buffer(dict_dfs=dict_dfs, dict_dfs_species=dict_dfs_species,\n",
    "                            save_pred=True, method=f'lc-specific', buffer_deg=0.3,\n",
    "                            eval_mode=val_or_test)\n",
    "if val_or_test == 'val':\n",
    "    f1_score = gpu.compute_f1_score_dicts(dict_val_species, tmp)\n",
    "    print(f'F1 score: {f1_score}')"
   ]
  },
  {
   "cell_type": "markdown",
   "metadata": {},
   "source": [
    "## Label propagation"
   ]
  },
  {
   "cell_type": "code",
   "execution_count": 3,
   "metadata": {},
   "outputs": [
    {
     "name": "stdout",
     "output_type": "stream",
     "text": [
      "Columns dropped: ['taxonRank', 'geoUncertaintyInM', 'date', 'areaInM2', 'publisher', 'month', 'day', 'region', 'dayOfYear', 'country']\n",
      "Dropped 49637/1483637 duplicates in df_train_pa_species\n",
      "Dropped 135101/5079797 duplicates in df_train_po_species\n"
     ]
    }
   ],
   "source": [
    "(df_train, df_test), (df_train_species, df_val_species) = dlu.create_full_pa_ds(val_or_test='test')"
   ]
  },
  {
   "cell_type": "code",
   "execution_count": 7,
   "metadata": {},
   "outputs": [],
   "source": [
    "df_tmp = df_train[[f'Bio{x}' for x in range(1, 20)]]\n",
    "\n",
    "def gauss_dist_two_samples(df, i1=0, i2=1):\n",
    "    vals1 = df.iloc[:, i1].values\n",
    "    vals2 = df.iloc[:, i2].values\n",
    "\n",
    "    mu = df.mean(0)\n",
    "    cov = df.cov()\n",
    "\n",
    "    dist = (vals1 - vals2)\n",
    "\n",
    "gauss_dist_two_samples(df_tmp)"
   ]
  },
  {
   "cell_type": "code",
   "execution_count": 8,
   "metadata": {},
   "outputs": [
    {
     "data": {
      "text/html": [
       "<div>\n",
       "<style scoped>\n",
       "    .dataframe tbody tr th:only-of-type {\n",
       "        vertical-align: middle;\n",
       "    }\n",
       "\n",
       "    .dataframe tbody tr th {\n",
       "        vertical-align: top;\n",
       "    }\n",
       "\n",
       "    .dataframe thead th {\n",
       "        text-align: right;\n",
       "    }\n",
       "</style>\n",
       "<table border=\"1\" class=\"dataframe\">\n",
       "  <thead>\n",
       "    <tr style=\"text-align: right;\">\n",
       "      <th></th>\n",
       "      <th>Bio1</th>\n",
       "      <th>Bio2</th>\n",
       "      <th>Bio3</th>\n",
       "      <th>Bio4</th>\n",
       "      <th>Bio5</th>\n",
       "      <th>Bio6</th>\n",
       "      <th>Bio7</th>\n",
       "      <th>Bio8</th>\n",
       "      <th>Bio9</th>\n",
       "      <th>Bio10</th>\n",
       "      <th>Bio11</th>\n",
       "      <th>Bio12</th>\n",
       "      <th>Bio13</th>\n",
       "      <th>Bio14</th>\n",
       "      <th>Bio15</th>\n",
       "      <th>Bio16</th>\n",
       "      <th>Bio17</th>\n",
       "      <th>Bio18</th>\n",
       "      <th>Bio19</th>\n",
       "    </tr>\n",
       "  </thead>\n",
       "  <tbody>\n",
       "    <tr>\n",
       "      <th>Bio1</th>\n",
       "      <td>469.185305</td>\n",
       "      <td>53.104204</td>\n",
       "      <td>2.935005</td>\n",
       "      <td>-1657.638815</td>\n",
       "      <td>472.528477</td>\n",
       "      <td>443.668066</td>\n",
       "      <td>28.860411</td>\n",
       "      <td>15.441916</td>\n",
       "      <td>1034.332376</td>\n",
       "      <td>452.843470</td>\n",
       "      <td>485.817020</td>\n",
       "      <td>-6.641072e+02</td>\n",
       "      <td>802.049618</td>\n",
       "      <td>-913.001705</td>\n",
       "      <td>813.129203</td>\n",
       "      <td>2.282272e+03</td>\n",
       "      <td>-2625.590683</td>\n",
       "      <td>-7815.570296</td>\n",
       "      <td>3.673081e+03</td>\n",
       "    </tr>\n",
       "    <tr>\n",
       "      <th>Bio2</th>\n",
       "      <td>53.104204</td>\n",
       "      <td>331.979271</td>\n",
       "      <td>10.119051</td>\n",
       "      <td>5432.156486</td>\n",
       "      <td>296.165786</td>\n",
       "      <td>-179.438637</td>\n",
       "      <td>475.604424</td>\n",
       "      <td>-162.201805</td>\n",
       "      <td>233.551456</td>\n",
       "      <td>120.493571</td>\n",
       "      <td>-42.141660</td>\n",
       "      <td>1.616764e+04</td>\n",
       "      <td>1719.363591</td>\n",
       "      <td>878.720490</td>\n",
       "      <td>-80.856908</td>\n",
       "      <td>5.081097e+03</td>\n",
       "      <td>3113.620483</td>\n",
       "      <td>1489.014570</td>\n",
       "      <td>4.992752e+03</td>\n",
       "    </tr>\n",
       "    <tr>\n",
       "      <th>Bio3</th>\n",
       "      <td>2.935005</td>\n",
       "      <td>10.119051</td>\n",
       "      <td>0.439561</td>\n",
       "      <td>65.105580</td>\n",
       "      <td>9.068441</td>\n",
       "      <td>-2.485379</td>\n",
       "      <td>11.553820</td>\n",
       "      <td>-10.613806</td>\n",
       "      <td>8.846472</td>\n",
       "      <td>3.685711</td>\n",
       "      <td>1.213572</td>\n",
       "      <td>5.218271e+02</td>\n",
       "      <td>35.118204</td>\n",
       "      <td>38.303884</td>\n",
       "      <td>-13.830002</td>\n",
       "      <td>1.162495e+02</td>\n",
       "      <td>135.808545</td>\n",
       "      <td>47.443775</td>\n",
       "      <td>1.806833e+02</td>\n",
       "    </tr>\n",
       "    <tr>\n",
       "      <th>Bio4</th>\n",
       "      <td>-1657.638815</td>\n",
       "      <td>5432.156486</td>\n",
       "      <td>65.105580</td>\n",
       "      <td>300916.931846</td>\n",
       "      <td>4828.798646</td>\n",
       "      <td>-8962.095949</td>\n",
       "      <td>13790.894595</td>\n",
       "      <td>5084.125738</td>\n",
       "      <td>-5842.331558</td>\n",
       "      <td>2059.823752</td>\n",
       "      <td>-6006.045817</td>\n",
       "      <td>1.701452e+05</td>\n",
       "      <td>31577.209023</td>\n",
       "      <td>3873.267418</td>\n",
       "      <td>6895.464174</td>\n",
       "      <td>9.279199e+04</td>\n",
       "      <td>4191.505501</td>\n",
       "      <td>61697.909635</td>\n",
       "      <td>8.068577e+03</td>\n",
       "    </tr>\n",
       "    <tr>\n",
       "      <th>Bio5</th>\n",
       "      <td>472.528477</td>\n",
       "      <td>296.165786</td>\n",
       "      <td>9.068441</td>\n",
       "      <td>4828.798646</td>\n",
       "      <td>695.284922</td>\n",
       "      <td>246.722496</td>\n",
       "      <td>448.562425</td>\n",
       "      <td>10.153717</td>\n",
       "      <td>1076.273643</td>\n",
       "      <td>538.589925</td>\n",
       "      <td>389.313332</td>\n",
       "      <td>6.612487e+03</td>\n",
       "      <td>1609.455488</td>\n",
       "      <td>-523.461573</td>\n",
       "      <td>798.421189</td>\n",
       "      <td>4.758081e+03</td>\n",
       "      <td>-1343.938185</td>\n",
       "      <td>-7040.286533</td>\n",
       "      <td>5.650038e+03</td>\n",
       "    </tr>\n",
       "    <tr>\n",
       "      <th>Bio6</th>\n",
       "      <td>443.668066</td>\n",
       "      <td>-179.438637</td>\n",
       "      <td>-2.485379</td>\n",
       "      <td>-8962.095949</td>\n",
       "      <td>246.722496</td>\n",
       "      <td>656.924533</td>\n",
       "      <td>-410.202037</td>\n",
       "      <td>18.901125</td>\n",
       "      <td>945.773695</td>\n",
       "      <td>338.030687</td>\n",
       "      <td>575.153784</td>\n",
       "      <td>-1.442790e+04</td>\n",
       "      <td>-1183.096673</td>\n",
       "      <td>-1373.789215</td>\n",
       "      <td>546.661975</td>\n",
       "      <td>-3.445079e+03</td>\n",
       "      <td>-4151.261089</td>\n",
       "      <td>-9775.460693</td>\n",
       "      <td>3.703132e+02</td>\n",
       "    </tr>\n",
       "    <tr>\n",
       "      <th>Bio7</th>\n",
       "      <td>28.860411</td>\n",
       "      <td>475.604424</td>\n",
       "      <td>11.553820</td>\n",
       "      <td>13790.894595</td>\n",
       "      <td>448.562425</td>\n",
       "      <td>-410.202037</td>\n",
       "      <td>858.764462</td>\n",
       "      <td>-8.747408</td>\n",
       "      <td>130.499948</td>\n",
       "      <td>200.559238</td>\n",
       "      <td>-185.840453</td>\n",
       "      <td>2.104039e+04</td>\n",
       "      <td>2792.552161</td>\n",
       "      <td>850.327642</td>\n",
       "      <td>251.759213</td>\n",
       "      <td>8.203160e+03</td>\n",
       "      <td>2807.322904</td>\n",
       "      <td>2735.174160</td>\n",
       "      <td>5.279725e+03</td>\n",
       "    </tr>\n",
       "    <tr>\n",
       "      <th>Bio8</th>\n",
       "      <td>15.441916</td>\n",
       "      <td>-162.201805</td>\n",
       "      <td>-10.613806</td>\n",
       "      <td>5084.125738</td>\n",
       "      <td>10.153717</td>\n",
       "      <td>18.901125</td>\n",
       "      <td>-8.747408</td>\n",
       "      <td>1405.728947</td>\n",
       "      <td>-348.710948</td>\n",
       "      <td>79.012951</td>\n",
       "      <td>-34.401188</td>\n",
       "      <td>-3.644903e+04</td>\n",
       "      <td>-3249.379734</td>\n",
       "      <td>-2523.496324</td>\n",
       "      <td>808.986408</td>\n",
       "      <td>-9.406679e+03</td>\n",
       "      <td>-9087.287319</td>\n",
       "      <td>-3843.396326</td>\n",
       "      <td>-1.228758e+04</td>\n",
       "    </tr>\n",
       "    <tr>\n",
       "      <th>Bio9</th>\n",
       "      <td>1034.332376</td>\n",
       "      <td>233.551456</td>\n",
       "      <td>8.846472</td>\n",
       "      <td>-5842.331558</td>\n",
       "      <td>1076.273643</td>\n",
       "      <td>945.773695</td>\n",
       "      <td>130.499948</td>\n",
       "      <td>-348.710948</td>\n",
       "      <td>3421.106294</td>\n",
       "      <td>982.555450</td>\n",
       "      <td>1112.900286</td>\n",
       "      <td>3.153828e+04</td>\n",
       "      <td>7437.772129</td>\n",
       "      <td>-1207.332577</td>\n",
       "      <td>2601.176759</td>\n",
       "      <td>1.935881e+04</td>\n",
       "      <td>-2166.030287</td>\n",
       "      <td>-18247.801551</td>\n",
       "      <td>2.017907e+04</td>\n",
       "    </tr>\n",
       "    <tr>\n",
       "      <th>Bio10</th>\n",
       "      <td>452.843470</td>\n",
       "      <td>120.493571</td>\n",
       "      <td>3.685711</td>\n",
       "      <td>2059.823752</td>\n",
       "      <td>538.589925</td>\n",
       "      <td>338.030687</td>\n",
       "      <td>200.559238</td>\n",
       "      <td>79.012951</td>\n",
       "      <td>982.555450</td>\n",
       "      <td>483.596520</td>\n",
       "      <td>416.941144</td>\n",
       "      <td>1.277899e+03</td>\n",
       "      <td>1203.715672</td>\n",
       "      <td>-886.763880</td>\n",
       "      <td>916.359609</td>\n",
       "      <td>3.444692e+03</td>\n",
       "      <td>-2656.580304</td>\n",
       "      <td>-7305.636907</td>\n",
       "      <td>3.794150e+03</td>\n",
       "    </tr>\n",
       "    <tr>\n",
       "      <th>Bio11</th>\n",
       "      <td>485.817020</td>\n",
       "      <td>-42.141660</td>\n",
       "      <td>1.213572</td>\n",
       "      <td>-6006.045817</td>\n",
       "      <td>389.313332</td>\n",
       "      <td>575.153784</td>\n",
       "      <td>-185.840453</td>\n",
       "      <td>-34.401188</td>\n",
       "      <td>1112.900286</td>\n",
       "      <td>416.941144</td>\n",
       "      <td>568.676645</td>\n",
       "      <td>-4.407704e+03</td>\n",
       "      <td>277.922959</td>\n",
       "      <td>-1066.844939</td>\n",
       "      <td>755.776705</td>\n",
       "      <td>6.903914e+02</td>\n",
       "      <td>-3047.908902</td>\n",
       "      <td>-9049.403187</td>\n",
       "      <td>3.180004e+03</td>\n",
       "    </tr>\n",
       "    <tr>\n",
       "      <th>Bio12</th>\n",
       "      <td>-664.107196</td>\n",
       "      <td>16167.636132</td>\n",
       "      <td>521.827121</td>\n",
       "      <td>170145.207086</td>\n",
       "      <td>6612.486527</td>\n",
       "      <td>-14427.901732</td>\n",
       "      <td>21040.388259</td>\n",
       "      <td>-36449.033683</td>\n",
       "      <td>31538.276934</td>\n",
       "      <td>1277.898929</td>\n",
       "      <td>-4407.704099</td>\n",
       "      <td>5.179678e+06</td>\n",
       "      <td>690001.181626</td>\n",
       "      <td>194919.848516</td>\n",
       "      <td>22081.383535</td>\n",
       "      <td>1.899276e+06</td>\n",
       "      <td>738881.098353</td>\n",
       "      <td>664483.109749</td>\n",
       "      <td>1.560262e+06</td>\n",
       "    </tr>\n",
       "    <tr>\n",
       "      <th>Bio13</th>\n",
       "      <td>802.049618</td>\n",
       "      <td>1719.363591</td>\n",
       "      <td>35.118204</td>\n",
       "      <td>31577.209023</td>\n",
       "      <td>1609.455488</td>\n",
       "      <td>-1183.096673</td>\n",
       "      <td>2792.552161</td>\n",
       "      <td>-3249.379734</td>\n",
       "      <td>7437.772129</td>\n",
       "      <td>1203.715672</td>\n",
       "      <td>277.922959</td>\n",
       "      <td>6.900012e+05</td>\n",
       "      <td>110458.014943</td>\n",
       "      <td>14933.207249</td>\n",
       "      <td>13555.595169</td>\n",
       "      <td>2.947967e+05</td>\n",
       "      <td>65498.491213</td>\n",
       "      <td>58425.674573</td>\n",
       "      <td>2.138997e+05</td>\n",
       "    </tr>\n",
       "    <tr>\n",
       "      <th>Bio14</th>\n",
       "      <td>-913.001705</td>\n",
       "      <td>878.720490</td>\n",
       "      <td>38.303884</td>\n",
       "      <td>3873.267418</td>\n",
       "      <td>-523.461573</td>\n",
       "      <td>-1373.789215</td>\n",
       "      <td>850.327642</td>\n",
       "      <td>-2523.496324</td>\n",
       "      <td>-1207.332577</td>\n",
       "      <td>-886.763880</td>\n",
       "      <td>-1066.844939</td>\n",
       "      <td>1.949198e+05</td>\n",
       "      <td>14933.207249</td>\n",
       "      <td>17739.669076</td>\n",
       "      <td>-6180.900289</td>\n",
       "      <td>4.385404e+04</td>\n",
       "      <td>55196.076496</td>\n",
       "      <td>51427.484607</td>\n",
       "      <td>4.929481e+04</td>\n",
       "    </tr>\n",
       "    <tr>\n",
       "      <th>Bio15</th>\n",
       "      <td>813.129203</td>\n",
       "      <td>-80.856908</td>\n",
       "      <td>-13.830002</td>\n",
       "      <td>6895.464174</td>\n",
       "      <td>798.421189</td>\n",
       "      <td>546.661975</td>\n",
       "      <td>251.759213</td>\n",
       "      <td>808.986408</td>\n",
       "      <td>2601.176759</td>\n",
       "      <td>916.359609</td>\n",
       "      <td>755.776705</td>\n",
       "      <td>2.208138e+04</td>\n",
       "      <td>13555.595169</td>\n",
       "      <td>-6180.900289</td>\n",
       "      <td>7425.611640</td>\n",
       "      <td>3.365318e+04</td>\n",
       "      <td>-17803.261119</td>\n",
       "      <td>-16176.221462</td>\n",
       "      <td>9.648659e+03</td>\n",
       "    </tr>\n",
       "    <tr>\n",
       "      <th>Bio16</th>\n",
       "      <td>2282.272043</td>\n",
       "      <td>5081.096638</td>\n",
       "      <td>116.249486</td>\n",
       "      <td>92791.991461</td>\n",
       "      <td>4758.081174</td>\n",
       "      <td>-3445.078881</td>\n",
       "      <td>8203.160055</td>\n",
       "      <td>-9406.679360</td>\n",
       "      <td>19358.813893</td>\n",
       "      <td>3444.692331</td>\n",
       "      <td>690.391358</td>\n",
       "      <td>1.899276e+06</td>\n",
       "      <td>294796.675870</td>\n",
       "      <td>43854.035497</td>\n",
       "      <td>33653.175648</td>\n",
       "      <td>7.999756e+05</td>\n",
       "      <td>187039.367860</td>\n",
       "      <td>169866.463120</td>\n",
       "      <td>5.877006e+05</td>\n",
       "    </tr>\n",
       "    <tr>\n",
       "      <th>Bio17</th>\n",
       "      <td>-2625.590683</td>\n",
       "      <td>3113.620483</td>\n",
       "      <td>135.808545</td>\n",
       "      <td>4191.505501</td>\n",
       "      <td>-1343.938185</td>\n",
       "      <td>-4151.261089</td>\n",
       "      <td>2807.322904</td>\n",
       "      <td>-9087.287319</td>\n",
       "      <td>-2166.030287</td>\n",
       "      <td>-2656.580304</td>\n",
       "      <td>-3047.908902</td>\n",
       "      <td>7.388811e+05</td>\n",
       "      <td>65498.491213</td>\n",
       "      <td>55196.076496</td>\n",
       "      <td>-17803.261119</td>\n",
       "      <td>1.870394e+05</td>\n",
       "      <td>186458.372262</td>\n",
       "      <td>167499.430272</td>\n",
       "      <td>2.013249e+05</td>\n",
       "    </tr>\n",
       "    <tr>\n",
       "      <th>Bio18</th>\n",
       "      <td>-7815.570296</td>\n",
       "      <td>1489.014570</td>\n",
       "      <td>47.443775</td>\n",
       "      <td>61697.909635</td>\n",
       "      <td>-7040.286533</td>\n",
       "      <td>-9775.460693</td>\n",
       "      <td>2735.174160</td>\n",
       "      <td>-3843.396326</td>\n",
       "      <td>-18247.801551</td>\n",
       "      <td>-7305.636907</td>\n",
       "      <td>-9049.403187</td>\n",
       "      <td>6.644831e+05</td>\n",
       "      <td>58425.674573</td>\n",
       "      <td>51427.484607</td>\n",
       "      <td>-16176.221462</td>\n",
       "      <td>1.698665e+05</td>\n",
       "      <td>167499.430272</td>\n",
       "      <td>315803.044860</td>\n",
       "      <td>8.641636e+04</td>\n",
       "    </tr>\n",
       "    <tr>\n",
       "      <th>Bio19</th>\n",
       "      <td>3673.081380</td>\n",
       "      <td>4992.751620</td>\n",
       "      <td>180.683270</td>\n",
       "      <td>8068.576924</td>\n",
       "      <td>5650.038300</td>\n",
       "      <td>370.313159</td>\n",
       "      <td>5279.725141</td>\n",
       "      <td>-12287.582762</td>\n",
       "      <td>20179.072326</td>\n",
       "      <td>3794.149756</td>\n",
       "      <td>3180.003723</td>\n",
       "      <td>1.560262e+06</td>\n",
       "      <td>213899.692548</td>\n",
       "      <td>49294.807437</td>\n",
       "      <td>9648.658916</td>\n",
       "      <td>5.877006e+05</td>\n",
       "      <td>201324.869887</td>\n",
       "      <td>86416.361107</td>\n",
       "      <td>5.598880e+05</td>\n",
       "    </tr>\n",
       "  </tbody>\n",
       "</table>\n",
       "</div>"
      ],
      "text/plain": [
       "              Bio1          Bio2        Bio3           Bio4         Bio5  \\\n",
       "Bio1    469.185305     53.104204    2.935005   -1657.638815   472.528477   \n",
       "Bio2     53.104204    331.979271   10.119051    5432.156486   296.165786   \n",
       "Bio3      2.935005     10.119051    0.439561      65.105580     9.068441   \n",
       "Bio4  -1657.638815   5432.156486   65.105580  300916.931846  4828.798646   \n",
       "Bio5    472.528477    296.165786    9.068441    4828.798646   695.284922   \n",
       "Bio6    443.668066   -179.438637   -2.485379   -8962.095949   246.722496   \n",
       "Bio7     28.860411    475.604424   11.553820   13790.894595   448.562425   \n",
       "Bio8     15.441916   -162.201805  -10.613806    5084.125738    10.153717   \n",
       "Bio9   1034.332376    233.551456    8.846472   -5842.331558  1076.273643   \n",
       "Bio10   452.843470    120.493571    3.685711    2059.823752   538.589925   \n",
       "Bio11   485.817020    -42.141660    1.213572   -6006.045817   389.313332   \n",
       "Bio12  -664.107196  16167.636132  521.827121  170145.207086  6612.486527   \n",
       "Bio13   802.049618   1719.363591   35.118204   31577.209023  1609.455488   \n",
       "Bio14  -913.001705    878.720490   38.303884    3873.267418  -523.461573   \n",
       "Bio15   813.129203    -80.856908  -13.830002    6895.464174   798.421189   \n",
       "Bio16  2282.272043   5081.096638  116.249486   92791.991461  4758.081174   \n",
       "Bio17 -2625.590683   3113.620483  135.808545    4191.505501 -1343.938185   \n",
       "Bio18 -7815.570296   1489.014570   47.443775   61697.909635 -7040.286533   \n",
       "Bio19  3673.081380   4992.751620  180.683270    8068.576924  5650.038300   \n",
       "\n",
       "               Bio6          Bio7          Bio8          Bio9        Bio10  \\\n",
       "Bio1     443.668066     28.860411     15.441916   1034.332376   452.843470   \n",
       "Bio2    -179.438637    475.604424   -162.201805    233.551456   120.493571   \n",
       "Bio3      -2.485379     11.553820    -10.613806      8.846472     3.685711   \n",
       "Bio4   -8962.095949  13790.894595   5084.125738  -5842.331558  2059.823752   \n",
       "Bio5     246.722496    448.562425     10.153717   1076.273643   538.589925   \n",
       "Bio6     656.924533   -410.202037     18.901125    945.773695   338.030687   \n",
       "Bio7    -410.202037    858.764462     -8.747408    130.499948   200.559238   \n",
       "Bio8      18.901125     -8.747408   1405.728947   -348.710948    79.012951   \n",
       "Bio9     945.773695    130.499948   -348.710948   3421.106294   982.555450   \n",
       "Bio10    338.030687    200.559238     79.012951    982.555450   483.596520   \n",
       "Bio11    575.153784   -185.840453    -34.401188   1112.900286   416.941144   \n",
       "Bio12 -14427.901732  21040.388259 -36449.033683  31538.276934  1277.898929   \n",
       "Bio13  -1183.096673   2792.552161  -3249.379734   7437.772129  1203.715672   \n",
       "Bio14  -1373.789215    850.327642  -2523.496324  -1207.332577  -886.763880   \n",
       "Bio15    546.661975    251.759213    808.986408   2601.176759   916.359609   \n",
       "Bio16  -3445.078881   8203.160055  -9406.679360  19358.813893  3444.692331   \n",
       "Bio17  -4151.261089   2807.322904  -9087.287319  -2166.030287 -2656.580304   \n",
       "Bio18  -9775.460693   2735.174160  -3843.396326 -18247.801551 -7305.636907   \n",
       "Bio19    370.313159   5279.725141 -12287.582762  20179.072326  3794.149756   \n",
       "\n",
       "             Bio11         Bio12          Bio13          Bio14         Bio15  \\\n",
       "Bio1    485.817020 -6.641072e+02     802.049618    -913.001705    813.129203   \n",
       "Bio2    -42.141660  1.616764e+04    1719.363591     878.720490    -80.856908   \n",
       "Bio3      1.213572  5.218271e+02      35.118204      38.303884    -13.830002   \n",
       "Bio4  -6006.045817  1.701452e+05   31577.209023    3873.267418   6895.464174   \n",
       "Bio5    389.313332  6.612487e+03    1609.455488    -523.461573    798.421189   \n",
       "Bio6    575.153784 -1.442790e+04   -1183.096673   -1373.789215    546.661975   \n",
       "Bio7   -185.840453  2.104039e+04    2792.552161     850.327642    251.759213   \n",
       "Bio8    -34.401188 -3.644903e+04   -3249.379734   -2523.496324    808.986408   \n",
       "Bio9   1112.900286  3.153828e+04    7437.772129   -1207.332577   2601.176759   \n",
       "Bio10   416.941144  1.277899e+03    1203.715672    -886.763880    916.359609   \n",
       "Bio11   568.676645 -4.407704e+03     277.922959   -1066.844939    755.776705   \n",
       "Bio12 -4407.704099  5.179678e+06  690001.181626  194919.848516  22081.383535   \n",
       "Bio13   277.922959  6.900012e+05  110458.014943   14933.207249  13555.595169   \n",
       "Bio14 -1066.844939  1.949198e+05   14933.207249   17739.669076  -6180.900289   \n",
       "Bio15   755.776705  2.208138e+04   13555.595169   -6180.900289   7425.611640   \n",
       "Bio16   690.391358  1.899276e+06  294796.675870   43854.035497  33653.175648   \n",
       "Bio17 -3047.908902  7.388811e+05   65498.491213   55196.076496 -17803.261119   \n",
       "Bio18 -9049.403187  6.644831e+05   58425.674573   51427.484607 -16176.221462   \n",
       "Bio19  3180.003723  1.560262e+06  213899.692548   49294.807437   9648.658916   \n",
       "\n",
       "              Bio16          Bio17          Bio18         Bio19  \n",
       "Bio1   2.282272e+03   -2625.590683   -7815.570296  3.673081e+03  \n",
       "Bio2   5.081097e+03    3113.620483    1489.014570  4.992752e+03  \n",
       "Bio3   1.162495e+02     135.808545      47.443775  1.806833e+02  \n",
       "Bio4   9.279199e+04    4191.505501   61697.909635  8.068577e+03  \n",
       "Bio5   4.758081e+03   -1343.938185   -7040.286533  5.650038e+03  \n",
       "Bio6  -3.445079e+03   -4151.261089   -9775.460693  3.703132e+02  \n",
       "Bio7   8.203160e+03    2807.322904    2735.174160  5.279725e+03  \n",
       "Bio8  -9.406679e+03   -9087.287319   -3843.396326 -1.228758e+04  \n",
       "Bio9   1.935881e+04   -2166.030287  -18247.801551  2.017907e+04  \n",
       "Bio10  3.444692e+03   -2656.580304   -7305.636907  3.794150e+03  \n",
       "Bio11  6.903914e+02   -3047.908902   -9049.403187  3.180004e+03  \n",
       "Bio12  1.899276e+06  738881.098353  664483.109749  1.560262e+06  \n",
       "Bio13  2.947967e+05   65498.491213   58425.674573  2.138997e+05  \n",
       "Bio14  4.385404e+04   55196.076496   51427.484607  4.929481e+04  \n",
       "Bio15  3.365318e+04  -17803.261119  -16176.221462  9.648659e+03  \n",
       "Bio16  7.999756e+05  187039.367860  169866.463120  5.877006e+05  \n",
       "Bio17  1.870394e+05  186458.372262  167499.430272  2.013249e+05  \n",
       "Bio18  1.698665e+05  167499.430272  315803.044860  8.641636e+04  \n",
       "Bio19  5.877006e+05  201324.869887   86416.361107  5.598880e+05  "
      ]
     },
     "execution_count": 8,
     "metadata": {},
     "output_type": "execute_result"
    }
   ],
   "source": [
    "df_tmp.cov()"
   ]
  },
  {
   "cell_type": "markdown",
   "metadata": {},
   "source": [
    "## Label propagation idea:\n",
    "\n",
    "- For each sample, define neighbourhood based on geographic distance to other points (eg 0.2 deg). I think this beats KNN because of huge differences in sampling density. \n",
    "- For two samples, define their weight as 1) some distance function of features like LC / sat / bioclim / soil. Embed features with PCA etc. first to reduce cost and improve metric of computing distance? Possible scale feature similarity with distance decay function.\n",
    "- Implement label propagation algorithm to label test samples, based on weighted voting/average (per species I think) within neighbourhood. \n",
    "- So formally, we would have a G = (V, E, W), where V are the samples, E are defined by geographic distance, W are defined by features. These are all pre-computed. Labels L(V) are then computed iteratively.\n",
    "- Pretty big data set (with PO even more so): use efficient data structures etc. Sparse matrix? Maybe you can do efficient col multiple + sum? Sparse; Save weights as sparse matrix (0 if no edge). Species labels as sparse mat. Then label prop is a matmul between W and L_t.\n",
    "- Defining the (feature) distance function: option 1) optimising this, only feasible for a handful of hyperparams. Option 2) something based on features themselves. PCA is pretty good, other ways of maximising info? LC will be v important but tricky because it is categorical. "
   ]
  },
  {
   "cell_type": "code",
   "execution_count": null,
   "metadata": {},
   "outputs": [],
   "source": []
  },
  {
   "cell_type": "code",
   "execution_count": 10,
   "metadata": {},
   "outputs": [
    {
     "name": "stdout",
     "output_type": "stream",
     "text": [
      "Dropped PO data because takes ages with geometry\n",
      "Columns dropped: ['taxonRank', 'geoUncertaintyInM', 'date', 'areaInM2', 'publisher', 'month', 'day', 'region', 'dayOfYear', 'country']\n",
      "Dropped 49637/1483637 duplicates in df_train_pa_species\n",
      "Z-scored 19 columns\n",
      "Preloading weights from timestamp: 20240421-2043\n",
      "Loaded sparse matrices from file\n"
     ]
    }
   ],
   "source": [
    "tmp = gpu.LabelPropagation(dist_neigh_meter=30000,\n",
    "                           val_or_test='test', method_weights='feature_dist',\n",
    "                           filter_lc_exact_match=False, zscore_features=True,\n",
    "                           preload_weights=True, weights_preload_timestamp='20240421-2043',\n",
    "                           preload_labels=True, labels_preload_timestamp='20240421-2043')"
   ]
  },
  {
   "cell_type": "code",
   "execution_count": 42,
   "metadata": {},
   "outputs": [
    {
     "data": {
      "text/plain": [
       "array([[0.]], dtype=float32)"
      ]
     },
     "execution_count": 42,
     "metadata": {},
     "output_type": "execute_result"
    }
   ],
   "source": [
    "# tmp.mat_labels[0] * tmp.mat_labels[1]\n",
    "from sklearn.metrics.pairwise import cosine_similarity\n",
    "cosine_similarity(tmp.mat_labels[0], tmp.mat_labels[1])"
   ]
  },
  {
   "cell_type": "code",
   "execution_count": null,
   "metadata": {},
   "outputs": [],
   "source": [
    "%timeit"
   ]
  },
  {
   "cell_type": "code",
   "execution_count": 46,
   "metadata": {},
   "outputs": [
    {
     "data": {
      "text/plain": [
       "<93668x93668 sparse matrix of type '<class 'numpy.float32'>'\n",
       "\twith 3153021326 stored elements in Compressed Sparse Row format>"
      ]
     },
     "execution_count": 46,
     "metadata": {},
     "output_type": "execute_result"
    }
   ],
   "source": [
    "tmp_cos = cosine_similarity(tmp.mat_labels, dense_output=False) \n",
    "tmp_cos"
   ]
  },
  {
   "cell_type": "code",
   "execution_count": 130,
   "metadata": {},
   "outputs": [
    {
     "name": "stderr",
     "output_type": "stream",
     "text": [
      "  0%|          | 0/93668 [00:00<?, ?it/s]/Users/t.vanderplas/anaconda3/envs/geoclef/lib/python3.10/site-packages/scipy/sparse/_index.py:136: SparseEfficiencyWarning: Changing the sparsity structure of a csr_matrix is expensive. lil_matrix is more efficient.\n",
      "  self._set_arrayXarray_sparse(i, j, x)\n",
      "100%|██████████| 93668/93668 [57:20<00:00, 27.22it/s]  \n"
     ]
    }
   ],
   "source": [
    "new_cos = sp.csr_matrix((tmp_cos.shape[0], tmp_cos.shape[1]))\n",
    "for i in tqdm(range(tmp_cos.shape[0])):\n",
    "    nz_ind_edge = tmp.mat_edges[i].nonzero()[1]\n",
    "    new_cos[i, nz_ind_edge] = tmp_cos[i, nz_ind_edge]    \n"
   ]
  },
  {
   "cell_type": "code",
   "execution_count": 52,
   "metadata": {},
   "outputs": [
    {
     "name": "stderr",
     "output_type": "stream",
     "text": [
      "/Users/t.vanderplas/anaconda3/envs/geoclef/lib/python3.10/site-packages/scipy/sparse/_index.py:145: SparseEfficiencyWarning: Changing the sparsity structure of a csr_matrix is expensive. lil_matrix is more efficient.\n",
      "  self._set_arrayXarray(i, j, x)\n"
     ]
    }
   ],
   "source": [
    "tmp_cos.setdiag(np.zeros(tmp_cos.shape[0]))"
   ]
  },
  {
   "cell_type": "code",
   "execution_count": 132,
   "metadata": {},
   "outputs": [],
   "source": [
    "sp.save_npz('/Users/t.vanderplas/data_offline/data_geolifeclef2024/geolifeclef-2024/sparse_format/mat_cos_labels_30km_20240516-2138.npz', new_cos)"
   ]
  },
  {
   "cell_type": "code",
   "execution_count": 131,
   "metadata": {},
   "outputs": [
    {
     "data": {
      "text/plain": [
       "<93668x93668 sparse matrix of type '<class 'numpy.float64'>'\n",
       "\twith 18180944 stored elements in Compressed Sparse Row format>"
      ]
     },
     "execution_count": 131,
     "metadata": {},
     "output_type": "execute_result"
    }
   ],
   "source": [
    "new_cos"
   ]
  },
  {
   "cell_type": "code",
   "execution_count": 128,
   "metadata": {},
   "outputs": [
    {
     "name": "stdout",
     "output_type": "stream",
     "text": [
      "0.1700577452615281\n"
     ]
    },
    {
     "data": {
      "image/png": "[encoded data removed]",
      "text/plain": [
       "<Figure size 640x480 with 1 Axes>"
      ]
     },
     "metadata": {},
     "output_type": "display_data"
    }
   ],
   "source": [
    "df_feat = tmp.df_train[['Elevation', 'Bio1', 'Bio2', 'Bio3', 'Bio4', 'Bio5', 'Bio6', 'Bio7', 'Bio8', 'Bio9', 'Bio10', 'Bio11', 'Bio12', 'Bio13', 'Bio14', 'Bio15', 'Bio16', 'Bio17', 'Bio18', 'Bio19']]\n",
    "# df_feat = tmp.df_train[['LandCover']]\n",
    "focal_ind = 120\n",
    "# cos_use = tmp_cos\n",
    "cos_use = new_cos\n",
    "nz_inds = cos_use[focal_ind, :].nonzero()[1]\n",
    "df_feat = df_feat.iloc[nz_inds, :] - df_feat.iloc[focal_ind, :]\n",
    "dist_arr = df_feat.abs().sum(1).values\n",
    "sim_arr_feat =  1 - dist_arr / dist_arr.max()\n",
    "plt.scatter(sim_arr_feat, cos_use[focal_ind, nz_inds].toarray().flatten(), s=1)\n",
    "plt.xlabel('Feature similarity')\n",
    "plt.ylabel('Label similarity')\n",
    "print(np.corrcoef(sim_arr_feat, cos_use[focal_ind, nz_inds].toarray().flatten())[0, 1])"
   ]
  },
  {
   "cell_type": "code",
   "execution_count": 109,
   "metadata": {},
   "outputs": [
    {
     "data": {
      "text/plain": [
       "118.34092135209147"
      ]
     },
     "execution_count": 109,
     "metadata": {},
     "output_type": "execute_result"
    }
   ],
   "source": [
    "3153026042 / 26643582"
   ]
  },
  {
   "cell_type": "code",
   "execution_count": 108,
   "metadata": {},
   "outputs": [
    {
     "data": {
      "text/plain": [
       "<93668x93668 sparse matrix of type '<class 'numpy.bool_'>'\n",
       "\twith 26643582 stored elements in Compressed Sparse Row format>"
      ]
     },
     "execution_count": 108,
     "metadata": {},
     "output_type": "execute_result"
    }
   ],
   "source": [
    "tmp.mat_edges"
   ]
  },
  {
   "cell_type": "code",
   "execution_count": 21,
   "metadata": {},
   "outputs": [
    {
     "name": "stderr",
     "output_type": "stream",
     "text": [
      "  0%|          | 0/50 [00:00<?, ?it/s]/Users/t.vanderplas/anaconda3/envs/geoclef/lib/python3.10/site-packages/scipy/sparse/_base.py:713: RuntimeWarning: divide by zero encountered in divide\n",
      "  recip = np.true_divide(1., other)\n",
      "/Users/t.vanderplas/anaconda3/envs/geoclef/lib/python3.10/site-packages/scipy/sparse/_index.py:136: SparseEfficiencyWarning: Changing the sparsity structure of a csr_matrix is expensive. lil_matrix is more efficient.\n",
      "  self._set_arrayXarray_sparse(i, j, x)\n",
      "Difference between epochs: 59.8: 100%|██████████| 50/50 [01:36<00:00,  1.92s/it]  "
     ]
    },
    {
     "name": "stdout",
     "output_type": "stream",
     "text": [
      "Converged after 50/50 iterations\n"
     ]
    },
    {
     "name": "stderr",
     "output_type": "stream",
     "text": [
      "\n"
     ]
    }
   ],
   "source": [
    "tmp.n_iter = 50\n",
    "_ = tmp.fit()"
   ]
  },
  {
   "cell_type": "markdown",
   "metadata": {},
   "source": [
    "- data points $i, j$: distance $d_{ij} = \\sum_k | f_k(i) - f_k(j) | \\cdot \\nu_k$ such that $ 0 \\leq d_{ij} < \\inf$\n",
    "\n",
    "- similarity then is: $s_{ij} = \\frac{1}{\\epsilon + d_{ij}}$, such that $ 0 < s_{ij} \\leq \\epsilon^{-1} $ (should therefore $\\epsilon = 1$?)\n",
    "\n",
    "- for satellite images; $f_k(i) = CNN(x_i | \\theta)$ where $\\theta$ is partly trained.\n",
    "- for all others $f_k(i) = g(x_i)$ with no parameters to train. (either unity function, or PCA or something)\n",
    "\n",
    "- For the species labels $y_i$, we define similarity as the cosine similarity: $s_{ij}^l = \\frac{y_i \\cdot y_j}{|| y_i || \\cdot || y_j || }$ such that $0 \\leq s_{ij}^l \\leq 1$\n",
    "\n",
    "\n",
    "Training: \n",
    "- Loss: $L(i, j) = MSE(s_{ij}, s_{ij}^l)$ if geographic distance $i, j < \\tau$, else 0\n",
    "- backprop $\\{\\nu_k, \\theta\\}$\n",
    "- training: 1) take sample $i$, 2) find inds neighbours $< \\tau$, 3) get matrix of $| f_k(i) - f_k(j) |$ (rows $j$, cols $k$), 4) multiply with $\\nu_k$ and col-sum, 5) similarity and MSE loss, 6) backprop.\n",
    "- CNN not sure ... ? "
   ]
  },
  {
   "cell_type": "code",
   "execution_count": 31,
   "metadata": {},
   "outputs": [
    {
     "name": "stdout",
     "output_type": "stream",
     "text": [
      "Computed thresholds for test set\n"
     ]
    },
    {
     "name": "stderr",
     "output_type": "stream",
     "text": [
      "100%|██████████| 4716/4716 [04:34<00:00, 17.17it/s]\n"
     ]
    },
    {
     "name": "stdout",
     "output_type": "stream",
     "text": [
      "Predictions done. No species found: 11/4716.\n",
      "Saved predictions to: /Users/t.vanderplas/data_offline/data_geolifeclef2024/predictions_glc2024/2024-05-15_14-34_GLC24_vdplasthijs_predictions-label-prop-lc-30000m-0.15.csv\n"
     ]
    },
    {
     "data": {
      "image/png": "[encoded data removed]",
      "text/plain": [
       "<Figure size 640x480 with 1 Axes>"
      ]
     },
     "metadata": {},
     "output_type": "display_data"
    }
   ],
   "source": [
    "threshold_method = 'adaptive'\n",
    "threshold_weighted_labels = 0.15\n",
    "save_pred = True\n",
    "\n",
    "dict_pred, count_no_species = tmp.create_predictions(threshold_method=threshold_method,\n",
    "                                   threshold_weighted_labels=threshold_weighted_labels, \n",
    "                                   save_pred=save_pred)\n",
    "\n",
    "ax = plt.subplot(111)\n",
    "ax.hist([len(v) for k, v in dict_pred.items()], bins=np.arange(0, 200, 5),\n",
    "         edgecolor='black', alpha=0.7);\n",
    "ax.set_xlabel('Number of predicted species')\n",
    "ax.set_ylabel('Number of surveys')\n",
    "ax.axvline(np.median([len(v) for k, v in dict_pred.items()]), color='red', linestyle='dashed')\n",
    "\n",
    "## print info in top righ tocrner\n",
    "ax.text(0.98, 0.98, f'Median: {np.median([len(v) for k, v in dict_pred.items()])}',\n",
    "        verticalalignment='top', horizontalalignment='right',\n",
    "        transform=ax.transAxes,\n",
    "        color='black', fontsize=12)\n",
    "\n",
    "ax.text(0.98, 0.93, f'Mean: {np.round(np.mean([len(v) for k, v in dict_pred.items()]), 1)}',\n",
    "        verticalalignment='top', horizontalalignment='right',\n",
    "        transform=ax.transAxes,\n",
    "        color='black', fontsize=12)\n",
    "\n",
    "ax.text(0.98, 0.88, f'Number of PAs with no species: {count_no_species}',\n",
    "        verticalalignment='top', horizontalalignment='right',\n",
    "        transform=ax.transAxes,\n",
    "        color='black', fontsize=12)\n",
    "\n",
    "ax.text(0.98, 0.83, f'Threshold method: {threshold_method}',\n",
    "        verticalalignment='top', horizontalalignment='right',\n",
    "        transform=ax.transAxes,\n",
    "        color='black', fontsize=12)\n",
    "\n",
    "if threshold_method == 'fixed':\n",
    "    ax.text(0.98, 0.78, f'Threshold: {threshold_weighted_labels}',\n",
    "            verticalalignment='top', horizontalalignment='right',\n",
    "            transform=ax.transAxes,\n",
    "            color='black', fontsize=12)"
   ]
  },
  {
   "cell_type": "code",
   "execution_count": 81,
   "metadata": {},
   "outputs": [
    {
     "data": {
      "image/png": "[encoded data removed]",
      "text/plain": [
       "<Figure size 640x480 with 1 Axes>"
      ]
     },
     "metadata": {},
     "output_type": "display_data"
    }
   ],
   "source": [
    "plt.hist(tmp.thresholds_test);"
   ]
  },
  {
   "cell_type": "code",
   "execution_count": 32,
   "metadata": {},
   "outputs": [
    {
     "data": {
      "text/plain": [
       "Text(0, 0.5, 'Val')"
      ]
     },
     "execution_count": 32,
     "metadata": {},
     "output_type": "execute_result"
    },
    {
     "data": {
      "image/png": "[encoded data removed]",
      "text/plain": [
       "<Figure size 640x480 with 1 Axes>"
      ]
     },
     "metadata": {},
     "output_type": "display_data"
    }
   ],
   "source": [
    "mat_train = sp.csc_matrix(tmp.mat_labels_thresholded[:tmp.n_train, :])\n",
    "mat_val = sp.csc_matrix(tmp.mat_labels_thresholded[tmp.n_train:, :])\n",
    "\n",
    "total_train = np.squeeze(np.array(mat_train.sum(axis=0)))\n",
    "total_val = np.squeeze(np.array(mat_val.sum(axis=0)))\n",
    "             \n",
    "expected_slope = len(tmp.df_test) / tmp.n_train\n",
    "x_exp = [0, np.max(total_train)]\n",
    "y_exp = [0, expected_slope * np.max(total_train)]\n",
    "plt.plot(x_exp, y_exp, color='red', linestyle='dashed')\n",
    "\n",
    "plt.scatter(total_train, total_val)\n",
    "plt.title('Number of predictions for each species')\n",
    "plt.xlabel('Train')\n",
    "plt.ylabel('Val')\n",
    "\n",
    "# plt.xlim([0, 50])"
   ]
  },
  {
   "cell_type": "code",
   "execution_count": null,
   "metadata": {},
   "outputs": [],
   "source": [
    "arr_th = [0.01, 0.03, 0.05, 0.07, 0.1, 0.15, 0.2, 0.3]\n",
    "arr_f1 = []\n",
    "for th in arr_th:\n",
    "    dict_pred = tmp.create_predictions(threshold_weighted_labels=th)\n",
    "    for k in dict_val_species.keys():\n",
    "        if k not in dict_pred.keys():\n",
    "            dict_pred[k] = []\n",
    "    f1 = gpu.compute_f1_score_dicts(dict_val_species, dict_pred)\n",
    "    arr_f1.append(f1)"
   ]
  },
  {
   "cell_type": "code",
   "execution_count": 55,
   "metadata": {},
   "outputs": [
    {
     "name": "stdout",
     "output_type": "stream",
     "text": [
      "F1 scores 20 km:\n",
      "Th: 0.01, F1: 0.17815909998542828\n",
      "Th: 0.03, F1: 0.22171562850602888\n",
      "Th: 0.05, F1: 0.2550898257417876\n",
      "Th: 0.07, F1: 0.2813144225923728\n",
      "Th: 0.1, F1: 0.31055241911795095\n",
      "Th: 0.15, F1: 0.33787610690510994\n",
      "Th: 0.2, F1: 0.34126959671664947\n",
      "Th: 0.3, F1: 0.29877385480062507\n"
     ]
    }
   ],
   "source": [
    "print('F1 scores 20 km:')\n",
    "for th, f1 in zip(arr_th, arr_f1):\n",
    "    print(f'Th: {th}, F1: {f1}')"
   ]
  },
  {
   "cell_type": "code",
   "execution_count": 51,
   "metadata": {},
   "outputs": [
    {
     "name": "stdout",
     "output_type": "stream",
     "text": [
      "Th: 0.01, F1: 0.1993253455507175\n",
      "Th: 0.03, F1: 0.2339567857022029\n",
      "Th: 0.05, F1: 0.26306820509513906\n",
      "Th: 0.07, F1: 0.2874202966047946\n",
      "Th: 0.1, F1: 0.3149615778560888\n",
      "Th: 0.15, F1: 0.34330129624560624\n",
      "Th: 0.2, F1: 0.35171820741153903\n",
      "Th: 0.3, F1: 0.32425812748704147\n"
     ]
    }
   ],
   "source": [
    "for th, f1 in zip(arr_th, arr_f1):\n",
    "    print(f'Th: {th}, F1: {f1}')"
   ]
  },
  {
   "cell_type": "code",
   "execution_count": 169,
   "metadata": {},
   "outputs": [],
   "source": [
    "from sklearn.feature_selection import SelectKBest, mutual_info_classif\n",
    "tmp_x = tmp.df_train.drop(columns=['surveyId', 'year', 'geometry'])\n",
    "tmp_y = sp.csc_matrix(tmp.mat_labels[:tmp.n_train, :])\n",
    "# tmp_y = tmp.mat_labels[:tmp.n_train, :][:, 0:10].toarray()"
   ]
  },
  {
   "cell_type": "code",
   "execution_count": 1,
   "metadata": {},
   "outputs": [
    {
     "ename": "NameError",
     "evalue": "name 'tmp_y' is not defined",
     "output_type": "error",
     "traceback": [
      "\u001b[0;31m---------------------------------------------------------------------------\u001b[0m",
      "\u001b[0;31mNameError\u001b[0m                                 Traceback (most recent call last)",
      "Cell \u001b[0;32mIn[1], line 1\u001b[0m\n\u001b[0;32m----> 1\u001b[0m \u001b[43mtmp_y\u001b[49m\n",
      "\u001b[0;31mNameError\u001b[0m: name 'tmp_y' is not defined"
     ]
    }
   ],
   "source": [
    "tmp_y"
   ]
  },
  {
   "cell_type": "code",
   "execution_count": 181,
   "metadata": {},
   "outputs": [
    {
     "name": "stdout",
     "output_type": "stream",
     "text": [
      "lat,  0.035\n",
      "lng,  0.028\n",
      "Bio12,  0.021\n",
      "Bio9,  0.021\n",
      "Bio10,  0.020\n",
      "Bio4,  0.019\n",
      "Bio14,  0.019\n",
      "Bio1,  0.018\n",
      "Bio17,  0.018\n",
      "Bio18,  0.017\n",
      "Bio5,  0.017\n",
      "Bio2,  0.016\n",
      "Bio19,  0.016\n",
      "Bio8,  0.016\n",
      "Bio11,  0.016\n",
      "Bio15,  0.015\n",
      "Bio7,  0.015\n",
      "Elevation,  0.015\n",
      "Bio16,  0.015\n",
      "Bio3,  0.014\n",
      "Bio6,  0.013\n",
      "LandCover,  0.011\n",
      "Bio13,  0.011\n"
     ]
    }
   ],
   "source": [
    "\n",
    "# for ii in tqdm(range(100)):\n",
    "#     tmp_y_current = tmp_y[:, ii].toarray().flatten()\n",
    "#     mi_scores = mutual_info_classif(tmp_x, tmp_y_current)\n",
    "#     if ii == 0:\n",
    "#         mi_scores_sum = mi_scores\n",
    "#     else:\n",
    "#         mi_scores_sum += mi_scores\n",
    "# n_total = ii + 1\n",
    "# mi_scores_sum /= n_total\n",
    "inds_sorted = np.argsort(mi_scores_sum)[::-1]\n",
    "for ind in inds_sorted:\n",
    "    print(f'{tmp_x.columns[ind]},  {mi_scores_sum[ind]:.3f}')\n",
    "\n",
    "# # Assuming X_train is your training data matrix and y_train are the corresponding labels\n",
    "# # Select the top 50 features based on mutual information\n",
    "# k_best = SelectKBest(score_func=mutual_info_classif, k=10)\n",
    "# X_train_selected = k_best.fit_transform(tmp_x, tmp_y_current)\n",
    "\n",
    "# # Get the indices of the selected features\n",
    "# selected_feature_indices = k_best.get_support(indices=True)\n",
    "\n",
    "# # Extract the names of the selected features\n",
    "# selected_feature_names = [tmp_x.columns[i] for i in selected_feature_indices]\n"
   ]
  }
 ],
 "metadata": {
  "kernelspec": {
   "display_name": "geoclef",
   "language": "python",
   "name": "python3"
  },
  "language_info": {
   "codemirror_mode": {
    "name": "ipython",
    "version": 3
   },
   "file_extension": ".py",
   "mimetype": "text/x-python",
   "name": "python",
   "nbconvert_exporter": "python",
   "pygments_lexer": "ipython3",
   "version": "3.10.14"
  }
 },
 "nbformat": 4,
 "nbformat_minor": 2
}
