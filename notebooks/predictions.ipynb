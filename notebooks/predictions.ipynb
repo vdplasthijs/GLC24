{
 "cells": [
  {
   "cell_type": "code",
   "execution_count": 1,
   "metadata": {},
   "outputs": [],
   "source": [
    "%load_ext autoreload\n",
    "%autoreload 2"
   ]
  },
  {
   "cell_type": "code",
   "execution_count": 2,
   "metadata": {},
   "outputs": [],
   "source": [
    "import os, sys\n",
    "import numpy as np \n",
    "import pandas as pd \n",
    "import matplotlib.pyplot as plt\n",
    "import seaborn as sns\n",
    "from tqdm import tqdm, tqdm_notebook\n",
    "sys.path.append('../../reproducible_figures/scripts/')\n",
    "import rep_fig_vis as rfv\n",
    "sys.path.append('../scripts/')\n",
    "from loadpaths_glc import loadpaths\n",
    "import data_loading_utils as dlu\n",
    "import glc_prediction_utils as gpu\n",
    "path_dict = loadpaths()"
   ]
  },
  {
   "cell_type": "code",
   "execution_count": 3,
   "metadata": {},
   "outputs": [
    {
     "name": "stdout",
     "output_type": "stream",
     "text": [
      "Dropped PO data because takes ages with geometry\n",
      "Columns dropped: ['taxonRank', 'geoUncertaintyInM', 'date', 'areaInM2', 'publisher', 'month', 'day', 'region', 'dayOfYear', 'country']\n",
      "Dropped 49637/1483637 duplicates in df_train_pa_species\n",
      "Created validation set with 8898 entries\n"
     ]
    }
   ],
   "source": [
    "dict_dfs, dict_dfs_species, dict_val_species = dlu.load_metadata(create_geo=True, add_h3=False,\n",
    "                                               create_validation_set=True)\n",
    "# type(dict_dfs['df_test_pa'])"
   ]
  },
  {
   "cell_type": "code",
   "execution_count": 4,
   "metadata": {},
   "outputs": [
    {
     "name": "stdout",
     "output_type": "stream",
     "text": [
      "Dropped PO data because takes ages with geometry\n",
      "Columns dropped: ['taxonRank', 'geoUncertaintyInM', 'date', 'areaInM2', 'publisher', 'month', 'day', 'region', 'dayOfYear', 'country']\n",
      "Dropped 49637/1483637 duplicates in df_train_pa_species\n",
      "Created validation set with 8898 entries\n",
      "    LandCover  count\n",
      "0         0.0     25\n",
      "1         1.0     15\n",
      "2         2.0     18\n",
      "3         4.0     22\n",
      "4         5.0     16\n",
      "5         8.0     20\n",
      "6         9.0     16\n",
      "7        10.0     19\n",
      "8        11.0     14\n",
      "9        12.0     17\n",
      "10       13.0     16\n",
      "11       14.0     17\n",
      "12       15.0     11\n",
      "13       16.0     11\n",
      "14       17.0     13\n"
     ]
    },
    {
     "name": "stderr",
     "output_type": "stream",
     "text": [
      "100%|██████████| 8898/8898 [00:52<00:00, 169.96it/s]\n"
     ]
    },
    {
     "name": "stdout",
     "output_type": "stream",
     "text": [
      "Predictions done (8897 total). No nearby points: 0.\n",
      "F1 score: 0.3097099169950371\n"
     ]
    }
   ],
   "source": [
    "val_or_test = 'val'\n",
    "\n",
    "dict_dfs, dict_dfs_species, dict_val_species = dlu.load_metadata(create_geo=True, add_h3=False,\n",
    "                                create_validation_set=True if val_or_test == 'val' else False)\n",
    "tmp = gpu.predict_using_buffer(dict_dfs=dict_dfs, dict_dfs_species=dict_dfs_species,\n",
    "                            save_pred=True, method=f'lc-specific', buffer_deg=0.2,\n",
    "                            eval_mode=val_or_test)\n",
    "if val_or_test == 'val':\n",
    "    f1_score = gpu.compute_f1_score_dicts(dict_val=dict_val_species, dict_pred=tmp)\n",
    "    print(f'F1 score: {f1_score}')"
   ]
  }
 ],
 "metadata": {
  "kernelspec": {
   "display_name": "geoclef",
   "language": "python",
   "name": "python3"
  },
  "language_info": {
   "codemirror_mode": {
    "name": "ipython",
    "version": 3
   },
   "file_extension": ".py",
   "mimetype": "text/x-python",
   "name": "python",
   "nbconvert_exporter": "python",
   "pygments_lexer": "ipython3",
   "version": "3.10.14"
  }
 },
 "nbformat": 4,
 "nbformat_minor": 2
}
